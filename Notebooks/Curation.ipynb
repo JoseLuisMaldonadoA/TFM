{
 "cells": [
  {
   "cell_type": "markdown",
   "id": "19b7344b",
   "metadata": {},
   "source": [
    "# DATA PREPROCESSING\n",
    "\n",
    "`Author: José Luis Maldonado Álvarez`"
   ]
  },
  {
   "cell_type": "markdown",
   "id": "bd90053a",
   "metadata": {},
   "source": [
    "## 1. Merge & Exploration of the Datasets"
   ]
  },
  {
   "cell_type": "code",
   "execution_count": 1,
   "id": "aa0c75a0",
   "metadata": {
    "vscode": {
     "languageId": "r"
    }
   },
   "outputs": [
    {
     "name": "stderr",
     "output_type": "stream",
     "text": [
      "\u001b[1m\u001b[22mNew names:\n",
      "\u001b[36m•\u001b[39m `` -> `...35`\n",
      "\u001b[36m•\u001b[39m `Bici.PSS` -> `Bici.PSS...181`\n",
      "\u001b[36m•\u001b[39m `SabeColesterol.PSS` -> `SabeColesterol.PSS...188`\n",
      "\u001b[36m•\u001b[39m `SabeColesterol.PSS` -> `SabeColesterol.PSS...189`\n",
      "\u001b[36m•\u001b[39m `Internet.PSS` -> `Internet.PSS...212`\n",
      "\u001b[36m•\u001b[39m `Bici.PSS` -> `Bici.PSS...247`\n",
      "\u001b[36m•\u001b[39m `Internet.PSS` -> `Internet.PSS...258`\n"
     ]
    },
    {
     "data": {
      "text/html": [
       "<style>\n",
       ".list-inline {list-style: none; margin:0; padding: 0}\n",
       ".list-inline>li {display: inline-block}\n",
       ".list-inline>li:not(:last-child)::after {content: \"\\00b7\"; padding: 0 .5ex}\n",
       "</style>\n",
       "<ol class=list-inline><li>'Id'</li><li>'Edad'</li><li>'Sexo'</li><li>'Peso'</li><li>'Talla'</li><li>'HFdeC.isquemica'</li><li>'Fumador'</li><li>'Diabetes'</li><li>'TratamientoDM'</li><li>'Hipertension'</li><li>'Dislipemia'</li><li>'IRC'</li><li>'Filtrado Glomerular'</li><li>'HBpreKT'</li><li>'InfartoAntiguo'</li><li>'LocIAMprevio'</li><li>'QXcoronariapre'</li><li>'AnoQXcoronariapre'</li><li>'PuentesQxpre.Tx'</li><li>'ACTPprevia'</li><li>'AnoACTPprevia'</li><li>'TCI.stentpre'</li><li>'DA.stentpre'</li><li>'Cx.stentpre'</li><li>'MOB.stentpre'</li><li>'CD.stentpre'</li><li>'PL.stentpre'</li><li>'IVP.stentpre'</li><li>'EnfArtPerif.pre'</li><li>'ACVpre'</li><li>'CHA2DS2VASC'</li><li>'CHADS2'</li><li>'Grace'</li><li>'PreciseDAPT'</li><li>'...35'</li><li>'FE'</li><li>'Indicacion'</li><li>'IndicacionIAMCEST'</li><li>'Acceso'</li><li>'TCI.Actual'</li><li>'DA.Actual'</li><li>'CX.Actual'</li><li>'CD.Actual'</li><li>'Mamaria.Actual'</li><li>'Safena.Actual'</li><li>'TratDecidido'</li><li>'FechaQx.Actual'</li><li>'Puentes.Actual'</li><li>'ACVQX.Actual'</li><li>'InfartoQX.Actual'</li><li>'MuerteQX.Actual'</li><li>'MuerteQXtexto'</li><li>'TCI.tratada'</li><li>'DA.tratada'</li><li>'Cx.tratada'</li><li>'CD.tratada'</li><li>'Mamaria.tratada'</li><li>'Safena.tratada'</li><li>'Lesiones Tratadas'</li><li>'SINTAX1'</li><li>'SINTAX2'</li><li>'Complicaciones'</li><li>'CreaPost'</li><li>'HBpost'</li><li>'VivoAlta'</li><li>'FechaMuerteAlta'</li><li>'CausaMuerteAlta'</li><li>'Shock.Comp'</li><li>'TromboStent.Comp'</li><li>'IAMxOtraLesión.Comp'</li><li>'reACTPmismo.Comp'</li><li>'reACTPnueva.Comp'</li><li>'CirugiaCoro.Comp'</li><li>'Hemorragia.Comp'</li><li>'Infeccion.Comp'</li><li>'AccesoVasc.Comp'</li><li>'Otras.Comp'</li><li>'Adiro'</li><li>'DuracionAdiro'</li><li>'InhibADP'</li><li>'DuracionInhADP'</li><li>'ACO'</li><li>'DuracionACO'</li><li>'SegTelef12m'</li><li>'NosegTx'</li><li>'FechaContacto'</li><li>'EstadoAnginoso'</li><li>'ClaseCCS'</li><li>'Adiro12m'</li><li>'InhibADP12m'</li><li>'ACO12m'</li><li>'DAPT.Score'</li><li>'FechaKT.PSS'</li><li>'Peso.PSS'</li><li>'Talla.PSS'</li><li>'CNGsolicitud.PSS'</li><li>'CNGdesde.PSS'</li><li>'DxInicial.PSS'</li><li>'DxInicialTx.PSS'</li><li>'TratFinal.PSS'</li><li>'HTApre.PSS'</li><li>'DislipemiaPre.PSS'</li><li>'DiabetesPre.PSS'</li><li>'TratDM.PSS'</li><li>'IAMpre.PSS'</li><li>'IctusPre.PSS'</li><li>'ACTPpre.PSS'</li><li>'Qxpre.PSS'</li><li>'EnfVascPerifPre.PSS'</li><li>'SdAnsDepPre.PSS'</li><li>'DetCognitivo.PSS'</li><li>'OtroAnteced.PSS'</li><li>'OtroAntecedTx.PSS'</li><li>'ConoceEnf.PSS'</li><li>'ConociaFRCV.PSS'</li><li>'CualesConocia.PSS'</li><li>'SabiaTabaco.PSS'</li><li>'PensoCorazon.PSS'</li><li>'QuePenso.PSS'</li><li>'PersonaContac.PSS'</li><li>'DondeEstaba.PSS'</li><li>'ServSanitContac.PSS'</li><li>'TrasladoSS.PSS'</li><li>'FechaDolor.PSS'</li><li>'HoraDolor.PSS'</li><li>'MinutoDolor.PSS'</li><li>'FechaSanitario.PSS'</li><li>'HoraSanitario.PSS'</li><li>'MinutoSanitario.PSS'</li><li>'FechaUrgencias.PSS'</li><li>'HoraUrg.PSS'</li><li>'MinutoUrg.PSS'</li><li>'FechaTrat.PSS'</li><li>'MinutoTrat.PSS'</li><li>'HoraTrat.PSS'</li><li>'FechaDolorNH.PSS'</li><li>'HoraDolorNH.PSS'</li><li>'MinutoDolorNH.PSS'</li><li>'FechaContSanitNH.PSS'</li><li>'HoraContSanitNH.PSS'</li><li>'MinutoContNH.PSS'</li><li>'FechaUrgNH.PSS'</li><li>'HoraUrgNH.PSS'</li><li>'MinutoUrgNH.PSS'</li><li>'FechaTraNH.PSS'</li><li>'HoraTratNH.PSS'</li><li>'MinutoTratNH.PSS'</li><li>'HTAalta.PSS'</li><li>'Dislipemiaalta.PSS'</li><li>'Diabetesalta.PSS'</li><li>'EnfVascPerifalta.PSS'</li><li>'Fumador.PSS'</li><li>'T.Exfumador.PSS'</li><li>'T.tabaco.PSS'</li><li>'CantTabaco.PSS'</li><li>'MotivoStopTabaco.PSS'</li><li>'IntencionDejar.PSS'</li><li>'PodraDejarlo.PSS'</li><li>'FumaFamilia.PSS'</li><li>'ParejaFuma.PSS'</li><li>'PadreFuma.PSS'</li><li>'MadreFuma.PSS'</li><li>'HijoFuma.PSS'</li><li>'NHijosfuman.PSS'</li><li>'NHijosQueTiene.PSS'</li><li>'OtrosFuma.PSS'</li><li>'Alcohol.PSS'</li><li>'Vino.PSS'</li><li>'Cerveza'</li><li>'Copas.PSS'</li><li>'Drogas.PSS'</li><li>'Marihuana.PSS'</li><li>'Cocaina.PSS'</li><li>'OtrosToxicos.PSS'</li><li>'SosoSalado.PSS'</li><li>'AlimentVariada.PSS'</li><li>'DietaTx.PSS'</li><li>'Ejercicio.PSS'</li><li>'Nadar.PSS'</li><li>'Correr.PSS'</li><li>'Bici.PSS...181'</li><li>'Gimnasio.PSS'</li><li>'OtroEjercicioTx'</li><li>'FrecEjercicio.PSS'</li><li>'IntensEjercicio.PSS'</li><li>'HaraMasEjercicio.PSS'</li><li>'CualMasEjercicio.PSS'</li><li>'SabeColesterol.PSS...188'</li><li>'SabeColesterol.PSS...189'</li><li>'FrecuenciaTA.PSS'</li><li>'QuienTA.PSS'</li><li>'Medidas prevencion HTA'</li><li>'PrevHTATx.PSS'</li><li>'FrecPeso.PSS'</li><li>'FrecMedico.PSS'</li><li>'Menopausia.PSS'</li><li>'Anticonceptivo.PSS'</li><li>'Autopercepcion.PSS'</li><li>'OlvidaConsult.PSS'</li><li>'SabeTrat.PSS'</li><li>'ControlMedicac.PSS'</li><li>'FrecOlvidoTrat.PSS'</li><li>'SaludTV.PSS'</li><li>'FamiliaEnferma.PSS'</li><li>'FamiliaresConEnfTx'</li><li>'ConsultaKT.PSS'</li><li>'FamiliaConsultaKT.PSS'</li><li>'InternetConsultaKT.PSS'</li><li>'Profesionales.KT.PSS'</li><li>'ConsultaEnferm.PSS'</li><li>'Profesionales.PSS'</li><li>'Internet.PSS...212'</li><li>'OtrosConsultEnf.PSS'</li><li>'SabeactuarAngina.PSS'</li><li>'ActAnginaTx.PSS'</li><li>'NivelEstudios.PSS'</li><li>'TipoTrabajo.PSS'</li><li>'Ocupacion.PSS'</li><li>'EstadoCivil'</li><li>'LugarResidencia.PSS'</li><li>'ConQuienVive.PSS'</li><li>'ApoyoFamiliar'</li><li>'TareasHogar.PSS'</li><li>'NHijos.PSS'</li><li>'NNietos.PSS'</li><li>'¿Tiene mascota?'</li><li>'MascotasTx.PSS'</li><li>'Familia.Aficc.PSS'</li><li>'TV.Aficc.PSS'</li><li>'Amigos.Aficc.PSS'</li><li>'Musica.Aficc.PSS'</li><li>'Lectura.Aficc.PSS'</li><li>'Radio.Aficc.PSS'</li><li>'Compras.Aficc.PSS'</li><li>'Cine.Aficc.PSS'</li><li>'Campo.Aficc.PSS'</li><li>'VerDeportes.Aficc.PSS'</li><li>'Bailar.Aficc.PSS'</li><li>'Cultura.Aficc.PSS'</li><li>'SalirComer.Aficc.PSS'</li><li>'Pub.Aficc.PSS'</li><li>'Otros.Aficc.PSS'</li><li>'Autobus.PSS'</li><li>'Taxi.PSS'</li><li>'Coche.PSS'</li><li>'Moto.PSS'</li><li>'Bici.PSS...247'</li><li>'Caminando.PSS'</li><li>'OtrosVehiculos.PSS'</li><li>'Facebook.PSS'</li><li>'Twitter.PSS'</li><li>'Youtube.PSS'</li><li>'LinkeDin.PSS'</li><li>'Spotify.PSS'</li><li>'OtrasRedes.PSS'</li><li>'TelefMovil.PSS'</li><li>'APPs.PSS'</li><li>'Internet.PSS...258'</li><li>'Tablet.PSS'</li><li>'Ordenador.PSS'</li><li>'Portatil.PSS'</li><li>'SmartTV.PSS'</li><li>'Wifi.Publica.PSS'</li><li>'ConoceSkype.PSS'</li><li>'UsaSkype'</li><li>'Fecha entrada'</li><li>'FechaEstadoVital'</li><li>'CausaMuerte'</li><li>'Muerte'</li><li>'Fecha muerte'</li><li>'Muerte CV'</li><li>'Fecha muerte CV'</li><li>'IAM'</li><li>'Fecha IAM'</li><li>'N.Infartos.Seg'</li><li>'IAM2'</li><li>'Fecha IAM2'</li><li>'IAM3'</li><li>'Fecha IAM3'</li><li>'Revasc'</li><li>'Fecha revasc'</li><li>'Revasc2'</li><li>'Fecha revasc2'</li><li>'Revasc3'</li><li>'Fecha revasc3'</li><li>'Ictus'</li><li>'Fecha ictus'</li><li>'Hemorragia'</li><li>'Fecha hemorragia'</li><li>'Fecha fin seg'</li></ol>\n"
      ],
      "text/latex": [
       "\\begin{enumerate*}\n",
       "\\item 'Id'\n",
       "\\item 'Edad'\n",
       "\\item 'Sexo'\n",
       "\\item 'Peso'\n",
       "\\item 'Talla'\n",
       "\\item 'HFdeC.isquemica'\n",
       "\\item 'Fumador'\n",
       "\\item 'Diabetes'\n",
       "\\item 'TratamientoDM'\n",
       "\\item 'Hipertension'\n",
       "\\item 'Dislipemia'\n",
       "\\item 'IRC'\n",
       "\\item 'Filtrado Glomerular'\n",
       "\\item 'HBpreKT'\n",
       "\\item 'InfartoAntiguo'\n",
       "\\item 'LocIAMprevio'\n",
       "\\item 'QXcoronariapre'\n",
       "\\item 'AnoQXcoronariapre'\n",
       "\\item 'PuentesQxpre.Tx'\n",
       "\\item 'ACTPprevia'\n",
       "\\item 'AnoACTPprevia'\n",
       "\\item 'TCI.stentpre'\n",
       "\\item 'DA.stentpre'\n",
       "\\item 'Cx.stentpre'\n",
       "\\item 'MOB.stentpre'\n",
       "\\item 'CD.stentpre'\n",
       "\\item 'PL.stentpre'\n",
       "\\item 'IVP.stentpre'\n",
       "\\item 'EnfArtPerif.pre'\n",
       "\\item 'ACVpre'\n",
       "\\item 'CHA2DS2VASC'\n",
       "\\item 'CHADS2'\n",
       "\\item 'Grace'\n",
       "\\item 'PreciseDAPT'\n",
       "\\item '...35'\n",
       "\\item 'FE'\n",
       "\\item 'Indicacion'\n",
       "\\item 'IndicacionIAMCEST'\n",
       "\\item 'Acceso'\n",
       "\\item 'TCI.Actual'\n",
       "\\item 'DA.Actual'\n",
       "\\item 'CX.Actual'\n",
       "\\item 'CD.Actual'\n",
       "\\item 'Mamaria.Actual'\n",
       "\\item 'Safena.Actual'\n",
       "\\item 'TratDecidido'\n",
       "\\item 'FechaQx.Actual'\n",
       "\\item 'Puentes.Actual'\n",
       "\\item 'ACVQX.Actual'\n",
       "\\item 'InfartoQX.Actual'\n",
       "\\item 'MuerteQX.Actual'\n",
       "\\item 'MuerteQXtexto'\n",
       "\\item 'TCI.tratada'\n",
       "\\item 'DA.tratada'\n",
       "\\item 'Cx.tratada'\n",
       "\\item 'CD.tratada'\n",
       "\\item 'Mamaria.tratada'\n",
       "\\item 'Safena.tratada'\n",
       "\\item 'Lesiones Tratadas'\n",
       "\\item 'SINTAX1'\n",
       "\\item 'SINTAX2'\n",
       "\\item 'Complicaciones'\n",
       "\\item 'CreaPost'\n",
       "\\item 'HBpost'\n",
       "\\item 'VivoAlta'\n",
       "\\item 'FechaMuerteAlta'\n",
       "\\item 'CausaMuerteAlta'\n",
       "\\item 'Shock.Comp'\n",
       "\\item 'TromboStent.Comp'\n",
       "\\item 'IAMxOtraLesión.Comp'\n",
       "\\item 'reACTPmismo.Comp'\n",
       "\\item 'reACTPnueva.Comp'\n",
       "\\item 'CirugiaCoro.Comp'\n",
       "\\item 'Hemorragia.Comp'\n",
       "\\item 'Infeccion.Comp'\n",
       "\\item 'AccesoVasc.Comp'\n",
       "\\item 'Otras.Comp'\n",
       "\\item 'Adiro'\n",
       "\\item 'DuracionAdiro'\n",
       "\\item 'InhibADP'\n",
       "\\item 'DuracionInhADP'\n",
       "\\item 'ACO'\n",
       "\\item 'DuracionACO'\n",
       "\\item 'SegTelef12m'\n",
       "\\item 'NosegTx'\n",
       "\\item 'FechaContacto'\n",
       "\\item 'EstadoAnginoso'\n",
       "\\item 'ClaseCCS'\n",
       "\\item 'Adiro12m'\n",
       "\\item 'InhibADP12m'\n",
       "\\item 'ACO12m'\n",
       "\\item 'DAPT.Score'\n",
       "\\item 'FechaKT.PSS'\n",
       "\\item 'Peso.PSS'\n",
       "\\item 'Talla.PSS'\n",
       "\\item 'CNGsolicitud.PSS'\n",
       "\\item 'CNGdesde.PSS'\n",
       "\\item 'DxInicial.PSS'\n",
       "\\item 'DxInicialTx.PSS'\n",
       "\\item 'TratFinal.PSS'\n",
       "\\item 'HTApre.PSS'\n",
       "\\item 'DislipemiaPre.PSS'\n",
       "\\item 'DiabetesPre.PSS'\n",
       "\\item 'TratDM.PSS'\n",
       "\\item 'IAMpre.PSS'\n",
       "\\item 'IctusPre.PSS'\n",
       "\\item 'ACTPpre.PSS'\n",
       "\\item 'Qxpre.PSS'\n",
       "\\item 'EnfVascPerifPre.PSS'\n",
       "\\item 'SdAnsDepPre.PSS'\n",
       "\\item 'DetCognitivo.PSS'\n",
       "\\item 'OtroAnteced.PSS'\n",
       "\\item 'OtroAntecedTx.PSS'\n",
       "\\item 'ConoceEnf.PSS'\n",
       "\\item 'ConociaFRCV.PSS'\n",
       "\\item 'CualesConocia.PSS'\n",
       "\\item 'SabiaTabaco.PSS'\n",
       "\\item 'PensoCorazon.PSS'\n",
       "\\item 'QuePenso.PSS'\n",
       "\\item 'PersonaContac.PSS'\n",
       "\\item 'DondeEstaba.PSS'\n",
       "\\item 'ServSanitContac.PSS'\n",
       "\\item 'TrasladoSS.PSS'\n",
       "\\item 'FechaDolor.PSS'\n",
       "\\item 'HoraDolor.PSS'\n",
       "\\item 'MinutoDolor.PSS'\n",
       "\\item 'FechaSanitario.PSS'\n",
       "\\item 'HoraSanitario.PSS'\n",
       "\\item 'MinutoSanitario.PSS'\n",
       "\\item 'FechaUrgencias.PSS'\n",
       "\\item 'HoraUrg.PSS'\n",
       "\\item 'MinutoUrg.PSS'\n",
       "\\item 'FechaTrat.PSS'\n",
       "\\item 'MinutoTrat.PSS'\n",
       "\\item 'HoraTrat.PSS'\n",
       "\\item 'FechaDolorNH.PSS'\n",
       "\\item 'HoraDolorNH.PSS'\n",
       "\\item 'MinutoDolorNH.PSS'\n",
       "\\item 'FechaContSanitNH.PSS'\n",
       "\\item 'HoraContSanitNH.PSS'\n",
       "\\item 'MinutoContNH.PSS'\n",
       "\\item 'FechaUrgNH.PSS'\n",
       "\\item 'HoraUrgNH.PSS'\n",
       "\\item 'MinutoUrgNH.PSS'\n",
       "\\item 'FechaTraNH.PSS'\n",
       "\\item 'HoraTratNH.PSS'\n",
       "\\item 'MinutoTratNH.PSS'\n",
       "\\item 'HTAalta.PSS'\n",
       "\\item 'Dislipemiaalta.PSS'\n",
       "\\item 'Diabetesalta.PSS'\n",
       "\\item 'EnfVascPerifalta.PSS'\n",
       "\\item 'Fumador.PSS'\n",
       "\\item 'T.Exfumador.PSS'\n",
       "\\item 'T.tabaco.PSS'\n",
       "\\item 'CantTabaco.PSS'\n",
       "\\item 'MotivoStopTabaco.PSS'\n",
       "\\item 'IntencionDejar.PSS'\n",
       "\\item 'PodraDejarlo.PSS'\n",
       "\\item 'FumaFamilia.PSS'\n",
       "\\item 'ParejaFuma.PSS'\n",
       "\\item 'PadreFuma.PSS'\n",
       "\\item 'MadreFuma.PSS'\n",
       "\\item 'HijoFuma.PSS'\n",
       "\\item 'NHijosfuman.PSS'\n",
       "\\item 'NHijosQueTiene.PSS'\n",
       "\\item 'OtrosFuma.PSS'\n",
       "\\item 'Alcohol.PSS'\n",
       "\\item 'Vino.PSS'\n",
       "\\item 'Cerveza'\n",
       "\\item 'Copas.PSS'\n",
       "\\item 'Drogas.PSS'\n",
       "\\item 'Marihuana.PSS'\n",
       "\\item 'Cocaina.PSS'\n",
       "\\item 'OtrosToxicos.PSS'\n",
       "\\item 'SosoSalado.PSS'\n",
       "\\item 'AlimentVariada.PSS'\n",
       "\\item 'DietaTx.PSS'\n",
       "\\item 'Ejercicio.PSS'\n",
       "\\item 'Nadar.PSS'\n",
       "\\item 'Correr.PSS'\n",
       "\\item 'Bici.PSS...181'\n",
       "\\item 'Gimnasio.PSS'\n",
       "\\item 'OtroEjercicioTx'\n",
       "\\item 'FrecEjercicio.PSS'\n",
       "\\item 'IntensEjercicio.PSS'\n",
       "\\item 'HaraMasEjercicio.PSS'\n",
       "\\item 'CualMasEjercicio.PSS'\n",
       "\\item 'SabeColesterol.PSS...188'\n",
       "\\item 'SabeColesterol.PSS...189'\n",
       "\\item 'FrecuenciaTA.PSS'\n",
       "\\item 'QuienTA.PSS'\n",
       "\\item 'Medidas prevencion HTA'\n",
       "\\item 'PrevHTATx.PSS'\n",
       "\\item 'FrecPeso.PSS'\n",
       "\\item 'FrecMedico.PSS'\n",
       "\\item 'Menopausia.PSS'\n",
       "\\item 'Anticonceptivo.PSS'\n",
       "\\item 'Autopercepcion.PSS'\n",
       "\\item 'OlvidaConsult.PSS'\n",
       "\\item 'SabeTrat.PSS'\n",
       "\\item 'ControlMedicac.PSS'\n",
       "\\item 'FrecOlvidoTrat.PSS'\n",
       "\\item 'SaludTV.PSS'\n",
       "\\item 'FamiliaEnferma.PSS'\n",
       "\\item 'FamiliaresConEnfTx'\n",
       "\\item 'ConsultaKT.PSS'\n",
       "\\item 'FamiliaConsultaKT.PSS'\n",
       "\\item 'InternetConsultaKT.PSS'\n",
       "\\item 'Profesionales.KT.PSS'\n",
       "\\item 'ConsultaEnferm.PSS'\n",
       "\\item 'Profesionales.PSS'\n",
       "\\item 'Internet.PSS...212'\n",
       "\\item 'OtrosConsultEnf.PSS'\n",
       "\\item 'SabeactuarAngina.PSS'\n",
       "\\item 'ActAnginaTx.PSS'\n",
       "\\item 'NivelEstudios.PSS'\n",
       "\\item 'TipoTrabajo.PSS'\n",
       "\\item 'Ocupacion.PSS'\n",
       "\\item 'EstadoCivil'\n",
       "\\item 'LugarResidencia.PSS'\n",
       "\\item 'ConQuienVive.PSS'\n",
       "\\item 'ApoyoFamiliar'\n",
       "\\item 'TareasHogar.PSS'\n",
       "\\item 'NHijos.PSS'\n",
       "\\item 'NNietos.PSS'\n",
       "\\item '¿Tiene mascota?'\n",
       "\\item 'MascotasTx.PSS'\n",
       "\\item 'Familia.Aficc.PSS'\n",
       "\\item 'TV.Aficc.PSS'\n",
       "\\item 'Amigos.Aficc.PSS'\n",
       "\\item 'Musica.Aficc.PSS'\n",
       "\\item 'Lectura.Aficc.PSS'\n",
       "\\item 'Radio.Aficc.PSS'\n",
       "\\item 'Compras.Aficc.PSS'\n",
       "\\item 'Cine.Aficc.PSS'\n",
       "\\item 'Campo.Aficc.PSS'\n",
       "\\item 'VerDeportes.Aficc.PSS'\n",
       "\\item 'Bailar.Aficc.PSS'\n",
       "\\item 'Cultura.Aficc.PSS'\n",
       "\\item 'SalirComer.Aficc.PSS'\n",
       "\\item 'Pub.Aficc.PSS'\n",
       "\\item 'Otros.Aficc.PSS'\n",
       "\\item 'Autobus.PSS'\n",
       "\\item 'Taxi.PSS'\n",
       "\\item 'Coche.PSS'\n",
       "\\item 'Moto.PSS'\n",
       "\\item 'Bici.PSS...247'\n",
       "\\item 'Caminando.PSS'\n",
       "\\item 'OtrosVehiculos.PSS'\n",
       "\\item 'Facebook.PSS'\n",
       "\\item 'Twitter.PSS'\n",
       "\\item 'Youtube.PSS'\n",
       "\\item 'LinkeDin.PSS'\n",
       "\\item 'Spotify.PSS'\n",
       "\\item 'OtrasRedes.PSS'\n",
       "\\item 'TelefMovil.PSS'\n",
       "\\item 'APPs.PSS'\n",
       "\\item 'Internet.PSS...258'\n",
       "\\item 'Tablet.PSS'\n",
       "\\item 'Ordenador.PSS'\n",
       "\\item 'Portatil.PSS'\n",
       "\\item 'SmartTV.PSS'\n",
       "\\item 'Wifi.Publica.PSS'\n",
       "\\item 'ConoceSkype.PSS'\n",
       "\\item 'UsaSkype'\n",
       "\\item 'Fecha entrada'\n",
       "\\item 'FechaEstadoVital'\n",
       "\\item 'CausaMuerte'\n",
       "\\item 'Muerte'\n",
       "\\item 'Fecha muerte'\n",
       "\\item 'Muerte CV'\n",
       "\\item 'Fecha muerte CV'\n",
       "\\item 'IAM'\n",
       "\\item 'Fecha IAM'\n",
       "\\item 'N.Infartos.Seg'\n",
       "\\item 'IAM2'\n",
       "\\item 'Fecha IAM2'\n",
       "\\item 'IAM3'\n",
       "\\item 'Fecha IAM3'\n",
       "\\item 'Revasc'\n",
       "\\item 'Fecha revasc'\n",
       "\\item 'Revasc2'\n",
       "\\item 'Fecha revasc2'\n",
       "\\item 'Revasc3'\n",
       "\\item 'Fecha revasc3'\n",
       "\\item 'Ictus'\n",
       "\\item 'Fecha ictus'\n",
       "\\item 'Hemorragia'\n",
       "\\item 'Fecha hemorragia'\n",
       "\\item 'Fecha fin seg'\n",
       "\\end{enumerate*}\n"
      ],
      "text/markdown": [
       "1. 'Id'\n",
       "2. 'Edad'\n",
       "3. 'Sexo'\n",
       "4. 'Peso'\n",
       "5. 'Talla'\n",
       "6. 'HFdeC.isquemica'\n",
       "7. 'Fumador'\n",
       "8. 'Diabetes'\n",
       "9. 'TratamientoDM'\n",
       "10. 'Hipertension'\n",
       "11. 'Dislipemia'\n",
       "12. 'IRC'\n",
       "13. 'Filtrado Glomerular'\n",
       "14. 'HBpreKT'\n",
       "15. 'InfartoAntiguo'\n",
       "16. 'LocIAMprevio'\n",
       "17. 'QXcoronariapre'\n",
       "18. 'AnoQXcoronariapre'\n",
       "19. 'PuentesQxpre.Tx'\n",
       "20. 'ACTPprevia'\n",
       "21. 'AnoACTPprevia'\n",
       "22. 'TCI.stentpre'\n",
       "23. 'DA.stentpre'\n",
       "24. 'Cx.stentpre'\n",
       "25. 'MOB.stentpre'\n",
       "26. 'CD.stentpre'\n",
       "27. 'PL.stentpre'\n",
       "28. 'IVP.stentpre'\n",
       "29. 'EnfArtPerif.pre'\n",
       "30. 'ACVpre'\n",
       "31. 'CHA2DS2VASC'\n",
       "32. 'CHADS2'\n",
       "33. 'Grace'\n",
       "34. 'PreciseDAPT'\n",
       "35. '...35'\n",
       "36. 'FE'\n",
       "37. 'Indicacion'\n",
       "38. 'IndicacionIAMCEST'\n",
       "39. 'Acceso'\n",
       "40. 'TCI.Actual'\n",
       "41. 'DA.Actual'\n",
       "42. 'CX.Actual'\n",
       "43. 'CD.Actual'\n",
       "44. 'Mamaria.Actual'\n",
       "45. 'Safena.Actual'\n",
       "46. 'TratDecidido'\n",
       "47. 'FechaQx.Actual'\n",
       "48. 'Puentes.Actual'\n",
       "49. 'ACVQX.Actual'\n",
       "50. 'InfartoQX.Actual'\n",
       "51. 'MuerteQX.Actual'\n",
       "52. 'MuerteQXtexto'\n",
       "53. 'TCI.tratada'\n",
       "54. 'DA.tratada'\n",
       "55. 'Cx.tratada'\n",
       "56. 'CD.tratada'\n",
       "57. 'Mamaria.tratada'\n",
       "58. 'Safena.tratada'\n",
       "59. 'Lesiones Tratadas'\n",
       "60. 'SINTAX1'\n",
       "61. 'SINTAX2'\n",
       "62. 'Complicaciones'\n",
       "63. 'CreaPost'\n",
       "64. 'HBpost'\n",
       "65. 'VivoAlta'\n",
       "66. 'FechaMuerteAlta'\n",
       "67. 'CausaMuerteAlta'\n",
       "68. 'Shock.Comp'\n",
       "69. 'TromboStent.Comp'\n",
       "70. 'IAMxOtraLesión.Comp'\n",
       "71. 'reACTPmismo.Comp'\n",
       "72. 'reACTPnueva.Comp'\n",
       "73. 'CirugiaCoro.Comp'\n",
       "74. 'Hemorragia.Comp'\n",
       "75. 'Infeccion.Comp'\n",
       "76. 'AccesoVasc.Comp'\n",
       "77. 'Otras.Comp'\n",
       "78. 'Adiro'\n",
       "79. 'DuracionAdiro'\n",
       "80. 'InhibADP'\n",
       "81. 'DuracionInhADP'\n",
       "82. 'ACO'\n",
       "83. 'DuracionACO'\n",
       "84. 'SegTelef12m'\n",
       "85. 'NosegTx'\n",
       "86. 'FechaContacto'\n",
       "87. 'EstadoAnginoso'\n",
       "88. 'ClaseCCS'\n",
       "89. 'Adiro12m'\n",
       "90. 'InhibADP12m'\n",
       "91. 'ACO12m'\n",
       "92. 'DAPT.Score'\n",
       "93. 'FechaKT.PSS'\n",
       "94. 'Peso.PSS'\n",
       "95. 'Talla.PSS'\n",
       "96. 'CNGsolicitud.PSS'\n",
       "97. 'CNGdesde.PSS'\n",
       "98. 'DxInicial.PSS'\n",
       "99. 'DxInicialTx.PSS'\n",
       "100. 'TratFinal.PSS'\n",
       "101. 'HTApre.PSS'\n",
       "102. 'DislipemiaPre.PSS'\n",
       "103. 'DiabetesPre.PSS'\n",
       "104. 'TratDM.PSS'\n",
       "105. 'IAMpre.PSS'\n",
       "106. 'IctusPre.PSS'\n",
       "107. 'ACTPpre.PSS'\n",
       "108. 'Qxpre.PSS'\n",
       "109. 'EnfVascPerifPre.PSS'\n",
       "110. 'SdAnsDepPre.PSS'\n",
       "111. 'DetCognitivo.PSS'\n",
       "112. 'OtroAnteced.PSS'\n",
       "113. 'OtroAntecedTx.PSS'\n",
       "114. 'ConoceEnf.PSS'\n",
       "115. 'ConociaFRCV.PSS'\n",
       "116. 'CualesConocia.PSS'\n",
       "117. 'SabiaTabaco.PSS'\n",
       "118. 'PensoCorazon.PSS'\n",
       "119. 'QuePenso.PSS'\n",
       "120. 'PersonaContac.PSS'\n",
       "121. 'DondeEstaba.PSS'\n",
       "122. 'ServSanitContac.PSS'\n",
       "123. 'TrasladoSS.PSS'\n",
       "124. 'FechaDolor.PSS'\n",
       "125. 'HoraDolor.PSS'\n",
       "126. 'MinutoDolor.PSS'\n",
       "127. 'FechaSanitario.PSS'\n",
       "128. 'HoraSanitario.PSS'\n",
       "129. 'MinutoSanitario.PSS'\n",
       "130. 'FechaUrgencias.PSS'\n",
       "131. 'HoraUrg.PSS'\n",
       "132. 'MinutoUrg.PSS'\n",
       "133. 'FechaTrat.PSS'\n",
       "134. 'MinutoTrat.PSS'\n",
       "135. 'HoraTrat.PSS'\n",
       "136. 'FechaDolorNH.PSS'\n",
       "137. 'HoraDolorNH.PSS'\n",
       "138. 'MinutoDolorNH.PSS'\n",
       "139. 'FechaContSanitNH.PSS'\n",
       "140. 'HoraContSanitNH.PSS'\n",
       "141. 'MinutoContNH.PSS'\n",
       "142. 'FechaUrgNH.PSS'\n",
       "143. 'HoraUrgNH.PSS'\n",
       "144. 'MinutoUrgNH.PSS'\n",
       "145. 'FechaTraNH.PSS'\n",
       "146. 'HoraTratNH.PSS'\n",
       "147. 'MinutoTratNH.PSS'\n",
       "148. 'HTAalta.PSS'\n",
       "149. 'Dislipemiaalta.PSS'\n",
       "150. 'Diabetesalta.PSS'\n",
       "151. 'EnfVascPerifalta.PSS'\n",
       "152. 'Fumador.PSS'\n",
       "153. 'T.Exfumador.PSS'\n",
       "154. 'T.tabaco.PSS'\n",
       "155. 'CantTabaco.PSS'\n",
       "156. 'MotivoStopTabaco.PSS'\n",
       "157. 'IntencionDejar.PSS'\n",
       "158. 'PodraDejarlo.PSS'\n",
       "159. 'FumaFamilia.PSS'\n",
       "160. 'ParejaFuma.PSS'\n",
       "161. 'PadreFuma.PSS'\n",
       "162. 'MadreFuma.PSS'\n",
       "163. 'HijoFuma.PSS'\n",
       "164. 'NHijosfuman.PSS'\n",
       "165. 'NHijosQueTiene.PSS'\n",
       "166. 'OtrosFuma.PSS'\n",
       "167. 'Alcohol.PSS'\n",
       "168. 'Vino.PSS'\n",
       "169. 'Cerveza'\n",
       "170. 'Copas.PSS'\n",
       "171. 'Drogas.PSS'\n",
       "172. 'Marihuana.PSS'\n",
       "173. 'Cocaina.PSS'\n",
       "174. 'OtrosToxicos.PSS'\n",
       "175. 'SosoSalado.PSS'\n",
       "176. 'AlimentVariada.PSS'\n",
       "177. 'DietaTx.PSS'\n",
       "178. 'Ejercicio.PSS'\n",
       "179. 'Nadar.PSS'\n",
       "180. 'Correr.PSS'\n",
       "181. 'Bici.PSS...181'\n",
       "182. 'Gimnasio.PSS'\n",
       "183. 'OtroEjercicioTx'\n",
       "184. 'FrecEjercicio.PSS'\n",
       "185. 'IntensEjercicio.PSS'\n",
       "186. 'HaraMasEjercicio.PSS'\n",
       "187. 'CualMasEjercicio.PSS'\n",
       "188. 'SabeColesterol.PSS...188'\n",
       "189. 'SabeColesterol.PSS...189'\n",
       "190. 'FrecuenciaTA.PSS'\n",
       "191. 'QuienTA.PSS'\n",
       "192. 'Medidas prevencion HTA'\n",
       "193. 'PrevHTATx.PSS'\n",
       "194. 'FrecPeso.PSS'\n",
       "195. 'FrecMedico.PSS'\n",
       "196. 'Menopausia.PSS'\n",
       "197. 'Anticonceptivo.PSS'\n",
       "198. 'Autopercepcion.PSS'\n",
       "199. 'OlvidaConsult.PSS'\n",
       "200. 'SabeTrat.PSS'\n",
       "201. 'ControlMedicac.PSS'\n",
       "202. 'FrecOlvidoTrat.PSS'\n",
       "203. 'SaludTV.PSS'\n",
       "204. 'FamiliaEnferma.PSS'\n",
       "205. 'FamiliaresConEnfTx'\n",
       "206. 'ConsultaKT.PSS'\n",
       "207. 'FamiliaConsultaKT.PSS'\n",
       "208. 'InternetConsultaKT.PSS'\n",
       "209. 'Profesionales.KT.PSS'\n",
       "210. 'ConsultaEnferm.PSS'\n",
       "211. 'Profesionales.PSS'\n",
       "212. 'Internet.PSS...212'\n",
       "213. 'OtrosConsultEnf.PSS'\n",
       "214. 'SabeactuarAngina.PSS'\n",
       "215. 'ActAnginaTx.PSS'\n",
       "216. 'NivelEstudios.PSS'\n",
       "217. 'TipoTrabajo.PSS'\n",
       "218. 'Ocupacion.PSS'\n",
       "219. 'EstadoCivil'\n",
       "220. 'LugarResidencia.PSS'\n",
       "221. 'ConQuienVive.PSS'\n",
       "222. 'ApoyoFamiliar'\n",
       "223. 'TareasHogar.PSS'\n",
       "224. 'NHijos.PSS'\n",
       "225. 'NNietos.PSS'\n",
       "226. '¿Tiene mascota?'\n",
       "227. 'MascotasTx.PSS'\n",
       "228. 'Familia.Aficc.PSS'\n",
       "229. 'TV.Aficc.PSS'\n",
       "230. 'Amigos.Aficc.PSS'\n",
       "231. 'Musica.Aficc.PSS'\n",
       "232. 'Lectura.Aficc.PSS'\n",
       "233. 'Radio.Aficc.PSS'\n",
       "234. 'Compras.Aficc.PSS'\n",
       "235. 'Cine.Aficc.PSS'\n",
       "236. 'Campo.Aficc.PSS'\n",
       "237. 'VerDeportes.Aficc.PSS'\n",
       "238. 'Bailar.Aficc.PSS'\n",
       "239. 'Cultura.Aficc.PSS'\n",
       "240. 'SalirComer.Aficc.PSS'\n",
       "241. 'Pub.Aficc.PSS'\n",
       "242. 'Otros.Aficc.PSS'\n",
       "243. 'Autobus.PSS'\n",
       "244. 'Taxi.PSS'\n",
       "245. 'Coche.PSS'\n",
       "246. 'Moto.PSS'\n",
       "247. 'Bici.PSS...247'\n",
       "248. 'Caminando.PSS'\n",
       "249. 'OtrosVehiculos.PSS'\n",
       "250. 'Facebook.PSS'\n",
       "251. 'Twitter.PSS'\n",
       "252. 'Youtube.PSS'\n",
       "253. 'LinkeDin.PSS'\n",
       "254. 'Spotify.PSS'\n",
       "255. 'OtrasRedes.PSS'\n",
       "256. 'TelefMovil.PSS'\n",
       "257. 'APPs.PSS'\n",
       "258. 'Internet.PSS...258'\n",
       "259. 'Tablet.PSS'\n",
       "260. 'Ordenador.PSS'\n",
       "261. 'Portatil.PSS'\n",
       "262. 'SmartTV.PSS'\n",
       "263. 'Wifi.Publica.PSS'\n",
       "264. 'ConoceSkype.PSS'\n",
       "265. 'UsaSkype'\n",
       "266. 'Fecha entrada'\n",
       "267. 'FechaEstadoVital'\n",
       "268. 'CausaMuerte'\n",
       "269. 'Muerte'\n",
       "270. 'Fecha muerte'\n",
       "271. 'Muerte CV'\n",
       "272. 'Fecha muerte CV'\n",
       "273. 'IAM'\n",
       "274. 'Fecha IAM'\n",
       "275. 'N.Infartos.Seg'\n",
       "276. 'IAM2'\n",
       "277. 'Fecha IAM2'\n",
       "278. 'IAM3'\n",
       "279. 'Fecha IAM3'\n",
       "280. 'Revasc'\n",
       "281. 'Fecha revasc'\n",
       "282. 'Revasc2'\n",
       "283. 'Fecha revasc2'\n",
       "284. 'Revasc3'\n",
       "285. 'Fecha revasc3'\n",
       "286. 'Ictus'\n",
       "287. 'Fecha ictus'\n",
       "288. 'Hemorragia'\n",
       "289. 'Fecha hemorragia'\n",
       "290. 'Fecha fin seg'\n",
       "\n",
       "\n"
      ],
      "text/plain": [
       "  [1] \"Id\"                       \"Edad\"                    \n",
       "  [3] \"Sexo\"                     \"Peso\"                    \n",
       "  [5] \"Talla\"                    \"HFdeC.isquemica\"         \n",
       "  [7] \"Fumador\"                  \"Diabetes\"                \n",
       "  [9] \"TratamientoDM\"            \"Hipertension\"            \n",
       " [11] \"Dislipemia\"               \"IRC\"                     \n",
       " [13] \"Filtrado Glomerular\"      \"HBpreKT\"                 \n",
       " [15] \"InfartoAntiguo\"           \"LocIAMprevio\"            \n",
       " [17] \"QXcoronariapre\"           \"AnoQXcoronariapre\"       \n",
       " [19] \"PuentesQxpre.Tx\"          \"ACTPprevia\"              \n",
       " [21] \"AnoACTPprevia\"            \"TCI.stentpre\"            \n",
       " [23] \"DA.stentpre\"              \"Cx.stentpre\"             \n",
       " [25] \"MOB.stentpre\"             \"CD.stentpre\"             \n",
       " [27] \"PL.stentpre\"              \"IVP.stentpre\"            \n",
       " [29] \"EnfArtPerif.pre\"          \"ACVpre\"                  \n",
       " [31] \"CHA2DS2VASC\"              \"CHADS2\"                  \n",
       " [33] \"Grace\"                    \"PreciseDAPT\"             \n",
       " [35] \"...35\"                    \"FE\"                      \n",
       " [37] \"Indicacion\"               \"IndicacionIAMCEST\"       \n",
       " [39] \"Acceso\"                   \"TCI.Actual\"              \n",
       " [41] \"DA.Actual\"                \"CX.Actual\"               \n",
       " [43] \"CD.Actual\"                \"Mamaria.Actual\"          \n",
       " [45] \"Safena.Actual\"            \"TratDecidido\"            \n",
       " [47] \"FechaQx.Actual\"           \"Puentes.Actual\"          \n",
       " [49] \"ACVQX.Actual\"             \"InfartoQX.Actual\"        \n",
       " [51] \"MuerteQX.Actual\"          \"MuerteQXtexto\"           \n",
       " [53] \"TCI.tratada\"              \"DA.tratada\"              \n",
       " [55] \"Cx.tratada\"               \"CD.tratada\"              \n",
       " [57] \"Mamaria.tratada\"          \"Safena.tratada\"          \n",
       " [59] \"Lesiones Tratadas\"        \"SINTAX1\"                 \n",
       " [61] \"SINTAX2\"                  \"Complicaciones\"          \n",
       " [63] \"CreaPost\"                 \"HBpost\"                  \n",
       " [65] \"VivoAlta\"                 \"FechaMuerteAlta\"         \n",
       " [67] \"CausaMuerteAlta\"          \"Shock.Comp\"              \n",
       " [69] \"TromboStent.Comp\"         \"IAMxOtraLesión.Comp\"     \n",
       " [71] \"reACTPmismo.Comp\"         \"reACTPnueva.Comp\"        \n",
       " [73] \"CirugiaCoro.Comp\"         \"Hemorragia.Comp\"         \n",
       " [75] \"Infeccion.Comp\"           \"AccesoVasc.Comp\"         \n",
       " [77] \"Otras.Comp\"               \"Adiro\"                   \n",
       " [79] \"DuracionAdiro\"            \"InhibADP\"                \n",
       " [81] \"DuracionInhADP\"           \"ACO\"                     \n",
       " [83] \"DuracionACO\"              \"SegTelef12m\"             \n",
       " [85] \"NosegTx\"                  \"FechaContacto\"           \n",
       " [87] \"EstadoAnginoso\"           \"ClaseCCS\"                \n",
       " [89] \"Adiro12m\"                 \"InhibADP12m\"             \n",
       " [91] \"ACO12m\"                   \"DAPT.Score\"              \n",
       " [93] \"FechaKT.PSS\"              \"Peso.PSS\"                \n",
       " [95] \"Talla.PSS\"                \"CNGsolicitud.PSS\"        \n",
       " [97] \"CNGdesde.PSS\"             \"DxInicial.PSS\"           \n",
       " [99] \"DxInicialTx.PSS\"          \"TratFinal.PSS\"           \n",
       "[101] \"HTApre.PSS\"               \"DislipemiaPre.PSS\"       \n",
       "[103] \"DiabetesPre.PSS\"          \"TratDM.PSS\"              \n",
       "[105] \"IAMpre.PSS\"               \"IctusPre.PSS\"            \n",
       "[107] \"ACTPpre.PSS\"              \"Qxpre.PSS\"               \n",
       "[109] \"EnfVascPerifPre.PSS\"      \"SdAnsDepPre.PSS\"         \n",
       "[111] \"DetCognitivo.PSS\"         \"OtroAnteced.PSS\"         \n",
       "[113] \"OtroAntecedTx.PSS\"        \"ConoceEnf.PSS\"           \n",
       "[115] \"ConociaFRCV.PSS\"          \"CualesConocia.PSS\"       \n",
       "[117] \"SabiaTabaco.PSS\"          \"PensoCorazon.PSS\"        \n",
       "[119] \"QuePenso.PSS\"             \"PersonaContac.PSS\"       \n",
       "[121] \"DondeEstaba.PSS\"          \"ServSanitContac.PSS\"     \n",
       "[123] \"TrasladoSS.PSS\"           \"FechaDolor.PSS\"          \n",
       "[125] \"HoraDolor.PSS\"            \"MinutoDolor.PSS\"         \n",
       "[127] \"FechaSanitario.PSS\"       \"HoraSanitario.PSS\"       \n",
       "[129] \"MinutoSanitario.PSS\"      \"FechaUrgencias.PSS\"      \n",
       "[131] \"HoraUrg.PSS\"              \"MinutoUrg.PSS\"           \n",
       "[133] \"FechaTrat.PSS\"            \"MinutoTrat.PSS\"          \n",
       "[135] \"HoraTrat.PSS\"             \"FechaDolorNH.PSS\"        \n",
       "[137] \"HoraDolorNH.PSS\"          \"MinutoDolorNH.PSS\"       \n",
       "[139] \"FechaContSanitNH.PSS\"     \"HoraContSanitNH.PSS\"     \n",
       "[141] \"MinutoContNH.PSS\"         \"FechaUrgNH.PSS\"          \n",
       "[143] \"HoraUrgNH.PSS\"            \"MinutoUrgNH.PSS\"         \n",
       "[145] \"FechaTraNH.PSS\"           \"HoraTratNH.PSS\"          \n",
       "[147] \"MinutoTratNH.PSS\"         \"HTAalta.PSS\"             \n",
       "[149] \"Dislipemiaalta.PSS\"       \"Diabetesalta.PSS\"        \n",
       "[151] \"EnfVascPerifalta.PSS\"     \"Fumador.PSS\"             \n",
       "[153] \"T.Exfumador.PSS\"          \"T.tabaco.PSS\"            \n",
       "[155] \"CantTabaco.PSS\"           \"MotivoStopTabaco.PSS\"    \n",
       "[157] \"IntencionDejar.PSS\"       \"PodraDejarlo.PSS\"        \n",
       "[159] \"FumaFamilia.PSS\"          \"ParejaFuma.PSS\"          \n",
       "[161] \"PadreFuma.PSS\"            \"MadreFuma.PSS\"           \n",
       "[163] \"HijoFuma.PSS\"             \"NHijosfuman.PSS\"         \n",
       "[165] \"NHijosQueTiene.PSS\"       \"OtrosFuma.PSS\"           \n",
       "[167] \"Alcohol.PSS\"              \"Vino.PSS\"                \n",
       "[169] \"Cerveza\"                  \"Copas.PSS\"               \n",
       "[171] \"Drogas.PSS\"               \"Marihuana.PSS\"           \n",
       "[173] \"Cocaina.PSS\"              \"OtrosToxicos.PSS\"        \n",
       "[175] \"SosoSalado.PSS\"           \"AlimentVariada.PSS\"      \n",
       "[177] \"DietaTx.PSS\"              \"Ejercicio.PSS\"           \n",
       "[179] \"Nadar.PSS\"                \"Correr.PSS\"              \n",
       "[181] \"Bici.PSS...181\"           \"Gimnasio.PSS\"            \n",
       "[183] \"OtroEjercicioTx\"          \"FrecEjercicio.PSS\"       \n",
       "[185] \"IntensEjercicio.PSS\"      \"HaraMasEjercicio.PSS\"    \n",
       "[187] \"CualMasEjercicio.PSS\"     \"SabeColesterol.PSS...188\"\n",
       "[189] \"SabeColesterol.PSS...189\" \"FrecuenciaTA.PSS\"        \n",
       "[191] \"QuienTA.PSS\"              \"Medidas prevencion HTA\"  \n",
       "[193] \"PrevHTATx.PSS\"            \"FrecPeso.PSS\"            \n",
       "[195] \"FrecMedico.PSS\"           \"Menopausia.PSS\"          \n",
       "[197] \"Anticonceptivo.PSS\"       \"Autopercepcion.PSS\"      \n",
       "[199] \"OlvidaConsult.PSS\"        \"SabeTrat.PSS\"            \n",
       "[201] \"ControlMedicac.PSS\"       \"FrecOlvidoTrat.PSS\"      \n",
       "[203] \"SaludTV.PSS\"              \"FamiliaEnferma.PSS\"      \n",
       "[205] \"FamiliaresConEnfTx\"       \"ConsultaKT.PSS\"          \n",
       "[207] \"FamiliaConsultaKT.PSS\"    \"InternetConsultaKT.PSS\"  \n",
       "[209] \"Profesionales.KT.PSS\"     \"ConsultaEnferm.PSS\"      \n",
       "[211] \"Profesionales.PSS\"        \"Internet.PSS...212\"      \n",
       "[213] \"OtrosConsultEnf.PSS\"      \"SabeactuarAngina.PSS\"    \n",
       "[215] \"ActAnginaTx.PSS\"          \"NivelEstudios.PSS\"       \n",
       "[217] \"TipoTrabajo.PSS\"          \"Ocupacion.PSS\"           \n",
       "[219] \"EstadoCivil\"              \"LugarResidencia.PSS\"     \n",
       "[221] \"ConQuienVive.PSS\"         \"ApoyoFamiliar\"           \n",
       "[223] \"TareasHogar.PSS\"          \"NHijos.PSS\"              \n",
       "[225] \"NNietos.PSS\"              \"¿Tiene mascota?\"         \n",
       "[227] \"MascotasTx.PSS\"           \"Familia.Aficc.PSS\"       \n",
       "[229] \"TV.Aficc.PSS\"             \"Amigos.Aficc.PSS\"        \n",
       "[231] \"Musica.Aficc.PSS\"         \"Lectura.Aficc.PSS\"       \n",
       "[233] \"Radio.Aficc.PSS\"          \"Compras.Aficc.PSS\"       \n",
       "[235] \"Cine.Aficc.PSS\"           \"Campo.Aficc.PSS\"         \n",
       "[237] \"VerDeportes.Aficc.PSS\"    \"Bailar.Aficc.PSS\"        \n",
       "[239] \"Cultura.Aficc.PSS\"        \"SalirComer.Aficc.PSS\"    \n",
       "[241] \"Pub.Aficc.PSS\"            \"Otros.Aficc.PSS\"         \n",
       "[243] \"Autobus.PSS\"              \"Taxi.PSS\"                \n",
       "[245] \"Coche.PSS\"                \"Moto.PSS\"                \n",
       "[247] \"Bici.PSS...247\"           \"Caminando.PSS\"           \n",
       "[249] \"OtrosVehiculos.PSS\"       \"Facebook.PSS\"            \n",
       "[251] \"Twitter.PSS\"              \"Youtube.PSS\"             \n",
       "[253] \"LinkeDin.PSS\"             \"Spotify.PSS\"             \n",
       "[255] \"OtrasRedes.PSS\"           \"TelefMovil.PSS\"          \n",
       "[257] \"APPs.PSS\"                 \"Internet.PSS...258\"      \n",
       "[259] \"Tablet.PSS\"               \"Ordenador.PSS\"           \n",
       "[261] \"Portatil.PSS\"             \"SmartTV.PSS\"             \n",
       "[263] \"Wifi.Publica.PSS\"         \"ConoceSkype.PSS\"         \n",
       "[265] \"UsaSkype\"                 \"Fecha entrada\"           \n",
       "[267] \"FechaEstadoVital\"         \"CausaMuerte\"             \n",
       "[269] \"Muerte\"                   \"Fecha muerte\"            \n",
       "[271] \"Muerte CV\"                \"Fecha muerte CV\"         \n",
       "[273] \"IAM\"                      \"Fecha IAM\"               \n",
       "[275] \"N.Infartos.Seg\"           \"IAM2\"                    \n",
       "[277] \"Fecha IAM2\"               \"IAM3\"                    \n",
       "[279] \"Fecha IAM3\"               \"Revasc\"                  \n",
       "[281] \"Fecha revasc\"             \"Revasc2\"                 \n",
       "[283] \"Fecha revasc2\"            \"Revasc3\"                 \n",
       "[285] \"Fecha revasc3\"            \"Ictus\"                   \n",
       "[287] \"Fecha ictus\"              \"Hemorragia\"              \n",
       "[289] \"Fecha hemorragia\"         \"Fecha fin seg\"           "
      ]
     },
     "metadata": {},
     "output_type": "display_data"
    }
   ],
   "source": [
    "library(readxl) # Library to read Excel files\n",
    "\n",
    "# Read the data from the main database\n",
    "data <- suppressWarnings(read_excel(\"BASE_DATOS.xlsx\", sheet = \"Datos Casos\"))\n",
    "colnames(data) # Display the column names\n",
    "# summary(data)\n",
    "# head(data)"
   ]
  },
  {
   "cell_type": "code",
   "execution_count": 2,
   "id": "326dbdbf",
   "metadata": {
    "vscode": {
     "languageId": "r"
    }
   },
   "outputs": [
    {
     "name": "stdout",
     "output_type": "stream",
     "text": [
      "Bici.PSS...247 vs Bici.PSS...181\n",
      "numeric(0)\n",
      "\n",
      "FALSE  TRUE \n",
      "  135  2343 \n",
      "  [1]    9   14   32   45   69  125  127  160  237  302  421  426  448  450  459\n",
      " [16]  471  545  566  610  647  662  683  687  800  808  830  840  860  863  878\n",
      " [31]  899  951  963  976 1004 1070 1101 1116 1137 1140 1149 1171 1209 1236 1249\n",
      " [46] 1253 1262 1273 1279 1290 1304 1376 1391 1411 1471 1472 1475 1502 1512 1538\n",
      " [61] 1545 1547 1566 1574 1591 1614 1622 1642 1655 1669 1672 1711 1735 1759 1796\n",
      " [76] 1804 1817 1820 1824 1846 1868 1892 1904 1910 1929 1939 1963 1965 1980 1985\n",
      " [91] 1986 2034 2036 2067 2068 2072 2077 2083 2097 2113 2119 2124 2129 2152 2158\n",
      "[106] 2180 2185 2186 2210 2215 2222 2232 2239 2251 2272 2288 2293 2301 2309 2327\n",
      "[121] 2334 2338 2342 2347 2353 2373 2376 2417 2430 2435 2437 2443 2447 2465 2467\n"
     ]
    },
    {
     "name": "stderr",
     "output_type": "stream",
     "text": [
      "Warning message:\n",
      "\"package 'ggplot2' was built under R version 4.4.2\"\n"
     ]
    },
    {
     "data": {
      "image/png": "[encoded data removed]",
      "text/plain": [
       "plot without title"
      ]
     },
     "metadata": {
      "image/png": {
       "height": 420,
       "width": 420
      }
     },
     "output_type": "display_data"
    }
   ],
   "source": [
    "# Compare Bici.PSS...247 vs Bici.PSS...188\n",
    "cat(\"Bici.PSS...247 vs Bici.PSS...181\\n\")\n",
    "print(data$Id[is.na(data$Bici.PSS...247) | is.na(data$Bici.PSS...181)])\n",
    "print(table(data$Bici.PSS...247 == data$Bici.PSS...181, useNA = \"ifany\"))\n",
    "print(data$Id[which(data$Bici.PSS...247 != data$Bici.PSS...181 & !is.na(data$Bici.PSS...247) & !is.na(data$Bici.PSS...181))])\n",
    "\n",
    "library(ggplot2)\n",
    "# Prepare data for plotting\n",
    "df_bici <- data.frame(\n",
    "    value = c(data$Bici.PSS...247, data$Bici.PSS...181),\n",
    "    variable = rep(c(\"Bici.PSS...247\", \"Bici.PSS...181\"), each = nrow(data))\n",
    ")\n",
    "\n",
    "# Remove NAs for plotting\n",
    "df_bici <- df_bici[!is.na(df_bici$value), ]\n",
    "\n",
    "# Plot side-by-side barplots for both distributions\n",
    "ggplot(df_bici, aes(x = factor(value), fill = variable)) +\n",
    "    geom_bar(position = \"dodge\") +\n",
    "    labs(title = \"Distribution Comparison: Bici.PSS...247 vs Bici.PSS...181\",\n",
    "             x = \"Value\", y = \"Count\", fill = \"Variable\") +\n",
    "    theme_minimal()\n",
    "\n",
    "# Seems like are almost the same, but Bici.PSS...247 has more 0s\n",
    "\n",
    "# Expert says that Bici.PSS...181 refers to the type of exercise\n",
    "# and Bici.PSS...247 refers to the mean of transport"
   ]
  },
  {
   "cell_type": "code",
   "execution_count": 3,
   "id": "d6b9ff82",
   "metadata": {
    "vscode": {
     "languageId": "r"
    }
   },
   "outputs": [
    {
     "name": "stdout",
     "output_type": "stream",
     "text": [
      "Internet.PSS...212 vs Internet.PSS...258\n",
      "\n",
      "FALSE  TRUE  <NA> \n",
      " 2313    64   101 \n"
     ]
    },
    {
     "data": {
      "image/png": "[encoded data removed]",
      "text/plain": [
       "plot without title"
      ]
     },
     "metadata": {
      "image/png": {
       "height": 420,
       "width": 420
      }
     },
     "output_type": "display_data"
    }
   ],
   "source": [
    "# Compare Internet.PSS...212 vs Internet.PSS...258\n",
    "cat(\"Internet.PSS...212 vs Internet.PSS...258\\n\")\n",
    "# print(data$Id[is.na(data$Internet.PSS...212) | is.na(data$Internet.PSS...258)])\n",
    "print(table(data$Internet.PSS...212 == data$Internet.PSS...258, useNA = \"ifany\"))\n",
    "# print(data$Id[which(data$Internet.PSS...212 != data$Internet.PSS...258 & !is.na(data$Internet.PSS...212) & !is.na(data$Internet.PSS...258))]))\n",
    "\n",
    "# Prepare data for plotting\n",
    "df_internet <- data.frame(\n",
    "    value = c(data$Internet.PSS...212, data$Internet.PSS...258),\n",
    "    variable = rep(c(\"Internet.PSS...212\", \"Internet.PSS...258\"), each = nrow(data))\n",
    ")\n",
    "\n",
    "# Remove NAs for plotting\n",
    "df_internet <- df_internet[!is.na(df_internet$value), ]\n",
    "\n",
    "# Plot side-by-side barplots for both distributions\n",
    "ggplot(df_internet, aes(x = factor(value), fill = variable)) +\n",
    "    geom_bar(position = \"dodge\") +\n",
    "    labs(title = \"Distribution Comparison: Internet.PSS...212 vs Internet.PSS...258\",\n",
    "         x = \"Value\", y = \"Count\", fill = \"Variable\") +\n",
    "    theme_minimal()\n",
    "\n",
    "# Expert says that Internet.PSS...212 refers to the web consultation\n",
    "# and Internet.PSS...258 refers to the access to internet"
   ]
  },
  {
   "cell_type": "code",
   "execution_count": 4,
   "id": "e83f7b6a",
   "metadata": {
    "vscode": {
     "languageId": "r"
    }
   },
   "outputs": [
    {
     "name": "stdout",
     "output_type": "stream",
     "text": [
      "SabeColesterol.PSS...188 vs SabeColesterol.PSS...189\n",
      "\n",
      "FALSE  TRUE  <NA> \n",
      "   70  2268   140 \n",
      " [1]   80  108  116  130  135  139  205  208  331  336  390  433  438  441  508\n",
      "[16]  549  594  596  615  626  632  636  652  659  666  683  694  724  772  809\n",
      "[31]  888  907  926  952 1160 1241 1715 1718 1729 1737 1743 1755 1763 1765 1783\n",
      "[46] 1860 1861 1863 1883 1914 1938 1964 1983 1997 2001 2005 2041 2122 2129 2153\n",
      "[61] 2158 2176 2199 2234 2239 2293 2365 2381 2456 2467\n"
     ]
    },
    {
     "data": {
      "image/png": "[encoded data removed]",
      "text/plain": [
       "plot without title"
      ]
     },
     "metadata": {
      "image/png": {
       "height": 420,
       "width": 420
      }
     },
     "output_type": "display_data"
    }
   ],
   "source": [
    "# Compare SabeColesterol.PSS...188 vs SabeColesterol.PSS...189\n",
    "cat(\"SabeColesterol.PSS...188 vs SabeColesterol.PSS...189\\n\")\n",
    "# print(data$Id[is.na(data$SabeColesterol.PSS...188)| is.na(data$SabeColesterol.PSS...189)])\n",
    "print(table(data$SabeColesterol.PSS...188 == data$SabeColesterol.PSS...189, useNA = \"ifany\"))\n",
    "print(data$Id[which(data$SabeColesterol.PSS...188 != data$SabeColesterol.PSS...189 & !is.na(data$SabeColesterol.PSS...188) & !is.na(data$SabeColesterol.PSS...189))])\n",
    "\n",
    "# Prepare data for plotting\n",
    "df_colesterol <- data.frame(\n",
    "    value = c(data$SabeColesterol.PSS...188, data$SabeColesterol.PSS...189),\n",
    "    variable = rep(c(\"SabeColesterol.PSS...188\", \"SabeColesterol.PSS...189\"), each = nrow(data))\n",
    ")\n",
    "\n",
    "# Remove NAs for plotting\n",
    "df_colesterol <- df_colesterol[!is.na(df_colesterol$value), ]\n",
    "\n",
    "# Plot side-by-side barplots for both distributions\n",
    "ggplot(df_colesterol, aes(x = factor(value), fill = variable)) +\n",
    "    geom_bar(position = \"dodge\") +\n",
    "    labs(title = \"Distribution Comparison: SabeColesterol.PSS...188 vs SabeColesterol.PSS...189\",\n",
    "         x = \"Value\", y = \"Count\", fill = \"Variable\") +\n",
    "    theme_minimal()"
   ]
  },
  {
   "cell_type": "code",
   "execution_count": 5,
   "id": "e301e846",
   "metadata": {
    "vscode": {
     "languageId": "r"
    }
   },
   "outputs": [
    {
     "data": {
      "text/html": [
       "<style>\n",
       ".list-inline {list-style: none; margin:0; padding: 0}\n",
       ".list-inline>li {display: inline-block}\n",
       ".list-inline>li:not(:last-child)::after {content: \"\\00b7\"; padding: 0 .5ex}\n",
       "</style>\n",
       "<ol class=list-inline><li>'Id'</li><li>'Codigo'</li><li>'Edad'</li><li>'Sexo'</li><li>'Seg_Cantabria'</li><li>'CP'</li><li>'TSI'</li><li>'Fecha entrada'</li><li>'FechaEstadoVital'</li><li>'Fecha_revisionPrevia'</li><li>'Fecha_revision'</li><li>'CausaMuerte'</li><li>'Muerte'</li><li>'Fmuerte'</li><li>'IAM'</li><li>'Fecha IAM'</li><li>'Revasc'</li><li>'Fecha revasc'</li><li>'Ictus'</li><li>'Fecha ictus'</li><li>'Hemorragia'</li><li>'Fecha hemorragia'</li></ol>\n"
      ],
      "text/latex": [
       "\\begin{enumerate*}\n",
       "\\item 'Id'\n",
       "\\item 'Codigo'\n",
       "\\item 'Edad'\n",
       "\\item 'Sexo'\n",
       "\\item 'Seg\\_Cantabria'\n",
       "\\item 'CP'\n",
       "\\item 'TSI'\n",
       "\\item 'Fecha entrada'\n",
       "\\item 'FechaEstadoVital'\n",
       "\\item 'Fecha\\_revisionPrevia'\n",
       "\\item 'Fecha\\_revision'\n",
       "\\item 'CausaMuerte'\n",
       "\\item 'Muerte'\n",
       "\\item 'Fmuerte'\n",
       "\\item 'IAM'\n",
       "\\item 'Fecha IAM'\n",
       "\\item 'Revasc'\n",
       "\\item 'Fecha revasc'\n",
       "\\item 'Ictus'\n",
       "\\item 'Fecha ictus'\n",
       "\\item 'Hemorragia'\n",
       "\\item 'Fecha hemorragia'\n",
       "\\end{enumerate*}\n"
      ],
      "text/markdown": [
       "1. 'Id'\n",
       "2. 'Codigo'\n",
       "3. 'Edad'\n",
       "4. 'Sexo'\n",
       "5. 'Seg_Cantabria'\n",
       "6. 'CP'\n",
       "7. 'TSI'\n",
       "8. 'Fecha entrada'\n",
       "9. 'FechaEstadoVital'\n",
       "10. 'Fecha_revisionPrevia'\n",
       "11. 'Fecha_revision'\n",
       "12. 'CausaMuerte'\n",
       "13. 'Muerte'\n",
       "14. 'Fmuerte'\n",
       "15. 'IAM'\n",
       "16. 'Fecha IAM'\n",
       "17. 'Revasc'\n",
       "18. 'Fecha revasc'\n",
       "19. 'Ictus'\n",
       "20. 'Fecha ictus'\n",
       "21. 'Hemorragia'\n",
       "22. 'Fecha hemorragia'\n",
       "\n",
       "\n"
      ],
      "text/plain": [
       " [1] \"Id\"                   \"Codigo\"               \"Edad\"                \n",
       " [4] \"Sexo\"                 \"Seg_Cantabria\"        \"CP\"                  \n",
       " [7] \"TSI\"                  \"Fecha entrada\"        \"FechaEstadoVital\"    \n",
       "[10] \"Fecha_revisionPrevia\" \"Fecha_revision\"       \"CausaMuerte\"         \n",
       "[13] \"Muerte\"               \"Fmuerte\"              \"IAM\"                 \n",
       "[16] \"Fecha IAM\"            \"Revasc\"               \"Fecha revasc\"        \n",
       "[19] \"Ictus\"                \"Fecha ictus\"          \"Hemorragia\"          \n",
       "[22] \"Fecha hemorragia\"    "
      ]
     },
     "metadata": {},
     "output_type": "display_data"
    }
   ],
   "source": [
    "# Data from the extended database\n",
    "data_ext <- read_excel(\"Base_Extendida_Incompleta.xlsx\", sheet = \"Datos\")\n",
    "colnames(data_ext) # Display column names\n",
    "# summary(data_ext)\n",
    "# head(data_ext)"
   ]
  },
  {
   "cell_type": "code",
   "execution_count": 6,
   "id": "e17db23a",
   "metadata": {
    "vscode": {
     "languageId": "r"
    }
   },
   "outputs": [
    {
     "data": {
      "text/html": [
       "<style>\n",
       ".list-inline {list-style: none; margin:0; padding: 0}\n",
       ".list-inline>li {display: inline-block}\n",
       ".list-inline>li:not(:last-child)::after {content: \"\\00b7\"; padding: 0 .5ex}\n",
       "</style>\n",
       "<ol class=list-inline><li>'Codigo'</li><li>'Seg_Cantabria'</li><li>'CP'</li><li>'TSI'</li><li>'Fecha_revisionPrevia'</li><li>'Fecha_revision'</li><li>'Fmuerte'</li></ol>\n"
      ],
      "text/latex": [
       "\\begin{enumerate*}\n",
       "\\item 'Codigo'\n",
       "\\item 'Seg\\_Cantabria'\n",
       "\\item 'CP'\n",
       "\\item 'TSI'\n",
       "\\item 'Fecha\\_revisionPrevia'\n",
       "\\item 'Fecha\\_revision'\n",
       "\\item 'Fmuerte'\n",
       "\\end{enumerate*}\n"
      ],
      "text/markdown": [
       "1. 'Codigo'\n",
       "2. 'Seg_Cantabria'\n",
       "3. 'CP'\n",
       "4. 'TSI'\n",
       "5. 'Fecha_revisionPrevia'\n",
       "6. 'Fecha_revision'\n",
       "7. 'Fmuerte'\n",
       "\n",
       "\n"
      ],
      "text/plain": [
       "[1] \"Codigo\"               \"Seg_Cantabria\"        \"CP\"                  \n",
       "[4] \"TSI\"                  \"Fecha_revisionPrevia\" \"Fecha_revision\"      \n",
       "[7] \"Fmuerte\"             "
      ]
     },
     "metadata": {},
     "output_type": "display_data"
    }
   ],
   "source": [
    "# Display the columns that are in the extended database but not main one\n",
    "setdiff(colnames(data_ext), colnames(data))"
   ]
  },
  {
   "cell_type": "code",
   "execution_count": 7,
   "id": "df89cd33",
   "metadata": {
    "vscode": {
     "languageId": "r"
    }
   },
   "outputs": [
    {
     "data": {
      "text/html": [
       "<style>\n",
       ".list-inline {list-style: none; margin:0; padding: 0}\n",
       ".list-inline>li {display: inline-block}\n",
       ".list-inline>li:not(:last-child)::after {content: \"\\00b7\"; padding: 0 .5ex}\n",
       "</style>\n",
       "<ol class=list-inline><li>'Id'</li><li>'Codigo'</li><li>'Edad'</li><li>'Sexo'</li><li>'Seg_Cantabria'</li><li>'CP'</li><li>'TSI'</li><li>'Fecha entrada'</li><li>'FechaEstadoVital'</li><li>'Fecha_revisionPrevia'</li><li>'Fecha_revision'</li><li>'CausaMuerte'</li><li>'Muerte'</li><li>'Fmuerte'</li><li>'IAM'</li><li>'Fecha IAM'</li><li>'Revasc'</li><li>'Fecha revasc'</li><li>'Ictus'</li><li>'Fecha ictus'</li><li>'Hemorragia'</li><li>'Fecha hemorragia'</li><li>'Peso'</li><li>'Talla'</li><li>'HFdeC.isquemica'</li><li>'Fumador'</li><li>'Diabetes'</li><li>'TratamientoDM'</li><li>'Hipertension'</li><li>'Dislipemia'</li><li>'IRC'</li><li>'Filtrado Glomerular'</li><li>'HBpreKT'</li><li>'InfartoAntiguo'</li><li>'LocIAMprevio'</li><li>'QXcoronariapre'</li><li>'AnoQXcoronariapre'</li><li>'PuentesQxpre.Tx'</li><li>'ACTPprevia'</li><li>'AnoACTPprevia'</li><li>'TCI.stentpre'</li><li>'DA.stentpre'</li><li>'Cx.stentpre'</li><li>'MOB.stentpre'</li><li>'CD.stentpre'</li><li>'PL.stentpre'</li><li>'IVP.stentpre'</li><li>'EnfArtPerif.pre'</li><li>'ACVpre'</li><li>'CHA2DS2VASC'</li><li>'CHADS2'</li><li>'Grace'</li><li>'PreciseDAPT'</li><li>'...35'</li><li>'FE'</li><li>'Indicacion'</li><li>'IndicacionIAMCEST'</li><li>'Acceso'</li><li>'TCI.Actual'</li><li>'DA.Actual'</li><li>'CX.Actual'</li><li>'CD.Actual'</li><li>'Mamaria.Actual'</li><li>'Safena.Actual'</li><li>'TratDecidido'</li><li>'FechaQx.Actual'</li><li>'Puentes.Actual'</li><li>'ACVQX.Actual'</li><li>'InfartoQX.Actual'</li><li>'MuerteQX.Actual'</li><li>'MuerteQXtexto'</li><li>'TCI.tratada'</li><li>'DA.tratada'</li><li>'Cx.tratada'</li><li>'CD.tratada'</li><li>'Mamaria.tratada'</li><li>'Safena.tratada'</li><li>'Lesiones Tratadas'</li><li>'SINTAX1'</li><li>'SINTAX2'</li><li>'Complicaciones'</li><li>'CreaPost'</li><li>'HBpost'</li><li>'VivoAlta'</li><li>'FechaMuerteAlta'</li><li>'CausaMuerteAlta'</li><li>'Shock.Comp'</li><li>'TromboStent.Comp'</li><li>'IAMxOtraLesión.Comp'</li><li>'reACTPmismo.Comp'</li><li>'reACTPnueva.Comp'</li><li>'CirugiaCoro.Comp'</li><li>'Hemorragia.Comp'</li><li>'Infeccion.Comp'</li><li>'AccesoVasc.Comp'</li><li>'Otras.Comp'</li><li>'Adiro'</li><li>'DuracionAdiro'</li><li>'InhibADP'</li><li>'DuracionInhADP'</li><li>'ACO'</li><li>'DuracionACO'</li><li>'SegTelef12m'</li><li>'NosegTx'</li><li>'FechaContacto'</li><li>'EstadoAnginoso'</li><li>'ClaseCCS'</li><li>'Adiro12m'</li><li>'InhibADP12m'</li><li>'ACO12m'</li><li>'DAPT.Score'</li><li>'FechaKT.PSS'</li><li>'Peso.PSS'</li><li>'Talla.PSS'</li><li>'CNGsolicitud.PSS'</li><li>'CNGdesde.PSS'</li><li>'DxInicial.PSS'</li><li>'DxInicialTx.PSS'</li><li>'TratFinal.PSS'</li><li>'HTApre.PSS'</li><li>'DislipemiaPre.PSS'</li><li>'DiabetesPre.PSS'</li><li>'TratDM.PSS'</li><li>'IAMpre.PSS'</li><li>'IctusPre.PSS'</li><li>'ACTPpre.PSS'</li><li>'Qxpre.PSS'</li><li>'EnfVascPerifPre.PSS'</li><li>'SdAnsDepPre.PSS'</li><li>'DetCognitivo.PSS'</li><li>'OtroAnteced.PSS'</li><li>'OtroAntecedTx.PSS'</li><li>'ConoceEnf.PSS'</li><li>'ConociaFRCV.PSS'</li><li>'CualesConocia.PSS'</li><li>'SabiaTabaco.PSS'</li><li>'PensoCorazon.PSS'</li><li>'QuePenso.PSS'</li><li>'PersonaContac.PSS'</li><li>'DondeEstaba.PSS'</li><li>'ServSanitContac.PSS'</li><li>'TrasladoSS.PSS'</li><li>'FechaDolor.PSS'</li><li>'HoraDolor.PSS'</li><li>'MinutoDolor.PSS'</li><li>'FechaSanitario.PSS'</li><li>'HoraSanitario.PSS'</li><li>'MinutoSanitario.PSS'</li><li>'FechaUrgencias.PSS'</li><li>'HoraUrg.PSS'</li><li>'MinutoUrg.PSS'</li><li>'FechaTrat.PSS'</li><li>'MinutoTrat.PSS'</li><li>'HoraTrat.PSS'</li><li>'FechaDolorNH.PSS'</li><li>'HoraDolorNH.PSS'</li><li>'MinutoDolorNH.PSS'</li><li>'FechaContSanitNH.PSS'</li><li>'HoraContSanitNH.PSS'</li><li>'MinutoContNH.PSS'</li><li>'FechaUrgNH.PSS'</li><li>'HoraUrgNH.PSS'</li><li>'MinutoUrgNH.PSS'</li><li>'FechaTraNH.PSS'</li><li>'HoraTratNH.PSS'</li><li>'MinutoTratNH.PSS'</li><li>'HTAalta.PSS'</li><li>'Dislipemiaalta.PSS'</li><li>'Diabetesalta.PSS'</li><li>'EnfVascPerifalta.PSS'</li><li>'Fumador.PSS'</li><li>'T.Exfumador.PSS'</li><li>'T.tabaco.PSS'</li><li>'CantTabaco.PSS'</li><li>'MotivoStopTabaco.PSS'</li><li>'IntencionDejar.PSS'</li><li>'PodraDejarlo.PSS'</li><li>'FumaFamilia.PSS'</li><li>'ParejaFuma.PSS'</li><li>'PadreFuma.PSS'</li><li>'MadreFuma.PSS'</li><li>'HijoFuma.PSS'</li><li>'NHijosfuman.PSS'</li><li>'NHijosQueTiene.PSS'</li><li>'OtrosFuma.PSS'</li><li>'Alcohol.PSS'</li><li>'Vino.PSS'</li><li>'Cerveza'</li><li>'Copas.PSS'</li><li>'Drogas.PSS'</li><li>'Marihuana.PSS'</li><li>'Cocaina.PSS'</li><li>'OtrosToxicos.PSS'</li><li>'SosoSalado.PSS'</li><li>'AlimentVariada.PSS'</li><li>'DietaTx.PSS'</li><li>'Ejercicio.PSS'</li><li>'Nadar.PSS'</li><li>'Correr.PSS'</li><li>'Bici.PSS...181'</li><li>'Gimnasio.PSS'</li><li>'OtroEjercicioTx'</li><li>'FrecEjercicio.PSS'</li><li>'IntensEjercicio.PSS'</li><li>'HaraMasEjercicio.PSS'</li><li>'CualMasEjercicio.PSS'</li><li>'SabeColesterol.PSS...188'</li><li>'SabeColesterol.PSS...189'</li><li>'FrecuenciaTA.PSS'</li><li>'QuienTA.PSS'</li><li>'Medidas prevencion HTA'</li><li>'PrevHTATx.PSS'</li><li>'FrecPeso.PSS'</li><li>'FrecMedico.PSS'</li><li>'Menopausia.PSS'</li><li>'Anticonceptivo.PSS'</li><li>'Autopercepcion.PSS'</li><li>'OlvidaConsult.PSS'</li><li>'SabeTrat.PSS'</li><li>'ControlMedicac.PSS'</li><li>'FrecOlvidoTrat.PSS'</li><li>'SaludTV.PSS'</li><li>'FamiliaEnferma.PSS'</li><li>'FamiliaresConEnfTx'</li><li>'ConsultaKT.PSS'</li><li>'FamiliaConsultaKT.PSS'</li><li>'InternetConsultaKT.PSS'</li><li>'Profesionales.KT.PSS'</li><li>'ConsultaEnferm.PSS'</li><li>'Profesionales.PSS'</li><li>'Internet.PSS...212'</li><li>'OtrosConsultEnf.PSS'</li><li>'SabeactuarAngina.PSS'</li><li>'ActAnginaTx.PSS'</li><li>'NivelEstudios.PSS'</li><li>'TipoTrabajo.PSS'</li><li>'Ocupacion.PSS'</li><li>'EstadoCivil'</li><li>'LugarResidencia.PSS'</li><li>'ConQuienVive.PSS'</li><li>'ApoyoFamiliar'</li><li>'TareasHogar.PSS'</li><li>'NHijos.PSS'</li><li>'NNietos.PSS'</li><li>'¿Tiene mascota?'</li><li>'MascotasTx.PSS'</li><li>'Familia.Aficc.PSS'</li><li>'TV.Aficc.PSS'</li><li>'Amigos.Aficc.PSS'</li><li>'Musica.Aficc.PSS'</li><li>'Lectura.Aficc.PSS'</li><li>'Radio.Aficc.PSS'</li><li>'Compras.Aficc.PSS'</li><li>'Cine.Aficc.PSS'</li><li>'Campo.Aficc.PSS'</li><li>'VerDeportes.Aficc.PSS'</li><li>'Bailar.Aficc.PSS'</li><li>'Cultura.Aficc.PSS'</li><li>'SalirComer.Aficc.PSS'</li><li>'Pub.Aficc.PSS'</li><li>'Otros.Aficc.PSS'</li><li>'Autobus.PSS'</li><li>'Taxi.PSS'</li><li>'Coche.PSS'</li><li>'Moto.PSS'</li><li>'Bici.PSS...247'</li><li>'Caminando.PSS'</li><li>'OtrosVehiculos.PSS'</li><li>'Facebook.PSS'</li><li>'Twitter.PSS'</li><li>'Youtube.PSS'</li><li>'LinkeDin.PSS'</li><li>'Spotify.PSS'</li><li>'OtrasRedes.PSS'</li><li>'TelefMovil.PSS'</li><li>'APPs.PSS'</li><li>'Internet.PSS...258'</li><li>'Tablet.PSS'</li><li>'Ordenador.PSS'</li><li>'Portatil.PSS'</li><li>'SmartTV.PSS'</li><li>'Wifi.Publica.PSS'</li><li>'ConoceSkype.PSS'</li><li>'UsaSkype'</li><li>'Fecha muerte'</li><li>'Muerte CV'</li><li>'Fecha muerte CV'</li><li>'N.Infartos.Seg'</li><li>'IAM2'</li><li>'Fecha IAM2'</li><li>'IAM3'</li><li>'Fecha IAM3'</li><li>'Revasc2'</li><li>'Fecha revasc2'</li><li>'Revasc3'</li><li>'Fecha revasc3'</li><li>'Fecha fin seg'</li></ol>\n"
      ],
      "text/latex": [
       "\\begin{enumerate*}\n",
       "\\item 'Id'\n",
       "\\item 'Codigo'\n",
       "\\item 'Edad'\n",
       "\\item 'Sexo'\n",
       "\\item 'Seg\\_Cantabria'\n",
       "\\item 'CP'\n",
       "\\item 'TSI'\n",
       "\\item 'Fecha entrada'\n",
       "\\item 'FechaEstadoVital'\n",
       "\\item 'Fecha\\_revisionPrevia'\n",
       "\\item 'Fecha\\_revision'\n",
       "\\item 'CausaMuerte'\n",
       "\\item 'Muerte'\n",
       "\\item 'Fmuerte'\n",
       "\\item 'IAM'\n",
       "\\item 'Fecha IAM'\n",
       "\\item 'Revasc'\n",
       "\\item 'Fecha revasc'\n",
       "\\item 'Ictus'\n",
       "\\item 'Fecha ictus'\n",
       "\\item 'Hemorragia'\n",
       "\\item 'Fecha hemorragia'\n",
       "\\item 'Peso'\n",
       "\\item 'Talla'\n",
       "\\item 'HFdeC.isquemica'\n",
       "\\item 'Fumador'\n",
       "\\item 'Diabetes'\n",
       "\\item 'TratamientoDM'\n",
       "\\item 'Hipertension'\n",
       "\\item 'Dislipemia'\n",
       "\\item 'IRC'\n",
       "\\item 'Filtrado Glomerular'\n",
       "\\item 'HBpreKT'\n",
       "\\item 'InfartoAntiguo'\n",
       "\\item 'LocIAMprevio'\n",
       "\\item 'QXcoronariapre'\n",
       "\\item 'AnoQXcoronariapre'\n",
       "\\item 'PuentesQxpre.Tx'\n",
       "\\item 'ACTPprevia'\n",
       "\\item 'AnoACTPprevia'\n",
       "\\item 'TCI.stentpre'\n",
       "\\item 'DA.stentpre'\n",
       "\\item 'Cx.stentpre'\n",
       "\\item 'MOB.stentpre'\n",
       "\\item 'CD.stentpre'\n",
       "\\item 'PL.stentpre'\n",
       "\\item 'IVP.stentpre'\n",
       "\\item 'EnfArtPerif.pre'\n",
       "\\item 'ACVpre'\n",
       "\\item 'CHA2DS2VASC'\n",
       "\\item 'CHADS2'\n",
       "\\item 'Grace'\n",
       "\\item 'PreciseDAPT'\n",
       "\\item '...35'\n",
       "\\item 'FE'\n",
       "\\item 'Indicacion'\n",
       "\\item 'IndicacionIAMCEST'\n",
       "\\item 'Acceso'\n",
       "\\item 'TCI.Actual'\n",
       "\\item 'DA.Actual'\n",
       "\\item 'CX.Actual'\n",
       "\\item 'CD.Actual'\n",
       "\\item 'Mamaria.Actual'\n",
       "\\item 'Safena.Actual'\n",
       "\\item 'TratDecidido'\n",
       "\\item 'FechaQx.Actual'\n",
       "\\item 'Puentes.Actual'\n",
       "\\item 'ACVQX.Actual'\n",
       "\\item 'InfartoQX.Actual'\n",
       "\\item 'MuerteQX.Actual'\n",
       "\\item 'MuerteQXtexto'\n",
       "\\item 'TCI.tratada'\n",
       "\\item 'DA.tratada'\n",
       "\\item 'Cx.tratada'\n",
       "\\item 'CD.tratada'\n",
       "\\item 'Mamaria.tratada'\n",
       "\\item 'Safena.tratada'\n",
       "\\item 'Lesiones Tratadas'\n",
       "\\item 'SINTAX1'\n",
       "\\item 'SINTAX2'\n",
       "\\item 'Complicaciones'\n",
       "\\item 'CreaPost'\n",
       "\\item 'HBpost'\n",
       "\\item 'VivoAlta'\n",
       "\\item 'FechaMuerteAlta'\n",
       "\\item 'CausaMuerteAlta'\n",
       "\\item 'Shock.Comp'\n",
       "\\item 'TromboStent.Comp'\n",
       "\\item 'IAMxOtraLesión.Comp'\n",
       "\\item 'reACTPmismo.Comp'\n",
       "\\item 'reACTPnueva.Comp'\n",
       "\\item 'CirugiaCoro.Comp'\n",
       "\\item 'Hemorragia.Comp'\n",
       "\\item 'Infeccion.Comp'\n",
       "\\item 'AccesoVasc.Comp'\n",
       "\\item 'Otras.Comp'\n",
       "\\item 'Adiro'\n",
       "\\item 'DuracionAdiro'\n",
       "\\item 'InhibADP'\n",
       "\\item 'DuracionInhADP'\n",
       "\\item 'ACO'\n",
       "\\item 'DuracionACO'\n",
       "\\item 'SegTelef12m'\n",
       "\\item 'NosegTx'\n",
       "\\item 'FechaContacto'\n",
       "\\item 'EstadoAnginoso'\n",
       "\\item 'ClaseCCS'\n",
       "\\item 'Adiro12m'\n",
       "\\item 'InhibADP12m'\n",
       "\\item 'ACO12m'\n",
       "\\item 'DAPT.Score'\n",
       "\\item 'FechaKT.PSS'\n",
       "\\item 'Peso.PSS'\n",
       "\\item 'Talla.PSS'\n",
       "\\item 'CNGsolicitud.PSS'\n",
       "\\item 'CNGdesde.PSS'\n",
       "\\item 'DxInicial.PSS'\n",
       "\\item 'DxInicialTx.PSS'\n",
       "\\item 'TratFinal.PSS'\n",
       "\\item 'HTApre.PSS'\n",
       "\\item 'DislipemiaPre.PSS'\n",
       "\\item 'DiabetesPre.PSS'\n",
       "\\item 'TratDM.PSS'\n",
       "\\item 'IAMpre.PSS'\n",
       "\\item 'IctusPre.PSS'\n",
       "\\item 'ACTPpre.PSS'\n",
       "\\item 'Qxpre.PSS'\n",
       "\\item 'EnfVascPerifPre.PSS'\n",
       "\\item 'SdAnsDepPre.PSS'\n",
       "\\item 'DetCognitivo.PSS'\n",
       "\\item 'OtroAnteced.PSS'\n",
       "\\item 'OtroAntecedTx.PSS'\n",
       "\\item 'ConoceEnf.PSS'\n",
       "\\item 'ConociaFRCV.PSS'\n",
       "\\item 'CualesConocia.PSS'\n",
       "\\item 'SabiaTabaco.PSS'\n",
       "\\item 'PensoCorazon.PSS'\n",
       "\\item 'QuePenso.PSS'\n",
       "\\item 'PersonaContac.PSS'\n",
       "\\item 'DondeEstaba.PSS'\n",
       "\\item 'ServSanitContac.PSS'\n",
       "\\item 'TrasladoSS.PSS'\n",
       "\\item 'FechaDolor.PSS'\n",
       "\\item 'HoraDolor.PSS'\n",
       "\\item 'MinutoDolor.PSS'\n",
       "\\item 'FechaSanitario.PSS'\n",
       "\\item 'HoraSanitario.PSS'\n",
       "\\item 'MinutoSanitario.PSS'\n",
       "\\item 'FechaUrgencias.PSS'\n",
       "\\item 'HoraUrg.PSS'\n",
       "\\item 'MinutoUrg.PSS'\n",
       "\\item 'FechaTrat.PSS'\n",
       "\\item 'MinutoTrat.PSS'\n",
       "\\item 'HoraTrat.PSS'\n",
       "\\item 'FechaDolorNH.PSS'\n",
       "\\item 'HoraDolorNH.PSS'\n",
       "\\item 'MinutoDolorNH.PSS'\n",
       "\\item 'FechaContSanitNH.PSS'\n",
       "\\item 'HoraContSanitNH.PSS'\n",
       "\\item 'MinutoContNH.PSS'\n",
       "\\item 'FechaUrgNH.PSS'\n",
       "\\item 'HoraUrgNH.PSS'\n",
       "\\item 'MinutoUrgNH.PSS'\n",
       "\\item 'FechaTraNH.PSS'\n",
       "\\item 'HoraTratNH.PSS'\n",
       "\\item 'MinutoTratNH.PSS'\n",
       "\\item 'HTAalta.PSS'\n",
       "\\item 'Dislipemiaalta.PSS'\n",
       "\\item 'Diabetesalta.PSS'\n",
       "\\item 'EnfVascPerifalta.PSS'\n",
       "\\item 'Fumador.PSS'\n",
       "\\item 'T.Exfumador.PSS'\n",
       "\\item 'T.tabaco.PSS'\n",
       "\\item 'CantTabaco.PSS'\n",
       "\\item 'MotivoStopTabaco.PSS'\n",
       "\\item 'IntencionDejar.PSS'\n",
       "\\item 'PodraDejarlo.PSS'\n",
       "\\item 'FumaFamilia.PSS'\n",
       "\\item 'ParejaFuma.PSS'\n",
       "\\item 'PadreFuma.PSS'\n",
       "\\item 'MadreFuma.PSS'\n",
       "\\item 'HijoFuma.PSS'\n",
       "\\item 'NHijosfuman.PSS'\n",
       "\\item 'NHijosQueTiene.PSS'\n",
       "\\item 'OtrosFuma.PSS'\n",
       "\\item 'Alcohol.PSS'\n",
       "\\item 'Vino.PSS'\n",
       "\\item 'Cerveza'\n",
       "\\item 'Copas.PSS'\n",
       "\\item 'Drogas.PSS'\n",
       "\\item 'Marihuana.PSS'\n",
       "\\item 'Cocaina.PSS'\n",
       "\\item 'OtrosToxicos.PSS'\n",
       "\\item 'SosoSalado.PSS'\n",
       "\\item 'AlimentVariada.PSS'\n",
       "\\item 'DietaTx.PSS'\n",
       "\\item 'Ejercicio.PSS'\n",
       "\\item 'Nadar.PSS'\n",
       "\\item 'Correr.PSS'\n",
       "\\item 'Bici.PSS...181'\n",
       "\\item 'Gimnasio.PSS'\n",
       "\\item 'OtroEjercicioTx'\n",
       "\\item 'FrecEjercicio.PSS'\n",
       "\\item 'IntensEjercicio.PSS'\n",
       "\\item 'HaraMasEjercicio.PSS'\n",
       "\\item 'CualMasEjercicio.PSS'\n",
       "\\item 'SabeColesterol.PSS...188'\n",
       "\\item 'SabeColesterol.PSS...189'\n",
       "\\item 'FrecuenciaTA.PSS'\n",
       "\\item 'QuienTA.PSS'\n",
       "\\item 'Medidas prevencion HTA'\n",
       "\\item 'PrevHTATx.PSS'\n",
       "\\item 'FrecPeso.PSS'\n",
       "\\item 'FrecMedico.PSS'\n",
       "\\item 'Menopausia.PSS'\n",
       "\\item 'Anticonceptivo.PSS'\n",
       "\\item 'Autopercepcion.PSS'\n",
       "\\item 'OlvidaConsult.PSS'\n",
       "\\item 'SabeTrat.PSS'\n",
       "\\item 'ControlMedicac.PSS'\n",
       "\\item 'FrecOlvidoTrat.PSS'\n",
       "\\item 'SaludTV.PSS'\n",
       "\\item 'FamiliaEnferma.PSS'\n",
       "\\item 'FamiliaresConEnfTx'\n",
       "\\item 'ConsultaKT.PSS'\n",
       "\\item 'FamiliaConsultaKT.PSS'\n",
       "\\item 'InternetConsultaKT.PSS'\n",
       "\\item 'Profesionales.KT.PSS'\n",
       "\\item 'ConsultaEnferm.PSS'\n",
       "\\item 'Profesionales.PSS'\n",
       "\\item 'Internet.PSS...212'\n",
       "\\item 'OtrosConsultEnf.PSS'\n",
       "\\item 'SabeactuarAngina.PSS'\n",
       "\\item 'ActAnginaTx.PSS'\n",
       "\\item 'NivelEstudios.PSS'\n",
       "\\item 'TipoTrabajo.PSS'\n",
       "\\item 'Ocupacion.PSS'\n",
       "\\item 'EstadoCivil'\n",
       "\\item 'LugarResidencia.PSS'\n",
       "\\item 'ConQuienVive.PSS'\n",
       "\\item 'ApoyoFamiliar'\n",
       "\\item 'TareasHogar.PSS'\n",
       "\\item 'NHijos.PSS'\n",
       "\\item 'NNietos.PSS'\n",
       "\\item '¿Tiene mascota?'\n",
       "\\item 'MascotasTx.PSS'\n",
       "\\item 'Familia.Aficc.PSS'\n",
       "\\item 'TV.Aficc.PSS'\n",
       "\\item 'Amigos.Aficc.PSS'\n",
       "\\item 'Musica.Aficc.PSS'\n",
       "\\item 'Lectura.Aficc.PSS'\n",
       "\\item 'Radio.Aficc.PSS'\n",
       "\\item 'Compras.Aficc.PSS'\n",
       "\\item 'Cine.Aficc.PSS'\n",
       "\\item 'Campo.Aficc.PSS'\n",
       "\\item 'VerDeportes.Aficc.PSS'\n",
       "\\item 'Bailar.Aficc.PSS'\n",
       "\\item 'Cultura.Aficc.PSS'\n",
       "\\item 'SalirComer.Aficc.PSS'\n",
       "\\item 'Pub.Aficc.PSS'\n",
       "\\item 'Otros.Aficc.PSS'\n",
       "\\item 'Autobus.PSS'\n",
       "\\item 'Taxi.PSS'\n",
       "\\item 'Coche.PSS'\n",
       "\\item 'Moto.PSS'\n",
       "\\item 'Bici.PSS...247'\n",
       "\\item 'Caminando.PSS'\n",
       "\\item 'OtrosVehiculos.PSS'\n",
       "\\item 'Facebook.PSS'\n",
       "\\item 'Twitter.PSS'\n",
       "\\item 'Youtube.PSS'\n",
       "\\item 'LinkeDin.PSS'\n",
       "\\item 'Spotify.PSS'\n",
       "\\item 'OtrasRedes.PSS'\n",
       "\\item 'TelefMovil.PSS'\n",
       "\\item 'APPs.PSS'\n",
       "\\item 'Internet.PSS...258'\n",
       "\\item 'Tablet.PSS'\n",
       "\\item 'Ordenador.PSS'\n",
       "\\item 'Portatil.PSS'\n",
       "\\item 'SmartTV.PSS'\n",
       "\\item 'Wifi.Publica.PSS'\n",
       "\\item 'ConoceSkype.PSS'\n",
       "\\item 'UsaSkype'\n",
       "\\item 'Fecha muerte'\n",
       "\\item 'Muerte CV'\n",
       "\\item 'Fecha muerte CV'\n",
       "\\item 'N.Infartos.Seg'\n",
       "\\item 'IAM2'\n",
       "\\item 'Fecha IAM2'\n",
       "\\item 'IAM3'\n",
       "\\item 'Fecha IAM3'\n",
       "\\item 'Revasc2'\n",
       "\\item 'Fecha revasc2'\n",
       "\\item 'Revasc3'\n",
       "\\item 'Fecha revasc3'\n",
       "\\item 'Fecha fin seg'\n",
       "\\end{enumerate*}\n"
      ],
      "text/markdown": [
       "1. 'Id'\n",
       "2. 'Codigo'\n",
       "3. 'Edad'\n",
       "4. 'Sexo'\n",
       "5. 'Seg_Cantabria'\n",
       "6. 'CP'\n",
       "7. 'TSI'\n",
       "8. 'Fecha entrada'\n",
       "9. 'FechaEstadoVital'\n",
       "10. 'Fecha_revisionPrevia'\n",
       "11. 'Fecha_revision'\n",
       "12. 'CausaMuerte'\n",
       "13. 'Muerte'\n",
       "14. 'Fmuerte'\n",
       "15. 'IAM'\n",
       "16. 'Fecha IAM'\n",
       "17. 'Revasc'\n",
       "18. 'Fecha revasc'\n",
       "19. 'Ictus'\n",
       "20. 'Fecha ictus'\n",
       "21. 'Hemorragia'\n",
       "22. 'Fecha hemorragia'\n",
       "23. 'Peso'\n",
       "24. 'Talla'\n",
       "25. 'HFdeC.isquemica'\n",
       "26. 'Fumador'\n",
       "27. 'Diabetes'\n",
       "28. 'TratamientoDM'\n",
       "29. 'Hipertension'\n",
       "30. 'Dislipemia'\n",
       "31. 'IRC'\n",
       "32. 'Filtrado Glomerular'\n",
       "33. 'HBpreKT'\n",
       "34. 'InfartoAntiguo'\n",
       "35. 'LocIAMprevio'\n",
       "36. 'QXcoronariapre'\n",
       "37. 'AnoQXcoronariapre'\n",
       "38. 'PuentesQxpre.Tx'\n",
       "39. 'ACTPprevia'\n",
       "40. 'AnoACTPprevia'\n",
       "41. 'TCI.stentpre'\n",
       "42. 'DA.stentpre'\n",
       "43. 'Cx.stentpre'\n",
       "44. 'MOB.stentpre'\n",
       "45. 'CD.stentpre'\n",
       "46. 'PL.stentpre'\n",
       "47. 'IVP.stentpre'\n",
       "48. 'EnfArtPerif.pre'\n",
       "49. 'ACVpre'\n",
       "50. 'CHA2DS2VASC'\n",
       "51. 'CHADS2'\n",
       "52. 'Grace'\n",
       "53. 'PreciseDAPT'\n",
       "54. '...35'\n",
       "55. 'FE'\n",
       "56. 'Indicacion'\n",
       "57. 'IndicacionIAMCEST'\n",
       "58. 'Acceso'\n",
       "59. 'TCI.Actual'\n",
       "60. 'DA.Actual'\n",
       "61. 'CX.Actual'\n",
       "62. 'CD.Actual'\n",
       "63. 'Mamaria.Actual'\n",
       "64. 'Safena.Actual'\n",
       "65. 'TratDecidido'\n",
       "66. 'FechaQx.Actual'\n",
       "67. 'Puentes.Actual'\n",
       "68. 'ACVQX.Actual'\n",
       "69. 'InfartoQX.Actual'\n",
       "70. 'MuerteQX.Actual'\n",
       "71. 'MuerteQXtexto'\n",
       "72. 'TCI.tratada'\n",
       "73. 'DA.tratada'\n",
       "74. 'Cx.tratada'\n",
       "75. 'CD.tratada'\n",
       "76. 'Mamaria.tratada'\n",
       "77. 'Safena.tratada'\n",
       "78. 'Lesiones Tratadas'\n",
       "79. 'SINTAX1'\n",
       "80. 'SINTAX2'\n",
       "81. 'Complicaciones'\n",
       "82. 'CreaPost'\n",
       "83. 'HBpost'\n",
       "84. 'VivoAlta'\n",
       "85. 'FechaMuerteAlta'\n",
       "86. 'CausaMuerteAlta'\n",
       "87. 'Shock.Comp'\n",
       "88. 'TromboStent.Comp'\n",
       "89. 'IAMxOtraLesión.Comp'\n",
       "90. 'reACTPmismo.Comp'\n",
       "91. 'reACTPnueva.Comp'\n",
       "92. 'CirugiaCoro.Comp'\n",
       "93. 'Hemorragia.Comp'\n",
       "94. 'Infeccion.Comp'\n",
       "95. 'AccesoVasc.Comp'\n",
       "96. 'Otras.Comp'\n",
       "97. 'Adiro'\n",
       "98. 'DuracionAdiro'\n",
       "99. 'InhibADP'\n",
       "100. 'DuracionInhADP'\n",
       "101. 'ACO'\n",
       "102. 'DuracionACO'\n",
       "103. 'SegTelef12m'\n",
       "104. 'NosegTx'\n",
       "105. 'FechaContacto'\n",
       "106. 'EstadoAnginoso'\n",
       "107. 'ClaseCCS'\n",
       "108. 'Adiro12m'\n",
       "109. 'InhibADP12m'\n",
       "110. 'ACO12m'\n",
       "111. 'DAPT.Score'\n",
       "112. 'FechaKT.PSS'\n",
       "113. 'Peso.PSS'\n",
       "114. 'Talla.PSS'\n",
       "115. 'CNGsolicitud.PSS'\n",
       "116. 'CNGdesde.PSS'\n",
       "117. 'DxInicial.PSS'\n",
       "118. 'DxInicialTx.PSS'\n",
       "119. 'TratFinal.PSS'\n",
       "120. 'HTApre.PSS'\n",
       "121. 'DislipemiaPre.PSS'\n",
       "122. 'DiabetesPre.PSS'\n",
       "123. 'TratDM.PSS'\n",
       "124. 'IAMpre.PSS'\n",
       "125. 'IctusPre.PSS'\n",
       "126. 'ACTPpre.PSS'\n",
       "127. 'Qxpre.PSS'\n",
       "128. 'EnfVascPerifPre.PSS'\n",
       "129. 'SdAnsDepPre.PSS'\n",
       "130. 'DetCognitivo.PSS'\n",
       "131. 'OtroAnteced.PSS'\n",
       "132. 'OtroAntecedTx.PSS'\n",
       "133. 'ConoceEnf.PSS'\n",
       "134. 'ConociaFRCV.PSS'\n",
       "135. 'CualesConocia.PSS'\n",
       "136. 'SabiaTabaco.PSS'\n",
       "137. 'PensoCorazon.PSS'\n",
       "138. 'QuePenso.PSS'\n",
       "139. 'PersonaContac.PSS'\n",
       "140. 'DondeEstaba.PSS'\n",
       "141. 'ServSanitContac.PSS'\n",
       "142. 'TrasladoSS.PSS'\n",
       "143. 'FechaDolor.PSS'\n",
       "144. 'HoraDolor.PSS'\n",
       "145. 'MinutoDolor.PSS'\n",
       "146. 'FechaSanitario.PSS'\n",
       "147. 'HoraSanitario.PSS'\n",
       "148. 'MinutoSanitario.PSS'\n",
       "149. 'FechaUrgencias.PSS'\n",
       "150. 'HoraUrg.PSS'\n",
       "151. 'MinutoUrg.PSS'\n",
       "152. 'FechaTrat.PSS'\n",
       "153. 'MinutoTrat.PSS'\n",
       "154. 'HoraTrat.PSS'\n",
       "155. 'FechaDolorNH.PSS'\n",
       "156. 'HoraDolorNH.PSS'\n",
       "157. 'MinutoDolorNH.PSS'\n",
       "158. 'FechaContSanitNH.PSS'\n",
       "159. 'HoraContSanitNH.PSS'\n",
       "160. 'MinutoContNH.PSS'\n",
       "161. 'FechaUrgNH.PSS'\n",
       "162. 'HoraUrgNH.PSS'\n",
       "163. 'MinutoUrgNH.PSS'\n",
       "164. 'FechaTraNH.PSS'\n",
       "165. 'HoraTratNH.PSS'\n",
       "166. 'MinutoTratNH.PSS'\n",
       "167. 'HTAalta.PSS'\n",
       "168. 'Dislipemiaalta.PSS'\n",
       "169. 'Diabetesalta.PSS'\n",
       "170. 'EnfVascPerifalta.PSS'\n",
       "171. 'Fumador.PSS'\n",
       "172. 'T.Exfumador.PSS'\n",
       "173. 'T.tabaco.PSS'\n",
       "174. 'CantTabaco.PSS'\n",
       "175. 'MotivoStopTabaco.PSS'\n",
       "176. 'IntencionDejar.PSS'\n",
       "177. 'PodraDejarlo.PSS'\n",
       "178. 'FumaFamilia.PSS'\n",
       "179. 'ParejaFuma.PSS'\n",
       "180. 'PadreFuma.PSS'\n",
       "181. 'MadreFuma.PSS'\n",
       "182. 'HijoFuma.PSS'\n",
       "183. 'NHijosfuman.PSS'\n",
       "184. 'NHijosQueTiene.PSS'\n",
       "185. 'OtrosFuma.PSS'\n",
       "186. 'Alcohol.PSS'\n",
       "187. 'Vino.PSS'\n",
       "188. 'Cerveza'\n",
       "189. 'Copas.PSS'\n",
       "190. 'Drogas.PSS'\n",
       "191. 'Marihuana.PSS'\n",
       "192. 'Cocaina.PSS'\n",
       "193. 'OtrosToxicos.PSS'\n",
       "194. 'SosoSalado.PSS'\n",
       "195. 'AlimentVariada.PSS'\n",
       "196. 'DietaTx.PSS'\n",
       "197. 'Ejercicio.PSS'\n",
       "198. 'Nadar.PSS'\n",
       "199. 'Correr.PSS'\n",
       "200. 'Bici.PSS...181'\n",
       "201. 'Gimnasio.PSS'\n",
       "202. 'OtroEjercicioTx'\n",
       "203. 'FrecEjercicio.PSS'\n",
       "204. 'IntensEjercicio.PSS'\n",
       "205. 'HaraMasEjercicio.PSS'\n",
       "206. 'CualMasEjercicio.PSS'\n",
       "207. 'SabeColesterol.PSS...188'\n",
       "208. 'SabeColesterol.PSS...189'\n",
       "209. 'FrecuenciaTA.PSS'\n",
       "210. 'QuienTA.PSS'\n",
       "211. 'Medidas prevencion HTA'\n",
       "212. 'PrevHTATx.PSS'\n",
       "213. 'FrecPeso.PSS'\n",
       "214. 'FrecMedico.PSS'\n",
       "215. 'Menopausia.PSS'\n",
       "216. 'Anticonceptivo.PSS'\n",
       "217. 'Autopercepcion.PSS'\n",
       "218. 'OlvidaConsult.PSS'\n",
       "219. 'SabeTrat.PSS'\n",
       "220. 'ControlMedicac.PSS'\n",
       "221. 'FrecOlvidoTrat.PSS'\n",
       "222. 'SaludTV.PSS'\n",
       "223. 'FamiliaEnferma.PSS'\n",
       "224. 'FamiliaresConEnfTx'\n",
       "225. 'ConsultaKT.PSS'\n",
       "226. 'FamiliaConsultaKT.PSS'\n",
       "227. 'InternetConsultaKT.PSS'\n",
       "228. 'Profesionales.KT.PSS'\n",
       "229. 'ConsultaEnferm.PSS'\n",
       "230. 'Profesionales.PSS'\n",
       "231. 'Internet.PSS...212'\n",
       "232. 'OtrosConsultEnf.PSS'\n",
       "233. 'SabeactuarAngina.PSS'\n",
       "234. 'ActAnginaTx.PSS'\n",
       "235. 'NivelEstudios.PSS'\n",
       "236. 'TipoTrabajo.PSS'\n",
       "237. 'Ocupacion.PSS'\n",
       "238. 'EstadoCivil'\n",
       "239. 'LugarResidencia.PSS'\n",
       "240. 'ConQuienVive.PSS'\n",
       "241. 'ApoyoFamiliar'\n",
       "242. 'TareasHogar.PSS'\n",
       "243. 'NHijos.PSS'\n",
       "244. 'NNietos.PSS'\n",
       "245. '¿Tiene mascota?'\n",
       "246. 'MascotasTx.PSS'\n",
       "247. 'Familia.Aficc.PSS'\n",
       "248. 'TV.Aficc.PSS'\n",
       "249. 'Amigos.Aficc.PSS'\n",
       "250. 'Musica.Aficc.PSS'\n",
       "251. 'Lectura.Aficc.PSS'\n",
       "252. 'Radio.Aficc.PSS'\n",
       "253. 'Compras.Aficc.PSS'\n",
       "254. 'Cine.Aficc.PSS'\n",
       "255. 'Campo.Aficc.PSS'\n",
       "256. 'VerDeportes.Aficc.PSS'\n",
       "257. 'Bailar.Aficc.PSS'\n",
       "258. 'Cultura.Aficc.PSS'\n",
       "259. 'SalirComer.Aficc.PSS'\n",
       "260. 'Pub.Aficc.PSS'\n",
       "261. 'Otros.Aficc.PSS'\n",
       "262. 'Autobus.PSS'\n",
       "263. 'Taxi.PSS'\n",
       "264. 'Coche.PSS'\n",
       "265. 'Moto.PSS'\n",
       "266. 'Bici.PSS...247'\n",
       "267. 'Caminando.PSS'\n",
       "268. 'OtrosVehiculos.PSS'\n",
       "269. 'Facebook.PSS'\n",
       "270. 'Twitter.PSS'\n",
       "271. 'Youtube.PSS'\n",
       "272. 'LinkeDin.PSS'\n",
       "273. 'Spotify.PSS'\n",
       "274. 'OtrasRedes.PSS'\n",
       "275. 'TelefMovil.PSS'\n",
       "276. 'APPs.PSS'\n",
       "277. 'Internet.PSS...258'\n",
       "278. 'Tablet.PSS'\n",
       "279. 'Ordenador.PSS'\n",
       "280. 'Portatil.PSS'\n",
       "281. 'SmartTV.PSS'\n",
       "282. 'Wifi.Publica.PSS'\n",
       "283. 'ConoceSkype.PSS'\n",
       "284. 'UsaSkype'\n",
       "285. 'Fecha muerte'\n",
       "286. 'Muerte CV'\n",
       "287. 'Fecha muerte CV'\n",
       "288. 'N.Infartos.Seg'\n",
       "289. 'IAM2'\n",
       "290. 'Fecha IAM2'\n",
       "291. 'IAM3'\n",
       "292. 'Fecha IAM3'\n",
       "293. 'Revasc2'\n",
       "294. 'Fecha revasc2'\n",
       "295. 'Revasc3'\n",
       "296. 'Fecha revasc3'\n",
       "297. 'Fecha fin seg'\n",
       "\n",
       "\n"
      ],
      "text/plain": [
       "  [1] \"Id\"                       \"Codigo\"                  \n",
       "  [3] \"Edad\"                     \"Sexo\"                    \n",
       "  [5] \"Seg_Cantabria\"            \"CP\"                      \n",
       "  [7] \"TSI\"                      \"Fecha entrada\"           \n",
       "  [9] \"FechaEstadoVital\"         \"Fecha_revisionPrevia\"    \n",
       " [11] \"Fecha_revision\"           \"CausaMuerte\"             \n",
       " [13] \"Muerte\"                   \"Fmuerte\"                 \n",
       " [15] \"IAM\"                      \"Fecha IAM\"               \n",
       " [17] \"Revasc\"                   \"Fecha revasc\"            \n",
       " [19] \"Ictus\"                    \"Fecha ictus\"             \n",
       " [21] \"Hemorragia\"               \"Fecha hemorragia\"        \n",
       " [23] \"Peso\"                     \"Talla\"                   \n",
       " [25] \"HFdeC.isquemica\"          \"Fumador\"                 \n",
       " [27] \"Diabetes\"                 \"TratamientoDM\"           \n",
       " [29] \"Hipertension\"             \"Dislipemia\"              \n",
       " [31] \"IRC\"                      \"Filtrado Glomerular\"     \n",
       " [33] \"HBpreKT\"                  \"InfartoAntiguo\"          \n",
       " [35] \"LocIAMprevio\"             \"QXcoronariapre\"          \n",
       " [37] \"AnoQXcoronariapre\"        \"PuentesQxpre.Tx\"         \n",
       " [39] \"ACTPprevia\"               \"AnoACTPprevia\"           \n",
       " [41] \"TCI.stentpre\"             \"DA.stentpre\"             \n",
       " [43] \"Cx.stentpre\"              \"MOB.stentpre\"            \n",
       " [45] \"CD.stentpre\"              \"PL.stentpre\"             \n",
       " [47] \"IVP.stentpre\"             \"EnfArtPerif.pre\"         \n",
       " [49] \"ACVpre\"                   \"CHA2DS2VASC\"             \n",
       " [51] \"CHADS2\"                   \"Grace\"                   \n",
       " [53] \"PreciseDAPT\"              \"...35\"                   \n",
       " [55] \"FE\"                       \"Indicacion\"              \n",
       " [57] \"IndicacionIAMCEST\"        \"Acceso\"                  \n",
       " [59] \"TCI.Actual\"               \"DA.Actual\"               \n",
       " [61] \"CX.Actual\"                \"CD.Actual\"               \n",
       " [63] \"Mamaria.Actual\"           \"Safena.Actual\"           \n",
       " [65] \"TratDecidido\"             \"FechaQx.Actual\"          \n",
       " [67] \"Puentes.Actual\"           \"ACVQX.Actual\"            \n",
       " [69] \"InfartoQX.Actual\"         \"MuerteQX.Actual\"         \n",
       " [71] \"MuerteQXtexto\"            \"TCI.tratada\"             \n",
       " [73] \"DA.tratada\"               \"Cx.tratada\"              \n",
       " [75] \"CD.tratada\"               \"Mamaria.tratada\"         \n",
       " [77] \"Safena.tratada\"           \"Lesiones Tratadas\"       \n",
       " [79] \"SINTAX1\"                  \"SINTAX2\"                 \n",
       " [81] \"Complicaciones\"           \"CreaPost\"                \n",
       " [83] \"HBpost\"                   \"VivoAlta\"                \n",
       " [85] \"FechaMuerteAlta\"          \"CausaMuerteAlta\"         \n",
       " [87] \"Shock.Comp\"               \"TromboStent.Comp\"        \n",
       " [89] \"IAMxOtraLesión.Comp\"      \"reACTPmismo.Comp\"        \n",
       " [91] \"reACTPnueva.Comp\"         \"CirugiaCoro.Comp\"        \n",
       " [93] \"Hemorragia.Comp\"          \"Infeccion.Comp\"          \n",
       " [95] \"AccesoVasc.Comp\"          \"Otras.Comp\"              \n",
       " [97] \"Adiro\"                    \"DuracionAdiro\"           \n",
       " [99] \"InhibADP\"                 \"DuracionInhADP\"          \n",
       "[101] \"ACO\"                      \"DuracionACO\"             \n",
       "[103] \"SegTelef12m\"              \"NosegTx\"                 \n",
       "[105] \"FechaContacto\"            \"EstadoAnginoso\"          \n",
       "[107] \"ClaseCCS\"                 \"Adiro12m\"                \n",
       "[109] \"InhibADP12m\"              \"ACO12m\"                  \n",
       "[111] \"DAPT.Score\"               \"FechaKT.PSS\"             \n",
       "[113] \"Peso.PSS\"                 \"Talla.PSS\"               \n",
       "[115] \"CNGsolicitud.PSS\"         \"CNGdesde.PSS\"            \n",
       "[117] \"DxInicial.PSS\"            \"DxInicialTx.PSS\"         \n",
       "[119] \"TratFinal.PSS\"            \"HTApre.PSS\"              \n",
       "[121] \"DislipemiaPre.PSS\"        \"DiabetesPre.PSS\"         \n",
       "[123] \"TratDM.PSS\"               \"IAMpre.PSS\"              \n",
       "[125] \"IctusPre.PSS\"             \"ACTPpre.PSS\"             \n",
       "[127] \"Qxpre.PSS\"                \"EnfVascPerifPre.PSS\"     \n",
       "[129] \"SdAnsDepPre.PSS\"          \"DetCognitivo.PSS\"        \n",
       "[131] \"OtroAnteced.PSS\"          \"OtroAntecedTx.PSS\"       \n",
       "[133] \"ConoceEnf.PSS\"            \"ConociaFRCV.PSS\"         \n",
       "[135] \"CualesConocia.PSS\"        \"SabiaTabaco.PSS\"         \n",
       "[137] \"PensoCorazon.PSS\"         \"QuePenso.PSS\"            \n",
       "[139] \"PersonaContac.PSS\"        \"DondeEstaba.PSS\"         \n",
       "[141] \"ServSanitContac.PSS\"      \"TrasladoSS.PSS\"          \n",
       "[143] \"FechaDolor.PSS\"           \"HoraDolor.PSS\"           \n",
       "[145] \"MinutoDolor.PSS\"          \"FechaSanitario.PSS\"      \n",
       "[147] \"HoraSanitario.PSS\"        \"MinutoSanitario.PSS\"     \n",
       "[149] \"FechaUrgencias.PSS\"       \"HoraUrg.PSS\"             \n",
       "[151] \"MinutoUrg.PSS\"            \"FechaTrat.PSS\"           \n",
       "[153] \"MinutoTrat.PSS\"           \"HoraTrat.PSS\"            \n",
       "[155] \"FechaDolorNH.PSS\"         \"HoraDolorNH.PSS\"         \n",
       "[157] \"MinutoDolorNH.PSS\"        \"FechaContSanitNH.PSS\"    \n",
       "[159] \"HoraContSanitNH.PSS\"      \"MinutoContNH.PSS\"        \n",
       "[161] \"FechaUrgNH.PSS\"           \"HoraUrgNH.PSS\"           \n",
       "[163] \"MinutoUrgNH.PSS\"          \"FechaTraNH.PSS\"          \n",
       "[165] \"HoraTratNH.PSS\"           \"MinutoTratNH.PSS\"        \n",
       "[167] \"HTAalta.PSS\"              \"Dislipemiaalta.PSS\"      \n",
       "[169] \"Diabetesalta.PSS\"         \"EnfVascPerifalta.PSS\"    \n",
       "[171] \"Fumador.PSS\"              \"T.Exfumador.PSS\"         \n",
       "[173] \"T.tabaco.PSS\"             \"CantTabaco.PSS\"          \n",
       "[175] \"MotivoStopTabaco.PSS\"     \"IntencionDejar.PSS\"      \n",
       "[177] \"PodraDejarlo.PSS\"         \"FumaFamilia.PSS\"         \n",
       "[179] \"ParejaFuma.PSS\"           \"PadreFuma.PSS\"           \n",
       "[181] \"MadreFuma.PSS\"            \"HijoFuma.PSS\"            \n",
       "[183] \"NHijosfuman.PSS\"          \"NHijosQueTiene.PSS\"      \n",
       "[185] \"OtrosFuma.PSS\"            \"Alcohol.PSS\"             \n",
       "[187] \"Vino.PSS\"                 \"Cerveza\"                 \n",
       "[189] \"Copas.PSS\"                \"Drogas.PSS\"              \n",
       "[191] \"Marihuana.PSS\"            \"Cocaina.PSS\"             \n",
       "[193] \"OtrosToxicos.PSS\"         \"SosoSalado.PSS\"          \n",
       "[195] \"AlimentVariada.PSS\"       \"DietaTx.PSS\"             \n",
       "[197] \"Ejercicio.PSS\"            \"Nadar.PSS\"               \n",
       "[199] \"Correr.PSS\"               \"Bici.PSS...181\"          \n",
       "[201] \"Gimnasio.PSS\"             \"OtroEjercicioTx\"         \n",
       "[203] \"FrecEjercicio.PSS\"        \"IntensEjercicio.PSS\"     \n",
       "[205] \"HaraMasEjercicio.PSS\"     \"CualMasEjercicio.PSS\"    \n",
       "[207] \"SabeColesterol.PSS...188\" \"SabeColesterol.PSS...189\"\n",
       "[209] \"FrecuenciaTA.PSS\"         \"QuienTA.PSS\"             \n",
       "[211] \"Medidas prevencion HTA\"   \"PrevHTATx.PSS\"           \n",
       "[213] \"FrecPeso.PSS\"             \"FrecMedico.PSS\"          \n",
       "[215] \"Menopausia.PSS\"           \"Anticonceptivo.PSS\"      \n",
       "[217] \"Autopercepcion.PSS\"       \"OlvidaConsult.PSS\"       \n",
       "[219] \"SabeTrat.PSS\"             \"ControlMedicac.PSS\"      \n",
       "[221] \"FrecOlvidoTrat.PSS\"       \"SaludTV.PSS\"             \n",
       "[223] \"FamiliaEnferma.PSS\"       \"FamiliaresConEnfTx\"      \n",
       "[225] \"ConsultaKT.PSS\"           \"FamiliaConsultaKT.PSS\"   \n",
       "[227] \"InternetConsultaKT.PSS\"   \"Profesionales.KT.PSS\"    \n",
       "[229] \"ConsultaEnferm.PSS\"       \"Profesionales.PSS\"       \n",
       "[231] \"Internet.PSS...212\"       \"OtrosConsultEnf.PSS\"     \n",
       "[233] \"SabeactuarAngina.PSS\"     \"ActAnginaTx.PSS\"         \n",
       "[235] \"NivelEstudios.PSS\"        \"TipoTrabajo.PSS\"         \n",
       "[237] \"Ocupacion.PSS\"            \"EstadoCivil\"             \n",
       "[239] \"LugarResidencia.PSS\"      \"ConQuienVive.PSS\"        \n",
       "[241] \"ApoyoFamiliar\"            \"TareasHogar.PSS\"         \n",
       "[243] \"NHijos.PSS\"               \"NNietos.PSS\"             \n",
       "[245] \"¿Tiene mascota?\"          \"MascotasTx.PSS\"          \n",
       "[247] \"Familia.Aficc.PSS\"        \"TV.Aficc.PSS\"            \n",
       "[249] \"Amigos.Aficc.PSS\"         \"Musica.Aficc.PSS\"        \n",
       "[251] \"Lectura.Aficc.PSS\"        \"Radio.Aficc.PSS\"         \n",
       "[253] \"Compras.Aficc.PSS\"        \"Cine.Aficc.PSS\"          \n",
       "[255] \"Campo.Aficc.PSS\"          \"VerDeportes.Aficc.PSS\"   \n",
       "[257] \"Bailar.Aficc.PSS\"         \"Cultura.Aficc.PSS\"       \n",
       "[259] \"SalirComer.Aficc.PSS\"     \"Pub.Aficc.PSS\"           \n",
       "[261] \"Otros.Aficc.PSS\"          \"Autobus.PSS\"             \n",
       "[263] \"Taxi.PSS\"                 \"Coche.PSS\"               \n",
       "[265] \"Moto.PSS\"                 \"Bici.PSS...247\"          \n",
       "[267] \"Caminando.PSS\"            \"OtrosVehiculos.PSS\"      \n",
       "[269] \"Facebook.PSS\"             \"Twitter.PSS\"             \n",
       "[271] \"Youtube.PSS\"              \"LinkeDin.PSS\"            \n",
       "[273] \"Spotify.PSS\"              \"OtrasRedes.PSS\"          \n",
       "[275] \"TelefMovil.PSS\"           \"APPs.PSS\"                \n",
       "[277] \"Internet.PSS...258\"       \"Tablet.PSS\"              \n",
       "[279] \"Ordenador.PSS\"            \"Portatil.PSS\"            \n",
       "[281] \"SmartTV.PSS\"              \"Wifi.Publica.PSS\"        \n",
       "[283] \"ConoceSkype.PSS\"          \"UsaSkype\"                \n",
       "[285] \"Fecha muerte\"             \"Muerte CV\"               \n",
       "[287] \"Fecha muerte CV\"          \"N.Infartos.Seg\"          \n",
       "[289] \"IAM2\"                     \"Fecha IAM2\"              \n",
       "[291] \"IAM3\"                     \"Fecha IAM3\"              \n",
       "[293] \"Revasc2\"                  \"Fecha revasc2\"           \n",
       "[295] \"Revasc3\"                  \"Fecha revasc3\"           \n",
       "[297] \"Fecha fin seg\"           "
      ]
     },
     "metadata": {},
     "output_type": "display_data"
    },
    {
     "data": {
      "text/html": [
       "<table class=\"dataframe\">\n",
       "<caption>A data.frame: 6 × 297</caption>\n",
       "<thead>\n",
       "\t<tr><th></th><th scope=col>Id</th><th scope=col>Codigo</th><th scope=col>Edad</th><th scope=col>Sexo</th><th scope=col>Seg_Cantabria</th><th scope=col>CP</th><th scope=col>TSI</th><th scope=col>Fecha entrada</th><th scope=col>FechaEstadoVital</th><th scope=col>Fecha_revisionPrevia</th><th scope=col>⋯</th><th scope=col>N.Infartos.Seg</th><th scope=col>IAM2</th><th scope=col>Fecha IAM2</th><th scope=col>IAM3</th><th scope=col>Fecha IAM3</th><th scope=col>Revasc2</th><th scope=col>Fecha revasc2</th><th scope=col>Revasc3</th><th scope=col>Fecha revasc3</th><th scope=col>Fecha fin seg</th></tr>\n",
       "\t<tr><th></th><th scope=col>&lt;dbl&gt;</th><th scope=col>&lt;dbl&gt;</th><th scope=col>&lt;dbl&gt;</th><th scope=col>&lt;dbl&gt;</th><th scope=col>&lt;dbl&gt;</th><th scope=col>&lt;chr&gt;</th><th scope=col>&lt;chr&gt;</th><th scope=col>&lt;dttm&gt;</th><th scope=col>&lt;chr&gt;</th><th scope=col>&lt;dttm&gt;</th><th scope=col>⋯</th><th scope=col>&lt;dbl&gt;</th><th scope=col>&lt;dbl&gt;</th><th scope=col>&lt;dttm&gt;</th><th scope=col>&lt;dbl&gt;</th><th scope=col>&lt;dttm&gt;</th><th scope=col>&lt;dbl&gt;</th><th scope=col>&lt;dttm&gt;</th><th scope=col>&lt;dbl&gt;</th><th scope=col>&lt;dttm&gt;</th><th scope=col>&lt;chr&gt;</th></tr>\n",
       "</thead>\n",
       "<tbody>\n",
       "\t<tr><th scope=row>1</th><td>1</td><td>3009547</td><td>49</td><td>1</td><td>1</td><td>39409</td><td>1</td><td>2018-02-21</td><td>45415</td><td>2022-02-02</td><td>⋯</td><td>NA</td><td>NA</td><td>NA</td><td>NA</td><td>NA</td><td>NA</td><td>NA</td><td>NA</td><td>NA</td><td>44594</td></tr>\n",
       "\t<tr><th scope=row>2</th><td>2</td><td> 229918</td><td>73</td><td>1</td><td>1</td><td>39608</td><td>2</td><td>2018-02-22</td><td>45619</td><td>2022-02-02</td><td>⋯</td><td>NA</td><td>NA</td><td>NA</td><td>NA</td><td>NA</td><td>NA</td><td>NA</td><td>NA</td><td>NA</td><td>44594</td></tr>\n",
       "\t<tr><th scope=row>3</th><td>3</td><td> 224165</td><td>47</td><td>1</td><td>1</td><td>39770</td><td>3</td><td>2018-02-23</td><td>45432</td><td>2022-02-02</td><td>⋯</td><td> 1</td><td>NA</td><td>NA</td><td>NA</td><td>NA</td><td>NA</td><td>NA</td><td>NA</td><td>NA</td><td>44594</td></tr>\n",
       "\t<tr><th scope=row>4</th><td>4</td><td> 740337</td><td>62</td><td>0</td><td>1</td><td>39400</td><td>1</td><td>2018-02-23</td><td>45698</td><td>2022-02-02</td><td>⋯</td><td>NA</td><td>NA</td><td>NA</td><td>NA</td><td>NA</td><td>NA</td><td>NA</td><td>NA</td><td>NA</td><td>44594</td></tr>\n",
       "\t<tr><th scope=row>5</th><td>5</td><td> 229056</td><td>71</td><td>1</td><td>1</td><td>39600</td><td>2</td><td>2018-02-22</td><td>44299</td><td>2022-02-02</td><td>⋯</td><td>NA</td><td>NA</td><td>NA</td><td>NA</td><td>NA</td><td>NA</td><td>NA</td><td>NA</td><td>NA</td><td>44594</td></tr>\n",
       "\t<tr><th scope=row>6</th><td>6</td><td> 691145</td><td>73</td><td>1</td><td>1</td><td>39480</td><td>2</td><td>2018-02-25</td><td>44012</td><td>2022-02-02</td><td>⋯</td><td>NA</td><td>NA</td><td>NA</td><td>NA</td><td>NA</td><td>NA</td><td>NA</td><td>NA</td><td>NA</td><td>44594</td></tr>\n",
       "</tbody>\n",
       "</table>\n"
      ],
      "text/latex": [
       "A data.frame: 6 × 297\n",
       "\\begin{tabular}{r|lllllllllllllllllllll}\n",
       "  & Id & Codigo & Edad & Sexo & Seg\\_Cantabria & CP & TSI & Fecha entrada & FechaEstadoVital & Fecha\\_revisionPrevia & ⋯ & N.Infartos.Seg & IAM2 & Fecha IAM2 & IAM3 & Fecha IAM3 & Revasc2 & Fecha revasc2 & Revasc3 & Fecha revasc3 & Fecha fin seg\\\\\n",
       "  & <dbl> & <dbl> & <dbl> & <dbl> & <dbl> & <chr> & <chr> & <dttm> & <chr> & <dttm> & ⋯ & <dbl> & <dbl> & <dttm> & <dbl> & <dttm> & <dbl> & <dttm> & <dbl> & <dttm> & <chr>\\\\\n",
       "\\hline\n",
       "\t1 & 1 & 3009547 & 49 & 1 & 1 & 39409 & 1 & 2018-02-21 & 45415 & 2022-02-02 & ⋯ & NA & NA & NA & NA & NA & NA & NA & NA & NA & 44594\\\\\n",
       "\t2 & 2 &  229918 & 73 & 1 & 1 & 39608 & 2 & 2018-02-22 & 45619 & 2022-02-02 & ⋯ & NA & NA & NA & NA & NA & NA & NA & NA & NA & 44594\\\\\n",
       "\t3 & 3 &  224165 & 47 & 1 & 1 & 39770 & 3 & 2018-02-23 & 45432 & 2022-02-02 & ⋯ &  1 & NA & NA & NA & NA & NA & NA & NA & NA & 44594\\\\\n",
       "\t4 & 4 &  740337 & 62 & 0 & 1 & 39400 & 1 & 2018-02-23 & 45698 & 2022-02-02 & ⋯ & NA & NA & NA & NA & NA & NA & NA & NA & NA & 44594\\\\\n",
       "\t5 & 5 &  229056 & 71 & 1 & 1 & 39600 & 2 & 2018-02-22 & 44299 & 2022-02-02 & ⋯ & NA & NA & NA & NA & NA & NA & NA & NA & NA & 44594\\\\\n",
       "\t6 & 6 &  691145 & 73 & 1 & 1 & 39480 & 2 & 2018-02-25 & 44012 & 2022-02-02 & ⋯ & NA & NA & NA & NA & NA & NA & NA & NA & NA & 44594\\\\\n",
       "\\end{tabular}\n"
      ],
      "text/markdown": [
       "\n",
       "A data.frame: 6 × 297\n",
       "\n",
       "| <!--/--> | Id &lt;dbl&gt; | Codigo &lt;dbl&gt; | Edad &lt;dbl&gt; | Sexo &lt;dbl&gt; | Seg_Cantabria &lt;dbl&gt; | CP &lt;chr&gt; | TSI &lt;chr&gt; | Fecha entrada &lt;dttm&gt; | FechaEstadoVital &lt;chr&gt; | Fecha_revisionPrevia &lt;dttm&gt; | ⋯ ⋯ | N.Infartos.Seg &lt;dbl&gt; | IAM2 &lt;dbl&gt; | Fecha IAM2 &lt;dttm&gt; | IAM3 &lt;dbl&gt; | Fecha IAM3 &lt;dttm&gt; | Revasc2 &lt;dbl&gt; | Fecha revasc2 &lt;dttm&gt; | Revasc3 &lt;dbl&gt; | Fecha revasc3 &lt;dttm&gt; | Fecha fin seg &lt;chr&gt; |\n",
       "|---|---|---|---|---|---|---|---|---|---|---|---|---|---|---|---|---|---|---|---|---|---|\n",
       "| 1 | 1 | 3009547 | 49 | 1 | 1 | 39409 | 1 | 2018-02-21 | 45415 | 2022-02-02 | ⋯ | NA | NA | NA | NA | NA | NA | NA | NA | NA | 44594 |\n",
       "| 2 | 2 |  229918 | 73 | 1 | 1 | 39608 | 2 | 2018-02-22 | 45619 | 2022-02-02 | ⋯ | NA | NA | NA | NA | NA | NA | NA | NA | NA | 44594 |\n",
       "| 3 | 3 |  224165 | 47 | 1 | 1 | 39770 | 3 | 2018-02-23 | 45432 | 2022-02-02 | ⋯ |  1 | NA | NA | NA | NA | NA | NA | NA | NA | 44594 |\n",
       "| 4 | 4 |  740337 | 62 | 0 | 1 | 39400 | 1 | 2018-02-23 | 45698 | 2022-02-02 | ⋯ | NA | NA | NA | NA | NA | NA | NA | NA | NA | 44594 |\n",
       "| 5 | 5 |  229056 | 71 | 1 | 1 | 39600 | 2 | 2018-02-22 | 44299 | 2022-02-02 | ⋯ | NA | NA | NA | NA | NA | NA | NA | NA | NA | 44594 |\n",
       "| 6 | 6 |  691145 | 73 | 1 | 1 | 39480 | 2 | 2018-02-25 | 44012 | 2022-02-02 | ⋯ | NA | NA | NA | NA | NA | NA | NA | NA | NA | 44594 |\n",
       "\n"
      ],
      "text/plain": [
       "  Id Codigo  Edad Sexo Seg_Cantabria CP    TSI Fecha entrada FechaEstadoVital\n",
       "1 1  3009547 49   1    1             39409 1   2018-02-21    45415           \n",
       "2 2   229918 73   1    1             39608 2   2018-02-22    45619           \n",
       "3 3   224165 47   1    1             39770 3   2018-02-23    45432           \n",
       "4 4   740337 62   0    1             39400 1   2018-02-23    45698           \n",
       "5 5   229056 71   1    1             39600 2   2018-02-22    44299           \n",
       "6 6   691145 73   1    1             39480 2   2018-02-25    44012           \n",
       "  Fecha_revisionPrevia ⋯ N.Infartos.Seg IAM2 Fecha IAM2 IAM3 Fecha IAM3 Revasc2\n",
       "1 2022-02-02           ⋯ NA             NA   <NA>       NA   <NA>       NA     \n",
       "2 2022-02-02           ⋯ NA             NA   <NA>       NA   <NA>       NA     \n",
       "3 2022-02-02           ⋯  1             NA   <NA>       NA   <NA>       NA     \n",
       "4 2022-02-02           ⋯ NA             NA   <NA>       NA   <NA>       NA     \n",
       "5 2022-02-02           ⋯ NA             NA   <NA>       NA   <NA>       NA     \n",
       "6 2022-02-02           ⋯ NA             NA   <NA>       NA   <NA>       NA     \n",
       "  Fecha revasc2 Revasc3 Fecha revasc3 Fecha fin seg\n",
       "1 <NA>          NA      <NA>          44594        \n",
       "2 <NA>          NA      <NA>          44594        \n",
       "3 <NA>          NA      <NA>          44594        \n",
       "4 <NA>          NA      <NA>          44594        \n",
       "5 <NA>          NA      <NA>          44594        \n",
       "6 <NA>          NA      <NA>          44594        "
      ]
     },
     "metadata": {},
     "output_type": "display_data"
    }
   ],
   "source": [
    "# Perform an inner join based on the \"Id\" column\n",
    "merged_data <- suppressWarnings(\n",
    "  merge(\n",
    "    data_ext,\n",
    "    data,\n",
    "    by = \"Id\",\n",
    "    all = FALSE,  # Only include rows with matches in \"Id\"\n",
    "    suffixes = c(\"\", \"\")  # Avoid adding suffixes to duplicate columns\n",
    "  )\n",
    ")\n",
    "\n",
    "# Remove duplicate columns that are generated (those coming from data_ext)\n",
    "merged_data <- merged_data[, !duplicated(colnames(merged_data))]\n",
    "\n",
    "colnames(merged_data)\n",
    "head(merged_data)"
   ]
  },
  {
   "cell_type": "code",
   "execution_count": 8,
   "id": "d4233ed5",
   "metadata": {
    "vscode": {
     "languageId": "r"
    }
   },
   "outputs": [
    {
     "data": {
      "text/html": [
       "290"
      ],
      "text/latex": [
       "290"
      ],
      "text/markdown": [
       "290"
      ],
      "text/plain": [
       "[1] 290"
      ]
     },
     "metadata": {},
     "output_type": "display_data"
    },
    {
     "data": {
      "text/html": [
       "22"
      ],
      "text/latex": [
       "22"
      ],
      "text/markdown": [
       "22"
      ],
      "text/plain": [
       "[1] 22"
      ]
     },
     "metadata": {},
     "output_type": "display_data"
    },
    {
     "data": {
      "text/html": [
       "15"
      ],
      "text/latex": [
       "15"
      ],
      "text/markdown": [
       "15"
      ],
      "text/plain": [
       "[1] 15"
      ]
     },
     "metadata": {},
     "output_type": "display_data"
    },
    {
     "data": {
      "text/html": [
       "297"
      ],
      "text/latex": [
       "297"
      ],
      "text/markdown": [
       "297"
      ],
      "text/plain": [
       "[1] 297"
      ]
     },
     "metadata": {},
     "output_type": "display_data"
    }
   ],
   "source": [
    "# Compare the number of columns:\n",
    "ncol(data)\n",
    "ncol(data_ext)\n",
    "length(intersect(colnames(data), colnames(data_ext)))\n",
    "ncol(merged_data)\n"
   ]
  },
  {
   "cell_type": "code",
   "execution_count": 9,
   "id": "a84f0197",
   "metadata": {
    "vscode": {
     "languageId": "r"
    }
   },
   "outputs": [
    {
     "data": {
      "text/html": [
       "2478"
      ],
      "text/latex": [
       "2478"
      ],
      "text/markdown": [
       "2478"
      ],
      "text/plain": [
       "[1] 2478"
      ]
     },
     "metadata": {},
     "output_type": "display_data"
    },
    {
     "data": {
      "text/html": [
       "2216"
      ],
      "text/latex": [
       "2216"
      ],
      "text/markdown": [
       "2216"
      ],
      "text/plain": [
       "[1] 2216"
      ]
     },
     "metadata": {},
     "output_type": "display_data"
    },
    {
     "data": {
      "text/html": [
       "2216"
      ],
      "text/latex": [
       "2216"
      ],
      "text/markdown": [
       "2216"
      ],
      "text/plain": [
       "[1] 2216"
      ]
     },
     "metadata": {},
     "output_type": "display_data"
    }
   ],
   "source": [
    "# Compare the number of rows:\n",
    "nrow(data)\n",
    "nrow(data_ext)\n",
    "nrow(merged_data)"
   ]
  },
  {
   "cell_type": "code",
   "execution_count": 10,
   "id": "f7b0fc4e",
   "metadata": {
    "vscode": {
     "languageId": "r"
    }
   },
   "outputs": [
    {
     "name": "stdout",
     "output_type": "stream",
     "text": [
      "numeric(0)\n",
      "[1]   51 1002\n",
      " [1]   42   51  109  123  134  162  237  247  266  271  272  330  354  356  367\n",
      "[16]  376  387  442  478  499  506  610  669  822  828  831  840  845  853  854\n",
      "[31]  878  938  961  964  973  995 1002 1007 1008 1037 1043 1066 1089 1119 1126\n",
      "[46] 1130 1131 1141 1149 1158 1159 1171 1192 1205 1229 1913\n",
      " [1]    6   31   52   91  140  146  172  176  199  218  230  235  329  349  430\n",
      "[16]  451  510  544  551  749  771  772  775  776  866  893  918  925  927  930\n",
      "[31]  935  944  945  962  964  971  975  980  983  989  991 1033 1055 1151 1163\n",
      "[46] 1196 1223 1322 1340 1344 1346 1353 1364 1372 1373 1398 1438 1453 1536 1537\n",
      "[61] 1598 1612 1630 1652 1670 1759 1767 1789 1808 1940 1988 1989 2027 2053 2064\n",
      "[76] 2066 2245 2247 2302 2312 2421 2446 2474\n",
      " [1]    2   58  140  146  172  199  218  230  235  329  510  866 1033 1322 1353\n",
      "[16] 1373 1398 1494 1612 1714 1759 1891 1927 1940 2046\n",
      "Number of records after removing null rows: 2214 \n"
     ]
    }
   ],
   "source": [
    "list_edad <- merged_data$Id[is.na(merged_data$Edad)]\n",
    "print(list_edad)\n",
    "list_CP <- merged_data$Id[is.na(merged_data$CP)]\n",
    "print(list_CP)\n",
    "list_TSI <- merged_data$Id[is.na(merged_data$TSI)]\n",
    "print(list_TSI) # Dont remove the NAs following the expert intructions\n",
    "list_talla <- merged_data$Id[is.na(merged_data$Talla)]\n",
    "print(list_talla)\n",
    "list_peso <- merged_data$Id[is.na(merged_data$Peso)]\n",
    "print(list_peso)\n",
    "\n",
    "# Remove rows where CP is NA\n",
    "merged_data <- merged_data[!is.na(merged_data$CP), ]\n",
    "\n",
    "# Print the number of records after removing null rows\n",
    "cat(\"Number of records after removing null rows:\", nrow(merged_data), \"\\n\")"
   ]
  },
  {
   "cell_type": "code",
   "execution_count": 11,
   "id": "c9f224b9",
   "metadata": {
    "vscode": {
     "languageId": "r"
    }
   },
   "outputs": [
    {
     "name": "stdout",
     "output_type": "stream",
     "text": [
      "[1] \"Patient admission dates range from 2016-06-12 to 2025-03-04\"\n"
     ]
    }
   ],
   "source": [
    "print(paste(\"Patient admission dates range from\", \n",
    "            min(merged_data$`Fecha entrada`, na.rm = TRUE), \"to\",\n",
    "            max(merged_data$`Fecha entrada`, na.rm = TRUE)))"
   ]
  },
  {
   "cell_type": "code",
   "execution_count": 12,
   "id": "292955e5",
   "metadata": {
    "vscode": {
     "languageId": "r"
    }
   },
   "outputs": [
    {
     "name": "stdout",
     "output_type": "stream",
     "text": [
      "[1] \"Patient last checkup dates range from 2016-07-19 to 2025-05-30\"\n"
     ]
    }
   ],
   "source": [
    "# Calculate the minimum revision date considering multiple columns and handling NAs\n",
    "min_rev <- min(\n",
    "    min(merged_data$Fecha_revision, na.rm = TRUE),\n",
    "    ifelse(\n",
    "        is.na(merged_data$Fecha_revision), \n",
    "        min(merged_data$Fecha_revisionPrevia, na.rm = TRUE),\n",
    "        min(merged_data$Fecha_revision, na.rm = TRUE)\n",
    "    ),\n",
    "    min(merged_data$Fmuerte, na.rm = TRUE), \n",
    "    na.rm = TRUE \n",
    ")\n",
    "\n",
    "# Print the range of patient last checkup dates\n",
    "print(paste(\"Patient last checkup dates range from\", min_rev, \"to\",\n",
    "    max(merged_data$Fecha_revision, na.rm = TRUE)))\n"
   ]
  },
  {
   "cell_type": "markdown",
   "id": "e836f39c",
   "metadata": {},
   "source": [
    "## 2. Data Curation"
   ]
  },
  {
   "cell_type": "markdown",
   "id": "202a8917",
   "metadata": {},
   "source": [
    "### Variable Age (*Edad*)"
   ]
  },
  {
   "cell_type": "code",
   "execution_count": 13,
   "id": "f9c94de9",
   "metadata": {
    "vscode": {
     "languageId": "r"
    }
   },
   "outputs": [
    {
     "data": {
      "text/plain": [
       "   Min. 1st Qu.  Median    Mean 3rd Qu.    Max. \n",
       "  28.00   57.00   65.00   65.31   74.00   93.00 "
      ]
     },
     "metadata": {},
     "output_type": "display_data"
    },
    {
     "name": "stdout",
     "output_type": "stream",
     "text": [
      "[1] 1136 1510 2113\n"
     ]
    },
    {
     "data": {
      "image/png": "[encoded data removed]",
      "text/plain": [
       "Plot with title \"Boxplot - Age\""
      ]
     },
     "metadata": {
      "image/png": {
       "height": 420,
       "width": 420
      }
     },
     "output_type": "display_data"
    }
   ],
   "source": [
    "summary(merged_data$Edad) # Statistical summary of the variable\n",
    "\n",
    "# Boxplot of the variable Age\n",
    "\n",
    "boxplot(merged_data$Edad, main = \"Boxplot - Age\", ylab = \"Age\", col = \"lightblue\")\n",
    "\n",
    "# Calculate the interquartile range (IQR)\n",
    "Q1 <- quantile(merged_data$Edad, 0.25, na.rm = TRUE)\n",
    "Q3 <- quantile(merged_data$Edad, 0.75, na.rm = TRUE)\n",
    "IQR <- Q3 - Q1\n",
    "\n",
    "# Calculate the lower and upper bounds\n",
    "lower_bound <- Q1 - 1.5 * IQR\n",
    "upper_bound <- Q3 + 1.5 * IQR\n",
    "\n",
    "# Identify the outliers\n",
    "outliers <- merged_data$Id[merged_data$Edad < lower_bound | merged_data$Edad > upper_bound]\n",
    "print(outliers)\n",
    "\n",
    "# Remove the outliers if desired\n",
    "# (in these cases, we will not remove them since they dont seem to be error)\n",
    "# merged_data <- merged_data[merged_data$Edad >= lower_bound & merged_data$Edad <= upper_bound, ]\n",
    "\n",
    "# New statistical summary of the variable Age\n",
    "# summary(merged_data$Edad)\n",
    "# New boxplot of the variable Age (without outliers)\n",
    "# boxplot(merged_data$Edad, main = \"Boxplot - Age (without outliers)\", ylab = \"Age\", col = \"lightgreen\")"
   ]
  },
  {
   "cell_type": "code",
   "execution_count": 14,
   "id": "9bc86ddb",
   "metadata": {
    "vscode": {
     "languageId": "r"
    }
   },
   "outputs": [
    {
     "name": "stderr",
     "output_type": "stream",
     "text": [
      "Warning message:\n",
      "\"package 'bnlearn' was built under R version 4.4.3\"\n"
     ]
    },
    {
     "name": "stdout",
     "output_type": "stream",
     "text": [
      "Interval counts for interval method:\n",
      "\n",
      "     [28,49.6667] (49.6667,71.3333]      (71.3333,93] \n",
      "              204              1316               694 \n",
      "Interval counts for quantile method:\n",
      "\n",
      "[28,60] (60,71] (71,93] \n",
      "    785     735     694 \n"
     ]
    },
    {
     "data": {
      "image/png": "[encoded data removed]",
      "text/plain": [
       "plot without title"
      ]
     },
     "metadata": {
      "image/png": {
       "height": 420,
       "width": 420
      }
     },
     "output_type": "display_data"
    }
   ],
   "source": [
    "library(bnlearn)\n",
    "\n",
    "# Discretize the Age variable using two methods: interval and quantile (tryouts)\n",
    "edad_try <- merged_data$Edad\n",
    "edad_try1 <- discretize(data.frame(Edad = edad_try), method = \"interval\", breaks = 3, ordered = TRUE, debug = FALSE)\n",
    "edad_try2 <- discretize(data.frame(Edad = edad_try), method = \"quantile\", breaks = 3, ordered = TRUE, debug = FALSE)\n",
    "# print(head(edad_try1))\n",
    "# print(head(edad_try2))\n",
    "cat(\"Interval counts for interval method:\\n\")\n",
    "print(table(edad_try1$Edad))\n",
    "cat(\"Interval counts for quantile method:\\n\")\n",
    "print(table(edad_try2$Edad))\n",
    "\n",
    "# Plot these distributions after discretization for a visual comparison\n",
    "library(gridExtra)\n",
    "# Create plot for interval method\n",
    "p1 <- ggplot(data.frame(Edad = edad_try, Interval = edad_try1$Edad), aes(x = Edad, fill = Interval)) +\n",
    "    geom_histogram(binwidth = 5, color = \"black\", position = \"identity\", alpha = 0.7) +\n",
    "    labs(title = \"Age Distribution by Interval Method\", x = \"Age\", y = \"Count\", fill = \"Interval\") +\n",
    "    theme_minimal()\n",
    "# Create plot for quantile method\n",
    "p2 <- ggplot(data.frame(Edad = edad_try, Quantile = edad_try2$Edad), aes(x = Edad, fill = Quantile)) +\n",
    "    geom_histogram(binwidth = 5, color = \"black\", position = \"identity\", alpha = 0.7) +\n",
    "    labs(title = \"Age Distribution by Quantile Method\", x = \"Age\", y = \"Count\", fill = \"Quantile\") +\n",
    "    theme_minimal()\n",
    "grid.arrange(p1, p2, ncol = 1) # Arrange both plots side by side"
   ]
  },
  {
   "cell_type": "code",
   "execution_count": 15,
   "id": "624f3451",
   "metadata": {
    "vscode": {
     "languageId": "r"
    }
   },
   "outputs": [
    {
     "name": "stdout",
     "output_type": "stream",
     "text": [
      "[1] [28,60] (71,93] [28,60] (60,71] (60,71] (71,93]\n",
      "Levels: [28,60] < (60,71] < (71,93]\n"
     ]
    },
    {
     "data": {
      "image/png": "[encoded data removed]",
      "text/plain": [
       "plot without title"
      ]
     },
     "metadata": {
      "image/png": {
       "height": 420,
       "width": 420
      }
     },
     "output_type": "display_data"
    }
   ],
   "source": [
    "# Create an Age column with the quantile discretization\n",
    "merged_data$Age <- edad_try2$Edad \n",
    "print(head(merged_data$Age))\n",
    "plot(merged_data$Age)"
   ]
  },
  {
   "cell_type": "markdown",
   "id": "9e802cdc",
   "metadata": {},
   "source": [
    "### Variable Sex (*Sexo*)"
   ]
  },
  {
   "cell_type": "code",
   "execution_count": 16,
   "id": "8d7ef537",
   "metadata": {
    "vscode": {
     "languageId": "r"
    }
   },
   "outputs": [
    {
     "name": "stdout",
     "output_type": "stream",
     "text": [
      "[1] 0\n"
     ]
    },
    {
     "name": "stdout",
     "output_type": "stream",
     "text": [
      "\n",
      "   0    1 \n",
      " 519 1695 \n"
     ]
    }
   ],
   "source": [
    "# Verify that the variable Sexo does not have null values\n",
    "print(sum(is.na(merged_data$Sexo)))\n",
    "\n",
    "# Check the different values of the variable Sexo\n",
    "print(table(merged_data$Sexo))\n",
    "# 1 is male and 0 is female"
   ]
  },
  {
   "cell_type": "markdown",
   "id": "0d3e0d78",
   "metadata": {},
   "source": [
    "### Variables Weight & Height (*Peso* &  *Talla*)"
   ]
  },
  {
   "cell_type": "code",
   "execution_count": 17,
   "id": "f88370fa",
   "metadata": {
    "vscode": {
     "languageId": "r"
    }
   },
   "outputs": [
    {
     "name": "stdout",
     "output_type": "stream",
     "text": [
      "[1] 25\n",
      "[1] 83\n"
     ]
    }
   ],
   "source": [
    "# First, we check the missing values of the variables Peso and Talla\n",
    "print(sum(is.na(merged_data$Peso)))\n",
    "print(sum(is.na(merged_data$Talla)))"
   ]
  },
  {
   "cell_type": "code",
   "execution_count": 18,
   "id": "063ec5c1",
   "metadata": {
    "vscode": {
     "languageId": "r"
    }
   },
   "outputs": [
    {
     "name": "stdout",
     "output_type": "stream",
     "text": [
      "[1] 9\n",
      "[1] 1033 1322 1398 1494 1612 1714 1759 1940 2046\n",
      "[1] 68\n",
      " [1]   91  176  349  430  544  551  749  771  772  775  776  893  918  925  927\n",
      "[16]  930  935  944  945  962  964  971  975  980  983  989  991 1033 1055 1151\n",
      "[31] 1163 1196 1223 1322 1340 1344 1346 1364 1372 1373 1398 1438 1453 1536 1537\n",
      "[46] 1598 1612 1630 1652 1670 1759 1767 1789 1808 1940 1988 1989 2027 2053 2064\n",
      "[61] 2066 2245 2247 2302 2312 2421 2446 2474\n"
     ]
    }
   ],
   "source": [
    "# In order to fill in the missing values of Peso and Talla:\n",
    "# Assign the value of the variable 'Peso.PSS' to 'Peso' when 'Peso' is NA and 'Peso.PSS' is not NA\n",
    "idx_peso <- which(is.na(merged_data$Peso) & !is.na(merged_data$Peso.PSS))\n",
    "merged_data$Peso[idx_peso] <- merged_data$Peso.PSS[idx_peso]\n",
    "\n",
    "# Assign the value of the variable 'Talla.PSS' to 'Talla' when 'Talla' is NA and 'Talla.PSS' is not NA\n",
    "idx_talla <- which(is.na(merged_data$Talla) & !is.na(merged_data$Talla.PSS))\n",
    "merged_data$Talla[idx_talla] <- merged_data$Talla.PSS[idx_talla]\n",
    "\n",
    "# Check if there are still missing values in Peso and Talla:\n",
    "print(sum(is.na(merged_data$Peso)))\n",
    "list_peso <- merged_data$Id[is.na(merged_data$Peso)]\n",
    "print(list_peso)\n",
    "print(sum(is.na(merged_data$Talla)))\n",
    "list_talla <- merged_data$Id[is.na(merged_data$Talla)]\n",
    "print(list_talla)"
   ]
  },
  {
   "cell_type": "code",
   "execution_count": 19,
   "id": "ef20ad8f",
   "metadata": {
    "vscode": {
     "languageId": "r"
    }
   },
   "outputs": [
    {
     "name": "stdout",
     "output_type": "stream",
     "text": [
      "IDs with weight difference greater than 10: 865 965 1097 1229 \n",
      "IDs with height difference greater than 5: 965 1097 1264 \n",
      "       Id Peso Peso.PSS Talla Talla.PSS\n",
      "790   865   30       80   169       169\n",
      "882   965  170       90    90       170\n",
      "1001 1097   64      163   163         2\n",
      "1123 1229   62      150   150        NA\n",
      "1152 1264   77       77   162       168\n"
     ]
    }
   ],
   "source": [
    "# Now we look for outliers and data annomalies\n",
    "# Show the patients with a weight difference greater than 10 to check for outliers\n",
    "merged_data$diff_weight <- ifelse(\n",
    "    !is.na(merged_data$Peso) & !is.na(merged_data$Peso.PSS) & abs(merged_data$Peso - merged_data$Peso.PSS) > 10,\n",
    "    merged_data$Id,\n",
    "    NA\n",
    ")\n",
    "# Show the patients with a height difference greater than 5 to check for outliers\n",
    "merged_data$diff_height <- ifelse(\n",
    "    !is.na(merged_data$Talla) & !is.na(merged_data$Talla.PSS) & abs(merged_data$Talla - merged_data$Talla.PSS) > 5,\n",
    "    merged_data$Id,\n",
    "    NA\n",
    ")\n",
    "\n",
    "# Extract IDs with weight difference greater than 5\n",
    "ids_diff_weight <- merged_data$Id[!is.na(merged_data$diff_weight)]\n",
    "cat(\"IDs with weight difference greater than 10:\", ids_diff_weight, \"\\n\")\n",
    "# Extract IDs with height difference greater than 5\n",
    "ids_diff_height <- merged_data$Id[!is.na(merged_data$diff_height)]\n",
    "cat(\"IDs with height difference greater than 5:\", ids_diff_height, \"\\n\")\n",
    "\n",
    "# Print a table with weight and height for the identified IDs\n",
    "outlier_ids <- unique(c(ids_diff_weight, ids_diff_height))\n",
    "outlier_table <- merged_data[merged_data$Id %in% outlier_ids, c(\"Id\", \"Peso\", \"Peso.PSS\", \"Talla\", \"Talla.PSS\")]\n",
    "print(outlier_table)"
   ]
  },
  {
   "cell_type": "code",
   "execution_count": 20,
   "id": "68e16ef0",
   "metadata": {
    "vscode": {
     "languageId": "r"
    }
   },
   "outputs": [],
   "source": [
    "# Correct some of this data anomalies manually (after checking the database):\n",
    "\n",
    "# Patient ID 865:\n",
    "# Change the value of Peso from 30 (which seems to be incorrect) to the value\n",
    "# of Peso.PSS which is 80:\n",
    "merged_data$Peso[merged_data$Id == 865] <-  merged_data$Peso.PSS[merged_data$Id == 865]\n",
    "\n",
    "# Patient ID 965:\n",
    "# Exchange the values of Peso and Talla (which seems to be swapped):\n",
    "merged_data$Peso[merged_data$Id == 965] <- 90\n",
    "merged_data$Talla[merged_data$Id == 965] <- 170\n",
    "\n",
    "# Swap the values from Peso.PSS and Talla.PSS:\n",
    "merged_data$Peso.PSS[merged_data$Id == 1097] <- merged_data$Peso[merged_data$Id == 1097]\n",
    "merged_data$Talla.PSS[merged_data$Id == 1097] <- merged_data$Talla[merged_data$Id == 1097]\n",
    "\n",
    "\n",
    "# Patient with ID 1229:\n",
    "# Change the value of Peso.PSS to Peso and Talla.PSS to Talla:\n",
    "merged_data$Peso.PSS[merged_data$Id == 1229] <- merged_data$Peso[merged_data$Id == 1229]\n",
    "merged_data$Talla.PSS[merged_data$Id == 1229] <- merged_data$Talla[merged_data$Id == 1229]\n",
    "\n",
    "# Patient with ID 1264:\n",
    "# Correct height difference from a possible measure error,\n",
    "# as the average between Talla and Talla.PSS\n",
    "merged_data$Talla[merged_data$Id == 1264] <- mean(c(\n",
    "    merged_data$Talla[merged_data$Id == 1264],\n",
    "    merged_data$Talla.PSS[merged_data$Id == 1264]\n",
    "), na.rm = TRUE)\n",
    "\n",
    "# If running the previous code cell again, we can check that we\n",
    "# have corrected the anomalies in the data:"
   ]
  },
  {
   "cell_type": "code",
   "execution_count": 21,
   "id": "a723a475",
   "metadata": {
    "vscode": {
     "languageId": "r"
    }
   },
   "outputs": [
    {
     "data": {
      "image/png": "[encoded data removed]",
      "text/plain": [
       "Plot with title \"Boxplot - Weight (Peso)\""
      ]
     },
     "metadata": {
      "image/png": {
       "height": 420,
       "width": 420
      }
     },
     "output_type": "display_data"
    }
   ],
   "source": [
    "# Boxplots for Talla (Height) and Peso (Weight) to look for outliers\n",
    "par(mfrow = c(1, 2))\n",
    "boxplot(merged_data$Talla, main = \"Boxplot - Height (Talla)\", ylab = \"Height (cm)\", col = \"lightgreen\")\n",
    "boxplot(merged_data$Peso, main = \"Boxplot - Weight (Peso)\", ylab = \"Weight (kg)\", col = \"lightblue\")"
   ]
  },
  {
   "cell_type": "code",
   "execution_count": 22,
   "id": "bc975729",
   "metadata": {
    "vscode": {
     "languageId": "r"
    }
   },
   "outputs": [
    {
     "data": {
      "text/plain": [
       "             Talla           Peso    \n",
       " [100,165]      :843   [41,73] :758  \n",
       " (165,172]      :697   (73,85] :778  \n",
       " (172,nan(snan)]:606   (85,155]:669  \n",
       " NA's           : 68   NA's    :  9  "
      ]
     },
     "metadata": {},
     "output_type": "display_data"
    }
   ],
   "source": [
    "# Discretize the Talla and Peso variables using quantile method\n",
    "try1 <- suppressWarnings(discretize(data.frame(Talla = merged_data$Talla, Peso = merged_data$Peso), method = \"quantile\", breaks = 3, ordered = TRUE, debug = FALSE))\n",
    "summary(try1)"
   ]
  },
  {
   "cell_type": "code",
   "execution_count": 23,
   "id": "167c16e6",
   "metadata": {
    "vscode": {
     "languageId": "r"
    }
   },
   "outputs": [
    {
     "data": {
      "text/plain": [
       "             Talla           Peso     \n",
       " [100,165]      :843   [41,63] : 250  \n",
       " (165,175]      :934   (63,76] : 717  \n",
       " (175,nan(snan)]:369   (76,155]:1238  \n",
       " NA's           : 68   NA's    :   9  "
      ]
     },
     "metadata": {},
     "output_type": "display_data"
    }
   ],
   "source": [
    "# Discretize the Talla and Peso variables using hartemink method\n",
    "try2 <- suppressWarnings(discretize(data.frame(Talla = merged_data$Talla, Peso = merged_data$Peso), method = \"hartemink\", breaks = 3, ordered = TRUE, debug = FALSE))\n",
    "summary(try2)"
   ]
  },
  {
   "cell_type": "markdown",
   "id": "c9fc584b",
   "metadata": {},
   "source": [
    "### Other Medical History Variables"
   ]
  },
  {
   "cell_type": "code",
   "execution_count": 24,
   "id": "66167014",
   "metadata": {
    "vscode": {
     "languageId": "r"
    }
   },
   "outputs": [
    {
     "name": "stdout",
     "output_type": "stream",
     "text": [
      "[1] 1\n"
     ]
    },
    {
     "name": "stdout",
     "output_type": "stream",
     "text": [
      "\n",
      "   0    1 \n",
      "1328  885 \n"
     ]
    }
   ],
   "source": [
    "# FHID - Family history of ischemic heart disease\n",
    "\n",
    "# Check that the HFdeC.isquemica variable does not have null values\n",
    "print(sum(is.na(merged_data$HFdeC.isquemica)))\n",
    "list_FID <- merged_data$Id[is.na(merged_data$HFdeC.isquemica)]\n",
    "\n",
    "# Recategorize the values of the HFdeC.isquemica variable\n",
    "merged_data$HFdeC.isquemica <- ifelse(merged_data$HFdeC.isquemica == 1, 0,\n",
    "                                      ifelse(merged_data$HFdeC.isquemica == 2,\n",
    "                                             1, merged_data$HFdeC.isquemica))\n",
    "\n",
    "# Check the different values of the HFdeC.isquemica variable\n",
    "print(table(merged_data$HFdeC.isquemica)) # 0 is no and 1 is yes"
   ]
  },
  {
   "cell_type": "code",
   "execution_count": 25,
   "id": "87eca52b",
   "metadata": {
    "vscode": {
     "languageId": "r"
    }
   },
   "outputs": [
    {
     "name": "stdout",
     "output_type": "stream",
     "text": [
      "[1] 8\n",
      "[1] 733\n",
      "\n",
      "  1   2   3 \n",
      "621 991 601 \n"
     ]
    }
   ],
   "source": [
    "# SMK - Smoking status of the patient\n",
    "\n",
    "# Check if the Fumador variable has null values\n",
    "print(sum(is.na(merged_data$Fumador)))\n",
    "# Fill NAs in the Fumador variable with the values from Fumador.PSS\n",
    "merged_data$Fumador[is.na(merged_data$Fumador)] <- merged_data$Fumador.PSS[is.na(merged_data$Fumador)]\n",
    "# Check if there are still null values in the Fumador variable\n",
    "list_Fumador <- merged_data$Id[is.na(merged_data$Fumador)]\n",
    "print(list_Fumador)\n",
    "\n",
    "# Check the distribution of the Fumador variable\n",
    "print(table(merged_data$Fumador))\n",
    "# 1 actual smoker, 2 former smoker, 3 never smoked"
   ]
  },
  {
   "cell_type": "code",
   "execution_count": 26,
   "id": "b6cdebe9",
   "metadata": {
    "vscode": {
     "languageId": "r"
    }
   },
   "outputs": [
    {
     "name": "stdout",
     "output_type": "stream",
     "text": [
      "[1] 4\n",
      "[1]  733 1172\n",
      "\n",
      "   0    1 \n",
      "1598  616 \n"
     ]
    }
   ],
   "source": [
    "# DM - Diabetes mellitus of the patient\n",
    "\n",
    "# Check if the Diabetes variable has null values\n",
    "print(sum(is.na(merged_data$Diabetes)))\n",
    "# Fill NAs in the Diabetes variable with the values from DiabetesPre.PSS\n",
    "merged_data$Diabetes[is.na(merged_data$Diabetes)] <- merged_data$DiabetesPre.PSS[is.na(merged_data$Diabetes)]\n",
    "# Check if there are still NAs in the Diabetes variable and print the Ids\n",
    "list_Diabetes <- merged_data$Id[is.na(merged_data$Diabetes)]\n",
    "print(list_Diabetes)\n",
    "\n",
    "# Recategorize the values of the Diabetes variable\n",
    "merged_data$Diabetes <- ifelse(merged_data$Diabetes == 1, 0,\n",
    "                               ifelse(merged_data$Diabetes == 2,\n",
    "                                      1, merged_data$Diabetes))\n",
    "\n",
    "# Correct some values with the information provided by the expert\n",
    "merged_data$Diabetes[merged_data$Id == 733] <- 1\n",
    "# merged_data$Diabetes[merged_data$Id == 1099] <- 1\n",
    "merged_data$Diabetes[merged_data$Id == 1172] <- 0\n",
    "# merged_data$Diabetes[merged_data$Id == 1546] <- 1\n",
    "# merged_data$Diabetes[merged_data$Id == 1602] <- 0 # Este está igual\n",
    "# merged_data$Diabetes[merged_data$Id == 1740] <- 1 # Este está igual\n",
    "\n",
    "# Check the different values of the Diabetes variable\n",
    "print(table(merged_data$Diabetes)) # 0 is no and 1 is yes"
   ]
  },
  {
   "cell_type": "code",
   "execution_count": 27,
   "id": "6d229a3c",
   "metadata": {
    "vscode": {
     "languageId": "r"
    }
   },
   "outputs": [
    {
     "name": "stdout",
     "output_type": "stream",
     "text": [
      "[1] 4\n",
      "[1]  733 1172 1234 1841\n",
      "\n",
      "   0    1 \n",
      " 769 1441 \n"
     ]
    }
   ],
   "source": [
    "# HT - Hypertension\n",
    "\n",
    "# Check if the Hipertension variable has null values\n",
    "print(sum(is.na(merged_data$Hipertension)))\n",
    "list_Hipertension <- merged_data$Id[is.na(merged_data$Hipertension)]\n",
    "print(list_Hipertension)\n",
    "\n",
    "# Recategorize the values of the Hipertension variable\n",
    "merged_data$Hipertension <- ifelse(merged_data$Hipertension == 1, 0,\n",
    "                                   ifelse(merged_data$Hipertension == 2,\n",
    "                                          1, merged_data$Hipertension))\n",
    "\n",
    "# Check the different values of the Hipertension variable\n",
    "print(table(merged_data$Hipertension)) # 0 is no and 1 is yes"
   ]
  },
  {
   "cell_type": "code",
   "execution_count": 28,
   "id": "816a0c2b",
   "metadata": {
    "vscode": {
     "languageId": "r"
    }
   },
   "outputs": [
    {
     "name": "stdout",
     "output_type": "stream",
     "text": [
      "[1] 11\n",
      "[1]  733 1172\n",
      "\n",
      "   0    1 \n",
      " 842 1370 \n"
     ]
    }
   ],
   "source": [
    "# DLP - Dyslipidemia\n",
    "\n",
    "# Check if the Dislipemia variable has null values\n",
    "print(sum(is.na(merged_data$Dislipemia)))\n",
    "# Fill NAs in the Dislipemia variable with the values from DislipemiaPre.PSS\n",
    "merged_data$Dislipemia[is.na(merged_data$Dislipemia)] <- merged_data$Dislipemiaalta.PSS[is.na(merged_data$Dislipemia)]\n",
    "# Check if there are still NAs and print the Ids\n",
    "list_Dislipemia <- merged_data$Id[is.na(merged_data$Dislipemia)]\n",
    "print(list_Dislipemia)\n",
    "\n",
    "# Recategorize the values of the Dislipemia variable\n",
    "merged_data$Dislipemia <- ifelse(merged_data$Dislipemia == 1, 0,\n",
    "                                 ifelse(merged_data$Dislipemia == 2,\n",
    "                                        1, merged_data$Dislipemia))\n",
    "\n",
    "# Check the different values of the Dislipemia variable\n",
    "print(table(merged_data$Dislipemia)) # 0 is no and 1 is yes"
   ]
  },
  {
   "cell_type": "code",
   "execution_count": 29,
   "id": "85366cc1",
   "metadata": {
    "vscode": {
     "languageId": "r"
    }
   },
   "outputs": [
    {
     "name": "stdout",
     "output_type": "stream",
     "text": [
      "[1] 14\n",
      " [1]   13   45   46   53   80   90  320  420  457  488  539  542  733 1841\n",
      "\n",
      "   0    1 \n",
      "1970  230 \n"
     ]
    }
   ],
   "source": [
    "# CKD - Chronic kidney disease\n",
    "\n",
    "# Check if the variable IRC has null values\n",
    "print(sum(is.na(merged_data$IRC)))\n",
    "# Print the list of Id values of the records that do not have a value in this variable\n",
    "list_irc <- merged_data$Id[is.na(merged_data$IRC)]\n",
    "print(list_irc)\n",
    "\n",
    "# Recategorize the values of the IRC variable\n",
    "merged_data$IRC <- ifelse(merged_data$IRC == 1, 0,\n",
    "                          ifelse(merged_data$IRC == 2, 1, merged_data$IRC))\n",
    "\n",
    "# Check the different values of the IRC variable\n",
    "print(table(merged_data$IRC))"
   ]
  },
  {
   "cell_type": "code",
   "execution_count": 30,
   "id": "4281e8be",
   "metadata": {
    "vscode": {
     "languageId": "r"
    }
   },
   "outputs": [
    {
     "name": "stdout",
     "output_type": "stream",
     "text": [
      "[1] 4\n"
     ]
    },
    {
     "name": "stdout",
     "output_type": "stream",
     "text": [
      "[1]  611  703  733 1841\n",
      "\n",
      "   0    1 \n",
      "1787  423 \n"
     ]
    }
   ],
   "source": [
    "# PMI - Previous myocardial infarction\n",
    "\n",
    "# Check if the InfartoAntiguo variable has null values\n",
    "print(sum(is.na(merged_data$InfartoAntiguo)))\n",
    "list_InfartoAntiguo <- merged_data$Id[is.na(merged_data$InfartoAntiguo)]\n",
    "print(list_InfartoAntiguo)\n",
    "\n",
    "# Recategorize the values of the InfartoAntiguo variable\n",
    "merged_data$InfartoAntiguo <- ifelse(merged_data$InfartoAntiguo == 1, 0,\n",
    "                                     ifelse(merged_data$InfartoAntiguo == 2,\n",
    "                                            1, merged_data$InfartoAntiguo))\n",
    "\n",
    "# Check the different values of the InfartoAntiguo variable\n",
    "print(table(merged_data$InfartoAntiguo))"
   ]
  },
  {
   "cell_type": "code",
   "execution_count": 31,
   "id": "d347273f",
   "metadata": {
    "vscode": {
     "languageId": "r"
    }
   },
   "outputs": [
    {
     "name": "stdout",
     "output_type": "stream",
     "text": [
      "[1] 17\n"
     ]
    },
    {
     "name": "stdout",
     "output_type": "stream",
     "text": [
      "[1] 733\n",
      "\n",
      "   0    1 \n",
      "2163   50 \n"
     ]
    }
   ],
   "source": [
    "# PCS - Previous Coronary Surgery\n",
    "\n",
    "# Check if the QXcoronariapre variable has null values\n",
    "print(sum(is.na(merged_data$QXcoronariapre)))\n",
    "# Fill NAs in the QXcoronariapre variable with the values from Qxpre.PSS\n",
    "merged_data$QXcoronariapre[is.na(merged_data$QXcoronariapre)] <- merged_data$Qxpre.PSS[is.na(merged_data$QXcoronariapre)]\n",
    "# Check if there are still NAs in the QXcoronariapre variable and print the Ids\n",
    "list_PCS <- merged_data$Id[is.na(merged_data$QXcoronariapre)]\n",
    "print(list_PCS)\n",
    "\n",
    "# Recategorize the values of the QXcoronariapre variable\n",
    "merged_data$QXcoronariapre <- ifelse(merged_data$QXcoronariapre == 1, 0,\n",
    "                                     ifelse(merged_data$QXcoronariapre == 2,\n",
    "                                            1, merged_data$QXcoronariapre))\n",
    "\n",
    "# Check the different values of the QXcoronariapre variable\n",
    "print(table(merged_data$QXcoronariapre))"
   ]
  },
  {
   "cell_type": "code",
   "execution_count": 32,
   "id": "a6f0bb9a",
   "metadata": {
    "vscode": {
     "languageId": "r"
    }
   },
   "outputs": [
    {
     "name": "stdout",
     "output_type": "stream",
     "text": [
      "[1] 8\n"
     ]
    },
    {
     "name": "stdout",
     "output_type": "stream",
     "text": [
      "[1]  733 1055\n",
      "[1]  733 1055\n",
      "\n",
      "   0    1 \n",
      "1610  602 \n"
     ]
    }
   ],
   "source": [
    "# PPCI - Previous PCI (Percutaneous Coronary Intervention)\n",
    "\n",
    "# Check if the ACTPprevia variable has null values\n",
    "print(sum(is.na(merged_data$ACTPprevia)))\n",
    "# Fill NAs in the ACTPprevia variable with the values from ACTPpre.PSS\n",
    "merged_data$ACTPprevia[is.na(merged_data$ACTPprevia)] <- merged_data$ACTPpre.PSS[is.na(merged_data$ACTPprevia)]\n",
    "# Check if there are still NAs in the ACTPprevia variable and print the Ids\n",
    "list_ACTPprevia <- merged_data$Id[is.na(merged_data$ACTPprevia)]\n",
    "print(list_ACTPprevia)\n",
    "print(merged_data$Id[is.na(merged_data$ACTPprevia)])\n",
    "\n",
    "# Recategorize the values of the ACTPprevia variable\n",
    "merged_data$ACTPprevia <- ifelse(merged_data$ACTPprevia == 1, 0,\n",
    "                                 ifelse(merged_data$ACTPprevia == 2,\n",
    "                                        1, merged_data$ACTPprevia))\n",
    "\n",
    "# Check the different values of the ACTPprevia variable\n",
    "print(table(merged_data$ACTPprevia))"
   ]
  },
  {
   "cell_type": "code",
   "execution_count": 33,
   "id": "adea18a7",
   "metadata": {
    "vscode": {
     "languageId": "r"
    }
   },
   "outputs": [
    {
     "name": "stdout",
     "output_type": "stream",
     "text": [
      "[1] 19\n",
      " [1]   34   38  107  246  249  258  323  591  611  733 1078 1096 1125 1172 1352\n",
      "[16] 1653 1679 1841 2085\n",
      "\n",
      "   0    1 \n",
      "1997  198 \n"
     ]
    }
   ],
   "source": [
    "# PAD - Peripheral Arterial Disease\n",
    "\n",
    "# Check if the EnfArtPerif.pre variable has null values\n",
    "print(sum(is.na(merged_data$EnfArtPerif.pre)))\n",
    "list_EnfArtPerif <- merged_data$Id[is.na(merged_data$EnfArtPerif.pre)]\n",
    "print(list_EnfArtPerif)\n",
    "\n",
    "# Recategorize the values of the EnfArtPerif.pre variable\n",
    "merged_data$EnfArtPerif.pre <- ifelse(merged_data$EnfArtPerif.pre == 1, 0,\n",
    "                                      ifelse(merged_data$EnfArtPerif.pre == 2,\n",
    "                                             1, merged_data$EnfArtPerif.pre))\n",
    "\n",
    "# Check the different values of the EnfArtPerif.pre variable\n",
    "print(table(merged_data$EnfArtPerif.pre))"
   ]
  },
  {
   "cell_type": "code",
   "execution_count": 34,
   "id": "c436caa4",
   "metadata": {
    "vscode": {
     "languageId": "r"
    }
   },
   "outputs": [
    {
     "name": "stdout",
     "output_type": "stream",
     "text": [
      "[1] 32\n",
      "[1]  733 1172\n",
      "\n",
      "   0    1 \n",
      "2097  115 \n"
     ]
    }
   ],
   "source": [
    "# STK - Stroke\n",
    "\n",
    "# Check if the ACVpre variable has null values\n",
    "print(sum(is.na(merged_data$ACVpre)))\n",
    "# Fill NAs in the ACVpre variable with the values from IctusPre.PSS\n",
    "merged_data$ACVpre[is.na(merged_data$ACVpre)] <- merged_data$IctusPre.PSS[is.na(merged_data$ACVpre)]\n",
    "# Check if there are still NAs in the ACVpre variable and print the Ids\n",
    "list_ACVpre <- merged_data$Id[is.na(merged_data$ACVpre)]\n",
    "print(list_ACVpre)\n",
    "\n",
    "# If ACVpre is 1 it means that the patient hasn't had a stroke, if it is a value different from 1 it means that the patient has had a stroke (not null)\n",
    "merged_data$ACVpre <- ifelse(merged_data$ACVpre == 1, 0,\n",
    "                             ifelse(!is.na(merged_data$ACVpre), 1, merged_data$ACVpre))\n",
    "# We check the different values of the ACVpre variable\n",
    "print(table(merged_data$ACVpre))"
   ]
  },
  {
   "cell_type": "code",
   "execution_count": 35,
   "id": "edf5f736",
   "metadata": {
    "vscode": {
     "languageId": "r"
    }
   },
   "outputs": [
    {
     "name": "stdout",
     "output_type": "stream",
     "text": [
      "[1] 31\n",
      " [1]    7   41   56   76  134  191  192  335  515  607  610  611  640  641  642\n",
      "[16]  643  733  766  773  779  804  880 1009 1838 1841 2084 2092 2100 2112 2298\n",
      "[31] 2364\n",
      "\n",
      "   1    2 \n",
      " 952 1262 \n"
     ]
    }
   ],
   "source": [
    "# HMG - Hemoglobin\n",
    "\n",
    "# Check if the HBpreKT variable has null values\n",
    "print(sum(is.na(merged_data$HBpreKT)))\n",
    "list_HMG <- merged_data$Id[is.na(merged_data$HBpreKT)]\n",
    "print(list_HMG)\n",
    "\n",
    "# We categorize the variable into 2 categories. 1 for normal levels and 2 for non-normal levels.\n",
    "# If Sexo = 1 (woman), normal hemoglobin levels are between 12.1 and 15.1 g/dL\n",
    "# If Sexo = 2 (man), normal hemoglobin levels are between 13.8 and 17.2 g/dL\n",
    "\n",
    "merged_data$Hemoglobin <- 2\n",
    "# Update values for females (Sexo = 1) and normal hemoglobin levels\n",
    "merged_data$Hemoglobin[merged_data$Sexo == 1 &\n",
    "                   merged_data$HBpreKT >= 12.1 &\n",
    "                   merged_data$HBpreKT <= 15.1] <- 1\n",
    "# Update values for males (Sexo = 2) and normal hemoglobin levels\n",
    "merged_data$Hemoglobin[merged_data$Sexo == 2 &\n",
    "                   merged_data$HBpreKT >= 13.8 &\n",
    "                   merged_data$HBpreKT <= 17.2] <- 1\n",
    "# Check the distribution of the Hemoglobin variable\n",
    "print(table(merged_data$Hemoglobin))"
   ]
  },
  {
   "cell_type": "markdown",
   "id": "a32161d2",
   "metadata": {},
   "source": [
    "### Socioeconomic Variables"
   ]
  },
  {
   "cell_type": "code",
   "execution_count": 36,
   "id": "31ed1dda",
   "metadata": {
    "vscode": {
     "languageId": "r"
    }
   },
   "outputs": [
    {
     "name": "stdout",
     "output_type": "stream",
     "text": [
      "[1] 12\n",
      " [1]  305  375  625  733  776 1288 1745 1886 1946 1962 1966 1971\n",
      "\n",
      "   1    2    3    4 \n",
      " 200 1554  225  223 \n",
      "\n",
      "   1    2 \n",
      "1554  648 \n"
     ]
    }
   ],
   "source": [
    "# MS - Marital status\n",
    "\n",
    "# Check if there are null values in the EstadoCivil variable\n",
    "print(sum(is.na(merged_data$EstadoCivil)))\n",
    "\n",
    "# Print the list of Id values of the records that do not have a value in this variable\n",
    "list_estadocivil <- merged_data$Id[is.na(merged_data$EstadoCivil)]\n",
    "print(list_estadocivil)\n",
    "\n",
    "# Check the different values of the EstadoCivil variable\n",
    "print(table(merged_data$EstadoCivil))\n",
    "# 1 single, 2 married, 3 divorced, 4 widowed\n",
    "\n",
    "# # Remove the row with the null value\n",
    "# merged_data <- merged_data[!is.na(merged_data$EstadoCivil), ]\n",
    "\n",
    "# Recategorize EstadoCivil: 1 for married, 2 for single/divorced/widowed\n",
    "merged_data$EstadoCivil <- ifelse(merged_data$EstadoCivil == 2, 1, 2)\n",
    "\n",
    "# Check the new distribution of the EstadoCivil variable\n",
    "print(table(merged_data$EstadoCivil))\n"
   ]
  },
  {
   "cell_type": "code",
   "execution_count": 37,
   "id": "a7732e4e",
   "metadata": {
    "vscode": {
     "languageId": "r"
    }
   },
   "outputs": [
    {
     "name": "stdout",
     "output_type": "stream",
     "text": [
      "[1] 20\n",
      " [1]   54   56  305  375  625  701  733  776  803 1006 1288 1416 1595 1745 1751\n",
      "[16] 1886 1946 1962 1966 1971\n",
      "\n",
      "   1    2    3    4 \n",
      " 307 1871    4   12 \n",
      "\n",
      "   0    1 \n",
      "1887  307 \n"
     ]
    }
   ],
   "source": [
    "# LA - Lives alone\n",
    "\n",
    "# Check if there are null values in the variable ConQuienVive.PSS\n",
    "print(sum(is.na(merged_data$ConQuienVive.PSS)))\n",
    "\n",
    "# Print the list of Id values of the records that do not have a value in this variable\n",
    "list_conquienvive <- merged_data$Id[is.na(merged_data$ConQuienVive.PSS)]\n",
    "print(list_conquienvive)\n",
    "\n",
    "# Check the different values of the ConQuienVive.PSS variable\n",
    "print(table(merged_data$ConQuienVive.PSS))\n",
    "# 1 lives alone, 2 lives with family, 3 lives at residence, 4 other\n",
    "\n",
    "# # Remove the row with the null value\n",
    "# merged_data <- merged_data[!is.na(merged_data$ConQuienVive.PSS), ]\n",
    "\n",
    "# Recategorize ConQuienVive.PSS: 1 for lives alone, 0 for lives with family/at residence/other\n",
    "merged_data$ConQuienVive.PSS <- ifelse(merged_data$ConQuienVive.PSS == 1, 1, 0)\n",
    "\n",
    "# Check the new distribution of the ConQuienVive.PSS variable\n",
    "print(table(merged_data$ConQuienVive.PSS))"
   ]
  },
  {
   "cell_type": "code",
   "execution_count": 38,
   "id": "8912f814",
   "metadata": {
    "vscode": {
     "languageId": "r"
    }
   },
   "outputs": [
    {
     "name": "stdout",
     "output_type": "stream",
     "text": [
      "[1] 25\n",
      " [1]   54   56  305  375  625  733  776  801  930  933  946  947 1071 1126 1228\n",
      "[16] 1238 1256 1288 1595 1745 1886 1946 1962 1966 1971\n",
      "\n",
      "   0    1 \n",
      "  56 2133 \n"
     ]
    }
   ],
   "source": [
    "# SUP - Family support\n",
    "\n",
    "# Check if there are null values in the ApoyoFamiliar variable\n",
    "print(sum(is.na(merged_data$ApoyoFamiliar)))\n",
    "\n",
    "# Print the list of Id values of the records that do not have a value in this variable\n",
    "list_apoyofamiliar <- merged_data$Id[is.na(merged_data$ApoyoFamiliar)]\n",
    "print(list_apoyofamiliar)\n",
    "\n",
    "# Recategorize the values of the ApoyoFamiliar variable\n",
    "merged_data$ApoyoFamiliar <- ifelse(merged_data$ApoyoFamiliar == 1, 0,\n",
    "                                    ifelse(merged_data$ApoyoFamiliar == 2,\n",
    "                                           1, merged_data$ApoyoFamiliar))\n",
    "\n",
    "# Check the different values of the ApoyoFamiliar variable\n",
    "print(table(merged_data$ApoyoFamiliar))\n",
    "# 0 is no support, 1 is yes support\n",
    "\n",
    "# # Remove the row with the null value\n",
    "# merged_data <- merged_data[!is.na(merged_data$ApoyoFamiliar), ]"
   ]
  },
  {
   "cell_type": "code",
   "execution_count": 39,
   "id": "e8928da4",
   "metadata": {
    "vscode": {
     "languageId": "r"
    }
   },
   "outputs": [
    {
     "name": "stdout",
     "output_type": "stream",
     "text": [
      "[1] 12\n",
      " [1]  305  375  625  733  776 1288 1745 1886 1946 1962 1966 1971\n",
      "\n",
      "   1    2 \n",
      "1256  946 \n"
     ]
    }
   ],
   "source": [
    "# RES - Residence\n",
    "\n",
    "# Check if there are null values in the variable LugarResidencia.PSS\n",
    "print(sum(is.na(merged_data$LugarResidencia.PSS)))\n",
    "\n",
    "# Print the list of Id values of the records that do not have a value in this variable\n",
    "list_lugarresidencia <- merged_data$Id[is.na(merged_data$LugarResidencia.PSS)]\n",
    "print(list_lugarresidencia)\n",
    "\n",
    "# Check the different values of the LugarResidencia.PSS variable\n",
    "print(table(merged_data$LugarResidencia.PSS))\n",
    "# 1 rural, 2 urban (>= 2500 inhabitants)"
   ]
  },
  {
   "cell_type": "code",
   "execution_count": 40,
   "id": "3c3e98c4",
   "metadata": {
    "vscode": {
     "languageId": "r"
    }
   },
   "outputs": [
    {
     "name": "stdout",
     "output_type": "stream",
     "text": [
      "[1] 13\n",
      " [1]  305  375  625  733  776 1288 1745 1886 1946 1962 1966 1971 2111\n",
      "\n",
      "   1    2    3    4 \n",
      " 132 1128  581  360 \n",
      "\n",
      "   1    2 \n",
      "1260  954 \n"
     ]
    }
   ],
   "source": [
    "# STU - Studies\n",
    "\n",
    "# Check if there are null values in the variable NivelEstudios.PSS\n",
    "print(sum(is.na(merged_data$NivelEstudios.PSS)))\n",
    "\n",
    "# Print the list of Id values of the records that do not have a value in this variable\n",
    "list_nivelestudios <- merged_data$Id[is.na(merged_data$NivelEstudios.PSS)]\n",
    "print(list_nivelestudios)\n",
    "\n",
    "# Check the different values of the NivelEstudios.PSS variable\n",
    "print(table(merged_data$NivelEstudios.PSS))\n",
    "# 1 no studies, 2 primary, 3 VET, 4 university\n",
    "\n",
    "# Recategorize NivelEstudios.PSS: 1 for no/primary studies, 2 for secondary/university\n",
    "merged_data$NivelEstudios.PSS <- ifelse(merged_data$NivelEstudios.PSS %in% c(1, 2), 1, 2)\n",
    "\n",
    "# Check the new distribution of the NivelEstudios.PSS variable\n",
    "print(table(merged_data$NivelEstudios.PSS))"
   ]
  },
  {
   "cell_type": "code",
   "execution_count": 41,
   "id": "02eaa9a1",
   "metadata": {
    "vscode": {
     "languageId": "r"
    }
   },
   "outputs": [
    {
     "name": "stdout",
     "output_type": "stream",
     "text": [
      "[1] 12\n",
      " [1]  305  375  625  733  776 1288 1745 1886 1946 1962 1966 1971\n",
      "\n",
      "   2    3    4 \n",
      " 639  135 1428 \n",
      "\n",
      "   1    2 \n",
      "1563  651 \n"
     ]
    }
   ],
   "source": [
    "# OCC - Occupation\n",
    "\n",
    "# Check if there are null values in the variable Ocupacion.PSS\n",
    "print(sum(is.na(merged_data$Ocupacion.PSS)))\n",
    "\n",
    "# Print the list of Id values of the records that do not have a value in this variable\n",
    "list_ocupacion <- merged_data$Id[is.na(merged_data$Ocupacion.PSS)]\n",
    "print(list_ocupacion)\n",
    "\n",
    "# Check the different values of the Ocupacion.PSS variable\n",
    "print(table(merged_data$Ocupacion.PSS))\n",
    "# 1 student, 2 active worker, 3 unemployed, 4 retired (there are no students)\n",
    "\n",
    "# Recategorize Ocupacion.PSS: 1 for unemployed/retired, 2 for active worker\n",
    "merged_data$Ocupacion.PSS <- ifelse(merged_data$Ocupacion.PSS %in% c(3, 4), 1, 2)\n",
    "\n",
    "# Check the new distribution of the Ocupacion.PSS variable\n",
    "print(table(merged_data$Ocupacion.PSS))"
   ]
  },
  {
   "cell_type": "code",
   "execution_count": 42,
   "id": "84ae12c2",
   "metadata": {
    "vscode": {
     "languageId": "r"
    }
   },
   "outputs": [
    {
     "name": "stdout",
     "output_type": "stream",
     "text": [
      "[1] 16\n",
      " [1]  305  375  625  733  776 1082 1288 1378 1745 1818 1886 1946 1962 1966 1971\n",
      "[16] 2341\n",
      "\n",
      "   1    2 \n",
      " 681 1517 \n"
     ]
    }
   ],
   "source": [
    "# WT - Type of work\n",
    "\n",
    "# Check if there are null values in the variable TipoTrabajo.PSS\n",
    "print(sum(is.na(merged_data$TipoTrabajo.PSS)))\n",
    "\n",
    "# Print the list of Id values of the records that do not have a value in this variable\n",
    "list_tipotrabajo <- merged_data$Id[is.na(merged_data$TipoTrabajo.PSS)]\n",
    "print(list_tipotrabajo)\n",
    "\n",
    "# Check the different values of the TipoTrabajo.PSS variable\n",
    "print(table(merged_data$TipoTrabajo.PSS))\n",
    "# 1 white collar, 2 blue collar"
   ]
  },
  {
   "cell_type": "code",
   "execution_count": 43,
   "id": "7e6aa799",
   "metadata": {
    "vscode": {
     "languageId": "r"
    }
   },
   "outputs": [
    {
     "name": "stdout",
     "output_type": "stream",
     "text": [
      "[1] 9\n",
      "[1]   23   25  151  233  305  651  733  776 1288\n",
      "\n",
      "   0    1 \n",
      " 776 1429 \n"
     ]
    }
   ],
   "source": [
    "# EX - Exercise\n",
    "\n",
    "# Check if there are null values in the Ejercicio.PSS variable\n",
    "print(sum(is.na(merged_data$Ejercicio.PSS)))\n",
    "\n",
    "# Print the list of Id values of the records that do not have a value in this variable\n",
    "list_ejercicio <- merged_data$Id[is.na(merged_data$Ejercicio.PSS)]\n",
    "print(list_ejercicio)\n",
    "\n",
    "# Recategorize the values of the Ejercicio.PSS variable\n",
    "merged_data$Ejercicio.PSS <- ifelse(merged_data$Ejercicio.PSS == 1, 0,\n",
    "                                    ifelse(merged_data$Ejercicio.PSS == 2,\n",
    "                                           1, merged_data$Ejercicio.PSS))\n",
    "\n",
    "# Check the different values of the Ejercicio.PSS variable\n",
    "print(table(merged_data$Ejercicio.PSS)) # 0 no exercise, 1 yes "
   ]
  },
  {
   "cell_type": "code",
   "execution_count": 44,
   "id": "c9a58b42",
   "metadata": {
    "vscode": {
     "languageId": "r"
    }
   },
   "outputs": [
    {
     "name": "stdout",
     "output_type": "stream",
     "text": [
      "[1] 27\n",
      " [1]   11   14   15   16   23   32   47  109  127  229  230  305  375  578  625\n",
      "[16]  733  776  854 1094 1249 1288 1745 1886 1946 1962 1966 1971\n",
      "\n",
      "   1    2    3 \n",
      " 965 1104  118 \n",
      "\n",
      "   0    1 \n",
      "1222  965 \n"
     ]
    }
   ],
   "source": [
    "# HW - Housework\n",
    "\n",
    "# Check if there are null values in the TareasHogar.PSS variable\n",
    "print(sum(is.na(merged_data$TareasHogar.PSS)))\n",
    "\n",
    "# Print the list of Id values of the records that do not have a value in this variable\n",
    "list_tareashogar <- merged_data$Id[is.na(merged_data$TareasHogar.PSS)]\n",
    "print(list_tareashogar)\n",
    "\n",
    "# Check the different values of the TareasHogar.PSS variable\n",
    "print(table(merged_data$TareasHogar.PSS))\n",
    "# 1 does housework, 2 done by family, 3 done by caretaker\n",
    "\n",
    "# # Remove the row with the null value\n",
    "# merged_data <- merged_data[!is.na(merged_data$TareasHogar.PSS), ]\n",
    "\n",
    "# Recategorize TareasHogar.PSS: 1 for does housework, 0 for does not do housework\n",
    "merged_data$TareasHogar.PSS <- ifelse(merged_data$TareasHogar.PSS == 1, 1, 0)\n",
    "\n",
    "# Check the new distribution of the TareasHogar.PSS variable\n",
    "print(table(merged_data$TareasHogar.PSS))"
   ]
  },
  {
   "cell_type": "code",
   "execution_count": 45,
   "id": "4ac53b85",
   "metadata": {
    "vscode": {
     "languageId": "r"
    }
   },
   "outputs": [
    {
     "name": "stdout",
     "output_type": "stream",
     "text": [
      "[1] 17\n",
      " [1]   38  305  375  625  733  776  939 1249 1288 1332 1745 1886 1946 1962 1966\n",
      "[16] 1971 1976\n",
      "\n",
      "   0    1 \n",
      "1368  829 \n"
     ]
    }
   ],
   "source": [
    "# PET - Pet ownership (¿Tiene mascota?)\n",
    "\n",
    "# Check if there are null values in the ¿Tiene mascota? variable\n",
    "print(sum(is.na(merged_data$'¿Tiene mascota?')))\n",
    "\n",
    "# Print the list of Id values of the records that do not have a value in this variable\n",
    "list_tienemascota <- merged_data$Id[is.na(merged_data$'¿Tiene mascota?')]\n",
    "print(list_tienemascota)\n",
    "\n",
    "# Recategorize ¿Tiene mascota?: 1 for has pet, 0 for does not have pet\n",
    "merged_data$'¿Tiene mascota?' <- ifelse(merged_data$'¿Tiene mascota?' == 1, 0,\n",
    "                                   ifelse(merged_data$'¿Tiene mascota?' == 2,\n",
    "                                          1, merged_data$'¿Tiene mascota?'))\n",
    "\n",
    "# Check the distribution of the ¿Tiene mascota? variable\n",
    "print(table(merged_data$'¿Tiene mascota?')) # 0 no, 1 yes"
   ]
  },
  {
   "cell_type": "code",
   "execution_count": 46,
   "id": "7eeb6fc6",
   "metadata": {
    "vscode": {
     "languageId": "r"
    }
   },
   "outputs": [
    {
     "name": "stdout",
     "output_type": "stream",
     "text": [
      "[1] 16\n",
      " [1]   30  305  375  625  733  776  971 1249 1288 1349 1745 1886 1946 1962 1966\n",
      "[16] 1971\n",
      "\n",
      "  0   1   2   3   4   5   6   7   8  10 \n",
      "303 408 853 403 144  57  19   3   7   1 \n",
      "\n",
      "   0    1 \n",
      " 303 1895 \n"
     ]
    }
   ],
   "source": [
    "# CHI - Children\n",
    "\n",
    "# Check if there are null values in the NHijos.PSS variable\n",
    "print(sum(is.na(merged_data$NHijos.PSS)))\n",
    "\n",
    "# Print the list of Id values of the records that do not have a value in this variable\n",
    "list_nhijos <- merged_data$Id[is.na(merged_data$NHijos.PSS)]\n",
    "print(list_nhijos)\n",
    "\n",
    "# Check the different values of the NHijos.PSS variable\n",
    "print(table(merged_data$NHijos.PSS))\n",
    "\n",
    "# Recategorize NHijos.PSS: 1 for has children, 0 for does not have children\n",
    "merged_data$NHijos.PSS <- ifelse(merged_data$NHijos.PSS == 0, 0, 1)\n",
    "\n",
    "# Check the distribution of the NHijos.PSS variable\n",
    "print(table(merged_data$NHijos.PSS)) # 0 no, 1 yes"
   ]
  },
  {
   "cell_type": "code",
   "execution_count": 47,
   "id": "3191c162",
   "metadata": {
    "vscode": {
     "languageId": "r"
    }
   },
   "outputs": [
    {
     "name": "stdout",
     "output_type": "stream",
     "text": [
      "[1] 28\n",
      " [1]    7    9   30   90  305  375  625  733  776  971  993 1058 1249 1252 1257\n",
      "[16] 1288 1346 1349 1473 1603 1745 1886 1946 1959 1962 1966 1971 2278\n",
      "\n",
      "   0    1    2    3    4    5    6    7    8    9   10   11   12   13   14   15 \n",
      "1027  232  319  193  148  107   57   29   30   18   11    3    4    4    1    2 \n",
      "  29 \n",
      "   1 \n",
      "\n",
      "   0    1 \n",
      "1027 1159 \n"
     ]
    }
   ],
   "source": [
    "# GCHI - Grandchildren\n",
    "\n",
    "# Check if there are null values in the NNietos.PSS variable\n",
    "print(sum(is.na(merged_data$NNietos.PSS)))\n",
    "\n",
    "# Print the list of Id values of the records that do not have a value in this variable\n",
    "list_nnietos <- merged_data$Id[is.na(merged_data$NNietos.PSS)]\n",
    "print(list_nnietos)\n",
    "\n",
    "# Check the different values of the NNietos.PSS variable\n",
    "print(table(merged_data$NNietos.PSS))\n",
    "\n",
    "# Recategorize NNietos.PSS: 1 for has grandchildren, 0 for does not have grandchildren\n",
    "merged_data$NNietos.PSS <- ifelse(merged_data$NNietos.PSS == 0, 0, 1)\n",
    "\n",
    "# Check the distribution of the NNietos.PSS variable\n",
    "print(table(merged_data$NNietos.PSS)) # 0 no, 1 yes"
   ]
  },
  {
   "cell_type": "code",
   "execution_count": 48,
   "id": "bd01acee",
   "metadata": {
    "vscode": {
     "languageId": "r"
    }
   },
   "outputs": [
    {
     "data": {
      "text/plain": [
       "\n",
       "   0    1 \n",
       "1568  646 "
      ]
     },
     "metadata": {},
     "output_type": "display_data"
    }
   ],
   "source": [
    "# SN - Has Social Networks\n",
    "\n",
    "# Create a new variable SocialNetworks: 1 if the patient uses any social network, 0 otherwise\n",
    "merged_data$SocialNetworks <- apply(\n",
    "    merged_data[, c('Facebook.PSS', 'Twitter.PSS', 'Youtube.PSS', 'LinkeDin.PSS', 'Spotify.PSS', 'OtrasRedes.PSS', 'UsaSkype')],\n",
    "    1,\n",
    "    function(x) ifelse(any(x == 1, na.rm = TRUE) | (!is.na(x['OtrasRedes.PSS']) && x['OtrasRedes.PSS'] == 1), 1, 0)\n",
    ")\n",
    "\n",
    "# Check the distribution of the SocialNetworks variable\n",
    "table(merged_data$SocialNetworks) # 0 no, 1 yes"
   ]
  },
  {
   "cell_type": "code",
   "execution_count": 49,
   "id": "326b141e",
   "metadata": {
    "vscode": {
     "languageId": "r"
    }
   },
   "outputs": [
    {
     "name": "stdout",
     "output_type": "stream",
     "text": [
      "[1] 12\n",
      " [1]  305  375  625  776 1028 1288 1745 1886 1946 1962 1966 1971\n",
      "\n",
      "   1    2    3 \n",
      " 216 1344  642 \n",
      "\n",
      "   0    1 \n",
      " 216 1986 \n"
     ]
    }
   ],
   "source": [
    "# MP - Mobile phone use\n",
    "\n",
    "# Check if there are null values in the TelefMovil.PSS variable\n",
    "print(sum(is.na(merged_data$TelefMovil.PSS)))\n",
    "\n",
    "# Print the list of Id values of the records that do not have a value in this variable\n",
    "list_telefmovil <- merged_data$Id[is.na(merged_data$TelefMovil.PSS)]\n",
    "print(list_telefmovil)\n",
    "\n",
    "# Check the different values of the TelefMovil.PSS variable\n",
    "print(table(merged_data$TelefMovil.PSS))\n",
    "# 1 no, 2 smartphone, 3 conventional phone\n",
    "\n",
    "# Recategorize TelefMovil.PSS: 1 for has mobile phone, 0 no\n",
    "merged_data$TelefMovil.PSS <- ifelse(merged_data$TelefMovil.PSS == 1, 0, 1)\n",
    "\n",
    "# Check the new distribution of the TelefMovil.PSS variable\n",
    "print(table(merged_data$TelefMovil.PSS)) # 0 no, 1 yes"
   ]
  },
  {
   "cell_type": "code",
   "execution_count": 50,
   "id": "e6ec7539",
   "metadata": {
    "vscode": {
     "languageId": "r"
    }
   },
   "outputs": [
    {
     "name": "stdout",
     "output_type": "stream",
     "text": [
      "[1] 39\n",
      " [1]   95  101  124  228  234  305  375  385  426  485  486  593  625  636  637\n",
      "[16]  668  698  770  776  841  876  963  977 1028 1094 1131 1179 1222 1288 1351\n",
      "[31] 1745 1886 1946 1962 1966 1971 2195 2235 2422\n",
      "\n",
      "   1    2    3 \n",
      "1489  192  494 \n",
      "\n",
      "   0    1 \n",
      " 494 1681 \n"
     ]
    }
   ],
   "source": [
    "# INT - Access to the Internet / Internet conection\n",
    "\n",
    "# Check if there are null values in the Internet.PSS...258 variable\n",
    "print(sum(is.na(merged_data$Internet.PSS...258)))\n",
    "\n",
    "# Print the list of Id values of the records that do not have a value in this variable\n",
    "list_internet <- merged_data$Id[is.na(merged_data$Internet.PSS...258)]\n",
    "print(list_internet)\n",
    "\n",
    "# Check the different values of the Internet.PSS...258 variable\n",
    "print(table(merged_data$Internet.PSS...258))\n",
    "# 1 home, 2 phone, 3 no internet\n",
    "\n",
    "# Recategorize Internet.PSS...258: 1 for has internet, 0 no\n",
    "merged_data$Internet.PSS...258 <- ifelse(merged_data$Internet.PSS...258 == 3, 0, 1)\n",
    "\n",
    "# Check the new distribution of the Internet.PSS...258 variable\n",
    "print(table(merged_data$Internet.PSS...258)) # 0 no, 1 yes"
   ]
  },
  {
   "cell_type": "code",
   "execution_count": 51,
   "id": "dca56a0d",
   "metadata": {
    "vscode": {
     "languageId": "r"
    }
   },
   "outputs": [
    {
     "name": "stdout",
     "output_type": "stream",
     "text": [
      "\n",
      "   0    1 \n",
      " 903 1311 \n"
     ]
    }
   ],
   "source": [
    "# PC - Has Computer/Tablet/SmartTV\n",
    "\n",
    "# Create a new variable HasComputerTablet: 1 if the patient has any computer/tablet/SmartTV, 0 otherwise\n",
    "pc_vars <- c(\"Tablet.PSS\", \"Ordenador.PSS\", \"Portatil.PSS\", \"SmartTV.PSS\")\n",
    "\n",
    "merged_data$HasComputerTablet <- apply(merged_data[, pc_vars], 1,\n",
    "    function(x) ifelse(any(x == 1, na.rm = TRUE), 1, 0))\n",
    "\n",
    "# Check the distribution of the HasComputerTablet variable\n",
    "print(table(merged_data$HasComputerTablet)) # 0 no, 1 yes"
   ]
  },
  {
   "cell_type": "code",
   "execution_count": 52,
   "id": "f624cb70",
   "metadata": {
    "vscode": {
     "languageId": "r"
    }
   },
   "outputs": [
    {
     "name": "stdout",
     "output_type": "stream",
     "text": [
      "[1] 54\n",
      "\n",
      "    ?     1     2     3     4     5     6 nofar NOFAR  <NA> \n",
      "   16   424  1399   152   108    10    44     2     5    54 \n",
      "\n",
      "   0    1 \n",
      "1790  424 \n"
     ]
    }
   ],
   "source": [
    "# TSI - Health Identification Card (¿free medications?)\n",
    "\n",
    "# Check if there are null values in the TSI variable\n",
    "print(sum(is.na(merged_data$TSI)))\n",
    "\n",
    "# Check the different values of the TSI variable\n",
    "print(table(merged_data$TSI, useNA = \"ifany\"))\n",
    "# 1 exempt to pay medications\n",
    "# 2 Pensioner (<100000€/year) - 10% copay\n",
    "# 3 Active worker (<18000€/year) - 40% copay\n",
    "# 4 Active worker (18000-100000€/year) - 50% copay\n",
    "# 5 Pensioner & Active workers (>100000€/year) - 60% copay\n",
    "# 6 Mutuaists (MUFACE, ISFAS, MUGEJU) - 30% copay\n",
    "# NA, \"nofar\", \"NOFAR\", \"?\" - patients with no TSI meaning no free medications\n",
    "\n",
    "# Recategorize TSI: 1 card for free medications, 0 card for copay\n",
    "merged_data$TSI <- ifelse(\n",
    "  merged_data$TSI == 1, 1,\n",
    "  ifelse(merged_data$TSI %in% c(2, 3, 4, 5, 6, \"nofar\", \"NOFAR\", \"?\"),\n",
    "    0, merged_data$TSI)\n",
    ")\n",
    "merged_data$TSI[is.na(merged_data$TSI)] <- 0\n",
    "merged_data$TSI <- as.numeric(merged_data$TSI)\n",
    "# This recategorization has been done based on the expert's information\n",
    "\n",
    "# Check the new distribution of the TSI variable (free medications)\n",
    "print(table(merged_data$TSI)) # 0 no, 1 yes\n"
   ]
  },
  {
   "cell_type": "markdown",
   "id": "65984213",
   "metadata": {},
   "source": [
    "#### Means of transport"
   ]
  },
  {
   "cell_type": "code",
   "execution_count": 53,
   "id": "13336e89",
   "metadata": {
    "vscode": {
     "languageId": "r"
    }
   },
   "outputs": [
    {
     "name": "stdout",
     "output_type": "stream",
     "text": [
      "Variable: Autobus.PSS \n",
      "[1] 0\n",
      "numeric(0)\n",
      "\n",
      "   0    1 \n",
      "1983  231 \n",
      "\n",
      "Variable: Taxi.PSS \n",
      "[1] 0\n",
      "numeric(0)\n",
      "\n",
      "   0    1 \n",
      "2184   30 \n",
      "\n",
      "Variable: Coche.PSS \n",
      "[1] 0\n",
      "numeric(0)\n",
      "\n",
      "   0    1 \n",
      "1313  901 \n",
      "\n",
      "Variable: Moto.PSS \n",
      "[1] 0\n",
      "numeric(0)\n",
      "\n",
      "   0    1 \n",
      "2143   71 \n",
      "\n",
      "Variable: Bici.PSS...247 \n",
      "[1] 0\n",
      "numeric(0)\n",
      "\n",
      "   0    1 \n",
      "2158   56 \n",
      "\n",
      "Variable: Caminando.PSS \n",
      "[1] 0\n",
      "numeric(0)\n",
      "\n",
      "   0    1 \n",
      " 710 1504 \n",
      "\n",
      "Variable: OtrosVehiculos.PSS\n",
      "\n",
      "            Futbol              metro              Metro    No sale de casa \n",
      "                 1                  1                 14                  1 \n",
      "Patinete eléctrico    silla de ruedas    Silla de ruedas            tractor \n",
      "                 1                  2                  4                  2 \n",
      "           Tractor               tren               Tren \n",
      "                 3                  2                  3 \n"
     ]
    }
   ],
   "source": [
    "# List of means of transport variables to process\n",
    "transport_vars <- c(\n",
    "    \"Autobus.PSS\", \"Taxi.PSS\", \"Coche.PSS\", \"Moto.PSS\",\n",
    "    \"Bici.PSS...247\", \"Caminando.PSS\")\n",
    "\n",
    "for (var in transport_vars) {\n",
    "    # Check for null values\n",
    "    cat(\"Variable:\", var, \"\\n\")\n",
    "    print(sum(is.na(merged_data[[var]])))\n",
    "    \n",
    "    # Print list of Ids with NA\n",
    "    list_na <- merged_data$Id[is.na(merged_data[[var]])]\n",
    "    print(list_na)\n",
    "    \n",
    "    # Print distribution\n",
    "    print(table(merged_data[[var]]))\n",
    "    cat(\"\\n\")\n",
    "}\n",
    "\n",
    "# Check for null values in OtrosVehiculos.PSS\n",
    "cat(\"Variable: OtrosVehiculos.PSS\\n\")\n",
    "# print(merged_data$OtrosVehiculos.PSS[!is.na(merged_data[[\"OtrosVehiculos.PSS\"]])])\n",
    "print(table(merged_data[[\"OtrosVehiculos.PSS\"]]))"
   ]
  },
  {
   "cell_type": "code",
   "execution_count": 54,
   "id": "96c6a3df",
   "metadata": {
    "vscode": {
     "languageId": "r"
    }
   },
   "outputs": [
    {
     "name": "stdout",
     "output_type": "stream",
     "text": [
      "\n",
      "   0    1 \n",
      "1948  266 \n",
      "\n",
      "   0    1 \n",
      "1266  948 \n",
      "\n",
      "   0    1 \n",
      " 692 1522 \n"
     ]
    }
   ],
   "source": [
    "# Create a new variable PublicTransport: 1 if the patient uses any public transport, 0 otherwise \n",
    "# (using the variables Autobus.PSS, Taxi.PSS, OtrosVehiculos.PSS == c(\"Tren\", \"tren\", \"metro\", \"Metro\"))\n",
    "merged_data$PublicTransport <- ifelse(\n",
    "  merged_data$Autobus.PSS == 1 | merged_data$Taxi.PSS == 1 |\n",
    "   merged_data$OtrosVehiculos.PSS %in% c(\"Tren\", \"tren\", \"metro\", \"Metro\"),\n",
    "  1, 0\n",
    ")\n",
    "# Check the distribution of the PublicTransport variable\n",
    "print(table(merged_data$PublicTransport)) # 0 no, 1 yes\n",
    "\n",
    "# Create a new variable PrivateTransport: 1 if the patient uses any private transport, 0 otherwise\n",
    "# (using the variables Coche.PSS, Moto.PSS, OtrosVehiculos.PSS == c(\"Tractor\", \"tractor\", \"Patinete eléctrico\", \"silla de ruedas\", \"Silla de ruedas\"))\n",
    "merged_data$PrivateTransport <- ifelse(\n",
    "  merged_data$Coche.PSS == 1 | merged_data$Moto.PSS == 1 | \n",
    "   merged_data$OtrosVehiculos.PSS %in% c(\"Tractor\",\"tractor\",\"Patinete eléctrico\",\"silla de ruedas\",\"Silla de ruedas\"),\n",
    "  1, 0\n",
    ")\n",
    "# Check the distribution of the PrivateTransport variable\n",
    "print(table(merged_data$PrivateTransport)) # 0 no, 1 yes\n",
    "\n",
    "# Create a new variable ActiveTransport: 1 if the patient uses any active transport, 0 otherwise\n",
    "merged_data$ActiveTransport <- ifelse(\n",
    "  merged_data$Bici.PSS...247 == 1 | merged_data$Caminando.PSS == 1,\n",
    "  1, 0\n",
    ")\n",
    "# Check the distribution of the ActiveTransport variable\n",
    "print(table(merged_data$ActiveTransport)) # 0 no, 1 yes"
   ]
  },
  {
   "cell_type": "markdown",
   "id": "886e6e29",
   "metadata": {},
   "source": [
    "#### Hobbies"
   ]
  },
  {
   "cell_type": "code",
   "execution_count": 55,
   "id": "03679d46",
   "metadata": {
    "vscode": {
     "languageId": "r"
    }
   },
   "outputs": [
    {
     "name": "stdout",
     "output_type": "stream",
     "text": [
      "\n",
      "   0    1 \n",
      "  20 2194 \n"
     ]
    }
   ],
   "source": [
    "# HOB - Has hobbies\n",
    "\n",
    "# Create a new variable HasHobbies: 1 if the patient has any hobby, 0 otherwise\n",
    "hobby_vars <- c(\n",
    "    \"Familia.Aficc.PSS\", \"TV.Aficc.PSS\", \"Amigos.Aficc.PSS\", \"Musica.Aficc.PSS\",\n",
    "    \"Lectura.Aficc.PSS\", \"Radio.Aficc.PSS\", \"Compras.Aficc.PSS\", \"Cine.Aficc.PSS\",\n",
    "    \"Campo.Aficc.PSS\", \"VerDeportes.Aficc.PSS\", \"Bailar.Aficc.PSS\", \"Cultura.Aficc.PSS\",\n",
    "    \"SalirComer.Aficc.PSS\", \"Pub.Aficc.PSS\", \"Otros.Aficc.PSS\"\n",
    ")\n",
    "\n",
    "merged_data$HasHobbies <- apply(\n",
    "    merged_data[, hobby_vars],\n",
    "    1,\n",
    "    function(x) ifelse(any(x == 1, na.rm = TRUE), 1, 0)\n",
    ")\n",
    "\n",
    "# Check the distribution of the HasHobbies variable\n",
    "print(table(merged_data$HasHobbies)) # 0 no, 1 yes\n",
    "\n",
    "# This synthetic variable is not balanced (20 no vs 2216 yes) thus will not be used."
   ]
  },
  {
   "cell_type": "code",
   "execution_count": 56,
   "id": "2968eb98",
   "metadata": {
    "vscode": {
     "languageId": "r"
    }
   },
   "outputs": [
    {
     "name": "stdout",
     "output_type": "stream",
     "text": [
      "Variable: Familia.Aficc.PSS \n",
      "[1] 0\n",
      "numeric(0)\n",
      "\n",
      "   0    1 \n",
      " 140 2074 \n",
      "\n",
      "Variable: TV.Aficc.PSS \n",
      "[1] 0\n",
      "numeric(0)\n",
      "\n",
      "   0    1 \n",
      " 537 1677 \n",
      "\n",
      "Variable: Amigos.Aficc.PSS \n",
      "[1] 0\n",
      "numeric(0)\n",
      "\n",
      "   0    1 \n",
      " 698 1516 \n",
      "\n",
      "Variable: Musica.Aficc.PSS \n",
      "[1] 0\n",
      "numeric(0)\n",
      "\n",
      "   0    1 \n",
      " 830 1384 \n",
      "\n",
      "Variable: Lectura.Aficc.PSS \n",
      "[1] 0\n",
      "numeric(0)\n",
      "\n",
      "   0    1 \n",
      "1229  985 \n",
      "\n",
      "Variable: Radio.Aficc.PSS \n",
      "[1] 0\n",
      "numeric(0)\n",
      "\n",
      "   0    1 \n",
      " 899 1315 \n",
      "\n",
      "Variable: Compras.Aficc.PSS \n",
      "[1] 0\n",
      "numeric(0)\n",
      "\n",
      "   0    1 \n",
      "1332  882 \n",
      "\n",
      "Variable: Cine.Aficc.PSS \n",
      "[1] 0\n",
      "numeric(0)\n",
      "\n",
      "   0    1 \n",
      "1684  530 \n",
      "\n",
      "Variable: Campo.Aficc.PSS \n",
      "[1] 0\n",
      "numeric(0)\n",
      "\n",
      "   0    1 \n",
      "1067 1147 \n",
      "\n",
      "Variable: VerDeportes.Aficc.PSS \n",
      "[1] 0\n",
      "numeric(0)\n",
      "\n",
      "   0    1 \n",
      " 810 1404 \n",
      "\n",
      "Variable: Bailar.Aficc.PSS \n",
      "[1] 0\n",
      "numeric(0)\n",
      "\n",
      "   0    1 \n",
      "1752  462 \n",
      "\n",
      "Variable: Cultura.Aficc.PSS \n",
      "[1] 0\n",
      "numeric(0)\n",
      "\n",
      "   0    1 \n",
      "1534  680 \n",
      "\n",
      "Variable: SalirComer.Aficc.PSS \n",
      "[1] 0\n",
      "numeric(0)\n",
      "\n",
      "   0    1 \n",
      " 739 1475 \n",
      "\n",
      "Variable: Pub.Aficc.PSS \n",
      "[1] 0\n",
      "numeric(0)\n",
      "\n",
      "   0    1 \n",
      "2076  138 \n",
      "\n",
      "Variable: Otros.Aficc.PSS\n",
      "[1] 1901\n",
      "\n",
      "                            aeromodelismo \n",
      "                                        1 \n",
      "                            Aeromodelista \n",
      "                                        1 \n",
      "                                  Ajedrez \n",
      "                                        1 \n",
      "                                     arte \n",
      "                                        1 \n",
      "                                Atletismo \n",
      "                                        1 \n",
      "                               Baloncesto \n",
      "                                        1 \n",
      "                      Baloncesto y pescar \n",
      "                                        1 \n",
      "                                     bici \n",
      "                                        1 \n",
      "                                bicicleta \n",
      "                                        1 \n",
      "                        Boleibol y pescar \n",
      "                                        1 \n",
      "                                    bolos \n",
      "                                        3 \n",
      "                                    Bolos \n",
      "                                        6 \n",
      "                                  Bouling \n",
      "                                        1 \n",
      "                                  Bowling \n",
      "                                        1 \n",
      "                                    boxeo \n",
      "                                        1 \n",
      "                                Bricolage \n",
      "                                        1 \n",
      "                      Bricolage y pintura \n",
      "                                        1 \n",
      "                                   bridge \n",
      "                                        1 \n",
      "                                 caballos \n",
      "                                        1 \n",
      "                                  caminar \n",
      "                                        1 \n",
      "                                   cantar \n",
      "                                        1 \n",
      "                                   Cantar \n",
      "                                        2 \n",
      "                          Cantar en coros \n",
      "                                        1 \n",
      "                 Cantar en coros,escribir \n",
      "                                        1 \n",
      "                        cantar en un coro \n",
      "                                        1 \n",
      "                              Carpinteria \n",
      "                                        1 \n",
      "                        Carrera de coches \n",
      "                                        1 \n",
      "               Carreras de coches y motos \n",
      "                                        1 \n",
      "                                     caza \n",
      "                                        5 \n",
      "                                     Caza \n",
      "                                        4 \n",
      "                    Caza y montar en bici \n",
      "                                        1 \n",
      "                             Caza y pesca \n",
      "                                        7 \n",
      "                      ceramista, guitarra \n",
      "                                        1 \n",
      "                                 Ciclismo \n",
      "                                        5 \n",
      "                           ciencia oculta \n",
      "                                        1 \n",
      "                                   coches \n",
      "                                        1 \n",
      "                                   Cocina \n",
      "                                        2 \n",
      "                                  Cocinar \n",
      "                                        4 \n",
      "                         Colección música \n",
      "                                        1 \n",
      "              Coleccionismo y tauromaquia \n",
      "                                        1 \n",
      "                                     Coro \n",
      "                                        2 \n",
      "                                    Coser \n",
      "                                        3 \n",
      "                              Coser,tejer \n",
      "                                        1 \n",
      "                         Cría de canarios \n",
      "                                        1 \n",
      "                              Crucigramas \n",
      "                                        7 \n",
      "                      Crucigramas y coser \n",
      "                                        1 \n",
      "                                 el campo \n",
      "                                        1 \n",
      "                                 Escribir \n",
      "                                        6 \n",
      "                          Escribir poesia \n",
      "                                        1 \n",
      "                        Escribir y pintar \n",
      "                                        1 \n",
      "                                  Esquiar \n",
      "                                        2 \n",
      "                    Esquiar e ir en moto. \n",
      "                                        1 \n",
      "                           Esquiar y vela \n",
      "                                        1 \n",
      "                             Esquiar,vela \n",
      "                                        1 \n",
      "                                   Flores \n",
      "                                        2 \n",
      "                               fotografia \n",
      "                                        5 \n",
      "                               Fotografia \n",
      "                                        4 \n",
      "                        Fotografia y arte \n",
      "                                        1 \n",
      "                                   Futbol \n",
      "                                        6 \n",
      "                    Futbol sala, taekondo \n",
      "                                        1 \n",
      "                Futbol, canatr en el coro \n",
      "                                        1 \n",
      "                                Ganaderia \n",
      "                                        1 \n",
      "                                ganchillo \n",
      "                                        1 \n",
      "                                     golf \n",
      "                                        2 \n",
      "                                     Golf \n",
      "                                        8 \n",
      "                             Golf y bolos \n",
      "                                        1 \n",
      "                                 guitarra \n",
      "                                        1 \n",
      "                                 Guitarra \n",
      "                                        2 \n",
      "                            Hacer deporte \n",
      "                                        1 \n",
      "           Hacer instrumentos artesanales \n",
      "                                        1 \n",
      "                              Hacer punto \n",
      "                                        4 \n",
      "                     Hacer sopa de letras \n",
      "                                        1 \n",
      "                                   huerta \n",
      "                                        1 \n",
      "                                   Huerta \n",
      "                                        7 \n",
      "                        Huerta,caza,pesca \n",
      "                                        1 \n",
      "                              Informática \n",
      "                                        2 \n",
      "                                Ir a misa \n",
      "                                        1 \n",
      "                              Ir al monte \n",
      "                                        2 \n",
      "                               ir en moto \n",
      "                                        1 \n",
      "                                   jardin \n",
      "                                        1 \n",
      "                       Jugar a las cartas \n",
      "                                        4 \n",
      "                        Jugar a los bolos \n",
      "                                        1 \n",
      "                          Jugar las palas \n",
      "                                        1 \n",
      "                               La costura \n",
      "                                        1 \n",
      "                            La naturaleza \n",
      "                                        1 \n",
      "                                 La playa \n",
      "                                        1 \n",
      "                              La zarzuela \n",
      "                                        1 \n",
      "                               Las Cartas \n",
      "                                        1 \n",
      "                               Las flores \n",
      "                                        1 \n",
      "                    Las setas y la huerta \n",
      "                                        1 \n",
      "                             los caballos \n",
      "                                        1 \n",
      "                               Los coches \n",
      "                                        1 \n",
      "                             manualidades \n",
      "                                        2 \n",
      "                             Manualidades \n",
      "                                        1 \n",
      "                     Manualidades y cazar \n",
      "                                        1 \n",
      "                     Manualidades y pesca \n",
      "                                        1 \n",
      "                    Manualidades y viajar \n",
      "                                        1 \n",
      "manualidades, restaurar,tocar la guitarra \n",
      "                                        1 \n",
      "                              Marqueteria \n",
      "                                        1 \n",
      "                                 Mecánica \n",
      "                                        1 \n",
      "                                micología \n",
      "                                        1 \n",
      "                                Modelismo \n",
      "                                        1 \n",
      "                                Modelista \n",
      "                                        1 \n",
      "                                  Montaña \n",
      "                                        2 \n",
      "                         Montar a caballo \n",
      "                                        1 \n",
      "                           Montar en bici \n",
      "                                        1 \n",
      "                                     moto \n",
      "                                        1 \n",
      "                             Motociclismo \n",
      "                                        1 \n",
      "                                    motos \n",
      "                                        4 \n",
      "                                    Motos \n",
      "                                        4 \n",
      "                           Motos y coches \n",
      "                                        1 \n",
      "                                    nadar \n",
      "                                        1 \n",
      "                                    Nadar \n",
      "                                        1 \n",
      "                               Naturaleza \n",
      "                                        1 \n",
      "                                  Nautica \n",
      "                                        1 \n",
      "                                    opera \n",
      "                                        1 \n",
      "                                ordenador \n",
      "                                        1 \n",
      "                                Ordenador \n",
      "                                        2 \n",
      "                                    Padel \n",
      "                                        3 \n",
      "                          Parchis y bingo \n",
      "                                        1 \n",
      "                              Pasatiempos \n",
      "                                        1 \n",
      "                                   Pasear \n",
      "                                        1 \n",
      "                                  Patinar \n",
      "                                        1 \n",
      "                                    pesca \n",
      "                                        7 \n",
      "                                    Pesca \n",
      "                                       18 \n",
      "                          Pesca submarina \n",
      "                                        1 \n",
      "                      Pesca y agricultura \n",
      "                                        1 \n",
      "                        Pesca y bricolage \n",
      "                                        1 \n",
      "                           pesca y cantar \n",
      "                                        1 \n",
      "                             Pesca y caza \n",
      "                                        2 \n",
      "                     pesca y manualidades \n",
      "                                        1 \n",
      "                            Pesca y monte \n",
      "                                        1 \n",
      "                            Pesca y motos \n",
      "                                        1 \n",
      "                                   pescar \n",
      "                                        2 \n",
      "                                   Pescar \n",
      "                                        6 \n",
      "                                  Petanca \n",
      "                                        1 \n",
      "                                   Pintar \n",
      "                                        2 \n",
      "                    Pintar y manualidades \n",
      "                                        1 \n",
      "                            pintar,cartas \n",
      "                                        1 \n",
      "                                  Pintura \n",
      "                                        1 \n",
      "                                    Playa \n",
      "                                        1 \n",
      "                                 Quiniela \n",
      "                                        1 \n",
      "                          Radioaficionado \n",
      "                                        1 \n",
      "                               Rugby,caza \n",
      "                                        1 \n",
      "                               senderismo \n",
      "                                        3 \n",
      "                               Senderismo \n",
      "                                        5 \n",
      "                          Sodokus, cantar \n",
      "                                        1 \n",
      "                           Sopa de letras \n",
      "                                        1 \n",
      "                   Sopa de letras y coser \n",
      "                                        1 \n",
      "                             Submarinismo \n",
      "                                        1 \n",
      "                                  sudokus \n",
      "                                        1 \n",
      "                                     Surf \n",
      "                                        2 \n",
      "                            Tallar madera \n",
      "                                        1 \n",
      "                        Taller de memoria \n",
      "                                        1 \n",
      "                                   Teatro \n",
      "                                        1 \n",
      "                            Tiro con arco \n",
      "                                        1 \n",
      "                           Tocar el piano \n",
      "                                        1 \n",
      "                        Tocar la guitarra \n",
      "                                        3 \n",
      "        Todo lo relacionado con el motor. \n",
      "                                        1 \n",
      "                                    toros \n",
      "                                        3 \n",
      "                                    Toros \n",
      "                                        4 \n",
      "                            Toros y boxeo \n",
      "                                        1 \n",
      "                                 Trabajar \n",
      "                                        3 \n",
      "                    Tricotar y fotografia \n",
      "                                        1 \n",
      "                   Vela y pesca submarina \n",
      "                                        1 \n",
      "                                   Viajar \n",
      "                                        6 \n",
      "                             videoconsola \n",
      "                                        1 \n",
      "                              videojuegos \n",
      "                                        1 \n",
      "                              Videojuegos \n",
      "                                        1 \n",
      "                                     yoga \n",
      "                                        1 \n",
      "\n"
     ]
    }
   ],
   "source": [
    "# List of hobby variables to process\n",
    "hobby_vars <- c(\n",
    "    \"Familia.Aficc.PSS\", \"TV.Aficc.PSS\", \"Amigos.Aficc.PSS\", \"Musica.Aficc.PSS\",\n",
    "    \"Lectura.Aficc.PSS\", \"Radio.Aficc.PSS\", \"Compras.Aficc.PSS\", \"Cine.Aficc.PSS\",\n",
    "    \"Campo.Aficc.PSS\", \"VerDeportes.Aficc.PSS\", \"Bailar.Aficc.PSS\", \"Cultura.Aficc.PSS\",\n",
    "    \"SalirComer.Aficc.PSS\", \"Pub.Aficc.PSS\")\n",
    "\n",
    "for (var in hobby_vars) {\n",
    "    # Check for null values\n",
    "    cat(\"Variable:\", var, \"\\n\")\n",
    "    print(sum(is.na(merged_data[[var]])))\n",
    "    \n",
    "    # Print list of Ids with NA\n",
    "    list_na <- merged_data$Id[is.na(merged_data[[var]])]\n",
    "    print(list_na)\n",
    "    \n",
    "    # Print distribution\n",
    "    print(table(merged_data[[var]]))\n",
    "    cat(\"\\n\")\n",
    "}\n",
    "\n",
    "# Check for null values\n",
    "cat(\"Variable: Otros.Aficc.PSS\\n\")\n",
    "print(sum(is.na(merged_data[[\"Otros.Aficc.PSS\"]])))\n",
    "\n",
    "# Recategorize the values of Otros.Aficc.PSS, if NA then 0, if not then 1\n",
    "# merged_data[[\"Otros.Aficc.PSS\"]] <- ifelse(is.na(merged_data[[\"Otros.Aficc.PSS\"]]), 0, 1)\n",
    "\n",
    "# Print distribution\n",
    "print(table(merged_data[[\"Otros.Aficc.PSS\"]]))\n",
    "cat(\"\\n\")"
   ]
  },
  {
   "cell_type": "code",
   "execution_count": 57,
   "id": "7f9e8249",
   "metadata": {
    "vscode": {
     "languageId": "r"
    }
   },
   "outputs": [
    {
     "name": "stdout",
     "output_type": "stream",
     "text": [
      "\n",
      "   0    1 \n",
      "  52 2162 \n",
      "\n",
      "   0    1 \n",
      "  93 2121 \n",
      "\n",
      "   0    1 \n",
      " 516 1698 \n",
      "\n",
      "   0    1 \n",
      " 889 1325 \n"
     ]
    }
   ],
   "source": [
    "# Create a new variable SocialHobbies: 1 if the patient has any social hobby, 0 otherwise\n",
    "# Using the variables Familia.Aficc.PSS, Amigos.Aficc.PSS, Pub.Aficc.PSS, Compras.Aficc.PSS, SalirComer.Aficc.PSS\n",
    "# and Otros.Aficc.PSS == \"Cantar en coros\", \"Cantar en un coro\", \"Coro\", \"Ir a misa\", \"Jugar a las cartas\", \"Jugar las palas\", \"Las Cartas\", \"Parchis y bingo\"\n",
    "merged_data$SocialHobbies <- as.integer(\n",
    "    merged_data$Familia.Aficc.PSS == 1 |\n",
    "    merged_data$Amigos.Aficc.PSS == 1 |\n",
    "    merged_data$Pub.Aficc.PSS == 1 |\n",
    "    merged_data$Compras.Aficc.PSS == 1 |\n",
    "    merged_data$SalirComer.Aficc.PSS == 1 |\n",
    "    (!is.na(merged_data$Otros.Aficc.PSS) & (\n",
    "        grepl(\"Coro|Ir a misa|Jugar a las cartas|Jugar las palas|Las Cartas|Parchis y bingo\", \n",
    "              merged_data$Otros.Aficc.PSS, ignore.case = TRUE)\n",
    "    ))\n",
    ")\n",
    "print(table(merged_data$SocialHobbies))\n",
    "\n",
    "# Create a new variable TechEntertainmentHobbies: 1 if the patient has any tech/entertainment hobby, 0 otherwise\n",
    "# Using variables TV.Aficc.PSS, Cine.Aficc.PSS, VerDeportes.Aficc.PSS, Radio.Aficc.PSS\n",
    "# and Otros.Aficc.PSS containing keywords related to tech/entertainment hobbies\n",
    "merged_data$TechEntertainmentHobbies <- as.integer(\n",
    "    merged_data$TV.Aficc.PSS == 1 |\n",
    "    merged_data$Cine.Aficc.PSS == 1 |\n",
    "    merged_data$VerDeportes.Aficc.PSS == 1 |\n",
    "    merged_data$Radio.Aficc.PSS == 1 |\n",
    "    (!is.na(merged_data$Otros.Aficc.PSS) & (\n",
    "        grepl(\n",
    "            \"Videojuegos|videojuegos|videoconsola|Ordenador|Informática|Radioaficionado|motor|Quiniela|Pasatiempos|Sudokus|Crucigramas|Sopas de letras|Sopa de letras|sopa de letras|coser|Sodokus|hacer sopa de letras\",\n",
    "            merged_data$Otros.Aficc.PSS, ignore.case = TRUE\n",
    "        )\n",
    "    ))\n",
    ")\n",
    "print(table(merged_data$TechEntertainmentHobbies))\n",
    "\n",
    "# Create a new variable CulturalCreativeHobbies: 1 if the patient has any cultural/creative hobby, 0 otherwise\n",
    "# Using variables Lectura.Aficc.PSS, Musica.Aficc.PSS, Cultura.Aficc.PSS, and Otros.Aficc.PSS containing relevant keywords\n",
    "merged_data$CulturalCreativeHobbies <- as.integer(\n",
    "    merged_data$Lectura.Aficc.PSS == 1 |\n",
    "    merged_data$Musica.Aficc.PSS == 1 |\n",
    "    merged_data$Cultura.Aficc.PSS == 1 |\n",
    "    (!is.na(merged_data$Otros.Aficc.PSS) & (\n",
    "        grepl(\n",
    "            paste(\n",
    "                c(\n",
    "                    \"Cantar\", \"Cantar en coros\", \"Cantar en un coro\", \"Coro\", \"Escribir\", \"Escribir poesía\",\n",
    "                    \"Pintura\", \"Pintar\", \"Arte\", \"Teatro\", \"Ópera\", \"Zarzuela\", \"Fotografía\", \"Manualidades\",\n",
    "                    \"Coser\", \"Tejer\", \"Hacer punto\", \"Ganchillo\", \"Tricotar\", \"Carpintería\", \"Marquetería\",\n",
    "                    \"Bricolaje\", \"Cocina\", \"Cocinar\", \"Modelismo\", \"Aeromodelismo\", \"Cerámica\", \"Cría de canarios\",\n",
    "                    \"Ciencia oculta\", \"Restaurar\", \"Hacer instrumentos artesanales\", \"Micología\", \"Taller de memoria\",\n",
    "                    \"Tocar el piano\", \"Tocar guitarra\", \"Coleccionismo\", \"La zarzuela\", \"manualidades y viajar\",\n",
    "                    \"pintar\", \"cartas\"\n",
    "                ),\n",
    "                collapse = \"|\"\n",
    "            ),\n",
    "            merged_data$Otros.Aficc.PSS, ignore.case = TRUE\n",
    "        )\n",
    "    ))\n",
    ")\n",
    "print(table(merged_data$CulturalCreativeHobbies))\n",
    "\n",
    "# Create a new variable ExerciseNatureHobbies: 1 if the patient has any exercise/nature/outdoor hobby, 0 otherwise\n",
    "# Using Bailar.Aficc.PSS and Otros.Aficc.PSS containing relevant keywords\n",
    "exercise_nature_keywords <- paste(\n",
    "    c(\"Senderismo\", \"Montaña\", \"Campo\", \"Pasear\", \"monte\",\n",
    "      \"Jardin\", \"Huerta\", \"Flores\", \"Agricultura\", \"Vela\",\n",
    "      \"Pesca\", \"Caza\",  \"Montar\", \"Caballos\", \"Golf\",\n",
    "      \"Bici\", \"Ciclismo\", \"Atletismo\", \"Baloncesto\", \"Futbol\",\n",
    "      \"Bolos\", \"Bowling\", \"Bouling\", \"Moto\", \"Coche\",\n",
    "      \"Surf\", \"Nadar\", \"Patinar\", \"Yoga\", \"arco\", \"Rugby\",\n",
    "      \"Submarinismo\", \"Nautica\", \"Modelismo\", \"Ganadería\"),\n",
    "    collapse = \"|\"\n",
    ")\n",
    "\n",
    "merged_data$ExerciseNatureHobbies <- as.integer(\n",
    "    merged_data$Bailar.Aficc.PSS == 1 |\n",
    "    merged_data$Campo.Aficc.PSS == 1 |\n",
    "    (!is.na(merged_data$Otros.Aficc.PSS) & grepl(exercise_nature_keywords, merged_data$Otros.Aficc.PSS, ignore.case = TRUE))\n",
    ")\n",
    "print(table(merged_data$ExerciseNatureHobbies))"
   ]
  },
  {
   "cell_type": "markdown",
   "id": "92550e2d",
   "metadata": {},
   "source": [
    "### Income merge"
   ]
  },
  {
   "cell_type": "code",
   "execution_count": 58,
   "id": "31a330ed",
   "metadata": {
    "vscode": {
     "languageId": "r"
    }
   },
   "outputs": [],
   "source": [
    "# The CP variable cotains various values that are not correct\n",
    "# Using the knowledge of the experts and the list of postal codes\n",
    "# the wrong values are replaced with the correct ones\n",
    "merged_data$CP[merged_data$Id == 1679] <- \"39700\"\n",
    "merged_data$CP[merged_data$Id == 1647] <- \"39540\"\n",
    "merged_data$CP[merged_data$Id == 1578] <- \"39788\"\n",
    "merged_data$CP[merged_data$Id == 1683] <- \"39696\"\n",
    "merged_data$CP[merged_data$Id == 1631] <- \"39740\"\n",
    "merged_data$CP[merged_data$Id == 1781] <- \"39792\"\n",
    "merged_data$CP[merged_data$Id == 1726] <- \"39809\"\n",
    "merged_data$CP[merged_data$Id == 972]  <- \"39400\"\n",
    "merged_data$CP[merged_data$Id == 855]  <- \"39815\"\n",
    "merged_data$CP[merged_data$Id == 113]  <- \"39815\"\n",
    "merged_data$CP[merged_data$Id == 769]  <- \"39808\"\n",
    "merged_data$CP[merged_data$Id == 636]  <- \"39722\"\n",
    "merged_data$CP[merged_data$Id == 519]  <- \"39764\"\n",
    "merged_data$CP[merged_data$Id == 981]  <- \"39707\"\n",
    "merged_data$CP[merged_data$Id == 2012] <- \"39707\"\n",
    "merged_data$CP[merged_data$Id == 341]  <- \"39690\"\n",
    "merged_data$CP[merged_data$Id == 2007] <- \"39627\"\n",
    "merged_data$CP[merged_data$Id == 2200] <- \"39577\"\n",
    "merged_data$CP[merged_data$Id == 331]  <- \"39513\"\n",
    "merged_data$CP[merged_data$Id == 1953] <- \"39513\"\n",
    "merged_data$CP[merged_data$Id == 566]  <- \"39507\"\n",
    "merged_data$CP[merged_data$Id == 1163] <- \"39610\"\n",
    "merged_data$CP[merged_data$Id == 430]  <- \"39610\"\n",
    "merged_data$CP[merged_data$Id == 1210] <- \"39610\"\n",
    "merged_data$CP[merged_data$Id == 6]    <- \"39610\"\n",
    "merged_data$CP[merged_data$Id == 1706] <- \"39477\"\n",
    "merged_data$CP[merged_data$Id == 1383] <- \"39438\"\n",
    "merged_data$CP[merged_data$Id == 1508] <- \"39696\"\n",
    "merged_data$CP[merged_data$Id == 1638] <- \"39310\"\n",
    "merged_data$CP[merged_data$Id == 1980] <- \"39538\"\n",
    "merged_data$CP[merged_data$Id == 2360] <- \"39300\"\n",
    "merged_data$CP[merged_data$Id == 2383] <- \"39300\"\n",
    "merged_data$CP[merged_data$Id == 1504] <- \"39300\"\n",
    "merged_data$CP[merged_data$Id == 2330] <- \"39300\"\n",
    "merged_data$CP[merged_data$Id == 2134] <- \"39300\"\n",
    "merged_data$CP[merged_data$Id == 2319] <- \"39300\"\n",
    "merged_data$CP[merged_data$Id == 695]  <- \"39300\"\n",
    "merged_data$CP[merged_data$Id == 2377] <- \"39300\"\n",
    "merged_data$CP[merged_data$Id == 1348] <- \"39300\"\n",
    "merged_data$CP[merged_data$Id == 1971] <- \"39300\"\n",
    "merged_data$CP[merged_data$Id == 1078] <- \"39300\"\n",
    "merged_data$CP[merged_data$Id == 757]  <- \"39300\"\n",
    "merged_data$CP[merged_data$Id == 12]   <- \"39300\"\n",
    "merged_data$CP[merged_data$Id == 1519] <- \"39200\"\n",
    "merged_data$CP[merged_data$Id == 976]  <- \"39294\"\n",
    "merged_data$CP[merged_data$Id == 1977] <- \"39340\"\n",
    "merged_data$CP[merged_data$Id == 2195] <- \"39212\"\n",
    "merged_data$CP[merged_data$Id == 1273] <- \"39193\"\n",
    "merged_data$CP[merged_data$Id == 1298] <- \"39210\"\n",
    "merged_data$CP[merged_data$Id == 391]  <- \"39160\"\n",
    "merged_data$CP[merged_data$Id == 762]  <- \"39212\"\n",
    "merged_data$CP[merged_data$Id == 1607] <- \"39012\"\n",
    "merged_data$CP[merged_data$Id == 336]  <- \"39011\"\n",
    "merged_data$CP[merged_data$Id == 1658] <- \"39478\"\n",
    "merged_data$CP[merged_data$Id == 938]  <- \"20870\""
   ]
  },
  {
   "cell_type": "code",
   "execution_count": 59,
   "id": "102c234f",
   "metadata": {
    "vscode": {
     "languageId": "r"
    }
   },
   "outputs": [
    {
     "data": {
      "text/html": [
       "<table class=\"dataframe\">\n",
       "<caption>A data.frame: 6 × 2</caption>\n",
       "<thead>\n",
       "\t<tr><th></th><th scope=col>Id</th><th scope=col>CP</th></tr>\n",
       "\t<tr><th></th><th scope=col>&lt;dbl&gt;</th><th scope=col>&lt;chr&gt;</th></tr>\n",
       "</thead>\n",
       "<tbody>\n",
       "\t<tr><th scope=row>1</th><td>1</td><td>39409</td></tr>\n",
       "\t<tr><th scope=row>2</th><td>2</td><td>39608</td></tr>\n",
       "\t<tr><th scope=row>3</th><td>3</td><td>39770</td></tr>\n",
       "\t<tr><th scope=row>4</th><td>4</td><td>39400</td></tr>\n",
       "\t<tr><th scope=row>5</th><td>5</td><td>39600</td></tr>\n",
       "\t<tr><th scope=row>6</th><td>6</td><td>39610</td></tr>\n",
       "</tbody>\n",
       "</table>\n"
      ],
      "text/latex": [
       "A data.frame: 6 × 2\n",
       "\\begin{tabular}{r|ll}\n",
       "  & Id & CP\\\\\n",
       "  & <dbl> & <chr>\\\\\n",
       "\\hline\n",
       "\t1 & 1 & 39409\\\\\n",
       "\t2 & 2 & 39608\\\\\n",
       "\t3 & 3 & 39770\\\\\n",
       "\t4 & 4 & 39400\\\\\n",
       "\t5 & 5 & 39600\\\\\n",
       "\t6 & 6 & 39610\\\\\n",
       "\\end{tabular}\n"
      ],
      "text/markdown": [
       "\n",
       "A data.frame: 6 × 2\n",
       "\n",
       "| <!--/--> | Id &lt;dbl&gt; | CP &lt;chr&gt; |\n",
       "|---|---|---|\n",
       "| 1 | 1 | 39409 |\n",
       "| 2 | 2 | 39608 |\n",
       "| 3 | 3 | 39770 |\n",
       "| 4 | 4 | 39400 |\n",
       "| 5 | 5 | 39600 |\n",
       "| 6 | 6 | 39610 |\n",
       "\n"
      ],
      "text/plain": [
       "  Id CP   \n",
       "1 1  39409\n",
       "2 2  39608\n",
       "3 3  39770\n",
       "4 4  39400\n",
       "5 5  39600\n",
       "6 6  39610"
      ]
     },
     "metadata": {},
     "output_type": "display_data"
    }
   ],
   "source": [
    "# We extract the CP (Postal Code) variable from the merged data\n",
    "cp <- data.frame(Id = merged_data$Id, CP = merged_data$CP)\n",
    "head(cp)"
   ]
  },
  {
   "cell_type": "code",
   "execution_count": 60,
   "id": "f147550b",
   "metadata": {
    "vscode": {
     "languageId": "r"
    }
   },
   "outputs": [
    {
     "data": {
      "text/html": [
       "<table class=\"dataframe\">\n",
       "<caption>A tibble: 6 × 3</caption>\n",
       "<thead>\n",
       "\t<tr><th scope=col>CP</th><th scope=col>RentMedPer</th><th scope=col>RentMedHog</th></tr>\n",
       "\t<tr><th scope=col>&lt;chr&gt;</th><th scope=col>&lt;dbl&gt;</th><th scope=col>&lt;dbl&gt;</th></tr>\n",
       "</thead>\n",
       "<tbody>\n",
       "\t<tr><td>01193</td><td>19356</td><td>45838.00</td></tr>\n",
       "\t<tr><td>01240</td><td>19356</td><td>44377.40</td></tr>\n",
       "\t<tr><td>01468</td><td>17490</td><td>32933.57</td></tr>\n",
       "\t<tr><td>01470</td><td>17767</td><td>39301.73</td></tr>\n",
       "\t<tr><td>01450</td><td>21433</td><td>40841.43</td></tr>\n",
       "\t<tr><td>01165</td><td>21086</td><td>44791.00</td></tr>\n",
       "</tbody>\n",
       "</table>\n"
      ],
      "text/latex": [
       "A tibble: 6 × 3\n",
       "\\begin{tabular}{lll}\n",
       " CP & RentMedPer & RentMedHog\\\\\n",
       " <chr> & <dbl> & <dbl>\\\\\n",
       "\\hline\n",
       "\t 01193 & 19356 & 45838.00\\\\\n",
       "\t 01240 & 19356 & 44377.40\\\\\n",
       "\t 01468 & 17490 & 32933.57\\\\\n",
       "\t 01470 & 17767 & 39301.73\\\\\n",
       "\t 01450 & 21433 & 40841.43\\\\\n",
       "\t 01165 & 21086 & 44791.00\\\\\n",
       "\\end{tabular}\n"
      ],
      "text/markdown": [
       "\n",
       "A tibble: 6 × 3\n",
       "\n",
       "| CP &lt;chr&gt; | RentMedPer &lt;dbl&gt; | RentMedHog &lt;dbl&gt; |\n",
       "|---|---|---|\n",
       "| 01193 | 19356 | 45838.00 |\n",
       "| 01240 | 19356 | 44377.40 |\n",
       "| 01468 | 17490 | 32933.57 |\n",
       "| 01470 | 17767 | 39301.73 |\n",
       "| 01450 | 21433 | 40841.43 |\n",
       "| 01165 | 21086 | 44791.00 |\n",
       "\n"
      ],
      "text/plain": [
       "  CP    RentMedPer RentMedHog\n",
       "1 01193 19356      45838.00  \n",
       "2 01240 19356      44377.40  \n",
       "3 01468 17490      32933.57  \n",
       "4 01470 17767      39301.73  \n",
       "5 01450 21433      40841.43  \n",
       "6 01165 21086      44791.00  "
      ]
     },
     "metadata": {},
     "output_type": "display_data"
    },
    {
     "data": {
      "text/html": [
       "<table class=\"dataframe\">\n",
       "<caption>A data.frame: 6 × 4</caption>\n",
       "<thead>\n",
       "\t<tr><th></th><th scope=col>CP</th><th scope=col>Id</th><th scope=col>RentMedPer</th><th scope=col>RentMedHog</th></tr>\n",
       "\t<tr><th></th><th scope=col>&lt;chr&gt;</th><th scope=col>&lt;dbl&gt;</th><th scope=col>&lt;dbl&gt;</th><th scope=col>&lt;dbl&gt;</th></tr>\n",
       "</thead>\n",
       "<tbody>\n",
       "\t<tr><th scope=row>1</th><td>01002</td><td> 541</td><td>20424</td><td>35315.10</td></tr>\n",
       "\t<tr><th scope=row>2</th><td>01003</td><td>2192</td><td>24141</td><td>38027.50</td></tr>\n",
       "\t<tr><th scope=row>3</th><td>01010</td><td> 434</td><td>21827</td><td>40021.50</td></tr>\n",
       "\t<tr><th scope=row>4</th><td>01013</td><td>2201</td><td>22484</td><td>37291.23</td></tr>\n",
       "\t<tr><th scope=row>5</th><td>01117</td><td>1159</td><td>17221</td><td>33050.50</td></tr>\n",
       "\t<tr><th scope=row>6</th><td>01400</td><td>1721</td><td>18277</td><td>38485.70</td></tr>\n",
       "</tbody>\n",
       "</table>\n"
      ],
      "text/latex": [
       "A data.frame: 6 × 4\n",
       "\\begin{tabular}{r|llll}\n",
       "  & CP & Id & RentMedPer & RentMedHog\\\\\n",
       "  & <chr> & <dbl> & <dbl> & <dbl>\\\\\n",
       "\\hline\n",
       "\t1 & 01002 &  541 & 20424 & 35315.10\\\\\n",
       "\t2 & 01003 & 2192 & 24141 & 38027.50\\\\\n",
       "\t3 & 01010 &  434 & 21827 & 40021.50\\\\\n",
       "\t4 & 01013 & 2201 & 22484 & 37291.23\\\\\n",
       "\t5 & 01117 & 1159 & 17221 & 33050.50\\\\\n",
       "\t6 & 01400 & 1721 & 18277 & 38485.70\\\\\n",
       "\\end{tabular}\n"
      ],
      "text/markdown": [
       "\n",
       "A data.frame: 6 × 4\n",
       "\n",
       "| <!--/--> | CP &lt;chr&gt; | Id &lt;dbl&gt; | RentMedPer &lt;dbl&gt; | RentMedHog &lt;dbl&gt; |\n",
       "|---|---|---|---|---|\n",
       "| 1 | 01002 |  541 | 20424 | 35315.10 |\n",
       "| 2 | 01003 | 2192 | 24141 | 38027.50 |\n",
       "| 3 | 01010 |  434 | 21827 | 40021.50 |\n",
       "| 4 | 01013 | 2201 | 22484 | 37291.23 |\n",
       "| 5 | 01117 | 1159 | 17221 | 33050.50 |\n",
       "| 6 | 01400 | 1721 | 18277 | 38485.70 |\n",
       "\n"
      ],
      "text/plain": [
       "  CP    Id   RentMedPer RentMedHog\n",
       "1 01002  541 20424      35315.10  \n",
       "2 01003 2192 24141      38027.50  \n",
       "3 01010  434 21827      40021.50  \n",
       "4 01013 2201 22484      37291.23  \n",
       "5 01117 1159 17221      33050.50  \n",
       "6 01400 1721 18277      38485.70  "
      ]
     },
     "metadata": {},
     "output_type": "display_data"
    }
   ],
   "source": [
    "# Read data from Excel file containing CP data\n",
    "renta <- read_excel(\"CP-Renta.xlsx\", sheet = \"cp-renta\")\n",
    "renta <- renta[, c(\"CP\", \"RentMedPer\", \"RentMedHog\")]\n",
    "renta <- renta[!duplicated(renta$CP), ]  # Remove duplicate rows based on CP\n",
    "head(renta)\n",
    "\n",
    "# Merge the cp data with renta data\n",
    "cp <- merge(cp, renta, by = \"CP\", all.x = TRUE)\n",
    "# dim(cp)\n",
    "# print(cp)\n",
    "head(cp)"
   ]
  },
  {
   "cell_type": "code",
   "execution_count": 61,
   "id": "ba20aeda",
   "metadata": {
    "vscode": {
     "languageId": "r"
    }
   },
   "outputs": [
    {
     "name": "stdout",
     "output_type": "stream",
     "text": [
      "     CP   Id RentMedPer RentMedHog\n",
      "9 08000 1066    25356.6   44995.63\n",
      "      CP   Id RentMedPer RentMedHog\n",
      "31 24400 2123      17643   30659.36\n",
      "      CP  Id RentMedPer RentMedHog\n",
      "42 28000 828   30351.22   50431.68\n",
      "      CP  Id RentMedPer RentMedHog\n",
      "58 28700 406   30184.33   47395.34\n",
      "      CP   Id RentMedPer RentMedHog\n",
      "74 33000 2467   24543.15   41018.83\n",
      "      CP   Id RentMedPer RentMedHog\n",
      "79 33400 1762   18736.67    33093.8\n",
      "80 33400 1089   18736.67    33093.8\n",
      "      CP   Id RentMedPer RentMedHog\n",
      "89 34000 1255      22659   34841.64\n",
      "       CP   Id RentMedPer RentMedHog\n",
      "95  39000  891    24105.5   40000.58\n",
      "96  39000 1656    24105.5   40000.58\n",
      "97  39000 1076    24105.5   40000.58\n",
      "98  39000 1969    24105.5   40000.58\n",
      "99  39000 1701    24105.5   40000.58\n",
      "100 39000  839    24105.5   40000.58\n",
      "101 39000  880    24105.5   40000.58\n",
      "102 39000 1630    24105.5   40000.58\n",
      "103 39000 1136    24105.5   40000.58\n",
      "        CP   Id RentMedPer RentMedHog\n",
      "2178 47000 1126   21857.53   37045.77\n",
      "2179 47000 1975   21857.53   37045.77\n",
      "        CP   Id RentMedPer RentMedHog\n",
      "2183 48000 1565      30452    49186.3\n",
      "2184 48000  190      30452    49186.3\n",
      "2185 48000  964      30452    49186.3\n",
      "2186 48000 2023      30452    49186.3\n",
      "2187 48000  736      30452    49186.3\n",
      "        CP   Id RentMedPer RentMedHog\n",
      "2210 50000 1007      27543   40007.42\n"
     ]
    }
   ],
   "source": [
    "# Function to impute missing RentMedPer and RentMedHog values with the mean\n",
    "# of each column for the specified reference postal codes\n",
    "impute_cp <- function(cp_code, ref_codes) {\n",
    "    means <- colMeans(renta[renta$CP %in% ref_codes, c(\"RentMedPer\", \"RentMedHog\")], na.rm = TRUE)\n",
    "    cp[cp$CP == cp_code, \"RentMedPer\"] <<- means[\"RentMedPer\"]\n",
    "    cp[cp$CP == cp_code, \"RentMedHog\"] <<- means[\"RentMedHog\"]\n",
    "    print(cp[cp$CP == cp_code, ]) # Print the updated row for verification\n",
    "}\n",
    "\n",
    "# Now use the helper for each CP\n",
    "impute_cp(\"08000\", sprintf(\"080%02d\", 1:42)) # Barcelona\n",
    "impute_cp(\"24400\", sprintf(\"244%02d\", 1:4)) # Ponferrada\n",
    "impute_cp(\"28000\", sprintf(\"280%02d\", 1:55)) # Madrid\n",
    "impute_cp(\"28700\", sprintf(\"287%02d\", 1:3)) # San Sebastián de los Reyes\n",
    "impute_cp(\"33000\", sprintf(\"330%02d\", 1:13)) # Oviedo\n",
    "impute_cp(\"33400\", sprintf(\"334%02d\", 1:10)) # Avilés\n",
    "impute_cp(\"34000\", sprintf(\"340%02d\", 1:5)) # Palencia\n",
    "impute_cp(\"39000\", sprintf(\"390%02d\", 1:12)) # Santander\n",
    "impute_cp(\"47000\", sprintf(\"470%02d\", 1:17)) # Valladolid\n",
    "impute_cp(\"48000\", sprintf(\"480%02d\", 1:15)) # Bilbao\n",
    "impute_cp(\"50000\", sprintf(\"500%02d\", 1:19)) # Zaragoza\n"
   ]
  },
  {
   "cell_type": "code",
   "execution_count": 62,
   "id": "8b5d1598",
   "metadata": {
    "vscode": {
     "languageId": "r"
    }
   },
   "outputs": [
    {
     "name": "stdout",
     "output_type": "stream",
     "text": [
      "[1] \"310021\" \"39042\"  \"791301\" \"869032\" \"945092\"\n"
     ]
    }
   ],
   "source": [
    "cp_na_rentmedper <- cp$CP[is.na(cp$RentMedPer)]\n",
    "print(cp_na_rentmedper) # Postal cods still with missing incomes values"
   ]
  },
  {
   "cell_type": "code",
   "execution_count": 63,
   "id": "b89d4ff2",
   "metadata": {
    "vscode": {
     "languageId": "r"
    }
   },
   "outputs": [
    {
     "data": {
      "image/png": "[encoded data removed]",
      "text/plain": [
       "Plot with title \"Boxplot of RentMedPer and RentMedHog\""
      ]
     },
     "metadata": {
      "image/png": {
       "height": 420,
       "width": 420
      }
     },
     "output_type": "display_data"
    }
   ],
   "source": [
    "boxplot(cp$RentMedPer, cp$RentMedHog,\n",
    "    names = c(\"RentMedPer\", \"RentMedHog\"),\n",
    "    main = \"Boxplot of RentMedPer and RentMedHog\",\n",
    "    ylab = \"Income\")\n"
   ]
  },
  {
   "cell_type": "code",
   "execution_count": 64,
   "id": "1c20e43f",
   "metadata": {
    "vscode": {
     "languageId": "r"
    }
   },
   "outputs": [
    {
     "name": "stdout",
     "output_type": "stream",
     "text": [
      "[1]  160  901 1124 1178 1521\n"
     ]
    }
   ],
   "source": [
    "merged_data <- suppressWarnings(merge(merged_data, cp, by = \"Id\", all.x = TRUE, suffixes = c(\"\", \"\")))\n",
    "\n",
    "# Remove duplicate columns that are generated\n",
    "merged_data <- merged_data[, !duplicated(colnames(merged_data))]\n",
    "\n",
    "# Missing values in RentMedPer/RentMedHog\n",
    "list_renta <- merged_data$Id[is.na(merged_data$RentMedPer)]\n",
    "print(list_renta) # List of Ids with missing CP values"
   ]
  },
  {
   "cell_type": "code",
   "execution_count": 65,
   "id": "8ad34210",
   "metadata": {
    "vscode": {
     "languageId": "r"
    }
   },
   "outputs": [
    {
     "name": "stdout",
     "output_type": "stream",
     "text": [
      "Interval counts for RentMedPer (interval method):\n",
      "  [10841,18815.7] (18815.7,26790.3]   (26790.3,34765] \n",
      "             1463               554               192 \n",
      "\n",
      " Interval counts for RentMedPer (quantile method):\n",
      "[10841,15486] (15486,18993] (18993,34765] \n",
      "          786           694           729 \n",
      "\n",
      "Interval counts for RentMedPer (hartemink method):\n",
      "[10841,16706] (16706,16752] (16752,34765] \n",
      "         1022           282           905 \n",
      "\n",
      "Interval counts for RentMedHog (interval method):\n",
      "  [25649,42516.3] (42516.3,59383.7]   (59383.7,76251] \n",
      "             2031               113                65 \n",
      "\n",
      "Interval counts for RentMedHog (quantile method):\n",
      "  [25649,32107] (32107,35722.5] (35722.5,76251] \n",
      "            739             766             704 \n",
      "\n",
      "Interval counts for RentMedHog (hartemink method):\n",
      "  [25649,30710.8] (30710.8,30712.5]   (30712.5,76251] \n",
      "              164               281              1764 \n"
     ]
    },
    {
     "data": {
      "image/png": "[encoded data removed]",
      "text/plain": [
       "plot without title"
      ]
     },
     "metadata": {
      "image/png": {
       "height": 420,
       "width": 420
      }
     },
     "output_type": "display_data"
    }
   ],
   "source": [
    "# Discretize the Income variables RentMedPer and RentMedHog using interval, quantile, and hartemink methods\n",
    "\n",
    "# Prepare variables\n",
    "income_per <- merged_data$RentMedPer\n",
    "income_hog <- merged_data$RentMedHog\n",
    "\n",
    "# Interval method\n",
    "income_per_interval <- suppressWarnings(discretize(data.frame(RentMedPer = income_per), method = \"interval\", breaks = 3, ordered = TRUE, debug = FALSE))\n",
    "income_hog_interval <- suppressWarnings(discretize(data.frame(RentMedHog = income_hog), method = \"interval\", breaks = 3, ordered = TRUE, debug = FALSE))\n",
    "\n",
    "# Quantile method\n",
    "income_per_quantile <- suppressWarnings(discretize(data.frame(RentMedPer = income_per), method = \"quantile\", breaks = 3, ordered = TRUE, debug = FALSE))\n",
    "income_hog_quantile <- suppressWarnings(discretize(data.frame(RentMedHog = income_hog), method = \"quantile\", breaks = 3, ordered = TRUE, debug = FALSE))\n",
    "\n",
    "# Hartemink method\n",
    "income_hartemink <- suppressWarnings(discretize(data.frame(RentMedPer = income_per, RentMedHog = income_hog), method = \"hartemink\", breaks = 3, ordered = TRUE, debug = FALSE))\n",
    "\n",
    "cat(\"Interval counts for RentMedPer (interval method):\")\n",
    "print(table(income_per_interval$RentMedPer))\n",
    "cat(\"\\n Interval counts for RentMedPer (quantile method):\")\n",
    "print(table(income_per_quantile$RentMedPer))\n",
    "cat(\"\\nInterval counts for RentMedPer (hartemink method):\")\n",
    "print(table(income_hartemink$RentMedPer))\n",
    "cat(\"\\nInterval counts for RentMedHog (interval method):\")\n",
    "print(table(income_hog_interval$RentMedHog))\n",
    "cat(\"\\nInterval counts for RentMedHog (quantile method):\")\n",
    "print(table(income_hog_quantile$RentMedHog))\n",
    "cat(\"\\nInterval counts for RentMedHog (hartemink method):\")\n",
    "print(table(income_hartemink$RentMedHog))\n",
    "\n",
    "library(gridExtra)\n",
    "# Plot for RentMedPer\n",
    "p1 <- ggplot(data.frame(RentMedPer = income_per, Interval = income_per_interval$RentMedPer), aes(x = RentMedPer, fill = Interval)) +\n",
    "    geom_histogram(binwidth = 2000, color = \"black\", position = \"identity\", alpha = 0.7) +\n",
    "    labs(title = \"RentMedPer by Interval Method\", x = \"RentMedPer\", y = \"Count\", fill = \"Interval\") +\n",
    "    theme_minimal()\n",
    "p2 <- ggplot(data.frame(RentMedPer = income_per, Quantile = income_per_quantile$RentMedPer), aes(x = RentMedPer, fill = Quantile)) +\n",
    "    geom_histogram(binwidth = 2000, color = \"black\", position = \"identity\", alpha = 0.7) +\n",
    "    labs(title = \"RentMedPer by Quantile Method\", x = \"RentMedPer\", y = \"Count\", fill = \"Quantile\") +\n",
    "    theme_minimal()\n",
    "p3 <- ggplot(data.frame(RentMedPer = income_per, Hartemink = income_hartemink$RentMedPer), aes(x = RentMedPer, fill = Hartemink)) +\n",
    "    geom_histogram(binwidth = 2000, color = \"black\", position = \"identity\", alpha = 0.7) +\n",
    "    labs(title = \"RentMedPer by Hartemink Method\", x = \"RentMedPer\", y = \"Count\", fill = \"Hartemink\") +\n",
    "    theme_minimal()\n",
    "# Plot for RentMedHog\n",
    "p4 <- ggplot(data.frame(RentMedHog = income_hog, Interval = income_hog_interval$RentMedHog), aes(x = RentMedHog, fill = Interval)) +\n",
    "    geom_histogram(binwidth = 2000, color = \"black\", position = \"identity\", alpha = 0.7) +\n",
    "    labs(title = \"RentMedHog by Interval Method\", x = \"RentMedHog\", y = \"Count\", fill = \"Interval\") +\n",
    "    theme_minimal()\n",
    "p5 <- ggplot(data.frame(RentMedHog = income_hog, Quantile = income_hog_quantile$RentMedHog), aes(x = RentMedHog, fill = Quantile)) +\n",
    "    geom_histogram(binwidth = 2000, color = \"black\", position = \"identity\", alpha = 0.7) +\n",
    "    labs(title = \"RentMedHog by Quantile Method\", x = \"RentMedHog\", y = \"Count\", fill = \"Quantile\") +\n",
    "    theme_minimal()\n",
    "p6 <- ggplot(data.frame(RentMedHog = income_hog, Hartemink = income_hartemink$RentMedHog), aes(x = RentMedHog, fill = Hartemink)) +\n",
    "    geom_histogram(binwidth = 2000, color = \"black\", position = \"identity\", alpha = 0.7) +\n",
    "    labs(title = \"RentMedHog by Hartemink Method\", x = \"RentMedHog\", y = \"Count\", fill = \"Hartemink\") +\n",
    "    theme_minimal()\n",
    "\n",
    "# Arrange all plots\n",
    "suppressWarnings(grid.arrange(p1, p4, p2, p5, p3, p6, ncol = 2))\n"
   ]
  },
  {
   "cell_type": "code",
   "execution_count": 66,
   "id": "b6e6dc7c",
   "metadata": {
    "vscode": {
     "languageId": "r"
    }
   },
   "outputs": [
    {
     "name": "stdout",
     "output_type": "stream",
     "text": [
      "\n",
      "[10841,15486] (15486,18993] (18993,34765] \n",
      "          786           694           729 \n",
      "\n",
      "  [25649,32107] (32107,35722.5] (35722.5,76251] \n",
      "            739             766             704 \n"
     ]
    }
   ],
   "source": [
    "# Create a new variable PersonalIncome discretizing RentMedPer\n",
    "merged_data$PersonalIncome <- suppressWarnings(discretize(data.frame(RentMedPer = income_per), method = \"quantile\", breaks = 3, ordered = TRUE, debug = FALSE)[,1])\n",
    "# Create a new variable HouseholdIncome discretizing RentMedHog\n",
    "merged_data$HouseholdIncome <- suppressWarnings(discretize(data.frame(RentMedHog = income_hog), method = \"quantile\", breaks = 3, ordered = TRUE, debug = FALSE)[,1])\n",
    "\n",
    "# Check the distribution of the PersonalIncome variable\n",
    "print(table(merged_data$PersonalIncome))\n",
    "# Check the distribution of the HouseholdIncome variable\n",
    "print(table(merged_data$HouseholdIncome))"
   ]
  },
  {
   "cell_type": "markdown",
   "id": "2963351b",
   "metadata": {},
   "source": [
    "### Other variables"
   ]
  },
  {
   "cell_type": "code",
   "execution_count": 67,
   "id": "7248d99b",
   "metadata": {
    "vscode": {
     "languageId": "r"
    }
   },
   "outputs": [
    {
     "name": "stdout",
     "output_type": "stream",
     "text": [
      " [1]   35  102  130  172  237  251  309  379  759  982 1023 1053 1097 1261 1297\n",
      "[16] 1346 1376 1482 1638 1726 1998\n",
      "Time differences in days\n",
      " [1]     -7   -365   -365     30   -365   -365     31     31     31    365\n",
      "[11]    365     -1 -42539   1095     -5    -10     30   1095      4     31\n",
      "[21]      1\n"
     ]
    },
    {
     "data": {
      "image/png": "[encoded data removed]",
      "text/plain": [
       "Plot with title \"Distribution of ...35\""
      ]
     },
     "metadata": {
      "image/png": {
       "height": 420,
       "width": 420
      }
     },
     "output_type": "display_data"
    }
   ],
   "source": [
    "# Show the Ids where the values are different (ignoring NAs)\n",
    "same_values <- merged_data$FechaKT.PSS == merged_data$...35\n",
    "diff_ids <- merged_data$Id[which(!(same_values) & !is.na(same_values))]\n",
    "print(diff_ids)\n",
    "\n",
    "# Calculate the difference in days between the two columns (ignoring NAs)\n",
    "date_diff <- as.Date(merged_data$FechaKT.PSS) - as.Date(merged_data$...35)\n",
    "# Show the differences only for cases where they are different\n",
    "diff_days <- date_diff[which(!(same_values) & !is.na(same_values))]\n",
    "print(diff_days)\n",
    "\n",
    "library(ggplot2)\n",
    "# Plot the distributions as histograms\n",
    "par(mfrow = c(1, 2))\n",
    "hist(as.Date(merged_data$FechaKT.PSS), main = \"Distribution of FechaKT.PSS\", xlab = \"FechaKT.PSS\", col = \"skyblue\", breaks = 20)\n",
    "hist(as.Date(merged_data$...35), main = \"Distribution of ...35\", xlab = \"...35\", col = \"salmon\", breaks = 20)\n"
   ]
  },
  {
   "cell_type": "code",
   "execution_count": 68,
   "id": "d3eaad34",
   "metadata": {
    "vscode": {
     "languageId": "r"
    }
   },
   "outputs": [
    {
     "data": {
      "image/png": "[encoded data removed]",
      "text/plain": [
       "Plot with title \"Distribution of FechaKT.PSS\""
      ]
     },
     "metadata": {
      "image/png": {
       "height": 420,
       "width": 420
      }
     },
     "output_type": "display_data"
    }
   ],
   "source": [
    "# For the patient with ID 1097, delete the value of FechaKT.PSS\n",
    "merged_data$FechaKT.PSS[merged_data$Id == 1097] <- merged_data$...35[merged_data$Id == 1097]\n",
    "hist(as.Date(merged_data$FechaKT.PSS), main = \"Distribution of FechaKT.PSS\", xlab = \"FechaKT.PSS\", col = \"skyblue\", breaks = 20)\n"
   ]
  },
  {
   "cell_type": "markdown",
   "id": "8c22a1ad",
   "metadata": {},
   "source": [
    "### Outcome variables"
   ]
  },
  {
   "cell_type": "code",
   "execution_count": 69,
   "id": "d66bc036",
   "metadata": {
    "vscode": {
     "languageId": "r"
    }
   },
   "outputs": [],
   "source": [
    "# Update 'Fmuerte' and 'Fecha IAM' for specific patients by Id (expert knowledge)\n",
    "merged_data$`Fecha IAM`[merged_data$Id == 400] <- '2018-08-28'\n",
    "merged_data$`Fmuerte`[merged_data$Id == 1317] <- '2017-06-15'\n",
    "merged_data$`Fmuerte`[merged_data$Id == 1352] <- '2021-05-09'\n",
    "merged_data$`Fecha IAM`[merged_data$Id == 1503] <- '2021-07-29'\n",
    "merged_data$`Fecha IAM`[merged_data$Id == 1515] <- '2021-07-21'\n",
    "merged_data$`Fecha IAM`[merged_data$Id == 1562] <- '2021-01-24'\n",
    "merged_data$`Fmuerte`[merged_data$Id == 1579] <- '2018-10-14'\n",
    "merged_data$`Fmuerte`[merged_data$Id == 1592] <- '2020-09-20'\n",
    "merged_data$`Fecha IAM`[merged_data$Id == 2330] <- '2018-08-25'\n",
    "merged_data$`Fecha IAM`[merged_data$Id == 2453] <- '2021-11-16'\n",
    "merged_data$`Fecha IAM`[merged_data$Id == 2457] <- '2018-04-25'"
   ]
  },
  {
   "cell_type": "code",
   "execution_count": 70,
   "id": "e455552c",
   "metadata": {
    "vscode": {
     "languageId": "r"
    }
   },
   "outputs": [],
   "source": [
    "# Set IAM or CausaMuerte values for specific patients by Id (expert knowledge)\n",
    "merged_data$IAM[merged_data$Id %in% c(1097, 2050, 2356)] <- 1\n",
    "\n",
    "merged_data$CausaMuerte[merged_data$Id %in% c(474, 534, 550, 1725)] <- 2\n",
    "merged_data$CausaMuerte[merged_data$Id == 2077] <- NA"
   ]
  },
  {
   "cell_type": "code",
   "execution_count": 71,
   "id": "e1f76e7c",
   "metadata": {
    "vscode": {
     "languageId": "r"
    }
   },
   "outputs": [
    {
     "name": "stderr",
     "output_type": "stream",
     "text": [
      "Warning message in as.Date(as.numeric(merged_data$`Fecha IAM`)):\n",
      "\"NAs introducidos por coerción\"\n"
     ]
    },
    {
     "name": "stdout",
     "output_type": "stream",
     "text": [
      "              Id      CausaMuerte         MuerteCV          Fmuerte \n",
      "               0                0                0             1884 \n",
      "             IAM        Fecha IAM            Ictus      Fecha ictus \n",
      "               0             1964                0             2134 \n",
      "      Hemorragia Fecha hemorragia           Revasc     Fecha revasc \n",
      "               0             2061                0             1920 \n"
     ]
    }
   ],
   "source": [
    "# # Fill in the missing values of 'Fmuerte' with 'Fecha fin seg'\n",
    "# merged_data$`Fmuerte`[is.na(merged_data$`Fmuerte`)] <- merged_data$`Fecha fin seg`[is.na(merged_data$`Fmuerte`)]\n",
    "\n",
    "# # Fill in the missing values of 'Fecha IAM' with 'Fecha fin seg'\n",
    "# merged_data$`Fecha IAM`[is.na(merged_data$`Fecha IAM`)] <- merged_data$`Fecha fin seg`[is.na(merged_data$`Fecha IAM`)]\n",
    "\n",
    "# Complete the missing values of 'CausaMuerte' with 0\n",
    "merged_data$CausaMuerte[is.na(merged_data$CausaMuerte)] <- 0\n",
    "\n",
    "# Fill in the missing values of 'Muerte' with 0 (except for case where Fmuerte is not NA)\n",
    "merged_data$Muerte[is.na(merged_data$Muerte) & !is.na(merged_data$`Fmuerte`)] <- 1 # Id 1515\n",
    "merged_data$Muerte[is.na(merged_data$Muerte)] <- 0\n",
    "\n",
    "# Add 'MuerteCV' variable: 1 if CausaMuerte is 1, 0 otherwise\n",
    "merged_data$MuerteCV <- ifelse(merged_data$CausaMuerte == 1, 1, 0)\n",
    "\n",
    "# Variations in IAM for specific patients to avoid errors\n",
    "merged_data$IAM[merged_data$IAM == 2] <- 1\n",
    "merged_data$`Fecha IAM`[merged_data$Id == 180] <- as.Date(\"2019-07-05\") # Keep the first date\n",
    "merged_data$`Fecha IAM`[merged_data$Id == 197] <- as.Date(\"2019-07-02\") # Keep the first date\n",
    "merged_data$`Fecha IAM`[merged_data$Id == 1540] <- as.Date(\"2017-04-30\") # 31st April does not exist\n",
    "merged_data$`Fecha IAM`[merged_data$Id %in% c(407, 408, 1430)] <- NA # Delete wrong dates\n",
    "\n",
    "# Fill in the missing values of 'Revasc' with 0\n",
    "merged_data$Revasc[is.na(merged_data$Revasc)] <- 0\n",
    "# Variations in 'Revasc' for specific patients to avoid errors\n",
    "merged_data$Revasc[merged_data$Revasc == 3] <- 1\n",
    "merged_data$`Fecha revasc`[merged_data$Id == 206] <- as.Date(\"2019-10-17\") # Keep the first date\n",
    "merged_data$`Fecha revasc`[merged_data$Id == 722] <- as.Date(\"2019-09-10\") # Keep the first date\n",
    "merged_data$`Fecha revasc`[merged_data$Id == 1991] <- as.Date(\"2018-10-29\") # Keep the first date\n",
    "merged_data$`Fecha revasc`[merged_data$Id == 2228] <- as.Date(\"2018-12-14\") # Keep the first date\n",
    "merged_data$`Fecha revasc`[merged_data$Id == 2152] <- as.Date(\"2020-10-30\") # Month 20 does not exist\n",
    "merged_data$`Fecha revasc`[merged_data$Id == 1093] <- NA # Delete not date value\n",
    "\n",
    "# Variation in Ictus for specific patients to avoid errors\n",
    "merged_data$Ictus[merged_data$Id == 218] <- 1 # It was 2\n",
    "merged_data$`Fecha ictus`[merged_data$Id == 218] <- as.Date(\"2021-09-04\") # Keep the first date\n",
    "merged_data$`Fecha ictus`[merged_data$Id == 1165] <- as.Date(\"2019-03-30\") # Fix the date format\n",
    "merged_data$`Fecha ictus`[merged_data$Id == 2188] <- as.Date(\"2018-12-09\") # Keep the first date\n",
    "\n",
    "# Fill in the missing values of 'Hemorragia' with 0\n",
    "merged_data$Hemorragia[is.na(merged_data$Hemorragia)] <- 0\n",
    "merged_data$`Fecha hemorragia`[merged_data$Id == 569] <- as.Date(\"2021-08-17\") # Keep the first date\n",
    "merged_data$`Fecha hemorragia`[merged_data$Id == 910] <- as.Date(\"2021-04-03\") # Fix the date format\n",
    "merged_data$`Fecha hemorragia`[merged_data$Id == 2187] <- as.Date(\"2018-03-28\") # Keep the first date\n",
    "\n",
    "# Convert to Date format\n",
    "merged_data$`Fmuerte` <- as.Date(merged_data$`Fmuerte`)\n",
    "merged_data$`Fecha IAM` <- as.Date(as.numeric(merged_data$`Fecha IAM`)) # First to numeric to fix Excel format\n",
    "merged_data$`Fecha revasc` <- as.Date(as.numeric(merged_data$`Fecha revasc`))\n",
    "merged_data$`Fecha ictus` <- as.Date(as.numeric(merged_data$`Fecha ictus`))\n",
    "merged_data$`Fecha hemorragia` <- as.Date(as.numeric(merged_data$`Fecha hemorragia`))\n",
    "\n",
    "# Count the number of missing values in the dataframe\n",
    "print(colSums(is.na(merged_data[, c(\"Id\", \"CausaMuerte\", \"MuerteCV\", \"Fmuerte\", \"IAM\", \"Fecha IAM\", \"Ictus\",\n",
    "                             \"Fecha ictus\", \"Hemorragia\", \"Fecha hemorragia\", \"Revasc\", \"Fecha revasc\")])))"
   ]
  },
  {
   "cell_type": "markdown",
   "id": "225a8bc0",
   "metadata": {},
   "source": [
    "## 3. Clean Data Export"
   ]
  },
  {
   "cell_type": "code",
   "execution_count": 72,
   "id": "1e940ff4",
   "metadata": {
    "vscode": {
     "languageId": "r"
    }
   },
   "outputs": [
    {
     "data": {
      "text/html": [
       "2214"
      ],
      "text/latex": [
       "2214"
      ],
      "text/markdown": [
       "2214"
      ],
      "text/plain": [
       "[1] 2214"
      ]
     },
     "metadata": {},
     "output_type": "display_data"
    }
   ],
   "source": [
    "nrow(merged_data)\n",
    "# summary(merged_data)"
   ]
  },
  {
   "cell_type": "code",
   "execution_count": 73,
   "id": "8755569b",
   "metadata": {
    "vscode": {
     "languageId": "r"
    }
   },
   "outputs": [
    {
     "data": {
      "text/html": [
       "228"
      ],
      "text/latex": [
       "228"
      ],
      "text/markdown": [
       "228"
      ],
      "text/plain": [
       "[1] 228"
      ]
     },
     "metadata": {},
     "output_type": "display_data"
    }
   ],
   "source": [
    "# Unir todos los vectores list_* que contienen los Id de los NAs de cada variable\n",
    "na_lists <- mget(setdiff(ls(pattern = \"^list_\"), c(\"list_TSI\", \"list_edad\", \"list_CP\")))\n",
    "# print(na_lists)\n",
    "# print(unique(unlist(na_lists)))\n",
    "length(unique(unlist(na_lists)))\n",
    "\n",
    "# # Remove rows from merged_data where some Medical History varible has NA\n",
    "# merged_data <- merged_data[!merged_data$Id %in% na_lists$list_talla, ]\n",
    "# merged_data <- merged_data[!merged_data$Id %in% na_lists$list_peso, ]\n",
    "# merged_data <- merged_data[!merged_data$Id %in% na_lists$list_FID, ]\n",
    "# merged_data <- merged_data[!merged_data$Id %in% na_lists$list_Fumador, ]\n",
    "# merged_data <- merged_data[!merged_data$Id %in% na_lists$list_Diabetes, ]\n",
    "# merged_data <- merged_data[!merged_data$Id %in% na_lists$list_Hipertension, ]\n",
    "# merged_data <- merged_data[!merged_data$Id %in% na_lists$list_Dislipemia, ]\n",
    "# merged_data <- merged_data[!merged_data$Id %in% na_lists$list_irc, ]\n",
    "# merged_data <- merged_data[!merged_data$Id %in% na_lists$list_InfartoAntiguo, ]\n",
    "# merged_data <- merged_data[!merged_data$Id %in% na_lists$list_PCS, ]\n",
    "# merged_data <- merged_data[!merged_data$Id %in% na_lists$list_ACTPprevia, ]\n",
    "# merged_data <- merged_data[!merged_data$Id %in% na_lists$list_EnfArtPerif, ]\n",
    "# merged_data <- merged_data[!merged_data$Id %in% na_lists$list_ACVpre, ]\n",
    "# merged_data <- merged_data[!merged_data$Id %in% na_lists$list_HMG, ]\n",
    "\n",
    "# # Remove rows from merged_data where some socioeconomic variable has NA\n",
    "merged_data <- merged_data[!merged_data$Id %in% na_lists$list_estadocivil, ]\n",
    "merged_data <- merged_data[!merged_data$Id %in% na_lists$list_conquienvive, ]\n",
    "merged_data <- merged_data[!merged_data$Id %in% na_lists$list_conquienvive, ]\n",
    "merged_data <- merged_data[!merged_data$Id %in% na_lists$list_apoyofamiliar, ]\n",
    "merged_data <- merged_data[!merged_data$Id %in% na_lists$list_lugarresidencia, ]\n",
    "merged_data <- merged_data[!merged_data$Id %in% na_lists$list_nivelestudios, ]\n",
    "merged_data <- merged_data[!merged_data$Id %in% na_lists$list_ocupacion, ]\n",
    "merged_data <- merged_data[!merged_data$Id %in% na_lists$list_tipotrabajo, ]\n",
    "merged_data <- merged_data[!merged_data$Id %in% na_lists$list_ejercicio, ]\n",
    "merged_data <- merged_data[!merged_data$Id %in% na_lists$list_tareashogar, ]\n",
    "merged_data <- merged_data[!merged_data$Id %in% na_lists$list_tienemascota, ]\n",
    "merged_data <- merged_data[!merged_data$Id %in% na_lists$list_nhijos, ]\n",
    "merged_data <- merged_data[!merged_data$Id %in% na_lists$list_nnietos, ]\n",
    "merged_data <- merged_data[!merged_data$Id %in% na_lists$list_telefmovil, ]\n",
    "merged_data <- merged_data[!merged_data$Id %in% na_lists$list_internet, ]\n",
    "merged_data <- merged_data[!merged_data$Id %in% na_lists$list_renta, ]"
   ]
  },
  {
   "cell_type": "code",
   "execution_count": 74,
   "id": "b3424e9e",
   "metadata": {
    "vscode": {
     "languageId": "r"
    }
   },
   "outputs": [
    {
     "name": "stdout",
     "output_type": "stream",
     "text": [
      "          list_talla            list_peso             list_FID \n",
      "                  64                    9                    0 \n",
      "        list_Fumador        list_Diabetes    list_Hipertension \n",
      "                   0                    1                    3 \n",
      "     list_Dislipemia             list_irc  list_InfartoAntiguo \n",
      "                   1                   12                    3 \n",
      "            list_PCS      list_ACTPprevia     list_EnfArtPerif \n",
      "                   0                    1                   17 \n",
      "         list_ACVpre             list_HMG     list_estadocivil \n",
      "                   1                   28                    0 \n",
      "   list_conquienvive   list_apoyofamiliar list_lugarresidencia \n",
      "                   0                    0                    0 \n",
      "  list_nivelestudios       list_ocupacion     list_tipotrabajo \n",
      "                   0                    0                    0 \n",
      "      list_ejercicio     list_tareashogar    list_tienemascota \n",
      "                   0                    0                    0 \n",
      "         list_nhijos         list_nnietos      list_telefmovil \n",
      "                   0                    0                    0 \n",
      "       list_internet           list_renta \n",
      "                   0                    0 \n",
      "Total sum of unique Ids: 228 \n"
     ]
    }
   ],
   "source": [
    "vars <- c(\n",
    "    \"list_talla\", \"list_peso\", \"list_FID\", \"list_Fumador\", \"list_Diabetes\", \"list_Hipertension\",\n",
    "    \"list_Dislipemia\", \"list_irc\", \"list_InfartoAntiguo\", \"list_PCS\", \"list_ACTPprevia\",\n",
    "    \"list_EnfArtPerif\", \"list_ACVpre\", \"list_HMG\", \"list_estadocivil\",\"list_conquienvive\",\n",
    "    \"list_apoyofamiliar\", \"list_lugarresidencia\", \"list_nivelestudios\",\"list_ocupacion\",\n",
    "    \"list_tipotrabajo\", \"list_ejercicio\", \"list_tareashogar\", \"list_tienemascota\", \"list_nhijos\",\n",
    "    \"list_nnietos\", \"list_telefmovil\", \"list_internet\", \"list_renta\"\n",
    ")\n",
    "\n",
    "counts <- sapply(vars, function(v) sum(merged_data$Id %in% na_lists[[v]]))\n",
    "print(counts)\n",
    "cat(\"Total sum of unique Ids:\", length(unique(unlist(na_lists[vars]))), \"\\n\")"
   ]
  },
  {
   "cell_type": "code",
   "execution_count": 75,
   "id": "c1170c53",
   "metadata": {
    "vscode": {
     "languageId": "r"
    }
   },
   "outputs": [
    {
     "data": {
      "text/html": [
       "<style>\n",
       ".list-inline {list-style: none; margin:0; padding: 0}\n",
       ".list-inline>li {display: inline-block}\n",
       ".list-inline>li:not(:last-child)::after {content: \"\\00b7\"; padding: 0 .5ex}\n",
       "</style>\n",
       "<ol class=list-inline><li>2109</li><li>17</li></ol>\n"
      ],
      "text/latex": [
       "\\begin{enumerate*}\n",
       "\\item 2109\n",
       "\\item 17\n",
       "\\end{enumerate*}\n"
      ],
      "text/markdown": [
       "1. 2109\n",
       "2. 17\n",
       "\n",
       "\n"
      ],
      "text/plain": [
       "[1] 2109   17"
      ]
     },
     "metadata": {},
     "output_type": "display_data"
    },
    {
     "data": {
      "text/html": [
       "<style>\n",
       ".list-inline {list-style: none; margin:0; padding: 0}\n",
       ".list-inline>li {display: inline-block}\n",
       ".list-inline>li:not(:last-child)::after {content: \"\\00b7\"; padding: 0 .5ex}\n",
       "</style>\n",
       "<ol class=list-inline><li>2109</li><li>27</li></ol>\n"
      ],
      "text/latex": [
       "\\begin{enumerate*}\n",
       "\\item 2109\n",
       "\\item 27\n",
       "\\end{enumerate*}\n"
      ],
      "text/markdown": [
       "1. 2109\n",
       "2. 27\n",
       "\n",
       "\n"
      ],
      "text/plain": [
       "[1] 2109   27"
      ]
     },
     "metadata": {},
     "output_type": "display_data"
    },
    {
     "data": {
      "text/html": [
       "<style>\n",
       ".list-inline {list-style: none; margin:0; padding: 0}\n",
       ".list-inline>li {display: inline-block}\n",
       ".list-inline>li:not(:last-child)::after {content: \"\\00b7\"; padding: 0 .5ex}\n",
       "</style>\n",
       "<ol class=list-inline><li>2109</li><li>12</li></ol>\n"
      ],
      "text/latex": [
       "\\begin{enumerate*}\n",
       "\\item 2109\n",
       "\\item 12\n",
       "\\end{enumerate*}\n"
      ],
      "text/markdown": [
       "1. 2109\n",
       "2. 12\n",
       "\n",
       "\n"
      ],
      "text/plain": [
       "[1] 2109   12"
      ]
     },
     "metadata": {},
     "output_type": "display_data"
    }
   ],
   "source": [
    "suppressPackageStartupMessages(library(dplyr))\n",
    "\n",
    "# Create dataframe with medical history variables\n",
    "df_medical_history <- merged_data %>%\n",
    "  select(\n",
    "    ID = Id,\n",
    "    MH_AGE = Age, # Discretized Edad\n",
    "    MH_SEX = Sexo, # 0 Female, 1 Male\n",
    "    MH_HEIGHT = Talla,\n",
    "    MH_WEIGHT = Peso,\n",
    "    MH_FHID = HFdeC.isquemica, # 0 no, 1 yes\n",
    "    MH_SMK = Fumador, # 1 actual smoker, 2 former smoker, 3 never smoked\n",
    "    MH_DM = Diabetes, # 0 no, 1 yes\n",
    "    MH_HT = Hipertension, # 0 no, 1 yes\n",
    "    MH_DLP = Dislipemia, # 0 no, 1 yes\n",
    "    MH_CKD = IRC, # 0 no, 1 yes\n",
    "    MH_PMI = InfartoAntiguo, # 0 no, 1 yes\n",
    "    MH_PCS = QXcoronariapre, # 0 no, 1 yes\n",
    "    MH_PPCI = ACTPprevia, # 0 no, 1 yes\n",
    "    MH_PAD = EnfArtPerif.pre, # 0 no, 1 yes\n",
    "    MH_STK = ACVpre, # 0 no, 1 yes\n",
    "    MH_HMG = Hemoglobin # 1 for normal levels and 2 for non-normal levels\n",
    "  )\n",
    "\n",
    "# Create dataframe with socioeconomic variables\n",
    "df_socioeconomic <- merged_data %>%\n",
    "  select(\n",
    "    ID = Id,\n",
    "    SE_MS = EstadoCivil, # 1 married, 2 single/divorced/widowed\n",
    "    SE_LA = ConQuienVive.PSS, # 1 alone, 2 with family/residence/other\n",
    "    SE_SUP = ApoyoFamiliar, # 0 no, 1 yes\n",
    "    SE_RES = LugarResidencia.PSS, # 1 rural, 2 urban (>=2500 inhabitants)\n",
    "    SE_STU = NivelEstudios.PSS, # 1 for no/primary studies, 2 for secondary/university studies\n",
    "    SE_OCC = Ocupacion.PSS, # 1 unemployed/retired, 2 active worker\n",
    "    SE_WT = TipoTrabajo.PSS, # 1 white collar, 2 blue collar\n",
    "    SE_EX = Ejercicio.PSS, # 0 no, 1 yes\n",
    "    SE_HW = TareasHogar.PSS, # 0 no, 1 yes\n",
    "    SE_PET = `¿Tiene mascota?`, # 0 no, 1 yes\n",
    "    SE_CHI = NHijos.PSS, # 0 no, 1 yes\n",
    "    SE_GCHI = NNietos.PSS, # 0 no, 1 yes\n",
    "    SE_SN = SocialNetworks, # 0 no, 1 yes\n",
    "    SE_MP = TelefMovil.PSS, # 0 no, 1 yes\n",
    "    SE_INT = Internet.PSS...258, # 0 no, 1 yes\n",
    "    SE_PC = HasComputerTablet, # 0 no, 1 yes\n",
    "    SE_TSI = TSI, # 0 no, 1 yes free medications\n",
    "    SE_PUBT = PublicTransport, # 0 no, 1 yes\n",
    "    SE_PRIT = PrivateTransport, # 0 no, 1 yes\n",
    "    SE_ACTT = ActiveTransport, # 0 no, 1 yes\n",
    "    SE_SH = SocialHobbies, # 0 no, 1 yes\n",
    "    SE_TEH = TechEntertainmentHobbies, # 0 no, 1 yes\n",
    "    SE_CCH = CulturalCreativeHobbies, # 0 no, 1 yes\n",
    "    SE_ENH = ExerciseNatureHobbies, # 0 no, 1 yes\n",
    "    SE_PI = PersonalIncome, # Discretized RentMedPer\n",
    "    SE_HI = HouseholdIncome # Discretized RentMedHog\n",
    "  )\n",
    "\n",
    "  # Create dataframe with outcome/event variables\n",
    "  df_events <- merged_data %>%\n",
    "    select(\n",
    "      ID = Id,\n",
    "      OUT_DeathCause = CausaMuerte,\n",
    "      OUT_CardiovascularDeath = MuerteCV,\n",
    "      OUT_DeathD = Fmuerte,\n",
    "      OUT_AMI = IAM,\n",
    "      OUT_AMID = `Fecha IAM`,\n",
    "      OUT_STK = Ictus,\n",
    "      OUT_STKD = `Fecha ictus`,\n",
    "      OUT_HEM = Hemorragia,\n",
    "      OUT_HEMD = `Fecha hemorragia`,\n",
    "      OUT_REV = Revasc,\n",
    "      OUT_REVD = `Fecha revasc`\n",
    "    )\n",
    "\n",
    "dim(df_medical_history)\n",
    "dim(df_socioeconomic)\n",
    "dim(df_events)\n",
    "\n",
    "# Save these dataframes to a CSV file\n",
    "# write.csv(df_medical_history, \"MEDICAL_HISTORY_DATASET.csv\", row.names = FALSE)\n",
    "write.csv(df_socioeconomic, \"SOCIOECONOMIC_DATASET.csv\", row.names = FALSE)\n",
    "# write.csv(df_events, \"EVENTS_DATASET.csv\", row.names = FALSE)"
   ]
  },
  {
   "cell_type": "code",
   "execution_count": 76,
   "id": "f2918b82",
   "metadata": {
    "vscode": {
     "languageId": "r"
    }
   },
   "outputs": [
    {
     "data": {
      "text/html": [
       "<style>\n",
       ".list-inline {list-style: none; margin:0; padding: 0}\n",
       ".list-inline>li {display: inline-block}\n",
       ".list-inline>li:not(:last-child)::after {content: \"\\00b7\"; padding: 0 .5ex}\n",
       "</style>\n",
       "<ol class=list-inline><li>2109</li><li>54</li></ol>\n"
      ],
      "text/latex": [
       "\\begin{enumerate*}\n",
       "\\item 2109\n",
       "\\item 54\n",
       "\\end{enumerate*}\n"
      ],
      "text/markdown": [
       "1. 2109\n",
       "2. 54\n",
       "\n",
       "\n"
      ],
      "text/plain": [
       "[1] 2109   54"
      ]
     },
     "metadata": {},
     "output_type": "display_data"
    }
   ],
   "source": [
    "final_dataset <- merge(df_medical_history, df_socioeconomic, by = \"ID\", all.x = TRUE)\n",
    "final_dataset <- merge(final_dataset, df_events, by = \"ID\", all.x = TRUE)\n",
    "# print(colSums(is.na(final_dataset)))\n",
    "dim(final_dataset)\n",
    "\n",
    "# Remove rows from final_dataset where some Medical History varible has NA\n",
    "# final_dataset <- final_dataset[!final_dataset$ID %in% na_lists$list_talla, ]\n",
    "# final_dataset <- final_dataset[!final_dataset$ID %in% na_lists$list_peso, ]\n",
    "# final_dataset <- final_dataset[!final_dataset$ID %in% na_lists$list_FID, ]\n",
    "# final_dataset <- final_dataset[!final_dataset$ID %in% na_lists$list_Fumador, ]\n",
    "# final_dataset <- final_dataset[!final_dataset$ID %in% na_lists$list_Diabetes, ]\n",
    "# final_dataset <- final_dataset[!final_dataset$ID %in% na_lists$list_Hipertension, ]\n",
    "# final_dataset <- final_dataset[!final_dataset$ID %in% na_lists$list_Dislipemia, ]\n",
    "# final_dataset <- final_dataset[!final_dataset$ID %in% na_lists$list_irc, ]\n",
    "# final_dataset <- final_dataset[!final_dataset$ID %in% na_lists$list_InfartoAntiguo, ]\n",
    "# final_dataset <- final_dataset[!final_dataset$ID %in% na_lists$list_PCS, ]\n",
    "# final_dataset <- final_dataset[!final_dataset$ID %in% na_lists$list_ACTPprevia, ]\n",
    "# final_dataset <- final_dataset[!final_dataset$ID %in% na_lists$list_EnfArtPerif, ]\n",
    "# final_dataset <- final_dataset[!final_dataset$ID %in% na_lists$list_ACVpre, ]\n",
    "# final_dataset <- final_dataset[!final_dataset$ID %in% na_lists$list_HMG, ]\n",
    "\n",
    "# Remove rows from final_dataset where some socioeconomic variable has NA\n",
    "# final_dataset <- final_dataset[!final_dataset$ID %in% na_lists$list_estadocivil, ]\n",
    "# final_dataset <- final_dataset[!final_dataset$ID %in% na_lists$list_conquienvive, ]\n",
    "# final_dataset <- final_dataset[!final_dataset$ID %in% na_lists$list_conquienvive, ]\n",
    "# final_dataset <- final_dataset[!final_dataset$ID %in% na_lists$list_apoyofamiliar, ]\n",
    "# final_dataset <- final_dataset[!final_dataset$ID %in% na_lists$list_lugarresidencia, ]\n",
    "# final_dataset <- final_dataset[!final_dataset$ID %in% na_lists$list_nivelestudios, ]\n",
    "# final_dataset <- final_dataset[!final_dataset$ID %in% na_lists$list_ocupacion, ]\n",
    "# final_dataset <- final_dataset[!final_dataset$ID %in% na_lists$list_tipotrabajo, ]\n",
    "# final_dataset <- final_dataset[!final_dataset$ID %in% na_lists$list_ejercicio, ]\n",
    "# final_dataset <- final_dataset[!final_dataset$ID %in% na_lists$list_tareashogar, ]\n",
    "# final_dataset <- final_dataset[!final_dataset$ID %in% na_lists$list_tienemascota, ]\n",
    "# final_dataset <- final_dataset[!final_dataset$ID %in% na_lists$list_nhijos, ]\n",
    "# final_dataset <- final_dataset[!final_dataset$ID %in% na_lists$list_nnietos, ]\n",
    "# final_dataset <- final_dataset[!final_dataset$ID %in% na_lists$list_telefmovil, ]\n",
    "# final_dataset <- final_dataset[!final_dataset$ID %in% na_lists$list_internet, ]\n",
    "# final_dataset <- final_dataset[!final_dataset$ID %in% na_lists$list_renta, ]\n",
    "\n",
    "# Check the final dataset\n",
    "# print(colSums(is.na(final_dataset)))\n",
    "# summary(final_dataset)\n",
    "# dim(final_dataset)\n",
    "\n",
    "# Save the final dataset to a CSV file\n",
    "write.csv(final_dataset, \"FINAL_DATASET.csv\", row.names = FALSE)"
   ]
  }
 ],
 "metadata": {
  "kernelspec": {
   "display_name": "R",
   "language": "R",
   "name": "ir"
  },
  "language_info": {
   "codemirror_mode": "r",
   "file_extension": ".r",
   "mimetype": "text/x-r-source",
   "name": "R",
   "pygments_lexer": "r",
   "version": "4.4.1"
  }
 },
 "nbformat": 4,
 "nbformat_minor": 5
}
