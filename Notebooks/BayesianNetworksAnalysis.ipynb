{
 "cells": [
  {
   "cell_type": "markdown",
   "id": "831934f1",
   "metadata": {},
   "source": [
    "# Bayesian Networks Analysis\n",
    "\n",
    "`Author: José Luis Maldonado Álvarez`"
   ]
  },
  {
   "cell_type": "code",
   "execution_count": 1,
   "id": "0ef3cd5a",
   "metadata": {
    "vscode": {
     "languageId": "r"
    }
   },
   "outputs": [],
   "source": [
    "suppressWarnings(\n",
    "    suppressPackageStartupMessages({\n",
    "        library(bnlearn)\n",
    "        library(Rgraphviz)\n",
    "        library(gRain)\n",
    "        library(dplyr)\n",
    "        library(ggplot2)\n",
    "        library(gridExtra)\n",
    "        library(grid)\n",
    "        library(repr)\n",
    "    })\n",
    ")"
   ]
  },
  {
   "cell_type": "code",
   "execution_count": 2,
   "id": "927a9104",
   "metadata": {
    "vscode": {
     "languageId": "r"
    }
   },
   "outputs": [
    {
     "data": {
      "text/html": [
       "<style>\n",
       ".list-inline {list-style: none; margin:0; padding: 0}\n",
       ".list-inline>li {display: inline-block}\n",
       ".list-inline>li:not(:last-child)::after {content: \"\\00b7\"; padding: 0 .5ex}\n",
       "</style>\n",
       "<ol class=list-inline><li>2109</li><li>17</li></ol>\n"
      ],
      "text/latex": [
       "\\begin{enumerate*}\n",
       "\\item 2109\n",
       "\\item 17\n",
       "\\end{enumerate*}\n"
      ],
      "text/markdown": [
       "1. 2109\n",
       "2. 17\n",
       "\n",
       "\n"
      ],
      "text/plain": [
       "[1] 2109   17"
      ]
     },
     "metadata": {},
     "output_type": "display_data"
    },
    {
     "name": "stdout",
     "output_type": "stream",
     "text": [
      "'data.frame':\t2109 obs. of  17 variables:\n",
      " $ SE_MS   : Factor w/ 2 levels \"1\",\"2\": 1 1 2 1 1 1 1 1 1 1 ...\n",
      " $ SE_SUP  : Factor w/ 2 levels \"0\",\"1\": 2 2 2 2 2 2 2 2 2 2 ...\n",
      " $ SE_RES  : Factor w/ 2 levels \"1\",\"2\": 1 1 1 1 1 1 2 1 1 1 ...\n",
      " $ SE_STU  : Factor w/ 2 levels \"1\",\"2\": 2 1 2 1 1 1 1 1 2 1 ...\n",
      " $ SE_OCC  : Factor w/ 2 levels \"1\",\"2\": 2 1 2 1 1 1 1 2 2 1 ...\n",
      " $ SE_EX   : Factor w/ 2 levels \"0\",\"1\": 1 2 1 2 2 2 2 2 2 2 ...\n",
      " $ SE_HW   : Factor w/ 2 levels \"0\",\"1\": 1 2 1 2 1 1 1 1 2 1 ...\n",
      " $ SE_PET  : Factor w/ 2 levels \"0\",\"1\": 2 2 1 1 1 2 1 1 1 2 ...\n",
      " $ SE_INT  : Factor w/ 2 levels \"0\",\"1\": 2 2 2 2 2 2 2 2 2 2 ...\n",
      " $ SE_TSI  : Factor w/ 2 levels \"0\",\"1\": 2 1 1 2 1 1 1 2 2 2 ...\n",
      " $ SE_ACTT : Factor w/ 2 levels \"0\",\"1\": 1 1 1 1 1 1 1 1 1 1 ...\n",
      " $ SE_SH   : Factor w/ 2 levels \"0\",\"1\": 2 2 2 2 2 2 2 2 2 2 ...\n",
      " $ SE_TEH  : Factor w/ 2 levels \"0\",\"1\": 2 2 2 2 2 2 2 2 2 2 ...\n",
      " $ SE_CCH  : Factor w/ 2 levels \"0\",\"1\": 2 2 2 2 1 1 2 2 2 2 ...\n",
      " $ SE_ENH  : Factor w/ 2 levels \"0\",\"1\": 2 2 2 2 2 2 2 2 2 2 ...\n",
      " $ SE_HI   : Factor w/ 3 levels \"(30707,34138.7]\",..: 1 2 1 1 2 2 1 1 2 3 ...\n",
      " $ OUT_MACE: Factor w/ 2 levels \"0\",\"1\": 1 1 2 1 2 1 1 2 2 1 ...\n"
     ]
    }
   ],
   "source": [
    "# Load the dataset\n",
    "df <- read.csv('FINAL_DATASET.csv')\n",
    "\n",
    "# Select the socioeconomic variables and the outcome variable and convert them to factors\n",
    "data <- df %>% select(c(starts_with(\"SE_\"), OUT_MACE)) %>% mutate(across(everything(), as.factor))\n",
    "\n",
    "dim(data) # 16 predictors + 1 outcome variable\n",
    "str(data)"
   ]
  },
  {
   "cell_type": "markdown",
   "id": "5fc8f1a6",
   "metadata": {},
   "source": [
    "## Building BN with Hill-Climbing and Tabu algorithms"
   ]
  },
  {
   "cell_type": "code",
   "execution_count": 3,
   "id": "c30f08b3",
   "metadata": {
    "vscode": {
     "languageId": "r"
    }
   },
   "outputs": [
    {
     "name": "stdout",
     "output_type": "stream",
     "text": [
      "BIC score of the DAG learned with hill-climbing: -18724.23 \n",
      "BIC score of the DAG learned with tabu search: -18724.23 \n"
     ]
    },
    {
     "data": {
      "image/png": "[encoded data removed]",
      "text/plain": [
       "plot without title"
      ]
     },
     "metadata": {
      "image/png": {
       "height": 420,
       "width": 420
      }
     },
     "output_type": "display_data"
    }
   ],
   "source": [
    "# Learn the DAG using the hill-climbing algorithm\n",
    "dag_hc <- hc(data, score = \"bic\")\n",
    "score_hc <- score(dag_hc, data = data, type = \"bic\")\n",
    "\n",
    "# Learn the DAG using the tabu search algorithm\n",
    "dag_tabu <- tabu(data, score = \"bic\")\n",
    "score_tabu <- score(dag_tabu, data = data, type = \"bic\")\n",
    "\n",
    "# Compare the scores\n",
    "cat(\"BIC score of the DAG learned with hill-climbing:\", score_hc, \"\\n\")\n",
    "cat(\"BIC score of the DAG learned with tabu search:\", score_tabu, \"\\n\")\n",
    "\n",
    "# Plot the two DAGs for comparison\n",
    "mb_hc <- mb(dag_hc, \"OUT_MACE\") # Markov blanket of OUT_MACE\n",
    "mb_tabu <- mb(dag_tabu, \"OUT_MACE\") # Markov blanket of OUT_MACE\n",
    "\n",
    "# Function to assign node colors\n",
    "get_node_colors <- function(dag, mb_nodes) {\n",
    "    colors <- rep(\"#BFE8E4\", length(nodes(dag)))\n",
    "    names(colors) <- nodes(dag)\n",
    "    colors[\"OUT_MACE\"] <- \"#53868B\"\n",
    "    colors[mb_nodes] <- \"#5EA1B0\"\n",
    "    return(colors)\n",
    "}\n",
    "\n",
    "node_colors_hc <- get_node_colors(dag_hc, mb_hc)\n",
    "node_colors_tabu <- get_node_colors(dag_tabu, mb_tabu)\n",
    "\n",
    "par(mfrow = c(1, 2), bg = \"white\")\n",
    "g_hc <- graphviz.plot(dag_hc, main = \"DAG Hill-Climbing\", render = FALSE)\n",
    "graph::nodeRenderInfo(g_hc)$fill <- node_colors_hc\n",
    "Rgraphviz::renderGraph(g_hc)\n",
    "\n",
    "g_tabu <- graphviz.plot(dag_tabu, main = \"DAG Tabu\", render = FALSE)\n",
    "graph::nodeRenderInfo(g_tabu)$fill <- node_colors_tabu\n",
    "Rgraphviz::renderGraph(g_tabu)"
   ]
  },
  {
   "cell_type": "code",
   "execution_count": 4,
   "id": "e7c68572",
   "metadata": {
    "vscode": {
     "languageId": "r"
    }
   },
   "outputs": [
    {
     "name": "stdout",
     "output_type": "stream",
     "text": [
      "\n",
      "Strength of the relationships (Hill-Climbing with restrictions):\n",
      "      from       to     strength\n",
      "1   SE_OCC   SE_INT 4.382453e-39\n",
      "2   SE_INT   SE_STU 4.343418e-28\n",
      "3    SE_MS    SE_HW 8.297635e-32\n",
      "4    SE_EX  SE_ACTT 2.363184e-30\n",
      "5   SE_RES    SE_HI 5.506649e-26\n",
      "6    SE_MS   SE_SUP 3.441808e-24\n",
      "7   SE_STU   SE_CCH 6.095607e-20\n",
      "8   SE_CCH   SE_ENH 6.148273e-11\n",
      "9   SE_RES   SE_PET 1.107825e-14\n",
      "10  SE_OCC    SE_EX 9.358499e-15\n",
      "11  SE_OCC   SE_STU 2.281733e-13\n",
      "12  SE_STU   SE_RES 6.842506e-10\n",
      "13  SE_INT OUT_MACE 3.423684e-09\n",
      "14  SE_ENH    SE_SH 1.706718e-07\n",
      "15   SE_SH   SE_TEH 4.682568e-16\n",
      "16  SE_ENH    SE_EX 9.285278e-09\n",
      "17  SE_INT   SE_ENH 8.678672e-09\n",
      "18 SE_ACTT    SE_HI 7.145313e-10\n",
      "19  SE_INT   SE_PET 4.872176e-08\n",
      "20   SE_HW  SE_ACTT 4.483959e-08\n",
      "21   SE_HW   SE_CCH 7.940739e-08\n",
      "22  SE_PET    SE_MS 1.019153e-04\n",
      "23  SE_SUP    SE_HW 7.205815e-05\n",
      "24  SE_OCC   SE_TSI 3.458313e-06\n",
      "25   SE_MS   SE_TSI 7.526604e-05\n",
      "26  SE_SUP    SE_SH 2.941560e-08\n",
      "27  SE_INT    SE_MS 3.374530e-04\n",
      "\n",
      "Strength of the relationships (Tabu with restrictions):\n",
      "      from       to     strength\n",
      "1   SE_OCC   SE_INT 4.382453e-39\n",
      "2   SE_INT   SE_STU 4.343418e-28\n",
      "3    SE_MS    SE_HW 8.297635e-32\n",
      "4    SE_EX  SE_ACTT 2.363184e-30\n",
      "5   SE_RES    SE_HI 5.506649e-26\n",
      "6    SE_MS   SE_SUP 3.441808e-24\n",
      "7   SE_STU   SE_CCH 6.095607e-20\n",
      "8   SE_CCH   SE_ENH 6.148273e-11\n",
      "9   SE_RES   SE_PET 1.107825e-14\n",
      "10  SE_OCC    SE_EX 9.358499e-15\n",
      "11  SE_OCC   SE_STU 2.281733e-13\n",
      "12  SE_STU   SE_RES 6.842506e-10\n",
      "13  SE_INT OUT_MACE 3.423684e-09\n",
      "14  SE_ENH    SE_SH 1.706718e-07\n",
      "15   SE_SH   SE_TEH 4.682568e-16\n",
      "16  SE_ENH    SE_EX 9.285278e-09\n",
      "17  SE_INT   SE_ENH 8.678672e-09\n",
      "18 SE_ACTT    SE_HI 7.145313e-10\n",
      "19  SE_INT   SE_PET 4.872176e-08\n",
      "20   SE_HW  SE_ACTT 4.483959e-08\n",
      "21   SE_HW   SE_CCH 7.940739e-08\n",
      "22  SE_PET    SE_MS 1.019153e-04\n",
      "23  SE_SUP    SE_HW 7.205815e-05\n",
      "24  SE_OCC   SE_TSI 3.458313e-06\n",
      "25   SE_MS   SE_TSI 7.526604e-05\n",
      "26  SE_SUP    SE_SH 2.941560e-08\n",
      "27  SE_INT    SE_MS 3.374530e-04\n"
     ]
    }
   ],
   "source": [
    "# Calculate the strength of the relationships between nodes for the restricted models\n",
    "arc_strength_hc <- arc.strength(dag_hc, data = data, criterion = \"x2\")\n",
    "arc_strength_tabu <- arc.strength(dag_tabu, data = data, criterion = \"x2\")\n",
    "\n",
    "cat(\"\\nStrength of the relationships (Hill-Climbing with restrictions):\\n\")\n",
    "print(arc_strength_hc)\n",
    "\n",
    "cat(\"\\nStrength of the relationships (Tabu with restrictions):\\n\")\n",
    "print(arc_strength_tabu)"
   ]
  },
  {
   "cell_type": "code",
   "execution_count": 5,
   "id": "b297a453",
   "metadata": {
    "vscode": {
     "languageId": "r"
    }
   },
   "outputs": [
    {
     "name": "stdout",
     "output_type": "stream",
     "text": [
      "Bayesian Network fitted with Hill-Climbing DAG:\n",
      "  Parameters of node OUT_MACE (multinomial distribution)\n",
      "\n",
      "Conditional probability table:\n",
      " \n",
      "        SE_INT\n",
      "OUT_MACE         0         1\n",
      "       0 0.7145833 0.8354819\n",
      "       1 0.2854167 0.1645181\n",
      "Number of parameters in the fitted model: 59 \n",
      "\n",
      "Bayesian Network fitted with Tabu DAG:\n",
      "  Parameters of node OUT_MACE (multinomial distribution)\n",
      "\n",
      "Conditional probability table:\n",
      " \n",
      "        SE_INT\n",
      "OUT_MACE         0         1\n",
      "       0 0.7145833 0.8354819\n",
      "       1 0.2854167 0.1645181\n",
      "Number of parameters in the fitted model: 59 \n"
     ]
    },
    {
     "data": {
      "image/png": "[encoded data removed]",
      "text/plain": [
       "plot without title"
      ]
     },
     "metadata": {
      "image/png": {
       "height": 420,
       "width": 420
      }
     },
     "output_type": "display_data"
    }
   ],
   "source": [
    "# Fit the Bayesian networks using the learned DAGs\n",
    "set.seed(1) # For reproducibility\n",
    "\n",
    "cat(\"Bayesian Network fitted with Hill-Climbing DAG:\")\n",
    "bn_hc <- bn.fit(dag_hc, data = data)\n",
    "print(bn_hc$OUT_MACE)\n",
    "cat(\"Number of parameters in the fitted model:\", suppressWarnings(nparams(bn_hc)), \"\\n\")\n",
    "df_hc <- as.data.frame(as.table(coef(bn_hc$OUT_MACE)))\n",
    "df_hc$Method <- \"Hill-Climbing\"\n",
    "\n",
    "cat(\"\\nBayesian Network fitted with Tabu DAG:\")\n",
    "bn_tabu <- bn.fit(dag_tabu, data = data)\n",
    "print(bn_tabu$OUT_MACE)\n",
    "cat(\"Number of parameters in the fitted model:\", suppressWarnings(nparams(bn_tabu)), \"\\n\")\n",
    "df_tabu <- as.data.frame(as.table(coef(bn_tabu$OUT_MACE)))\n",
    "df_tabu$Method <- \"Tabu\"\n",
    "\n",
    "# Combine data for both plots\n",
    "df_combined <- rbind(df_hc, df_tabu)\n",
    "\n",
    "# Plot both in one using facets\n",
    "# Calculate marginal probability of OUT_MACE = \"1\"\n",
    "marginal_prob <- prop.table(table(data$OUT_MACE))\n",
    "\n",
    "ggplot(df_combined, aes(x = SE_INT, y = Freq, fill = OUT_MACE)) +\n",
    "        geom_bar(stat = \"identity\", position = \"dodge\") +\n",
    "        facet_wrap(~Method) +\n",
    "        labs(title = \"Conditional Probability Table - MACE\",\n",
    "                 x = \"SE_INT Level\", y = \"Probability\") +\n",
    "        theme_minimal() +\n",
    "        geom_hline(yintercept = marginal_prob[\"1\"], linetype = \"dashed\", color = \"black\", linewidth = 1) +\n",
    "        annotate(\"text\", x = Inf, y = marginal_prob[\"1\"], label = sprintf(\"Marginal OUT_MACE=1: %.2f\", marginal_prob[\"1\"]),\n",
    "                         vjust = -0.5, hjust = 1.1, color = \"black\", size = 4)+\n",
    "        geom_hline(yintercept = marginal_prob[\"0\"], linetype = \"dashed\", color = \"black\", linewidth = 1) +\n",
    "        annotate(\"text\", x = Inf, y = marginal_prob[\"0\"], label = sprintf(\"Marginal OUT_MACE=0: %.2f\", marginal_prob[\"0\"]),\n",
    "                         vjust = -0.5, hjust = 1.1, color = \"black\", size = 4)\n",
    "        "
   ]
  },
  {
   "cell_type": "code",
   "execution_count": 6,
   "id": "8e3ea34e",
   "metadata": {
    "vscode": {
     "languageId": "r"
    }
   },
   "outputs": [
    {
     "name": "stdout",
     "output_type": "stream",
     "text": [
      "\n",
      "Inference using the bnlearn package with evidence SE_INT = 1:[1] 0.1643889\n",
      "Conditional probability of OUT_MACE given SE_INT = 1:\n",
      "OUT_MACE\n",
      "        0         1 \n",
      "0.8354819 0.1645181 \n",
      "Conditional probability of OUT_MACE given SE_INT = 1 and SE_STU = 1:\n",
      "OUT_MACE\n",
      "        0         1 \n",
      "0.8354819 0.1645181 \n",
      "Conditional probability of OUT_MACE given SE_INT = 1 and SE_OCC = 1:\n",
      "OUT_MACE\n",
      "        0         1 \n",
      "0.8354819 0.1645181 \n",
      "Conditional probability of OUT_MACE given SE_OCC = 1:\n",
      "OUT_MACE\n",
      "        0         1 \n",
      "0.7987358 0.2012642 \n",
      "Conditional probability of OUT_MACE given SE_STU = 1:\n",
      "OUT_MACE\n",
      "        0         1 \n",
      "0.7950824 0.2049176 \n",
      "Conditional probability of OUT_MACE given SE_OCC = 1 and SE_STU = 1:\n",
      "OUT_MACE\n",
      "        0         1 \n",
      "0.7876443 0.2123557 \n",
      "Conditional probability of OUT_MACE given SE_PET = 1:\n",
      "OUT_MACE\n",
      "        0         1 \n",
      "0.8156878 0.1843122 \n"
     ]
    }
   ],
   "source": [
    "# Perform inference using the bnlearn package\n",
    "cat(\"\\nInference using the bnlearn package with evidence SE_INT = 1:\")\n",
    "print(cpquery(bn_hc, event = (OUT_MACE == \"1\"), evidence = (SE_INT == \"1\")))\n",
    "\n",
    "# Perform inference using the gRain package (exact inference)\n",
    "bn_hc_grain <- compile(as.grain(bn_hc))\n",
    "cat(\"Conditional probability of OUT_MACE given SE_INT = 1:\\n\")\n",
    "print(querygrain(bn_hc_grain, nodes = \"OUT_MACE\", evidence = list(SE_INT = \"1\"))$OUT_MACE)\n",
    "cat(\"Conditional probability of OUT_MACE given SE_INT = 1 and SE_STU = 1:\\n\")\n",
    "print(querygrain(bn_hc_grain, nodes = \"OUT_MACE\", evidence = list(SE_INT = \"1\", SE_STU = \"1\"))$OUT_MACE)\n",
    "cat(\"Conditional probability of OUT_MACE given SE_INT = 1 and SE_OCC = 1:\\n\")\n",
    "print(querygrain(bn_hc_grain, nodes = \"OUT_MACE\", evidence = list(SE_INT = \"1\", SE_OCC = \"1\"))$OUT_MACE)\n",
    "cat(\"Conditional probability of OUT_MACE given SE_OCC = 1:\\n\")\n",
    "print(querygrain(bn_hc_grain, nodes = \"OUT_MACE\", evidence = list(SE_OCC = \"1\"))$OUT_MACE)\n",
    "cat(\"Conditional probability of OUT_MACE given SE_STU = 1:\\n\")\n",
    "print(querygrain(bn_hc_grain, nodes = \"OUT_MACE\", evidence = list(SE_STU = \"1\"))$OUT_MACE)\n",
    "cat(\"Conditional probability of OUT_MACE given SE_OCC = 1 and SE_STU = 1:\\n\")\n",
    "print(querygrain(bn_hc_grain, nodes = \"OUT_MACE\", evidence = list(SE_OCC = \"1\", SE_STU = \"1\"))$OUT_MACE)\n",
    "cat(\"Conditional probability of OUT_MACE given SE_PET = 1:\\n\")\n",
    "print(querygrain(bn_hc_grain, nodes = \"OUT_MACE\", evidence = list(SE_PET = \"1\"))$OUT_MACE)"
   ]
  },
  {
   "cell_type": "code",
   "execution_count": 7,
   "id": "4c637a42",
   "metadata": {
    "vscode": {
     "languageId": "r"
    }
   },
   "outputs": [
    {
     "name": "stdout",
     "output_type": "stream",
     "text": [
      "Exact conditional probabilities of OUT_MACE = 1:\n",
      "$`OUT_MACE|SE_INT=1`\n",
      "        1 \n",
      "0.1645181 \n",
      "\n",
      "$`OUT_MACE|SE_STU=1`\n",
      "        1 \n",
      "0.2049176 \n",
      "\n",
      "$`OUT_MACE|SE_OCC=1`\n",
      "        1 \n",
      "0.2012642 \n",
      "\n",
      "$`OUT_MACE|SE_INT=1,SE_STU=1`\n",
      "        1 \n",
      "0.1645181 \n",
      "\n",
      "$`OUT_MACE|SE_INT=1,SE_OCC=1`\n",
      "        1 \n",
      "0.1645181 \n",
      "\n",
      "$`OUT_MACE|SE_OCC=1,SE_STU=1`\n",
      "        1 \n",
      "0.2123557 \n",
      "\n"
     ]
    },
    {
     "data": {
      "image/png": "[encoded data removed]",
      "text/plain": [
       "plot without title"
      ]
     },
     "metadata": {
      "image/png": {
       "height": 900,
       "width": 900
      }
     },
     "output_type": "display_data"
    }
   ],
   "source": [
    "# Exact inference for the Bayesian network using the hill-climbing DAG\n",
    "bn_hc_grain <- compile(as.grain(bn_hc))\n",
    "\n",
    "# Store exact probabilities for each query in a named list\n",
    "exact_probs <- list(\n",
    "    \"OUT_MACE|SE_INT=1\" = querygrain(bn_hc_grain, nodes = \"OUT_MACE\", evidence = list(SE_INT = \"1\"))$OUT_MACE[\"1\"],\n",
    "    \"OUT_MACE|SE_STU=1\" = querygrain(bn_hc_grain, nodes = \"OUT_MACE\", evidence = list(SE_STU = \"1\"))$OUT_MACE[\"1\"],\n",
    "    \"OUT_MACE|SE_OCC=1\" = querygrain(bn_hc_grain, nodes = \"OUT_MACE\", evidence = list(SE_OCC = \"1\"))$OUT_MACE[\"1\"],\n",
    "    \"OUT_MACE|SE_INT=1,SE_STU=1\" = querygrain(bn_hc_grain, nodes = \"OUT_MACE\", evidence = list(SE_INT = \"1\", SE_STU = \"1\"))$OUT_MACE[\"1\"],\n",
    "    \"OUT_MACE|SE_INT=1,SE_OCC=1\" = querygrain(bn_hc_grain, nodes = \"OUT_MACE\", evidence = list(SE_INT = \"1\", SE_OCC = \"1\"))$OUT_MACE[\"1\"],\n",
    "    \"OUT_MACE|SE_OCC=1,SE_STU=1\" = querygrain(bn_hc_grain, nodes = \"OUT_MACE\", evidence = list(SE_OCC = \"1\", SE_STU = \"1\"))$OUT_MACE[\"1\"]\n",
    ")\n",
    "\n",
    "# Print all exact probabilities in a compact way\n",
    "cat(\"Exact conditional probabilities of OUT_MACE = 1:\\n\")\n",
    "print(exact_probs)\n",
    "\n",
    "# Approximate inference using cpquery\n",
    "set.seed(0)\n",
    "approx_outmace_seint1 <- replicate(100, cpquery(bn_hc, event = (OUT_MACE == \"1\"), evidence = (SE_INT == \"1\")))\n",
    "approx_outmace_sestu1 <- replicate(100, cpquery(bn_hc, event = (OUT_MACE == \"1\"), evidence = (SE_STU == \"1\")))\n",
    "approx_outmace_seocc1 <- replicate(100, cpquery(bn_hc, event = (OUT_MACE == \"1\"), evidence = (SE_OCC == \"1\")))\n",
    "approx_outmace_seint1_sestu1 <- replicate(100, cpquery(bn_hc, event = (OUT_MACE == \"1\"), evidence = ((SE_INT == \"1\") & (SE_STU == \"1\"))))\n",
    "approx_outmace_seint1_seocc1 <- replicate(100, cpquery(bn_hc, event = (OUT_MACE == \"1\"), evidence = ((SE_INT == \"1\") & (SE_OCC == \"1\"))))\n",
    "approx_outmace_seocc1_sestu1 <- replicate(100, cpquery(bn_hc, event = (OUT_MACE == \"1\"), evidence = ((SE_OCC == \"1\") & (SE_STU == \"1\"))))\n",
    "\n",
    "# Combine results into a data frame for visualization\n",
    "approx_results <- data.frame(\n",
    "    Variable = rep(c(\n",
    "        \"OUT_MACE|SE_INT=1\",\n",
    "        \"OUT_MACE|SE_STU=1\",\n",
    "        \"OUT_MACE|SE_OCC=1\",\n",
    "        \"OUT_MACE|SE_INT=1,SE_STU=1\",\n",
    "        \"OUT_MACE|SE_INT=1,SE_OCC=1\",\n",
    "        \"OUT_MACE|SE_OCC=1,SE_STU=1\"\n",
    "    ), each = 100),\n",
    "    Probability = c(\n",
    "        approx_outmace_seint1,\n",
    "        approx_outmace_sestu1,\n",
    "        approx_outmace_seocc1,\n",
    "        approx_outmace_seint1_sestu1,\n",
    "        approx_outmace_seint1_seocc1,\n",
    "        approx_outmace_seocc1_sestu1\n",
    "    )\n",
    ")\n",
    "\n",
    "options(repr.plot.width = 15, repr.plot.height = 15)\n",
    "\n",
    "# Create boxplots for each query, add exact inference line\n",
    "plots <- lapply(unique(approx_results$Variable), function(var) {\n",
    "    ggplot(subset(approx_results, Variable == var), aes(x = Variable, y = Probability)) +\n",
    "        geom_boxplot(fill = \"#BFE8E4\") +\n",
    "        geom_hline(yintercept = exact_probs[[var]], linetype = \"dashed\", color = \"#53868B\", lwd = 0.75) +\n",
    "        labs(x = \"Query\", y = \"Probability\", title = var) +\n",
    "        theme_minimal()\n",
    "})\n",
    "\n",
    "# Arrange plots in a grid with bold and centered title\n",
    "grid.arrange(\n",
    "    grobs = plots,\n",
    "    ncol = 3,\n",
    "    top = textGrob(\"Dispersion of Approximate Inference Estimates\", gp = gpar(fontsize = 16, fontface = \"bold\"), just = \"center\", hjust = 0.5),\n",
    "    bottom = textGrob(\"Dashed lines show exact inference\", gp = gpar(fontsize = 12, fontface = \"italic\"))\n",
    ")"
   ]
  },
  {
   "cell_type": "code",
   "execution_count": 8,
   "id": "026a2091",
   "metadata": {
    "vscode": {
     "languageId": "r"
    }
   },
   "outputs": [],
   "source": [
    "options(repr.plot.width = NULL, repr.plot.height = NULL) # Reset plot dimensions"
   ]
  },
  {
   "cell_type": "code",
   "execution_count": 9,
   "id": "f7d3b8e7",
   "metadata": {
    "vscode": {
     "languageId": "r"
    }
   },
   "outputs": [
    {
     "data": {
      "image/png": "[encoded data removed]",
      "text/plain": [
       "plot without title"
      ]
     },
     "metadata": {
      "image/png": {
       "height": 420,
       "width": 420
      }
     },
     "output_type": "display_data"
    }
   ],
   "source": [
    "# Learn DAG with restrictions\n",
    "dag_hc2 <- hc(data, score = \"bic\", blacklist = matrix(c(\"SE_INT\",\"OUT_MACE\",\"OUT_MACE\",\"SE_INT\"), ncol = 2, byrow = TRUE))\n",
    "score_hc <- score(dag_hc2, data = data, type = \"bic\")\n",
    "par(bg = \"white\")\n",
    "graphviz.plot(dag_hc2, main = \"DAG Hill-Climbing with Restrictions\")"
   ]
  },
  {
   "cell_type": "markdown",
   "id": "d4a6ccfa",
   "metadata": {},
   "source": [
    "## Bootstrap BN creation "
   ]
  },
  {
   "cell_type": "code",
   "execution_count": 10,
   "id": "070c6358",
   "metadata": {
    "vscode": {
     "languageId": "r"
    }
   },
   "outputs": [],
   "source": [
    "# Function to color the nodes\n",
    "color_nodes <- function(nodes, mmarkov, target) {\n",
    "    sapply(nodes, function(node) {\n",
    "        if (node %in% mmarkov) {\n",
    "            \"#5EA1B0\"\n",
    "        } else if (node == target) {\n",
    "            \"#53868B\"\n",
    "        } else if (startsWith(node, \"SE\")) {\n",
    "            \"#BFE8E4\"\n",
    "        } else {\n",
    "            \"white\"\n",
    "        }\n",
    "    })\n",
    "}\n",
    "\n",
    "# Function to draw the final DAG and show the strength of the arcs\n",
    "draw_final_dag <- function(arcs, nodes, mmarkov, target, data, size){\n",
    "    arcs <- unique(arcs)\n",
    "    dag <- empty.graph(nodes)\n",
    "    arcs(dag) <- arcs\n",
    "    g <- graphviz.plot(dag, render = FALSE)\n",
    "    attrs <- list(node = list(shape = \"ellipse\", fontsize = 30, fillcolor = \"lightgrey\", style = \"filled\"),\n",
    "                  edge = list(arrowsize = 1), graph = list(bgcolor = \"white\"))\n",
    "    graph::graphRenderInfo(g) <- attrs\n",
    "    colors <- color_nodes(nodes, mmarkov, target)\n",
    "    graph::nodeRenderInfo(g)$fill <- colors\n",
    "    graph::nodeRenderInfo(g)$col <- \"black\"\n",
    "    graph::nodeRenderInfo(g)$textCol <- \"black\"\n",
    "    graph::nodeRenderInfo(g)$fontsize <- 30\n",
    "    variables <- intersect(names(data), nodes)\n",
    "    data <- data[, variables, drop = FALSE]\n",
    "    arc_strengths <- suppressWarnings(arc.strength(dag, data = data, criterion = \"bic\"))\n",
    "    arc_strengths <- arc_strengths[order(-arc_strengths$strength), ]\n",
    "    arc_strengths$abs_strength <- abs(as.numeric(sub(\".*?(-?\\\\d+).*\", \"\\\\1\", as.character(arc_strengths$strength))))\n",
    "    arc_strengths$width <- cut(arc_strengths$abs_strength, breaks = c(-Inf, 10, 20, 50, 100, 200, Inf), labels = c(1, 2, 3, 4, 5, 6))\n",
    "    edge_weights <- setNames(as.numeric(arc_strengths$width), paste(arc_strengths$from, arc_strengths$to, sep = \"~\"))\n",
    "    edgeRenderInfo(g)$lwd <- edge_weights\n",
    "    edgeRenderInfo(g)$col <- \"black\"\n",
    "    cat(\"Final arcs ordered by strength:\\n\")\n",
    "    print(arc_strengths[, c(\"from\", \"to\", \"strength\", \"abs_strength\", \"width\")])\n",
    "    Rgraphviz::renderGraph(g)\n",
    "}\n",
    "\n",
    "# Bootstrap funtion for the DAG (using 100 iterations by default)\n",
    "create_dag_bootstrap <- function(data, target, n_iter = 100, seed = 1){\n",
    "    set.seed(seed)\n",
    "    results <- list()\n",
    "    for (i in 1:n_iter) {\n",
    "        sample <- data[sample(nrow(data), replace = TRUE), ]\n",
    "        structure <- hc(sample) # Create the structure of the Bayesian Network using hc\n",
    "        arcs <- arcs(structure)\n",
    "        nodes <- nodes(structure)\n",
    "        mmarkov <- mb(structure, node = target)\n",
    "        results[[i]] <- list(structure = structure, arcs = arcs, nodes = nodes, mmarkov = mmarkov)\n",
    "    }\n",
    "    return(results)\n",
    "}\n",
    "\n",
    "# Function to calculate the frequency of each arcs\n",
    "calculate_arc_frequency <- function(results){\n",
    "    arcs_list <- lapply(results, function(res) {\n",
    "        arcs <- res$arcs\n",
    "        data.frame(from = arcs[, 1], to = arcs[, 2])\n",
    "    })\n",
    "    combined_arcs <- do.call(rbind, arcs_list)\n",
    "    arcs_table <- as.data.frame(table(paste(combined_arcs$from, combined_arcs$to, sep = \"~\")))\n",
    "    arcs_table <- arcs_table[order(-arcs_table$Freq), ]\n",
    "    separated_arcs <- as.data.frame(do.call(rbind, strsplit(as.character(arcs_table$Var1), \"~\")))\n",
    "    colnames(separated_arcs) <- c(\"from\", \"to\")\n",
    "    arcs_table <- cbind(separated_arcs, arcs_table$Freq)\n",
    "    colnames(arcs_table) <- c(\"from\", \"to\", \"Freq\")\n",
    "    return(arcs_table)\n",
    "}\n",
    "\n",
    "# Function to check if an arc exists in the graph (useful to avoid some arcs)\n",
    "arc_exists <- function(graph, from, to) {\n",
    "    present_arc <- arcs(graph)\n",
    "    return(any(present_arc[, 1] == from & present_arc[, 2] == to) ||\n",
    "                 any(present_arc[, 1] == to & present_arc[, 2] == from))\n",
    "}\n",
    "\n",
    "# Function to create the final network\n",
    "create_final_network <- function(arc_frequency, threshold = 50) {\n",
    "    filtered_arcs <- arc_frequency %>% filter(Freq >= threshold)\n",
    "    nodes <- unique(c(filtered_arcs$from, filtered_arcs$to))\n",
    "    final_network <- empty.graph(nodes)\n",
    "    for (i in 1:nrow(filtered_arcs)) {\n",
    "        from <- as.character(filtered_arcs$from[i])\n",
    "        to <- as.character(filtered_arcs$to[i])\n",
    "        if (!is.null(from) && !is.null(to) && !arc_exists(final_network, from, to)) {\n",
    "            if (to != \"MH_AGE\" && to != \"MH_SEX\") {\n",
    "                try(final_network <- set.arc(final_network, from, to), silent = TRUE)\n",
    "            }\n",
    "        }\n",
    "    }\n",
    "    return(final_network)\n",
    "}\n",
    "\n",
    "# MAIN FUNCTION\n",
    "perform_analysis <- function(data, target, n_iter = 100, threshold = 40, seed = 1){\n",
    "    bootstrap_results <- create_dag_bootstrap(data, target, n_iter, seed)\n",
    "    arc_frequency <- calculate_arc_frequency(bootstrap_results)\n",
    "    cat(\"Frecuency of arcs in the bootstrap samples:\\n\")\n",
    "    print(arc_frequency)\n",
    "    BNet <- create_final_network(arc_frequency, threshold)\n",
    "    cat(\"\\nFinal Bayesian Network structure:\\n\")\n",
    "    print(BNet)\n",
    "    network_variables <- nodes(BNet)\n",
    "    final_data <- data[, network_variables, drop = FALSE]\n",
    "    bn_fitted <- bn.fit(BNet, data = final_data, method = \"bayes\")\n",
    "    cat(\"Number of parameters in the final model:\", suppressWarnings(nparams(bn_fitted)),\"\\n\")\n",
    "    draw_final_dag(arcs(BNet), nodes(BNet), mb(BNet, target), target, final_data, size = 15)\n",
    "    grain_network <- as.grain(bn_fitted) # Convert to gRain network for queries\n",
    "    junction <- compile(grain_network)\n",
    "    \n",
    "    # Create bar chart for the target variable using bn.fit.barchart\n",
    "    bn.fit.barchart(bn_fitted[[target]])\n",
    "    \n",
    "    return(list(BNet = BNet, bn_fitted = bn_fitted, final_data = final_data, junction = junction))\n",
    "}"
   ]
  },
  {
   "cell_type": "code",
   "execution_count": 11,
   "id": "a331a7f8",
   "metadata": {
    "vscode": {
     "languageId": "r"
    }
   },
   "outputs": [
    {
     "name": "stdout",
     "output_type": "stream",
     "text": [
      "Frecuency of arcs in the bootstrap samples:\n",
      "        from       to Freq\n",
      "1      SE_EX  SE_ACTT   99\n",
      "2      SE_MS   SE_SUP   99\n",
      "3      SE_SH   SE_TEH   98\n",
      "4     SE_RES    SE_HI   97\n",
      "5     SE_STU   SE_CCH   97\n",
      "6     SE_INT OUT_MACE   95\n",
      "7    SE_ACTT    SE_HI   94\n",
      "8     SE_OCC    SE_EX   90\n",
      "9      SE_MS    SE_HW   88\n",
      "10    SE_INT   SE_ENH   87\n",
      "11    SE_CCH   SE_ENH   79\n",
      "12     SE_HW  SE_ACTT   79\n",
      "13    SE_ENH    SE_SH   78\n",
      "14    SE_RES   SE_PET   78\n",
      "15    SE_ENH    SE_EX   76\n",
      "16    SE_OCC   SE_INT   70\n",
      "17    SE_OCC   SE_STU   65\n",
      "18    SE_INT   SE_STU   56\n",
      "19    SE_PET    SE_MS   53\n",
      "20    SE_SUP    SE_SH   52\n",
      "21    SE_INT   SE_CCH   50\n",
      "22    SE_OCC   SE_TSI   49\n",
      "23     SE_HW   SE_SUP   48\n",
      "24    SE_RES   SE_STU   47\n",
      "25    SE_STU   SE_RES   45\n",
      "26    SE_CCH    SE_SH   44\n",
      "27    SE_INT    SE_MS   44\n",
      "28    SE_STU   SE_INT   44\n",
      "29     SE_HW   SE_CCH   43\n",
      "30    SE_SUP    SE_HW   42\n",
      "31    SE_PET   SE_INT   38\n",
      "32    SE_STU   SE_OCC   35\n",
      "33    SE_CCH    SE_HW   31\n",
      "34    SE_ENH   SE_TSI   31\n",
      "35    SE_PET   SE_OCC   31\n",
      "36    SE_INT   SE_OCC   30\n",
      "37     SE_MS   SE_TSI   30\n",
      "38     SE_EX    SE_MS   28\n",
      "39    SE_INT   SE_PET   27\n",
      "40    SE_OCC   SE_PET   24\n",
      "41    SE_STU   SE_TSI   24\n",
      "42    SE_PET   SE_RES   22\n",
      "43   SE_ACTT   SE_PET   19\n",
      "44    SE_ENH   SE_CCH   18\n",
      "45    SE_ENH    SE_HW   18\n",
      "46    SE_RES    SE_EX   18\n",
      "47    SE_OCC   SE_CCH   17\n",
      "48    SE_PET OUT_MACE   17\n",
      "49     SE_HW OUT_MACE   15\n",
      "50     SE_MS    SE_EX   15\n",
      "51     SE_MS   SE_PET   15\n",
      "52    SE_STU   SE_ENH   14\n",
      "53    SE_CCH    SE_EX   13\n",
      "54     SE_HW    SE_MS   12\n",
      "55     SE_MS   SE_INT   11\n",
      "56   SE_ACTT    SE_HW   10\n",
      "57     SE_EX   SE_OCC   10\n",
      "58    SE_INT  SE_ACTT   10\n",
      "59    SE_OCC OUT_MACE   10\n",
      "60    SE_PET  SE_ACTT   10\n",
      "61    SE_SUP    SE_EX    7\n",
      "62    SE_RES   SE_TSI    6\n",
      "63    SE_STU   SE_TEH    6\n",
      "64    SE_TSI   SE_OCC    6\n",
      "65  OUT_MACE    SE_SH    5\n",
      "66     SE_EX   SE_TEH    5\n",
      "67     SE_EX   SE_TSI    5\n",
      "68     SE_MS    SE_SH    5\n",
      "69    SE_PET   SE_TSI    5\n",
      "70     SE_SH   SE_SUP    5\n",
      "71    SE_STU OUT_MACE    5\n",
      "72    SE_TSI   SE_ENH    5\n",
      "73  OUT_MACE    SE_HW    4\n",
      "74    SE_CCH   SE_TEH    4\n",
      "75    SE_ENH   SE_INT    4\n",
      "76    SE_RES   SE_SUP    4\n",
      "77     SE_SH   SE_ENH    4\n",
      "78    SE_STU    SE_EX    4\n",
      "79   SE_ACTT   SE_TSI    3\n",
      "80    SE_CCH   SE_INT    3\n",
      "81    SE_CCH   SE_RES    3\n",
      "82    SE_CCH   SE_STU    3\n",
      "83     SE_EX   SE_ENH    3\n",
      "84     SE_HI   SE_RES    3\n",
      "85     SE_HI   SE_TSI    3\n",
      "86     SE_MS   SE_OCC    3\n",
      "87    SE_OCC   SE_ENH    3\n",
      "88    SE_STU  SE_ACTT    3\n",
      "89    SE_STU   SE_PET    3\n",
      "90    SE_STU   SE_SUP    3\n",
      "91    SE_SUP   SE_RES    3\n",
      "92  OUT_MACE   SE_INT    2\n",
      "93  OUT_MACE   SE_STU    2\n",
      "94    SE_CCH  SE_ACTT    2\n",
      "95    SE_ENH    SE_MS    2\n",
      "96    SE_ENH   SE_RES    2\n",
      "97    SE_ENH   SE_TEH    2\n",
      "98     SE_EX    SE_HW    2\n",
      "99     SE_HW   SE_TSI    2\n",
      "100   SE_OCC    SE_MS    2\n",
      "101   SE_OCC   SE_SUP    2\n",
      "102   SE_PET    SE_HI    2\n",
      "103   SE_PET   SE_STU    2\n",
      "104   SE_RES OUT_MACE    2\n",
      "105   SE_RES    SE_SH    2\n",
      "106    SE_SH    SE_MS    2\n",
      "107   SE_SUP   SE_TSI    2\n",
      "108 OUT_MACE   SE_PET    1\n",
      "109  SE_ACTT   SE_CCH    1\n",
      "110  SE_ACTT    SE_EX    1\n",
      "111  SE_ACTT    SE_SH    1\n",
      "112   SE_CCH OUT_MACE    1\n",
      "113   SE_CCH   SE_TSI    1\n",
      "114   SE_ENH   SE_STU    1\n",
      "115    SE_EX   SE_CCH    1\n",
      "116    SE_EX   SE_PET    1\n",
      "117    SE_EX   SE_RES    1\n",
      "118    SE_HI  SE_ACTT    1\n",
      "119    SE_HI   SE_STU    1\n",
      "120    SE_HI   SE_SUP    1\n",
      "121    SE_HW   SE_ENH    1\n",
      "122    SE_HW   SE_PET    1\n",
      "123    SE_HW   SE_RES    1\n",
      "124   SE_INT    SE_EX    1\n",
      "125   SE_INT    SE_HI    1\n",
      "126    SE_MS OUT_MACE    1\n",
      "127    SE_MS   SE_RES    1\n",
      "128   SE_OCC  SE_ACTT    1\n",
      "129   SE_RES   SE_CCH    1\n",
      "130   SE_RES   SE_INT    1\n",
      "131    SE_SH OUT_MACE    1\n",
      "132    SE_SH   SE_TSI    1\n",
      "133   SE_STU    SE_HI    1\n",
      "134   SE_SUP OUT_MACE    1\n",
      "135   SE_SUP    SE_MS    1\n",
      "136   SE_TEH   SE_INT    1\n",
      "137   SE_TEH    SE_SH    1\n",
      "138   SE_TSI    SE_MS    1\n",
      "139   SE_TSI   SE_PET    1\n",
      "140   SE_TSI   SE_RES    1\n",
      "\n",
      "Final Bayesian Network structure:\n",
      "\n",
      "  Random/Generated Bayesian network\n",
      "\n",
      "  model:\n",
      "   [SE_RES][SE_OCC][SE_INT|SE_OCC][SE_PET|SE_RES][SE_TSI|SE_OCC]\n",
      "   [SE_MS|SE_INT:SE_PET][SE_STU|SE_RES:SE_INT:SE_OCC][OUT_MACE|SE_INT]\n",
      "   [SE_HW|SE_MS][SE_CCH|SE_STU:SE_INT:SE_HW][SE_SUP|SE_MS:SE_HW]\n",
      "   [SE_ENH|SE_INT:SE_CCH][SE_EX|SE_OCC:SE_ENH][SE_SH|SE_CCH:SE_ENH:SE_SUP]\n",
      "   [SE_ACTT|SE_EX:SE_HW][SE_TEH|SE_SH][SE_HI|SE_RES:SE_ACTT]\n",
      "  nodes:                                 17 \n",
      "  arcs:                                  27 \n",
      "    undirected arcs:                     0 \n",
      "    directed arcs:                       27 \n",
      "  average markov blanket size:           4.35 \n",
      "  average neighbourhood size:            3.18 \n",
      "  average branching factor:              1.59 \n",
      "\n",
      "  generation algorithm:                  Empty \n",
      "\n",
      "Number of parameters in the final model: 66 \n",
      "Final arcs ordered by strength:\n",
      "      from       to      strength abs_strength width\n",
      "25  SE_CCH    SE_SH    6.11863146            6     1\n",
      "20  SE_SUP    SE_SH    3.93546147            3     1\n",
      "13  SE_ENH    SE_SH    2.58401455            2     1\n",
      "21  SE_INT   SE_CCH    0.07313752            0     1\n",
      "26  SE_INT    SE_MS   -0.16449048            0     1\n",
      "19  SE_PET    SE_MS   -1.75201100            1     1\n",
      "27   SE_HW   SE_CCH   -2.59742338            2     1\n",
      "22  SE_OCC   SE_TSI   -4.15343249            4     1\n",
      "23   SE_HW   SE_SUP   -4.56217728            4     1\n",
      "24  SE_RES   SE_STU   -6.34187935            6     1\n",
      "12   SE_HW  SE_ACTT   -9.42364886            9     1\n",
      "7  SE_ACTT    SE_HI   -9.93132372            9     1\n",
      "10  SE_INT   SE_ENH  -10.64280756           10     1\n",
      "15  SE_ENH    SE_EX  -10.75981658           10     1\n",
      "3    SE_SH   SE_TEH  -10.78891124           10     1\n",
      "6   SE_INT OUT_MACE  -12.46710679           12     2\n",
      "5   SE_STU   SE_CCH  -15.03192716           15     2\n",
      "11  SE_CCH   SE_ENH  -15.49655469           15     2\n",
      "17  SE_OCC   SE_STU  -16.02816428           16     2\n",
      "8   SE_OCC    SE_EX  -23.98638613           23     3\n",
      "14  SE_RES   SE_PET  -26.73517526           26     3\n",
      "2    SE_MS   SE_SUP  -27.39107478           27     3\n",
      "4   SE_RES    SE_HI  -50.42051129           50     3\n",
      "18  SE_INT   SE_STU  -53.02333317           53     4\n",
      "1    SE_EX  SE_ACTT  -59.51769608           59     4\n",
      "9    SE_MS    SE_HW  -77.61434974           77     4\n",
      "16  SE_OCC   SE_INT -103.50980451          103     5\n"
     ]
    },
    {
     "data": {
      "image/png": "[encoded data removed]",
      "text/plain": [
       "plot without title"
      ]
     },
     "metadata": {
      "image/png": {
       "height": 420,
       "width": 420
      }
     },
     "output_type": "display_data"
    },
    {
     "data": {
      "image/png": "[encoded data removed]",
      "text/plain": [
       "plot without title"
      ]
     },
     "metadata": {
      "image/png": {
       "height": 420,
       "width": 420
      }
     },
     "output_type": "display_data"
    }
   ],
   "source": [
    "par(bg = \"white\")\n",
    "bn_final <- perform_analysis(data, \"OUT_MACE\", n_iter = 100, threshold = 40, seed = 1)"
   ]
  },
  {
   "cell_type": "code",
   "execution_count": 12,
   "id": "5ff67228",
   "metadata": {
    "vscode": {
     "languageId": "r"
    }
   },
   "outputs": [
    {
     "name": "stdout",
     "output_type": "stream",
     "text": [
      "\n",
      "\tMutual Information (disc.)\n",
      "\n",
      "data:  SE_INT ~ OUT_MACE  \n",
      "mi = 32.588, df = 1, p-value = 1.139e-08\n",
      "alternative hypothesis: true value is greater than 0\n",
      "\n"
     ]
    },
    {
     "data": {
      "image/png": "[encoded data removed]",
      "text/plain": [
       "Plot with title \"Distribution of SE_INT over OUT_MACE\""
      ]
     },
     "metadata": {
      "image/png": {
       "height": 420,
       "width": 420
      }
     },
     "output_type": "display_data"
    }
   ],
   "source": [
    "# Function to compare two variables with a barplot and a chi-square test\n",
    "compare_variables <- function(data, variable1, variable2){\n",
    "    test_result <- ci.test(variable1, variable2, data = data)\n",
    "    print(test_result)\n",
    "    table <- table(data[, variable1], data[, variable2])\n",
    "    par(bg = \"white\")\n",
    "    barplot(table, beside = TRUE, legend = TRUE, col = rainbow(nrow(table)), \n",
    "                    xlab = variable2, ylab = \"Frequency\", main = paste(\"Distribution of\", variable1, \"over\", variable2))\n",
    "}\n",
    "\n",
    "compare_variables(data, \"SE_INT\", \"OUT_MACE\")"
   ]
  },
  {
   "cell_type": "code",
   "execution_count": 13,
   "id": "4601ceb9",
   "metadata": {
    "vscode": {
     "languageId": "r"
    }
   },
   "outputs": [
    {
     "name": "stdout",
     "output_type": "stream",
     "text": [
      "Exact conditional probabilities of OUT_MACE = 1:\n",
      "$`OUT_MACE|SE_INT=1`\n",
      "       1 \n",
      "0.164621 \n",
      "\n",
      "$`OUT_MACE|SE_INT=0`\n",
      "      1 \n",
      "0.28564 \n",
      "\n",
      "$`OUT_MACE|SE_STU=1`\n",
      "        1 \n",
      "0.2048291 \n",
      "\n",
      "$`OUT_MACE|SE_OCC=1`\n",
      "        1 \n",
      "0.2014116 \n",
      "\n",
      "$`OUT_MACE|SE_CCH=1`\n",
      "        1 \n",
      "0.1874391 \n",
      "\n",
      "$`OUT_MACE|SE_INT=1,SE_STU=1`\n",
      "       1 \n",
      "0.164621 \n",
      "\n",
      "$`OUT_MACE|SE_INT=0,SE_OCC=1`\n",
      "      1 \n",
      "0.28564 \n",
      "\n",
      "$`OUT_MACE|SE_INT=1,SE_OCC=1`\n",
      "       1 \n",
      "0.164621 \n",
      "\n",
      "$`OUT_MACE|SE_CCH=1,SE_STU=1`\n",
      "        1 \n",
      "0.1995791 \n",
      "\n",
      "$`OUT_MACE|SE_OCC=1,SE_STU=1`\n",
      "        1 \n",
      "0.2122756 \n",
      "\n"
     ]
    },
    {
     "data": {
      "image/png": "[encoded data removed]",
      "text/plain": [
       "plot without title"
      ]
     },
     "metadata": {
      "image/png": {
       "height": 1200,
       "width": 600
      }
     },
     "output_type": "display_data"
    }
   ],
   "source": [
    "# Store exact probabilities for each query in a named list\n",
    "exact_probs <- list(\n",
    "    \"OUT_MACE|SE_INT=1\" = querygrain(bn_final$junction, nodes = \"OUT_MACE\", evidence = list(SE_INT = \"1\"))$OUT_MACE[\"1\"],\n",
    "    \"OUT_MACE|SE_INT=0\" = querygrain(bn_final$junction, nodes = \"OUT_MACE\", evidence = list(SE_INT = \"0\"))$OUT_MACE[\"1\"],\n",
    "    \"OUT_MACE|SE_STU=1\" = querygrain(bn_final$junction, nodes = \"OUT_MACE\", evidence = list(SE_STU = \"1\"))$OUT_MACE[\"1\"],\n",
    "    \"OUT_MACE|SE_OCC=1\" = querygrain(bn_final$junction, nodes = \"OUT_MACE\", evidence = list(SE_OCC = \"1\"))$OUT_MACE[\"1\"],\n",
    "    \"OUT_MACE|SE_CCH=1\" = querygrain(bn_final$junction, nodes = \"OUT_MACE\", evidence = list(SE_CCH = \"1\"))$OUT_MACE[\"1\"],\n",
    "    \"OUT_MACE|SE_INT=1,SE_STU=1\" = querygrain(bn_final$junction, nodes = \"OUT_MACE\", evidence = list(SE_INT = \"1\", SE_STU = \"1\"))$OUT_MACE[\"1\"],\n",
    "    \"OUT_MACE|SE_INT=0,SE_OCC=1\" = querygrain(bn_final$junction, nodes = \"OUT_MACE\", evidence = list(SE_INT = \"0\", SE_OCC = \"1\"))$OUT_MACE[\"1\"],\n",
    "    \"OUT_MACE|SE_INT=1,SE_OCC=1\" = querygrain(bn_final$junction, nodes = \"OUT_MACE\", evidence = list(SE_INT = \"1\", SE_OCC = \"1\"))$OUT_MACE[\"1\"],\n",
    "    \"OUT_MACE|SE_CCH=1,SE_STU=1\" = querygrain(bn_final$junction, nodes = \"OUT_MACE\", evidence = list(SE_CCH = \"1\", SE_STU = \"1\"))$OUT_MACE[\"1\"],\n",
    "    \"OUT_MACE|SE_OCC=1,SE_STU=1\" = querygrain(bn_final$junction, nodes = \"OUT_MACE\", evidence = list(SE_OCC = \"1\", SE_STU = \"1\"))$OUT_MACE[\"1\"]\n",
    ")\n",
    "\n",
    "# Print all exact probabilities in a compact way\n",
    "cat(\"Exact conditional probabilities of OUT_MACE = 1:\\n\")\n",
    "print(exact_probs)\n",
    "\n",
    "# Approximate inference using cpquery\n",
    "set.seed(0)\n",
    "approx_outmace_seint1 <- replicate(100, cpquery(bn_final$bn_fitted, event = (OUT_MACE == \"1\"), evidence = (SE_INT == \"1\")))\n",
    "approx_outmace_seint0 <- replicate(100, cpquery(bn_final$bn_fitted, event = (OUT_MACE == \"1\"), evidence = (SE_INT == \"0\")))\n",
    "approx_outmace_sestu1 <- replicate(100, cpquery(bn_final$bn_fitted, event = (OUT_MACE == \"1\"), evidence = (SE_STU == \"1\")))\n",
    "approx_outmace_seocc1 <- replicate(100, cpquery(bn_final$bn_fitted, event = (OUT_MACE == \"1\"), evidence = (SE_OCC == \"1\")))\n",
    "approx_outmace_secch1 <- replicate(100, cpquery(bn_final$bn_fitted, event = (OUT_MACE == \"1\"), evidence = (SE_CCH == \"1\")))\n",
    "approx_outmace_seint1_sestu1 <- replicate(100, cpquery(bn_final$bn_fitted, event = (OUT_MACE == \"1\"), evidence = ((SE_INT == \"1\") & (SE_STU == \"1\"))))\n",
    "approx_outmace_seint0_seocc1 <- replicate(100, cpquery(bn_final$bn_fitted, event = (OUT_MACE == \"1\"), evidence = ((SE_INT == \"0\") & (SE_OCC == \"1\"))))\n",
    "approx_outmace_seint1_seocc1 <- replicate(100, cpquery(bn_final$bn_fitted, event = (OUT_MACE == \"1\"), evidence = ((SE_INT == \"1\") & (SE_OCC == \"1\"))))\n",
    "approx_outmace_secch1_sestu1 <- replicate(100, cpquery(bn_final$bn_fitted, event = (OUT_MACE == \"1\"), evidence = ((SE_CCH == \"1\") & (SE_STU == \"1\"))))\n",
    "approx_outmace_seocc1_sestu1 <- replicate(100, cpquery(bn_final$bn_fitted, event = (OUT_MACE == \"1\"), evidence = ((SE_OCC == \"1\") & (SE_STU == \"1\"))))\n",
    "\n",
    "# Combine results into a data frame for visualization\n",
    "approx_results <- data.frame(\n",
    "    Variable = rep(c(\n",
    "        \"OUT_MACE|SE_INT=1\",\n",
    "        \"OUT_MACE|SE_INT=0\",\n",
    "        \"OUT_MACE|SE_STU=1\",\n",
    "        \"OUT_MACE|SE_OCC=1\",\n",
    "        \"OUT_MACE|SE_CCH=1\",\n",
    "        \"OUT_MACE|SE_INT=1,SE_STU=1\",\n",
    "        \"OUT_MACE|SE_INT=0,SE_OCC=1\",\n",
    "        \"OUT_MACE|SE_INT=1,SE_OCC=1\",\n",
    "        \"OUT_MACE|SE_CCH=1,SE_STU=1\",\n",
    "        \"OUT_MACE|SE_OCC=1,SE_STU=1\"\n",
    "    ), each = 100),\n",
    "    Probability = c(\n",
    "        approx_outmace_seint1,\n",
    "        approx_outmace_seint0,\n",
    "        approx_outmace_sestu1,\n",
    "        approx_outmace_seocc1,\n",
    "        approx_outmace_secch1,\n",
    "        approx_outmace_seint1_sestu1,\n",
    "        approx_outmace_seint0_seocc1,\n",
    "        approx_outmace_seint1_seocc1,\n",
    "        approx_outmace_secch1_sestu1,\n",
    "        approx_outmace_seocc1_sestu1\n",
    "    )\n",
    ")\n",
    "\n",
    "options(repr.plot.width = 10, repr.plot.height = 20)\n",
    "\n",
    "# Create boxplots for each query, add exact inference line\n",
    "plots <- lapply(unique(approx_results$Variable), function(var) {\n",
    "    ggplot(subset(approx_results, Variable == var), aes(x = Variable, y = Probability)) +\n",
    "        geom_boxplot(fill = \"#BFE8E4\") +\n",
    "        geom_hline(yintercept = exact_probs[[var]], linetype = \"dashed\", color = \"#53868B\", lwd = 0.75) +\n",
    "        labs(x = \"Query\", y = \"Probability\", title = var) +\n",
    "        theme_minimal()\n",
    "})\n",
    "\n",
    "# Arrange plots in a grid with bold and centered title\n",
    "grid.arrange(\n",
    "    grobs = plots,\n",
    "    ncol = 2,\n",
    "    top = textGrob(\"Dispersion of Approximate Inference Estimates\", gp = gpar(fontsize = 16, fontface = \"bold\"), just = \"center\", hjust = 0.5),\n",
    "    bottom = textGrob(\"Dashed lines show exact inference\", gp = gpar(fontsize = 12, fontface = \"italic\"))\n",
    ")\n"
   ]
  },
  {
   "cell_type": "code",
   "execution_count": 14,
   "id": "f6abb9f6",
   "metadata": {
    "vscode": {
     "languageId": "r"
    }
   },
   "outputs": [],
   "source": [
    "options(repr.plot.width = NULL, repr.plot.height = NULL)"
   ]
  },
  {
   "cell_type": "markdown",
   "id": "546d7775",
   "metadata": {},
   "source": [
    "## Bayesian Networks per Cluster"
   ]
  },
  {
   "cell_type": "code",
   "execution_count": 15,
   "id": "8ff95849",
   "metadata": {
    "vscode": {
     "languageId": "r"
    }
   },
   "outputs": [],
   "source": [
    "# Load the dataset\n",
    "dfC <- read.csv('FINAL_DATASET_CLUSTERED.csv')\n",
    "\n",
    "# Select the socioeconomic variables, the outcome variable and the and convert them to factors\n",
    "dataC <- dfC %>% select(c(starts_with(\"SE_\"), OUT_MACE, cluster_kmodes)) %>% mutate(across(everything(), as.factor))\n",
    "\n",
    "data1 <- dataC %>% filter(cluster_kmodes == \"1\") %>% select(-c(SE_INT, SE_HI, SE_STU, cluster_kmodes))\n",
    "data2 <- dataC %>% filter(cluster_kmodes == \"2\") %>% select(-c(SE_INT, SE_HI, SE_STU, cluster_kmodes))\n",
    "data3 <- dataC %>% filter(cluster_kmodes == \"3\") %>% select(-c(SE_INT, SE_HI, SE_STU, cluster_kmodes))"
   ]
  },
  {
   "cell_type": "code",
   "execution_count": 16,
   "id": "b7e39b39",
   "metadata": {
    "vscode": {
     "languageId": "r"
    }
   },
   "outputs": [
    {
     "name": "stdout",
     "output_type": "stream",
     "text": [
      "BIC score of the DAG learned with hill-climbing (Cluster 1): -5728.561 \n",
      "BIC score of the DAG learned with hill-climbing (Cluster 2): -5515.852 \n",
      "BIC score of the DAG learned with hill-climbing (Cluster 3): -3295.317 \n"
     ]
    },
    {
     "data": {
      "image/png": "[encoded data removed]",
      "text/plain": [
       "plot without title"
      ]
     },
     "metadata": {
      "image/png": {
       "height": 420,
       "width": 420
      }
     },
     "output_type": "display_data"
    }
   ],
   "source": [
    "# Learn the DAG using the hill-climbing algorithm for each cluster\n",
    "dag_hc1 <- hc(data1, score = \"bic\")\n",
    "score_hc1 <- score(dag_hc1, data = data1, type = \"bic\")\n",
    "\n",
    "dag_hc2 <- hc(data2, score = \"bic\")\n",
    "score_hc2 <- score(dag_hc2, data = data2, type = \"bic\")\n",
    "\n",
    "dag_hc3 <- hc(data3, score = \"bic\")\n",
    "score_hc3 <- score(dag_hc3, data = data3, type = \"bic\")\n",
    "\n",
    "cat(\"BIC score of the DAG learned with hill-climbing (Cluster 1):\", score_hc1, \"\\n\")\n",
    "cat(\"BIC score of the DAG learned with hill-climbing (Cluster 2):\", score_hc2, \"\\n\")\n",
    "cat(\"BIC score of the DAG learned with hill-climbing (Cluster 3):\", score_hc3, \"\\n\")\n",
    "\n",
    "# Plot the three DAGs for comparison\n",
    "mb_hc1 <- mb(dag_hc1, \"OUT_MACE\")\n",
    "mb_hc2 <- mb(dag_hc2, \"OUT_MACE\")\n",
    "mb_hc3 <- mb(dag_hc3, \"OUT_MACE\")\n",
    "\n",
    "get_node_colors <- function(dag, mb_nodes) {\n",
    "    colors <- rep(\"#BFE8E4\", length(nodes(dag)))\n",
    "    names(colors) <- nodes(dag)\n",
    "    colors[\"OUT_MACE\"] <- \"#53868B\"\n",
    "    colors[mb_nodes] <- \"#5EA1B0\"\n",
    "    return(colors)\n",
    "}\n",
    "\n",
    "node_colors_hc1 <- get_node_colors(dag_hc1, mb_hc1)\n",
    "node_colors_hc2 <- get_node_colors(dag_hc2, mb_hc2)\n",
    "node_colors_hc3 <- get_node_colors(dag_hc3, mb_hc3)\n",
    "\n",
    "par(mfrow = c(1, 3), bg = \"white\")\n",
    "g_hc1 <- graphviz.plot(dag_hc1, main = \"DAG HC Cluster 1\", render = FALSE)\n",
    "graph::nodeRenderInfo(g_hc1)$fill <- node_colors_hc1\n",
    "Rgraphviz::renderGraph(g_hc1)\n",
    "\n",
    "g_hc2 <- graphviz.plot(dag_hc2, main = \"DAG HC Cluster 2\", render = FALSE)\n",
    "graph::nodeRenderInfo(g_hc2)$fill <- node_colors_hc2\n",
    "Rgraphviz::renderGraph(g_hc2)\n",
    "\n",
    "g_hc3 <- graphviz.plot(dag_hc3, main = \"DAG HC Cluster 3\", render = FALSE)\n",
    "graph::nodeRenderInfo(g_hc3)$fill <- node_colors_hc3\n",
    "Rgraphviz::renderGraph(g_hc3)"
   ]
  },
  {
   "cell_type": "code",
   "execution_count": 17,
   "id": "5f46201f",
   "metadata": {
    "vscode": {
     "languageId": "r"
    }
   },
   "outputs": [
    {
     "name": "stdout",
     "output_type": "stream",
     "text": [
      "Frecuency of arcs in the bootstrap samples:\n",
      "        from       to Freq\n",
      "1      SE_MS   SE_SUP  100\n",
      "2      SE_HW   SE_CCH   95\n",
      "3      SE_MS    SE_HW   91\n",
      "4      SE_EX  SE_ACTT   82\n",
      "5      SE_SH   SE_TEH   82\n",
      "6     SE_OCC    SE_EX   79\n",
      "7     SE_CCH   SE_ENH   73\n",
      "8     SE_CCH   SE_OCC   51\n",
      "9      SE_EX   SE_TEH   51\n",
      "10     SE_HW  SE_ACTT   51\n",
      "11    SE_PET OUT_MACE   46\n",
      "12   SE_ACTT   SE_TSI   40\n",
      "13    SE_SUP    SE_HW   37\n",
      "14    SE_OCC   SE_PET   36\n",
      "15    SE_RES   SE_PET   36\n",
      "16    SE_PET   SE_RES   35\n",
      "17   SE_ACTT   SE_PET   26\n",
      "18   SE_ACTT   SE_RES   26\n",
      "19    SE_CCH    SE_EX   24\n",
      "20     SE_MS   SE_PET   23\n",
      "21     SE_HW OUT_MACE   22\n",
      "22     SE_EX   SE_OCC   21\n",
      "23    SE_PET   SE_TSI   21\n",
      "24    SE_TEH   SE_RES   21\n",
      "25    SE_TSI    SE_SH   21\n",
      "26    SE_CCH    SE_SH   20\n",
      "27    SE_ENH   SE_TSI   19\n",
      "28    SE_OCC   SE_TSI   19\n",
      "29     SE_MS    SE_EX   16\n",
      "30    SE_OCC   SE_CCH   16\n",
      "31    SE_RES   SE_TSI   15\n",
      "32    SE_RES  SE_ACTT   14\n",
      "33    SE_TEH    SE_SH   14\n",
      "34    SE_ENH    SE_SH   13\n",
      "35    SE_ENH    SE_EX   12\n",
      "36    SE_SUP OUT_MACE   12\n",
      "37   SE_ACTT OUT_MACE   11\n",
      "38     SE_EX   SE_PET   11\n",
      "39    SE_TSI   SE_ENH   11\n",
      "40    SE_TSI   SE_PET   11\n",
      "41   SE_ACTT    SE_EX   10\n",
      "42    SE_ENH   SE_OCC   10\n",
      "43    SE_RES    SE_SH   10\n",
      "44   SE_ACTT    SE_HW    9\n",
      "45    SE_CCH   SE_TEH    9\n",
      "46     SE_HW    SE_MS    9\n",
      "47     SE_HW   SE_RES    9\n",
      "48     SE_HW   SE_TSI    9\n",
      "49    SE_RES    SE_EX    9\n",
      "50     SE_HW   SE_OCC    8\n",
      "51    SE_ENH   SE_CCH    7\n",
      "52     SE_HW   SE_ENH    7\n",
      "53     SE_HW   SE_SUP    7\n",
      "54     SE_MS    SE_SH    7\n",
      "55    SE_TSI   SE_RES    7\n",
      "56     SE_MS   SE_TSI    6\n",
      "57    SE_OCC   SE_ENH    6\n",
      "58    SE_RES    SE_HW    6\n",
      "59  OUT_MACE   SE_PET    5\n",
      "60   SE_ACTT   SE_OCC    5\n",
      "61     SE_EX OUT_MACE    5\n",
      "62    SE_RES   SE_TEH    5\n",
      "63     SE_SH   SE_RES    5\n",
      "64    SE_TEH    SE_EX    5\n",
      "65   SE_ACTT   SE_SUP    4\n",
      "66    SE_CCH    SE_HW    4\n",
      "67    SE_ENH   SE_RES    4\n",
      "68     SE_EX   SE_CCH    4\n",
      "69     SE_EX    SE_MS    4\n",
      "70     SE_HW    SE_SH    4\n",
      "71    SE_PET  SE_ACTT    4\n",
      "72    SE_PET    SE_MS    4\n",
      "73     SE_SH   SE_ENH    4\n",
      "74    SE_TEH   SE_ENH    4\n",
      "75    SE_TSI   SE_OCC    4\n",
      "76  OUT_MACE   SE_CCH    3\n",
      "77  OUT_MACE    SE_EX    3\n",
      "78  OUT_MACE    SE_SH    3\n",
      "79    SE_CCH OUT_MACE    3\n",
      "80    SE_CCH   SE_RES    3\n",
      "81    SE_CCH   SE_TSI    3\n",
      "82    SE_OCC OUT_MACE    3\n",
      "83    SE_OCC   SE_RES    3\n",
      "84    SE_PET   SE_OCC    3\n",
      "85    SE_RES   SE_CCH    3\n",
      "86    SE_RES   SE_ENH    3\n",
      "87     SE_SH   SE_CCH    3\n",
      "88    SE_TEH   SE_CCH    3\n",
      "89    SE_TEH   SE_PET    3\n",
      "90  OUT_MACE    SE_HW    2\n",
      "91  OUT_MACE   SE_OCC    2\n",
      "92  OUT_MACE   SE_RES    2\n",
      "93  OUT_MACE   SE_TSI    2\n",
      "94    SE_CCH   SE_PET    2\n",
      "95     SE_EX   SE_ENH    2\n",
      "96     SE_HW    SE_EX    2\n",
      "97     SE_HW   SE_TEH    2\n",
      "98     SE_MS   SE_OCC    2\n",
      "99    SE_PET   SE_ENH    2\n",
      "100   SE_RES OUT_MACE    2\n",
      "101    SE_SH OUT_MACE    2\n",
      "102    SE_SH   SE_TSI    2\n",
      "103   SE_SUP   SE_ENH    2\n",
      "104   SE_SUP   SE_OCC    2\n",
      "105   SE_TEH OUT_MACE    2\n",
      "106   SE_TSI  SE_ACTT    2\n",
      "107   SE_TSI    SE_EX    2\n",
      "108 OUT_MACE   SE_SUP    1\n",
      "109   SE_CCH  SE_ACTT    1\n",
      "110   SE_ENH OUT_MACE    1\n",
      "111   SE_ENH    SE_MS    1\n",
      "112    SE_EX    SE_SH    1\n",
      "113    SE_EX   SE_SUP    1\n",
      "114    SE_MS OUT_MACE    1\n",
      "115    SE_MS  SE_ACTT    1\n",
      "116    SE_MS   SE_CCH    1\n",
      "117    SE_MS   SE_ENH    1\n",
      "118   SE_OCC  SE_ACTT    1\n",
      "119   SE_OCC   SE_TEH    1\n",
      "120   SE_PET    SE_EX    1\n",
      "121   SE_PET    SE_HW    1\n",
      "122   SE_PET   SE_SUP    1\n",
      "123   SE_RES    SE_MS    1\n",
      "124   SE_RES   SE_SUP    1\n",
      "125    SE_SH    SE_MS    1\n",
      "126   SE_SUP    SE_EX    1\n",
      "127   SE_SUP   SE_PET    1\n",
      "128   SE_SUP    SE_SH    1\n",
      "129   SE_SUP   SE_TSI    1\n",
      "130   SE_TEH  SE_ACTT    1\n",
      "131   SE_TEH   SE_OCC    1\n",
      "132   SE_TEH   SE_TSI    1\n",
      "133   SE_TSI   SE_CCH    1\n",
      "134   SE_TSI    SE_MS    1\n",
      "\n",
      "Final Bayesian Network structure:\n",
      "\n",
      "  Random/Generated Bayesian network\n",
      "\n",
      "  model:\n",
      "   [SE_MS][SE_SH][SE_PET][SE_HW|SE_MS][SE_SUP|SE_MS][OUT_MACE|SE_PET]\n",
      "   [SE_CCH|SE_HW][SE_OCC|SE_CCH][SE_ENH|SE_CCH][SE_EX|SE_OCC]\n",
      "   [SE_ACTT|SE_HW:SE_EX][SE_TEH|SE_EX:SE_SH][SE_TSI|SE_ACTT]\n",
      "  nodes:                                 13 \n",
      "  arcs:                                  12 \n",
      "    undirected arcs:                     0 \n",
      "    directed arcs:                       12 \n",
      "  average markov blanket size:           2.15 \n",
      "  average neighbourhood size:            1.85 \n",
      "  average branching factor:              0.92 \n",
      "\n",
      "  generation algorithm:                  Empty \n",
      "\n",
      "Number of parameters in the final model: 27 \n",
      "Final arcs ordered by strength:\n",
      "      from       to    strength abs_strength width\n",
      "9    SE_EX   SE_TEH   0.6823657            0     1\n",
      "10   SE_HW  SE_ACTT  -0.7649586            0     1\n",
      "12 SE_ACTT   SE_TSI  -0.9566728            0     1\n",
      "11  SE_PET OUT_MACE  -0.9913595            0     1\n",
      "8   SE_CCH   SE_OCC  -2.7488116            2     1\n",
      "7   SE_CCH   SE_ENH  -6.3014834            6     1\n",
      "4    SE_EX  SE_ACTT  -6.5053236            6     1\n",
      "5    SE_SH   SE_TEH  -7.4236964            7     1\n",
      "2    SE_HW   SE_CCH -11.5709411           11     2\n",
      "1    SE_MS   SE_SUP -14.0050013           14     2\n",
      "6   SE_OCC    SE_EX -16.6679258           16     2\n",
      "3    SE_MS    SE_HW -34.6580559           34     3\n"
     ]
    },
    {
     "data": {
      "image/png": "[encoded data removed]",
      "text/plain": [
       "plot without title"
      ]
     },
     "metadata": {
      "image/png": {
       "height": 420,
       "width": 420
      }
     },
     "output_type": "display_data"
    },
    {
     "data": {
      "image/png": "[encoded data removed]",
      "text/plain": [
       "plot without title"
      ]
     },
     "metadata": {
      "image/png": {
       "height": 420,
       "width": 420
      }
     },
     "output_type": "display_data"
    }
   ],
   "source": [
    "par(bg = \"white\")\n",
    "bn_c1 <- perform_analysis(data1, \"OUT_MACE\", n_iter = 100, threshold = 40, seed = 1)"
   ]
  },
  {
   "cell_type": "code",
   "execution_count": 18,
   "id": "c1e2ecf4",
   "metadata": {
    "vscode": {
     "languageId": "r"
    }
   },
   "outputs": [
    {
     "name": "stdout",
     "output_type": "stream",
     "text": [
      "Frecuency of arcs in the bootstrap samples:\n",
      "        from       to Freq\n",
      "1      SE_EX  SE_ACTT  197\n",
      "2      SE_MS   SE_SUP  197\n",
      "3     SE_RES   SE_PET  181\n",
      "4      SE_MS    SE_HW  167\n",
      "5     SE_OCC    SE_EX  154\n",
      "6     SE_PET   SE_OCC  140\n",
      "7     SE_ENH    SE_SH  105\n",
      "8     SE_ENH    SE_EX   99\n",
      "9      SE_SH   SE_ENH   94\n",
      "10    SE_ENH   SE_CCH   84\n",
      "11     SE_MS   SE_PET   84\n",
      "12    SE_ENH    SE_HW   83\n",
      "13     SE_HW   SE_CCH   80\n",
      "14     SE_EX   SE_ENH   64\n",
      "15    SE_RES   SE_CCH   62\n",
      "16     SE_MS   SE_OCC   52\n",
      "17     SE_SH   SE_TEH   46\n",
      "18     SE_HW  SE_ACTT   43\n",
      "19    SE_RES   SE_SUP   35\n",
      "20     SE_HW    SE_MS   33\n",
      "21     SE_MS   SE_TSI   33\n",
      "22    SE_OCC   SE_TSI   33\n",
      "23     SE_EX    SE_MS   30\n",
      "24    SE_PET    SE_MS   29\n",
      "25    SE_OCC    SE_MS   28\n",
      "26     SE_MS   SE_TEH   27\n",
      "27    SE_CCH   SE_ENH   26\n",
      "28   SE_ACTT   SE_CCH   25\n",
      "29    SE_CCH   SE_TEH   24\n",
      "30    SE_PET    SE_SH   24\n",
      "31    SE_SUP   SE_ENH   24\n",
      "32   SE_ACTT    SE_HW   23\n",
      "33    SE_CCH   SE_RES   21\n",
      "34     SE_MS    SE_EX   21\n",
      "35    SE_OCC   SE_PET   20\n",
      "36    SE_PET   SE_RES   19\n",
      "37     SE_SH   SE_CCH   19\n",
      "38     SE_HW   SE_ENH   18\n",
      "39     SE_HW   SE_OCC   18\n",
      "40     SE_HW   SE_TSI   18\n",
      "41    SE_ENH    SE_MS   17\n",
      "42     SE_EX   SE_OCC   17\n",
      "43    SE_PET  SE_ACTT   17\n",
      "44    SE_RES   SE_TEH   16\n",
      "45    SE_TSI   SE_OCC   16\n",
      "46    SE_OCC  SE_ACTT   15\n",
      "47    SE_PET   SE_TSI   15\n",
      "48    SE_CCH OUT_MACE   13\n",
      "49     SE_EX   SE_TEH   13\n",
      "50    SE_TSI    SE_MS   13\n",
      "51   SE_ACTT   SE_OCC   12\n",
      "52   SE_ACTT   SE_RES   12\n",
      "53    SE_RES    SE_EX   12\n",
      "54    SE_SUP   SE_TSI   12\n",
      "55    SE_TSI    SE_EX   12\n",
      "56  OUT_MACE  SE_ACTT   11\n",
      "57     SE_EX   SE_CCH   11\n",
      "58    SE_PET    SE_EX   11\n",
      "59    SE_RES   SE_ENH   11\n",
      "60    SE_SUP   SE_RES   11\n",
      "61    SE_RES   SE_TSI   10\n",
      "62    SE_CCH    SE_SH    9\n",
      "63    SE_ENH   SE_OCC    9\n",
      "64    SE_ENH   SE_TEH    9\n",
      "65    SE_ENH   SE_TSI    8\n",
      "66     SE_EX   SE_TSI    8\n",
      "67    SE_PET   SE_CCH    8\n",
      "68    SE_SUP OUT_MACE    8\n",
      "69    SE_TEH    SE_MS    8\n",
      "70    SE_TSI  SE_ACTT    8\n",
      "71   SE_ACTT OUT_MACE    7\n",
      "72    SE_ENH   SE_PET    7\n",
      "73    SE_OCC   SE_ENH    7\n",
      "74    SE_SUP    SE_EX    7\n",
      "75    SE_SUP    SE_HW    7\n",
      "76  OUT_MACE   SE_CCH    6\n",
      "77     SE_HW   SE_SUP    6\n",
      "78     SE_MS OUT_MACE    6\n",
      "79    SE_OCC    SE_HW    6\n",
      "80    SE_PET OUT_MACE    6\n",
      "81     SE_SH OUT_MACE    6\n",
      "82    SE_TSI OUT_MACE    6\n",
      "83  OUT_MACE    SE_HW    5\n",
      "84   SE_ACTT   SE_ENH    5\n",
      "85   SE_ACTT   SE_PET    5\n",
      "86    SE_CCH    SE_HW    5\n",
      "87     SE_MS   SE_CCH    5\n",
      "88    SE_OCC   SE_TEH    5\n",
      "89    SE_CCH    SE_EX    4\n",
      "90    SE_CCH   SE_OCC    4\n",
      "91    SE_ENH OUT_MACE    4\n",
      "92     SE_EX    SE_HW    4\n",
      "93     SE_HW   SE_PET    4\n",
      "94     SE_HW    SE_SH    4\n",
      "95    SE_OCC   SE_CCH    4\n",
      "96    SE_OCC   SE_RES    4\n",
      "97    SE_PET   SE_ENH    4\n",
      "98    SE_PET   SE_TEH    4\n",
      "99    SE_RES OUT_MACE    4\n",
      "100   SE_RES    SE_HW    4\n",
      "101   SE_RES   SE_OCC    4\n",
      "102  SE_ACTT    SE_EX    3\n",
      "103   SE_CCH   SE_PET    3\n",
      "104   SE_CCH   SE_TSI    3\n",
      "105    SE_HW OUT_MACE    3\n",
      "106    SE_HW   SE_RES    3\n",
      "107   SE_PET   SE_SUP    3\n",
      "108   SE_RES  SE_ACTT    3\n",
      "109    SE_SH  SE_ACTT    3\n",
      "110    SE_SH   SE_PET    3\n",
      "111   SE_TEH    SE_EX    3\n",
      "112   SE_TEH   SE_PET    3\n",
      "113   SE_TEH   SE_RES    3\n",
      "114   SE_TEH    SE_SH    3\n",
      "115   SE_TSI   SE_TEH    3\n",
      "116 OUT_MACE    SE_MS    2\n",
      "117  SE_ACTT   SE_TEH    2\n",
      "118    SE_EX   SE_PET    2\n",
      "119    SE_EX   SE_RES    2\n",
      "120    SE_MS   SE_RES    2\n",
      "121   SE_OCC OUT_MACE    2\n",
      "122   SE_OCC    SE_SH    2\n",
      "123    SE_SH   SE_RES    2\n",
      "124   SE_SUP  SE_ACTT    2\n",
      "125   SE_SUP    SE_MS    2\n",
      "126   SE_TEH OUT_MACE    2\n",
      "127   SE_TEH   SE_CCH    2\n",
      "128   SE_TEH   SE_TSI    2\n",
      "129   SE_TSI   SE_PET    2\n",
      "130 OUT_MACE    SE_EX    1\n",
      "131 OUT_MACE    SE_SH    1\n",
      "132 OUT_MACE   SE_TEH    1\n",
      "133  SE_ACTT   SE_TSI    1\n",
      "134   SE_CCH  SE_ACTT    1\n",
      "135   SE_CCH    SE_MS    1\n",
      "136    SE_EX OUT_MACE    1\n",
      "137    SE_HW   SE_TEH    1\n",
      "138    SE_MS  SE_ACTT    1\n",
      "139    SE_MS   SE_ENH    1\n",
      "140    SE_MS    SE_SH    1\n",
      "141   SE_RES    SE_MS    1\n",
      "142    SE_SH    SE_HW    1\n",
      "143    SE_SH    SE_MS    1\n",
      "144   SE_SUP   SE_CCH    1\n",
      "145   SE_SUP   SE_OCC    1\n",
      "146   SE_SUP   SE_PET    1\n",
      "147   SE_TEH  SE_ACTT    1\n",
      "148   SE_TSI   SE_ENH    1\n",
      "\n",
      "Final Bayesian Network structure:\n",
      "\n",
      "  Random/Generated Bayesian network\n",
      "\n",
      "  model:\n",
      "   [SE_MS][SE_RES][SE_PET|SE_MS:SE_RES][SE_SUP|SE_MS:SE_RES]\n",
      "   [SE_ENH|SE_RES:SE_SUP][SE_SH|SE_PET:SE_ENH][SE_HW|SE_MS:SE_ENH]\n",
      "   [SE_OCC|SE_MS:SE_PET:SE_HW][SE_TSI|SE_MS:SE_RES:SE_OCC:SE_PET:SE_HW:SE_SUP]\n",
      "   [SE_EX|SE_MS:SE_RES:SE_OCC:SE_PET:SE_ENH:SE_TSI]\n",
      "   [SE_ACTT|SE_EX:SE_OCC:SE_PET:SE_HW]\n",
      "   [SE_CCH|SE_EX:SE_RES:SE_ENH:SE_SH:SE_HW:SE_ACTT][OUT_MACE|SE_CCH]\n",
      "   [SE_TEH|SE_EX:SE_MS:SE_RES:SE_SH:SE_CCH]\n",
      "  nodes:                                 14 \n",
      "  arcs:                                  41 \n",
      "    undirected arcs:                     0 \n",
      "    directed arcs:                       41 \n",
      "  average markov blanket size:           8.71 \n",
      "  average neighbourhood size:            5.86 \n",
      "  average branching factor:              2.93 \n",
      "\n",
      "  generation algorithm:                  Empty \n",
      "\n",
      "Number of parameters in the final model: 272 \n",
      "Final arcs ordered by strength:\n",
      "      from       to    strength abs_strength width\n",
      "36  SE_SUP   SE_TSI 104.5468963          104     5\n",
      "26   SE_SH   SE_CCH 102.2698867          102     5\n",
      "38   SE_EX   SE_CCH 100.9141003          100     4\n",
      "32  SE_PET   SE_TSI  99.2903468           99     4\n",
      "41  SE_RES   SE_TSI  98.7510992           98     4\n",
      "28   SE_HW   SE_TSI  97.4894516           97     4\n",
      "21 SE_ACTT   SE_CCH  95.7973648           95     4\n",
      "19  SE_OCC   SE_TSI  93.9297690           93     4\n",
      "18   SE_MS   SE_TSI  93.7134928           93     4\n",
      "9   SE_ENH   SE_CCH  90.1591090           90     4\n",
      "13  SE_RES   SE_CCH  88.2216762           88     4\n",
      "37  SE_TSI    SE_EX  87.4191908           87     4\n",
      "12   SE_HW   SE_CCH  87.3195259           87     4\n",
      "25   SE_MS    SE_EX  86.0169844           86     4\n",
      "39  SE_PET    SE_EX  85.6671041           85     4\n",
      "35  SE_RES    SE_EX  84.0417874           84     4\n",
      "5   SE_OCC    SE_EX  79.3367909           79     4\n",
      "8   SE_ENH    SE_EX  72.1424192           72     4\n",
      "30  SE_RES   SE_TEH  50.0559554           50     3\n",
      "22  SE_CCH   SE_TEH  48.9164637           48     3\n",
      "20   SE_MS   SE_TEH  48.7598571           48     3\n",
      "15   SE_SH   SE_TEH  48.1372912           48     3\n",
      "34   SE_EX   SE_TEH  46.9797748           46     3\n",
      "31  SE_OCC  SE_ACTT  20.8395507           20     2\n",
      "29  SE_PET  SE_ACTT  20.0942899           20     2\n",
      "16   SE_HW  SE_ACTT  18.6057748           18     2\n",
      "27   SE_HW   SE_OCC   6.7179532            6     1\n",
      "24  SE_SUP   SE_ENH   6.6428885            6     1\n",
      "40  SE_RES   SE_ENH   6.5245719            6     1\n",
      "23  SE_PET    SE_SH   5.6345322            5     1\n",
      "14   SE_MS   SE_OCC   5.5047885            5     1\n",
      "33  SE_CCH OUT_MACE   2.4504200            2     1\n",
      "17  SE_RES   SE_SUP   2.4358643            2     1\n",
      "11  SE_ENH    SE_HW  -0.3821470            0     1\n",
      "10   SE_MS   SE_PET  -0.6887013            0     1\n",
      "6   SE_PET   SE_OCC  -1.9509279            1     1\n",
      "7   SE_ENH    SE_SH  -2.5799666            2     1\n",
      "1    SE_EX  SE_ACTT  -8.3220321            8     1\n",
      "2    SE_MS   SE_SUP -13.7971681           13     2\n",
      "3   SE_RES   SE_PET -16.2650894           16     2\n",
      "4    SE_MS    SE_HW -17.9421026           17     2\n"
     ]
    },
    {
     "data": {
      "image/png": "[encoded data removed]",
      "text/plain": [
       "plot without title"
      ]
     },
     "metadata": {
      "image/png": {
       "height": 420,
       "width": 420
      }
     },
     "output_type": "display_data"
    },
    {
     "data": {
      "image/png": "[encoded data removed]",
      "text/plain": [
       "plot without title"
      ]
     },
     "metadata": {
      "image/png": {
       "height": 420,
       "width": 420
      }
     },
     "output_type": "display_data"
    }
   ],
   "source": [
    "par(bg = \"white\")\n",
    "bn_c2 <- perform_analysis(data2, \"OUT_MACE\", n_iter = 200, threshold = 10, seed = 1)"
   ]
  },
  {
   "cell_type": "code",
   "execution_count": 19,
   "id": "273817aa",
   "metadata": {
    "vscode": {
     "languageId": "r"
    }
   },
   "outputs": [
    {
     "name": "stdout",
     "output_type": "stream",
     "text": [
      "Frecuency of arcs in the bootstrap samples:\n",
      "        from       to Freq\n",
      "1      SE_MS   SE_SUP   98\n",
      "2      SE_MS    SE_HW   97\n",
      "3      SE_EX  SE_ACTT   88\n",
      "4     SE_SUP    SE_SH   86\n",
      "5     SE_RES   SE_PET   61\n",
      "6     SE_SUP    SE_HW   59\n",
      "7     SE_CCH   SE_ENH   48\n",
      "8     SE_ENH    SE_SH   45\n",
      "9     SE_PET   SE_OCC   39\n",
      "10     SE_HW  SE_ACTT   38\n",
      "11    SE_OCC OUT_MACE   37\n",
      "12    SE_PET    SE_MS   37\n",
      "13    SE_PET   SE_RES   36\n",
      "14    SE_OCC   SE_TSI   33\n",
      "15     SE_MS   SE_PET   32\n",
      "16     SE_SH    SE_EX   32\n",
      "17    SE_ENH    SE_EX   31\n",
      "18     SE_HW OUT_MACE   27\n",
      "19    SE_ENH   SE_CCH   26\n",
      "20    SE_ENH   SE_TSI   25\n",
      "21     SE_EX   SE_TEH   25\n",
      "22    SE_TEH   SE_CCH   25\n",
      "23     SE_SH   SE_ENH   24\n",
      "24     SE_SH   SE_TEH   24\n",
      "25     SE_EX    SE_SH   20\n",
      "26    SE_CCH   SE_TEH   19\n",
      "27    SE_CCH   SE_TSI   18\n",
      "28     SE_SH   SE_CCH   17\n",
      "29     SE_EX   SE_ENH   16\n",
      "30     SE_HW    SE_EX   16\n",
      "31     SE_EX   SE_OCC   13\n",
      "32   SE_ACTT    SE_EX   12\n",
      "33    SE_CCH  SE_ACTT   12\n",
      "34    SE_RES   SE_TEH   12\n",
      "35    SE_ENH   SE_RES   11\n",
      "36     SE_HW   SE_ENH   11\n",
      "37    SE_OCC    SE_EX   11\n",
      "38    SE_CCH   SE_OCC   10\n",
      "39    SE_RES    SE_EX   10\n",
      "40    SE_SUP OUT_MACE   10\n",
      "41     SE_HW   SE_PET    9\n",
      "42    SE_RES   SE_CCH    9\n",
      "43    SE_TSI   SE_CCH    9\n",
      "44    SE_TSI   SE_ENH    8\n",
      "45    SE_TSI   SE_OCC    8\n",
      "46    SE_ENH   SE_OCC    7\n",
      "47    SE_OCC   SE_PET    7\n",
      "48  OUT_MACE    SE_HW    6\n",
      "49    SE_CCH   SE_RES    6\n",
      "50    SE_ENH   SE_PET    6\n",
      "51     SE_HW   SE_CCH    6\n",
      "52     SE_HW   SE_SUP    6\n",
      "53     SE_MS    SE_EX    6\n",
      "54    SE_OCC   SE_CCH    6\n",
      "55    SE_RES   SE_ENH    6\n",
      "56     SE_SH   SE_SUP    6\n",
      "57    SE_SUP   SE_CCH    6\n",
      "58  OUT_MACE   SE_OCC    5\n",
      "59   SE_ACTT OUT_MACE    5\n",
      "60    SE_CCH    SE_EX    5\n",
      "61    SE_ENH    SE_HW    5\n",
      "62     SE_EX   SE_CCH    5\n",
      "63     SE_HW   SE_OCC    5\n",
      "64    SE_PET  SE_ACTT    5\n",
      "65    SE_TEH    SE_EX    5\n",
      "66    SE_TSI OUT_MACE    5\n",
      "67   SE_ACTT   SE_CCH    4\n",
      "68   SE_ACTT   SE_PET    4\n",
      "69    SE_ENH  SE_ACTT    4\n",
      "70    SE_ENH   SE_TEH    4\n",
      "71    SE_PET   SE_TSI    4\n",
      "72     SE_SH   SE_RES    4\n",
      "73   SE_ACTT   SE_ENH    3\n",
      "74   SE_ACTT    SE_HW    3\n",
      "75   SE_ACTT   SE_RES    3\n",
      "76     SE_EX    SE_HW    3\n",
      "77     SE_EX    SE_MS    3\n",
      "78     SE_EX   SE_RES    3\n",
      "79     SE_MS   SE_TEH    3\n",
      "80    SE_OCC  SE_ACTT    3\n",
      "81    SE_RES   SE_OCC    3\n",
      "82     SE_SH OUT_MACE    3\n",
      "83     SE_SH    SE_HW    3\n",
      "84    SE_TEH OUT_MACE    3\n",
      "85  OUT_MACE    SE_MS    2\n",
      "86   SE_ACTT   SE_OCC    2\n",
      "87   SE_ACTT   SE_TSI    2\n",
      "88    SE_ENH OUT_MACE    2\n",
      "89     SE_HW    SE_MS    2\n",
      "90     SE_HW   SE_TSI    2\n",
      "91    SE_OCC   SE_RES    2\n",
      "92    SE_PET    SE_SH    2\n",
      "93     SE_SH   SE_OCC    2\n",
      "94    SE_SUP    SE_MS    2\n",
      "95    SE_TEH    SE_MS    2\n",
      "96    SE_TEH   SE_RES    2\n",
      "97    SE_TSI    SE_MS    2\n",
      "98    SE_TSI   SE_SUP    2\n",
      "99  OUT_MACE   SE_CCH    1\n",
      "100 OUT_MACE    SE_EX    1\n",
      "101 OUT_MACE   SE_RES    1\n",
      "102 OUT_MACE   SE_TEH    1\n",
      "103 OUT_MACE   SE_TSI    1\n",
      "104  SE_ACTT    SE_MS    1\n",
      "105  SE_ACTT    SE_SH    1\n",
      "106   SE_CCH OUT_MACE    1\n",
      "107   SE_CCH    SE_SH    1\n",
      "108   SE_CCH   SE_SUP    1\n",
      "109   SE_ENH    SE_MS    1\n",
      "110    SE_HW   SE_RES    1\n",
      "111    SE_HW   SE_TEH    1\n",
      "112    SE_MS OUT_MACE    1\n",
      "113    SE_MS   SE_RES    1\n",
      "114    SE_MS   SE_TSI    1\n",
      "115   SE_OCC    SE_MS    1\n",
      "116   SE_OCC    SE_SH    1\n",
      "117   SE_PET   SE_ENH    1\n",
      "118   SE_PET    SE_HW    1\n",
      "119   SE_RES    SE_MS    1\n",
      "120   SE_RES    SE_SH    1\n",
      "121   SE_RES   SE_TSI    1\n",
      "122    SE_SH    SE_MS    1\n",
      "123    SE_SH   SE_PET    1\n",
      "124   SE_SUP  SE_ACTT    1\n",
      "125   SE_SUP   SE_ENH    1\n",
      "126   SE_SUP   SE_OCC    1\n",
      "127   SE_SUP   SE_PET    1\n",
      "128   SE_SUP   SE_RES    1\n",
      "129   SE_SUP   SE_TSI    1\n",
      "130   SE_TEH  SE_ACTT    1\n",
      "131   SE_TEH   SE_ENH    1\n",
      "132   SE_TSI    SE_EX    1\n",
      "\n",
      "Final Bayesian Network structure:\n",
      "\n",
      "  Random/Generated Bayesian network\n",
      "\n",
      "  model:\n",
      "   [SE_RES][SE_CCH][SE_ENH|SE_CCH][SE_PET|SE_RES][SE_MS|SE_PET][SE_OCC|SE_PET]\n",
      "   [SE_SUP|SE_MS][SE_TSI|SE_ENH:SE_OCC][SE_HW|SE_MS:SE_SUP][SE_SH|SE_SUP:SE_ENH]\n",
      "   [SE_EX|SE_ENH:SE_SH][OUT_MACE|SE_HW:SE_OCC][SE_TEH|SE_EX:SE_SH]\n",
      "   [SE_ACTT|SE_EX:SE_HW]\n",
      "  nodes:                                 14 \n",
      "  arcs:                                  19 \n",
      "    undirected arcs:                     0 \n",
      "    directed arcs:                       19 \n",
      "  average markov blanket size:           3.29 \n",
      "  average neighbourhood size:            2.71 \n",
      "  average branching factor:              1.36 \n",
      "\n",
      "  generation algorithm:                  Empty \n",
      "\n",
      "Number of parameters in the final model: 40 \n",
      "Final arcs ordered by strength:\n",
      "     from       to     strength abs_strength width\n",
      "19  SE_SH   SE_TEH   3.88250994            3     1\n",
      "16  SE_HW OUT_MACE   3.77067130            3     1\n",
      "18  SE_EX   SE_TEH   3.46292203            3     1\n",
      "13 SE_OCC   SE_TSI   3.29059180            3     1\n",
      "17 SE_ENH   SE_TSI   3.11653138            3     1\n",
      "11 SE_OCC OUT_MACE   3.09813096            3     1\n",
      "15 SE_ENH    SE_EX   2.17460227            2     1\n",
      "14  SE_SH    SE_EX   1.95882824            1     1\n",
      "10  SE_HW  SE_ACTT   1.18573746            1     1\n",
      "9  SE_PET   SE_OCC  -0.02398365            0     1\n",
      "6  SE_SUP    SE_HW  -1.26904661            1     1\n",
      "8  SE_ENH    SE_SH  -2.71977867            2     1\n",
      "12 SE_PET    SE_MS  -2.83981465            2     1\n",
      "7  SE_CCH   SE_ENH  -5.29881904            5     1\n",
      "5  SE_RES   SE_PET  -5.83298560            5     1\n",
      "4  SE_SUP    SE_SH  -8.50065463            8     1\n",
      "1   SE_MS   SE_SUP  -8.99243364            8     1\n",
      "2   SE_MS    SE_HW -14.19528420           14     2\n",
      "3   SE_EX  SE_ACTT -15.63618010           15     2\n"
     ]
    },
    {
     "data": {
      "image/png": "[encoded data removed]",
      "text/plain": [
       "plot without title"
      ]
     },
     "metadata": {
      "image/png": {
       "height": 420,
       "width": 420
      }
     },
     "output_type": "display_data"
    },
    {
     "data": {
      "image/png": "[encoded data removed]",
      "text/plain": [
       "plot without title"
      ]
     },
     "metadata": {
      "image/png": {
       "height": 420,
       "width": 420
      }
     },
     "output_type": "display_data"
    }
   ],
   "source": [
    "par(bg = \"white\")\n",
    "bn_c3 <- perform_analysis(data3, \"OUT_MACE\", n_iter = 100, threshold = 20, seed = 1)"
   ]
  }
 ],
 "metadata": {
  "kernelspec": {
   "display_name": "R",
   "language": "R",
   "name": "ir"
  },
  "language_info": {
   "codemirror_mode": "r",
   "file_extension": ".r",
   "mimetype": "text/x-r-source",
   "name": "R",
   "pygments_lexer": "r",
   "version": "4.4.1"
  }
 },
 "nbformat": 4,
 "nbformat_minor": 5
}
