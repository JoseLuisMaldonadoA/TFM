{
 "cells": [
  {
   "cell_type": "markdown",
   "id": "19b7344b",
   "metadata": {},
   "source": [
    "# DATA PREPROCESSING\n",
    "\n",
    "`Author: José Luis Maldonado Álvarez`"
   ]
  },
  {
   "cell_type": "markdown",
   "id": "bd90053a",
   "metadata": {},
   "source": [
    "## 1. Merge"
   ]
  },
  {
   "cell_type": "code",
   "execution_count": 1,
   "id": "aa0c75a0",
   "metadata": {
    "vscode": {
     "languageId": "r"
    }
   },
   "outputs": [
    {
     "name": "stderr",
     "output_type": "stream",
     "text": [
      "Warning message:\n",
      "\"Expecting numeric in JN4 / R4C274: got a date\"\n",
      "Warning message:\n",
      "\"Expecting numeric in JN8 / R8C274: got a date\"\n",
      "Warning message:\n",
      "\"Expecting numeric in JN13 / R13C274: got a date\"\n",
      "Warning message:\n",
      "\"Expecting numeric in JN37 / R37C274: got a date\"\n",
      "Warning message:\n",
      "\"Expecting numeric in JN42 / R42C274: got a date\"\n",
      "Warning message:\n",
      "\"Expecting numeric in JN50 / R50C274: got a date\"\n",
      "Warning message:\n",
      "\"Expecting numeric in JN54 / R54C274: got a date\"\n",
      "Warning message:\n",
      "\"Expecting numeric in JN59 / R59C274: got a date\"\n",
      "Warning message:\n",
      "\"Expecting numeric in JN78 / R78C274: got a date\"\n",
      "Warning message:\n",
      "\"Expecting numeric in JN81 / R81C274: got a date\"\n",
      "Warning message:\n",
      "\"Expecting numeric in JN90 / R90C274: got a date\"\n",
      "Warning message:\n",
      "\"Expecting numeric in JN130 / R130C274: got a date\"\n",
      "Warning message:\n",
      "\"Expecting numeric in JN146 / R146C274: got a date\"\n",
      "Warning message:\n",
      "\"Expecting numeric in JN164 / R164C274: got a date\"\n",
      "Warning message:\n",
      "\"Expecting numeric in JN168 / R168C274: got a date\"\n",
      "Warning message:\n",
      "\"Expecting numeric in JN179 / R179C274: got a date\"\n",
      "Warning message:\n",
      "\"Expecting numeric in JN181 / R181C274: got a date\"\n",
      "Warning message:\n",
      "\"Expecting numeric in JN183 / R183C274: got a date\"\n",
      "Warning message:\n",
      "\"Expecting numeric in JN198 / R198C274: got a date\"\n",
      "Warning message:\n",
      "\"Expecting numeric in JN207 / R207C274: got a date\"\n",
      "Warning message:\n",
      "\"Expecting numeric in JV207 / R207C282: got a date\"\n",
      "Warning message:\n",
      "\"Expecting numeric in JN223 / R223C274: got a date\"\n",
      "Warning message:\n",
      "\"Expecting numeric in JN231 / R231C274: got a date\"\n",
      "Warning message:\n",
      "\"Expecting numeric in JN244 / R244C274: got a date\"\n",
      "Warning message:\n",
      "\"Expecting numeric in JN247 / R247C274: got a date\"\n",
      "Warning message:\n",
      "\"Expecting numeric in JN281 / R281C274: got a date\"\n",
      "Warning message:\n",
      "\"Expecting numeric in JN292 / R292C274: got a date\"\n",
      "Warning message:\n",
      "\"Expecting numeric in JN311 / R311C274: got a date\"\n",
      "Warning message:\n",
      "\"Expecting numeric in JN314 / R314C274: got a date\"\n",
      "Warning message:\n",
      "\"Expecting numeric in JN321 / R321C274: got a date\"\n",
      "Warning message:\n",
      "\"Expecting numeric in JN322 / R322C274: got a date\"\n",
      "Warning message:\n",
      "\"Expecting numeric in JN329 / R329C274: got a date\"\n",
      "Warning message:\n",
      "\"Expecting numeric in JN333 / R333C274: got a date\"\n",
      "Warning message:\n",
      "\"Expecting numeric in JN350 / R350C274: got a date\"\n",
      "Warning message:\n",
      "\"Expecting numeric in JN358 / R358C274: got a date\"\n",
      "Warning message:\n",
      "\"Expecting numeric in JN364 / R364C274: got a date\"\n",
      "Warning message:\n",
      "\"Expecting numeric in JN403 / R403C274: got a date\"\n",
      "Warning message:\n",
      "\"Expecting numeric in JN412 / R412C274: got a date\"\n",
      "Warning message:\n",
      "\"Expecting numeric in JN432 / R432C274: got a date\"\n",
      "Warning message:\n",
      "\"Expecting numeric in JN447 / R447C274: got a date\"\n",
      "Warning message:\n",
      "\"Expecting numeric in JN448 / R448C274: got a date\"\n",
      "Warning message:\n",
      "\"Expecting numeric in JN460 / R460C274: got a date\"\n",
      "Warning message:\n",
      "\"Expecting numeric in JN469 / R469C274: got a date\"\n",
      "Warning message:\n",
      "\"Expecting numeric in JN540 / R540C274: got a date\"\n",
      "Warning message:\n",
      "\"Expecting numeric in JN554 / R554C274: got a date\"\n",
      "Warning message:\n",
      "\"Expecting numeric in JN570 / R570C274: got a date\"\n",
      "Warning message:\n",
      "\"Expecting numeric in JN603 / R603C274: got a date\"\n",
      "Warning message:\n",
      "\"Expecting numeric in JN604 / R604C274: got a date\"\n",
      "Warning message:\n",
      "\"Expecting numeric in JN665 / R665C274: got a date\"\n",
      "Warning message:\n",
      "\"Expecting numeric in JN682 / R682C274: got a date\"\n",
      "Warning message:\n",
      "\"Expecting numeric in JN700 / R700C274: got a date\"\n",
      "Warning message:\n",
      "\"Expecting numeric in JN714 / R714C274: got a date\"\n",
      "Warning message:\n",
      "\"Expecting numeric in JN717 / R717C274: got a date\"\n",
      "Warning message:\n",
      "\"Expecting numeric in JN723 / R723C274: got a date\"\n",
      "Warning message:\n",
      "\"Expecting numeric in JN772 / R772C274: got a date\"\n",
      "Warning message:\n",
      "\"Expecting numeric in JN793 / R793C274: got a date\"\n",
      "Warning message:\n",
      "\"Expecting numeric in JN802 / R802C274: got a date\"\n",
      "Warning message:\n",
      "\"Expecting numeric in JN807 / R807C274: got a date\"\n",
      "Warning message:\n",
      "\"Expecting numeric in JN816 / R816C274: got a date\"\n",
      "Warning message:\n",
      "\"Expecting numeric in JN825 / R825C274: got a date\"\n",
      "Warning message:\n",
      "\"Expecting numeric in JN875 / R875C274: got a date\"\n",
      "Warning message:\n",
      "\"Expecting numeric in JN894 / R894C274: got a date\"\n",
      "Warning message:\n",
      "\"Expecting numeric in JN908 / R908C274: got a date\"\n",
      "Warning message:\n",
      "\"Expecting numeric in JN920 / R920C274: got a date\"\n",
      "Warning message:\n",
      "\"Expecting numeric in JN928 / R928C274: got a date\"\n",
      "Warning message:\n",
      "\"Expecting numeric in JN929 / R929C274: got a date\"\n",
      "Warning message:\n",
      "\"Expecting numeric in JN951 / R951C274: got a date\"\n",
      "Warning message:\n",
      "\"Expecting numeric in JN966 / R966C274: got a date\"\n",
      "Warning message:\n",
      "\"Expecting numeric in JN986 / R986C274: got a date\"\n",
      "Warning message:\n",
      "\"Expecting numeric in JN1004 / R1004C274: got a date\"\n",
      "Warning message:\n",
      "\"Expecting numeric in JN1013 / R1013C274: got a date\"\n",
      "Warning message:\n",
      "\"Expecting numeric in JN1042 / R1042C274: got a date\"\n",
      "Warning message:\n",
      "\"Expecting numeric in JN1049 / R1049C274: got a date\"\n",
      "Warning message:\n",
      "\"Expecting numeric in JN1050 / R1050C274: got a date\"\n",
      "Warning message:\n",
      "\"Expecting numeric in JN1053 / R1053C274: got a date\"\n",
      "Warning message:\n",
      "\"Expecting numeric in JN1082 / R1082C274: got a date\"\n",
      "Warning message:\n",
      "\"Expecting numeric in JI1084 / R1084C269: got a date\"\n",
      "Warning message:\n",
      "\"Expecting numeric in JN1084 / R1084C274: got a date\"\n",
      "Warning message:\n",
      "\"Expecting numeric in JN1089 / R1089C274: got a date\"\n",
      "Warning message:\n",
      "\"Expecting numeric in JN1094 / R1094C274: got a date\"\n",
      "Warning message:\n",
      "\"Expecting numeric in JN1098 / R1098C274: got a date\"\n",
      "Warning message:\n",
      "\"Expecting numeric in JN1102 / R1102C274: got a date\"\n",
      "Warning message:\n",
      "\"Expecting numeric in JN1136 / R1136C274: got a date\"\n",
      "Warning message:\n",
      "\"Expecting numeric in JN1140 / R1140C274: got a date\"\n",
      "Warning message:\n",
      "\"Expecting date in KA1166 / R1166C287: got '30/3//2019'\"\n",
      "Warning message:\n",
      "\"Expecting numeric in JN1171 / R1171C274: got a date\"\n",
      "Warning message:\n",
      "\"Expecting numeric in JN1183 / R1183C274: got a date\"\n",
      "Warning message:\n",
      "\"Expecting numeric in JN1187 / R1187C274: got a date\"\n",
      "Warning message:\n",
      "\"Expecting numeric in JN1200 / R1200C274: got a date\"\n",
      "Warning message:\n",
      "\"Expecting numeric in JN1201 / R1201C274: got a date\"\n",
      "Warning message:\n",
      "\"Expecting numeric in JN1231 / R1231C274: got a date\"\n",
      "Warning message:\n",
      "\"Expecting numeric in JN1237 / R1237C274: got a date\"\n",
      "Warning message:\n",
      "\"Expecting numeric in JN1241 / R1241C274: got a date\"\n",
      "Warning message:\n",
      "\"Expecting numeric in JN1248 / R1248C274: got a date\"\n",
      "Warning message:\n",
      "\"Expecting numeric in JN1249 / R1249C274: got a date\"\n",
      "Warning message:\n",
      "\"Expecting numeric in JN1273 / R1273C274: got a date\"\n",
      "Warning message:\n",
      "\"Expecting numeric in JN1275 / R1275C274: got a date\"\n",
      "Warning message:\n",
      "\"Expecting numeric in JN1284 / R1284C274: got a date\"\n",
      "Warning message:\n",
      "\"Expecting numeric in JN1293 / R1293C274: got a date\"\n",
      "Warning message:\n",
      "\"Expecting numeric in JN1301 / R1301C274: got a date\"\n",
      "Warning message:\n",
      "\"Expecting numeric in JN1306 / R1306C274: got a date\"\n",
      "Warning message:\n",
      "\"Expecting numeric in JN1334 / R1334C274: got a date\"\n",
      "Warning message:\n",
      "\"Expecting numeric in JN1345 / R1345C274: got a date\"\n",
      "Warning message:\n",
      "\"Expecting numeric in JN1353 / R1353C274: got a date\"\n",
      "Warning message:\n",
      "\"Expecting logical in AZ1359 / R1359C52: got 'Taponamiento diferido con DEM,sepsis'\"\n",
      "Warning message:\n",
      "\"Expecting numeric in JN1372 / R1372C274: got a date\"\n",
      "Warning message:\n",
      "\"Expecting numeric in JN1384 / R1384C274: got a date\"\n",
      "Warning message:\n",
      "\"Expecting numeric in JN1390 / R1390C274: got a date\"\n",
      "Warning message:\n",
      "\"Expecting numeric in JN1397 / R1397C274: got a date\"\n",
      "Warning message:\n",
      "\"Expecting numeric in JN1408 / R1408C274: got a date\"\n",
      "Warning message:\n",
      "\"Expecting numeric in JN1443 / R1443C274: got a date\"\n",
      "Warning message:\n",
      "\"Expecting numeric in JI1460 / R1460C269: got a date\"\n",
      "Warning message:\n",
      "\"Expecting numeric in JI1462 / R1462C269: got a date\"\n",
      "Warning message:\n",
      "\"Expecting numeric in JI1463 / R1463C269: got a date\"\n",
      "Warning message:\n",
      "\"Expecting numeric in JI1467 / R1467C269: got a date\"\n",
      "Warning message:\n",
      "\"Expecting numeric in JN1473 / R1473C274: got a date\"\n",
      "Warning message:\n",
      "\"Expecting numeric in JN1499 / R1499C274: got a date\"\n",
      "Warning message:\n",
      "\"Expecting numeric in JN1506 / R1506C274: got a date\"\n",
      "Warning message:\n",
      "\"Expecting numeric in JN1518 / R1518C274: got a date\"\n",
      "Warning message:\n",
      "\"Expecting numeric in JN1529 / R1529C274: got a date\"\n",
      "Warning message:\n",
      "\"Expecting numeric in JN1541 / R1541C274: got '31/4/2017'\"\n",
      "Warning message:\n",
      "\"Expecting numeric in JN1547 / R1547C274: got a date\"\n",
      "Warning message:\n",
      "\"Expecting numeric in JN1548 / R1548C274: got a date\"\n",
      "Warning message:\n",
      "\"Expecting numeric in JN1550 / R1550C274: got a date\"\n",
      "Warning message:\n",
      "\"Expecting numeric in JN1553 / R1553C274: got a date\"\n",
      "Warning message:\n",
      "\"Expecting numeric in JN1561 / R1561C274: got a date\"\n",
      "Warning message:\n",
      "\"Expecting numeric in JI1571 / R1571C269: got a date\"\n",
      "Warning message:\n",
      "\"Expecting numeric in JI1574 / R1574C269: got a date\"\n",
      "Warning message:\n",
      "\"Expecting numeric in JN1580 / R1580C274: got a date\"\n",
      "Warning message:\n",
      "\"Expecting numeric in JI1593 / R1593C269: got a date\"\n",
      "Warning message:\n",
      "\"Expecting numeric in JN1605 / R1605C274: got a date\"\n",
      "Warning message:\n",
      "\"Expecting numeric in JN1612 / R1612C274: got a date\"\n",
      "Warning message:\n",
      "\"Expecting numeric in JN1621 / R1621C274: got a date\"\n",
      "Warning message:\n",
      "\"Expecting numeric in JN1634 / R1634C274: got a date\"\n",
      "Warning message:\n",
      "\"Expecting numeric in JN1642 / R1642C274: got a date\"\n",
      "Warning message:\n",
      "\"Expecting numeric in JN1647 / R1647C274: got a date\"\n",
      "Warning message:\n",
      "\"Expecting numeric in JN1650 / R1650C274: got a date\"\n",
      "Warning message:\n",
      "\"Expecting numeric in JN1652 / R1652C274: got a date\"\n",
      "Warning message:\n",
      "\"Expecting numeric in JN1655 / R1655C274: got a date\"\n",
      "Warning message:\n",
      "\"Expecting numeric in JN1656 / R1656C274: got a date\"\n",
      "Warning message:\n",
      "\"Expecting numeric in JN1660 / R1660C274: got a date\"\n",
      "Warning message:\n",
      "\"Expecting numeric in JN1665 / R1665C274: got a date\"\n",
      "Warning message:\n",
      "\"Expecting numeric in JN1680 / R1680C274: got a date\"\n",
      "Warning message:\n",
      "\"Expecting numeric in JN1686 / R1686C274: got a date\"\n",
      "Warning message:\n",
      "\"Expecting numeric in JN1699 / R1699C274: got a date\"\n",
      "Warning message:\n",
      "\"Expecting numeric in JN1708 / R1708C274: got a date\"\n",
      "Warning message:\n",
      "\"Expecting numeric in JN1715 / R1715C274: got a date\"\n",
      "Warning message:\n",
      "\"Expecting date in JW1715 / R1715C283: got '####'\"\n",
      "Warning message:\n",
      "\"Expecting numeric in JN1733 / R1733C274: got a date\"\n",
      "Warning message:\n",
      "\"Expecting numeric in JN1743 / R1743C274: got a date\"\n",
      "Warning message:\n",
      "\"Expecting numeric in JN1744 / R1744C274: got a date\"\n",
      "Warning message:\n",
      "\"Expecting numeric in JN1770 / R1770C274: got a date\"\n",
      "Warning message:\n",
      "\"Expecting numeric in JN1777 / R1777C274: got a date\"\n",
      "Warning message:\n",
      "\"Expecting numeric in JN1783 / R1783C274: got a date\"\n",
      "Warning message:\n",
      "\"Expecting numeric in JN1790 / R1790C274: got a date\"\n",
      "Warning message:\n",
      "\"Expecting numeric in JN1800 / R1800C274: got a date\"\n",
      "Warning message:\n",
      "\"Expecting numeric in JN1808 / R1808C274: got a date\"\n",
      "Warning message:\n",
      "\"Expecting numeric in JN1822 / R1822C274: got a date\"\n",
      "Warning message:\n",
      "\"Expecting numeric in JN1857 / R1857C274: got a date\"\n",
      "Warning message:\n",
      "\"Expecting numeric in JN1882 / R1882C274: got a date\"\n",
      "Warning message:\n",
      "\"Expecting numeric in JN1934 / R1934C274: got a date\"\n",
      "Warning message:\n",
      "\"Expecting numeric in JN1960 / R1960C274: got a date\"\n",
      "Warning message:\n",
      "\"Expecting numeric in JN1963 / R1963C274: got a date\"\n",
      "Warning message:\n",
      "\"Expecting numeric in JN1964 / R1964C274: got a date\"\n",
      "Warning message:\n",
      "\"Expecting numeric in JN1971 / R1971C274: got a date\"\n",
      "Warning message:\n",
      "\"Expecting numeric in JN2016 / R2016C274: got a date\"\n",
      "Warning message:\n",
      "\"Expecting numeric in JN2030 / R2030C274: got a date\"\n",
      "Warning message:\n",
      "\"Expecting numeric in JN2038 / R2038C274: got a date\"\n",
      "Warning message:\n",
      "\"Expecting numeric in JN2044 / R2044C274: got a date\"\n",
      "Warning message:\n",
      "\"Expecting numeric in JN2045 / R2045C274: got a date\"\n",
      "Warning message:\n",
      "\"Expecting numeric in JN2051 / R2051C274: got a date\"\n",
      "Warning message:\n",
      "\"Expecting numeric in JN2054 / R2054C274: got a date\"\n",
      "Warning message:\n",
      "\"Expecting numeric in JN2062 / R2062C274: got a date\"\n",
      "Warning message:\n",
      "\"Expecting numeric in JN2069 / R2069C274: got a date\"\n",
      "Warning message:\n",
      "\"Expecting numeric in JN2070 / R2070C274: got a date\"\n",
      "Warning message:\n",
      "\"Expecting numeric in JO2070 / R2070C275: got 'takotsubo 1'\"\n",
      "Warning message:\n",
      "\"Expecting numeric in JN2075 / R2075C274: got a date\"\n",
      "Warning message:\n",
      "\"Expecting numeric in JN2079 / R2079C274: got a date\"\n",
      "Warning message:\n",
      "\"Expecting numeric in JN2102 / R2102C274: got a date\"\n",
      "Warning message:\n",
      "\"Expecting numeric in JN2107 / R2107C274: got a date\"\n",
      "Warning message:\n",
      "\"Expecting numeric in JN2117 / R2117C274: got a date\"\n",
      "Warning message:\n",
      "\"Expecting numeric in JN2123 / R2123C274: got a date\"\n",
      "Warning message:\n",
      "\"Expecting numeric in JN2135 / R2135C274: got a date\"\n",
      "Warning message:\n",
      "\"Expecting numeric in JN2142 / R2142C274: got a date\"\n",
      "Warning message:\n",
      "\"Expecting numeric in JN2173 / R2173C274: got a date\"\n",
      "Warning message:\n",
      "\"Expecting numeric in JN2180 / R2180C274: got a date\"\n",
      "Warning message:\n",
      "\"Expecting numeric in JN2203 / R2203C274: got a date\"\n",
      "Warning message:\n",
      "\"Expecting numeric in JN2228 / R2228C274: got a date\"\n",
      "Warning message:\n",
      "\"Expecting numeric in JN2250 / R2250C274: got a date\"\n",
      "Warning message:\n",
      "\"Expecting numeric in JN2274 / R2274C274: got a date\"\n",
      "Warning message:\n",
      "\"Expecting numeric in JN2315 / R2315C274: got a date\"\n",
      "Warning message:\n",
      "\"Expecting numeric in JN2357 / R2357C274: got a date\"\n",
      "Warning message:\n",
      "\"Expecting numeric in JN2362 / R2362C274: got a date\"\n",
      "Warning message:\n",
      "\"Expecting numeric in JN2378 / R2378C274: got a date\"\n",
      "Warning message:\n",
      "\"Expecting numeric in JN2379 / R2379C274: got a date\"\n",
      "Warning message:\n",
      "\"Expecting numeric in JN2389 / R2389C274: got a date\"\n",
      "Warning message:\n",
      "\"Expecting numeric in JN2401 / R2401C274: got a date\"\n",
      "Warning message:\n",
      "\"Expecting numeric in JN2403 / R2403C274: got a date\"\n",
      "Warning message:\n",
      "\"Expecting numeric in JN2406 / R2406C274: got a date\"\n",
      "Warning message:\n",
      "\"Expecting numeric in JN2418 / R2418C274: got a date\"\n",
      "Warning message:\n",
      "\"Expecting numeric in JN2422 / R2422C274: got a date\"\n",
      "Warning message:\n",
      "\"Expecting numeric in JN2425 / R2425C274: got a date\"\n",
      "Warning message:\n",
      "\"Expecting numeric in JN2455 / R2455C274: got a date\"\n",
      "Warning message:\n",
      "\"Expecting numeric in JN2464 / R2464C274: got a date\"\n",
      "\u001b[1m\u001b[22mNew names:\n",
      "\u001b[36m•\u001b[39m `` -> `...35`\n",
      "\u001b[36m•\u001b[39m `Bici.PSS` -> `Bici.PSS...181`\n",
      "\u001b[36m•\u001b[39m `SabeColesterol.PSS` -> `SabeColesterol.PSS...188`\n",
      "\u001b[36m•\u001b[39m `SabeColesterol.PSS` -> `SabeColesterol.PSS...189`\n",
      "\u001b[36m•\u001b[39m `Internet.PSS` -> `Internet.PSS...212`\n",
      "\u001b[36m•\u001b[39m `Bici.PSS` -> `Bici.PSS...247`\n",
      "\u001b[36m•\u001b[39m `Internet.PSS` -> `Internet.PSS...258`\n"
     ]
    },
    {
     "data": {
      "text/html": [
       "<style>\n",
       ".list-inline {list-style: none; margin:0; padding: 0}\n",
       ".list-inline>li {display: inline-block}\n",
       ".list-inline>li:not(:last-child)::after {content: \"\\00b7\"; padding: 0 .5ex}\n",
       "</style>\n",
       "<ol class=list-inline><li>'Id'</li><li>'Edad'</li><li>'Sexo'</li><li>'Peso'</li><li>'Talla'</li><li>'HFdeC.isquemica'</li><li>'Fumador'</li><li>'Diabetes'</li><li>'TratamientoDM'</li><li>'Hipertension'</li><li>'Dislipemia'</li><li>'IRC'</li><li>'Filtrado Glomerular'</li><li>'HBpreKT'</li><li>'InfartoAntiguo'</li><li>'LocIAMprevio'</li><li>'QXcoronariapre'</li><li>'AnoQXcoronariapre'</li><li>'PuentesQxpre.Tx'</li><li>'ACTPprevia'</li><li>'AnoACTPprevia'</li><li>'TCI.stentpre'</li><li>'DA.stentpre'</li><li>'Cx.stentpre'</li><li>'MOB.stentpre'</li><li>'CD.stentpre'</li><li>'PL.stentpre'</li><li>'IVP.stentpre'</li><li>'EnfArtPerif.pre'</li><li>'ACVpre'</li><li>'CHA2DS2VASC'</li><li>'CHADS2'</li><li>'Grace'</li><li>'PreciseDAPT'</li><li>'...35'</li><li>'FE'</li><li>'Indicacion'</li><li>'IndicacionIAMCEST'</li><li>'Acceso'</li><li>'TCI.Actual'</li><li>'DA.Actual'</li><li>'CX.Actual'</li><li>'CD.Actual'</li><li>'Mamaria.Actual'</li><li>'Safena.Actual'</li><li>'TratDecidido'</li><li>'FechaQx.Actual'</li><li>'Puentes.Actual'</li><li>'ACVQX.Actual'</li><li>'InfartoQX.Actual'</li><li>'MuerteQX.Actual'</li><li>'MuerteQXtexto'</li><li>'TCI.tratada'</li><li>'DA.tratada'</li><li>'Cx.tratada'</li><li>'CD.tratada'</li><li>'Mamaria.tratada'</li><li>'Safena.tratada'</li><li>'Lesiones Tratadas'</li><li>'SINTAX1'</li><li>'SINTAX2'</li><li>'Complicaciones'</li><li>'CreaPost'</li><li>'HBpost'</li><li>'VivoAlta'</li><li>'FechaMuerteAlta'</li><li>'CausaMuerteAlta'</li><li>'Shock.Comp'</li><li>'TromboStent.Comp'</li><li>'IAMxOtraLesión.Comp'</li><li>'reACTPmismo.Comp'</li><li>'reACTPnueva.Comp'</li><li>'CirugiaCoro.Comp'</li><li>'Hemorragia.Comp'</li><li>'Infeccion.Comp'</li><li>'AccesoVasc.Comp'</li><li>'Otras.Comp'</li><li>'Adiro'</li><li>'DuracionAdiro'</li><li>'InhibADP'</li><li>'DuracionInhADP'</li><li>'ACO'</li><li>'DuracionACO'</li><li>'SegTelef12m'</li><li>'NosegTx'</li><li>'FechaContacto'</li><li>'EstadoAnginoso'</li><li>'ClaseCCS'</li><li>'Adiro12m'</li><li>'InhibADP12m'</li><li>'ACO12m'</li><li>'DAPT.Score'</li><li>'FechaKT.PSS'</li><li>'Peso.PSS'</li><li>'Talla.PSS'</li><li>'CNGsolicitud.PSS'</li><li>'CNGdesde.PSS'</li><li>'DxInicial.PSS'</li><li>'DxInicialTx.PSS'</li><li>'TratFinal.PSS'</li><li>'HTApre.PSS'</li><li>'DislipemiaPre.PSS'</li><li>'DiabetesPre.PSS'</li><li>'TratDM.PSS'</li><li>'IAMpre.PSS'</li><li>'IctusPre.PSS'</li><li>'ACTPpre.PSS'</li><li>'Qxpre.PSS'</li><li>'EnfVascPerifPre.PSS'</li><li>'SdAnsDepPre.PSS'</li><li>'DetCognitivo.PSS'</li><li>'OtroAnteced.PSS'</li><li>'OtroAntecedTx.PSS'</li><li>'ConoceEnf.PSS'</li><li>'ConociaFRCV.PSS'</li><li>'CualesConocia.PSS'</li><li>'SabiaTabaco.PSS'</li><li>'PensoCorazon.PSS'</li><li>'QuePenso.PSS'</li><li>'PersonaContac.PSS'</li><li>'DondeEstaba.PSS'</li><li>'ServSanitContac.PSS'</li><li>'TrasladoSS.PSS'</li><li>'FechaDolor.PSS'</li><li>'HoraDolor.PSS'</li><li>'MinutoDolor.PSS'</li><li>'FechaSanitario.PSS'</li><li>'HoraSanitario.PSS'</li><li>'MinutoSanitario.PSS'</li><li>'FechaUrgencias.PSS'</li><li>'HoraUrg.PSS'</li><li>'MinutoUrg.PSS'</li><li>'FechaTrat.PSS'</li><li>'MinutoTrat.PSS'</li><li>'HoraTrat.PSS'</li><li>'FechaDolorNH.PSS'</li><li>'HoraDolorNH.PSS'</li><li>'MinutoDolorNH.PSS'</li><li>'FechaContSanitNH.PSS'</li><li>'HoraContSanitNH.PSS'</li><li>'MinutoContNH.PSS'</li><li>'FechaUrgNH.PSS'</li><li>'HoraUrgNH.PSS'</li><li>'MinutoUrgNH.PSS'</li><li>'FechaTraNH.PSS'</li><li>'HoraTratNH.PSS'</li><li>'MinutoTratNH.PSS'</li><li>'HTAalta.PSS'</li><li>'Dislipemiaalta.PSS'</li><li>'Diabetesalta.PSS'</li><li>'EnfVascPerifalta.PSS'</li><li>'Fumador.PSS'</li><li>'T.Exfumador.PSS'</li><li>'T.tabaco.PSS'</li><li>'CantTabaco.PSS'</li><li>'MotivoStopTabaco.PSS'</li><li>'IntencionDejar.PSS'</li><li>'PodraDejarlo.PSS'</li><li>'FumaFamilia.PSS'</li><li>'ParejaFuma.PSS'</li><li>'PadreFuma.PSS'</li><li>'MadreFuma.PSS'</li><li>'HijoFuma.PSS'</li><li>'NHijosfuman.PSS'</li><li>'NHijosQueTiene.PSS'</li><li>'OtrosFuma.PSS'</li><li>'Alcohol.PSS'</li><li>'Vino.PSS'</li><li>'Cerveza'</li><li>'Copas.PSS'</li><li>'Drogas.PSS'</li><li>'Marihuana.PSS'</li><li>'Cocaina.PSS'</li><li>'OtrosToxicos.PSS'</li><li>'SosoSalado.PSS'</li><li>'AlimentVariada.PSS'</li><li>'DietaTx.PSS'</li><li>'Ejercicio.PSS'</li><li>'Nadar.PSS'</li><li>'Correr.PSS'</li><li>'Bici.PSS...181'</li><li>'Gimnasio.PSS'</li><li>'OtroEjercicioTx'</li><li>'FrecEjercicio.PSS'</li><li>'IntensEjercicio.PSS'</li><li>'HaraMasEjercicio.PSS'</li><li>'CualMasEjercicio.PSS'</li><li>'SabeColesterol.PSS...188'</li><li>'SabeColesterol.PSS...189'</li><li>'FrecuenciaTA.PSS'</li><li>'QuienTA.PSS'</li><li>'Medidas prevencion HTA'</li><li>'PrevHTATx.PSS'</li><li>'FrecPeso.PSS'</li><li>'FrecMedico.PSS'</li><li>'Menopausia.PSS'</li><li>'Anticonceptivo.PSS'</li><li>'Autopercepcion.PSS'</li><li>'OlvidaConsult.PSS'</li><li>'SabeTrat.PSS'</li><li>'ControlMedicac.PSS'</li><li>'FrecOlvidoTrat.PSS'</li><li>'SaludTV.PSS'</li><li>'FamiliaEnferma.PSS'</li><li>'FamiliaresConEnfTx'</li><li>'ConsultaKT.PSS'</li><li>'FamiliaConsultaKT.PSS'</li><li>'InternetConsultaKT.PSS'</li><li>'Profesionales.KT.PSS'</li><li>'ConsultaEnferm.PSS'</li><li>'Profesionales.PSS'</li><li>'Internet.PSS...212'</li><li>'OtrosConsultEnf.PSS'</li><li>'SabeactuarAngina.PSS'</li><li>'ActAnginaTx.PSS'</li><li>'NivelEstudios.PSS'</li><li>'TipoTrabajo.PSS'</li><li>'Ocupacion.PSS'</li><li>'EstadoCivil'</li><li>'LugarResidencia.PSS'</li><li>'ConQuienVive.PSS'</li><li>'ApoyoFamiliar'</li><li>'TareasHogar.PSS'</li><li>'NHijos.PSS'</li><li>'NNietos.PSS'</li><li>'¿Tiene mascota?'</li><li>'MascotasTx.PSS'</li><li>'Familia.Aficc.PSS'</li><li>'TV.Aficc.PSS'</li><li>'Amigos.Aficc.PSS'</li><li>'Musica.Aficc.PSS'</li><li>'Lectura.Aficc.PSS'</li><li>'Radio.Aficc.PSS'</li><li>'Compras.Aficc.PSS'</li><li>'Cine.Aficc.PSS'</li><li>'Campo.Aficc.PSS'</li><li>'VerDeportes.Aficc.PSS'</li><li>'Bailar.Aficc.PSS'</li><li>'Cultura.Aficc.PSS'</li><li>'SalirComer.Aficc.PSS'</li><li>'Pub.Aficc.PSS'</li><li>'Otros.Aficc.PSS'</li><li>'Autobus.PSS'</li><li>'Taxi.PSS'</li><li>'Coche.PSS'</li><li>'Moto.PSS'</li><li>'Bici.PSS...247'</li><li>'Caminando.PSS'</li><li>'OtrosVehiculos.PSS'</li><li>'Facebook.PSS'</li><li>'Twitter.PSS'</li><li>'Youtube.PSS'</li><li>'LinkeDin.PSS'</li><li>'Spotify.PSS'</li><li>'OtrasRedes.PSS'</li><li>'TelefMovil.PSS'</li><li>'APPs.PSS'</li><li>'Internet.PSS...258'</li><li>'Tablet.PSS'</li><li>'Ordenador.PSS'</li><li>'Portatil.PSS'</li><li>'SmartTV.PSS'</li><li>'Wifi.Publica.PSS'</li><li>'ConoceSkype.PSS'</li><li>'UsaSkype'</li><li>'Fecha entrada'</li><li>'FechaEstadoVital'</li><li>'CausaMuerte'</li><li>'Muerte'</li><li>'Fecha muerte'</li><li>'Muerte CV'</li><li>'Fecha muerte CV'</li><li>'IAM'</li><li>'Fecha IAM'</li><li>'N.Infartos.Seg'</li><li>'IAM2'</li><li>'Fecha IAM2'</li><li>'IAM3'</li><li>'Fecha IAM3'</li><li>'Revasc'</li><li>'Fecha revasc'</li><li>'Revasc2'</li><li>'Fecha revasc2'</li><li>'Revasc3'</li><li>'Fecha revasc3'</li><li>'Ictus'</li><li>'Fecha ictus'</li><li>'Hemorragia'</li><li>'Fecha hemorragia'</li><li>'Fecha fin seg'</li></ol>\n"
      ],
      "text/latex": [
       "\\begin{enumerate*}\n",
       "\\item 'Id'\n",
       "\\item 'Edad'\n",
       "\\item 'Sexo'\n",
       "\\item 'Peso'\n",
       "\\item 'Talla'\n",
       "\\item 'HFdeC.isquemica'\n",
       "\\item 'Fumador'\n",
       "\\item 'Diabetes'\n",
       "\\item 'TratamientoDM'\n",
       "\\item 'Hipertension'\n",
       "\\item 'Dislipemia'\n",
       "\\item 'IRC'\n",
       "\\item 'Filtrado Glomerular'\n",
       "\\item 'HBpreKT'\n",
       "\\item 'InfartoAntiguo'\n",
       "\\item 'LocIAMprevio'\n",
       "\\item 'QXcoronariapre'\n",
       "\\item 'AnoQXcoronariapre'\n",
       "\\item 'PuentesQxpre.Tx'\n",
       "\\item 'ACTPprevia'\n",
       "\\item 'AnoACTPprevia'\n",
       "\\item 'TCI.stentpre'\n",
       "\\item 'DA.stentpre'\n",
       "\\item 'Cx.stentpre'\n",
       "\\item 'MOB.stentpre'\n",
       "\\item 'CD.stentpre'\n",
       "\\item 'PL.stentpre'\n",
       "\\item 'IVP.stentpre'\n",
       "\\item 'EnfArtPerif.pre'\n",
       "\\item 'ACVpre'\n",
       "\\item 'CHA2DS2VASC'\n",
       "\\item 'CHADS2'\n",
       "\\item 'Grace'\n",
       "\\item 'PreciseDAPT'\n",
       "\\item '...35'\n",
       "\\item 'FE'\n",
       "\\item 'Indicacion'\n",
       "\\item 'IndicacionIAMCEST'\n",
       "\\item 'Acceso'\n",
       "\\item 'TCI.Actual'\n",
       "\\item 'DA.Actual'\n",
       "\\item 'CX.Actual'\n",
       "\\item 'CD.Actual'\n",
       "\\item 'Mamaria.Actual'\n",
       "\\item 'Safena.Actual'\n",
       "\\item 'TratDecidido'\n",
       "\\item 'FechaQx.Actual'\n",
       "\\item 'Puentes.Actual'\n",
       "\\item 'ACVQX.Actual'\n",
       "\\item 'InfartoQX.Actual'\n",
       "\\item 'MuerteQX.Actual'\n",
       "\\item 'MuerteQXtexto'\n",
       "\\item 'TCI.tratada'\n",
       "\\item 'DA.tratada'\n",
       "\\item 'Cx.tratada'\n",
       "\\item 'CD.tratada'\n",
       "\\item 'Mamaria.tratada'\n",
       "\\item 'Safena.tratada'\n",
       "\\item 'Lesiones Tratadas'\n",
       "\\item 'SINTAX1'\n",
       "\\item 'SINTAX2'\n",
       "\\item 'Complicaciones'\n",
       "\\item 'CreaPost'\n",
       "\\item 'HBpost'\n",
       "\\item 'VivoAlta'\n",
       "\\item 'FechaMuerteAlta'\n",
       "\\item 'CausaMuerteAlta'\n",
       "\\item 'Shock.Comp'\n",
       "\\item 'TromboStent.Comp'\n",
       "\\item 'IAMxOtraLesión.Comp'\n",
       "\\item 'reACTPmismo.Comp'\n",
       "\\item 'reACTPnueva.Comp'\n",
       "\\item 'CirugiaCoro.Comp'\n",
       "\\item 'Hemorragia.Comp'\n",
       "\\item 'Infeccion.Comp'\n",
       "\\item 'AccesoVasc.Comp'\n",
       "\\item 'Otras.Comp'\n",
       "\\item 'Adiro'\n",
       "\\item 'DuracionAdiro'\n",
       "\\item 'InhibADP'\n",
       "\\item 'DuracionInhADP'\n",
       "\\item 'ACO'\n",
       "\\item 'DuracionACO'\n",
       "\\item 'SegTelef12m'\n",
       "\\item 'NosegTx'\n",
       "\\item 'FechaContacto'\n",
       "\\item 'EstadoAnginoso'\n",
       "\\item 'ClaseCCS'\n",
       "\\item 'Adiro12m'\n",
       "\\item 'InhibADP12m'\n",
       "\\item 'ACO12m'\n",
       "\\item 'DAPT.Score'\n",
       "\\item 'FechaKT.PSS'\n",
       "\\item 'Peso.PSS'\n",
       "\\item 'Talla.PSS'\n",
       "\\item 'CNGsolicitud.PSS'\n",
       "\\item 'CNGdesde.PSS'\n",
       "\\item 'DxInicial.PSS'\n",
       "\\item 'DxInicialTx.PSS'\n",
       "\\item 'TratFinal.PSS'\n",
       "\\item 'HTApre.PSS'\n",
       "\\item 'DislipemiaPre.PSS'\n",
       "\\item 'DiabetesPre.PSS'\n",
       "\\item 'TratDM.PSS'\n",
       "\\item 'IAMpre.PSS'\n",
       "\\item 'IctusPre.PSS'\n",
       "\\item 'ACTPpre.PSS'\n",
       "\\item 'Qxpre.PSS'\n",
       "\\item 'EnfVascPerifPre.PSS'\n",
       "\\item 'SdAnsDepPre.PSS'\n",
       "\\item 'DetCognitivo.PSS'\n",
       "\\item 'OtroAnteced.PSS'\n",
       "\\item 'OtroAntecedTx.PSS'\n",
       "\\item 'ConoceEnf.PSS'\n",
       "\\item 'ConociaFRCV.PSS'\n",
       "\\item 'CualesConocia.PSS'\n",
       "\\item 'SabiaTabaco.PSS'\n",
       "\\item 'PensoCorazon.PSS'\n",
       "\\item 'QuePenso.PSS'\n",
       "\\item 'PersonaContac.PSS'\n",
       "\\item 'DondeEstaba.PSS'\n",
       "\\item 'ServSanitContac.PSS'\n",
       "\\item 'TrasladoSS.PSS'\n",
       "\\item 'FechaDolor.PSS'\n",
       "\\item 'HoraDolor.PSS'\n",
       "\\item 'MinutoDolor.PSS'\n",
       "\\item 'FechaSanitario.PSS'\n",
       "\\item 'HoraSanitario.PSS'\n",
       "\\item 'MinutoSanitario.PSS'\n",
       "\\item 'FechaUrgencias.PSS'\n",
       "\\item 'HoraUrg.PSS'\n",
       "\\item 'MinutoUrg.PSS'\n",
       "\\item 'FechaTrat.PSS'\n",
       "\\item 'MinutoTrat.PSS'\n",
       "\\item 'HoraTrat.PSS'\n",
       "\\item 'FechaDolorNH.PSS'\n",
       "\\item 'HoraDolorNH.PSS'\n",
       "\\item 'MinutoDolorNH.PSS'\n",
       "\\item 'FechaContSanitNH.PSS'\n",
       "\\item 'HoraContSanitNH.PSS'\n",
       "\\item 'MinutoContNH.PSS'\n",
       "\\item 'FechaUrgNH.PSS'\n",
       "\\item 'HoraUrgNH.PSS'\n",
       "\\item 'MinutoUrgNH.PSS'\n",
       "\\item 'FechaTraNH.PSS'\n",
       "\\item 'HoraTratNH.PSS'\n",
       "\\item 'MinutoTratNH.PSS'\n",
       "\\item 'HTAalta.PSS'\n",
       "\\item 'Dislipemiaalta.PSS'\n",
       "\\item 'Diabetesalta.PSS'\n",
       "\\item 'EnfVascPerifalta.PSS'\n",
       "\\item 'Fumador.PSS'\n",
       "\\item 'T.Exfumador.PSS'\n",
       "\\item 'T.tabaco.PSS'\n",
       "\\item 'CantTabaco.PSS'\n",
       "\\item 'MotivoStopTabaco.PSS'\n",
       "\\item 'IntencionDejar.PSS'\n",
       "\\item 'PodraDejarlo.PSS'\n",
       "\\item 'FumaFamilia.PSS'\n",
       "\\item 'ParejaFuma.PSS'\n",
       "\\item 'PadreFuma.PSS'\n",
       "\\item 'MadreFuma.PSS'\n",
       "\\item 'HijoFuma.PSS'\n",
       "\\item 'NHijosfuman.PSS'\n",
       "\\item 'NHijosQueTiene.PSS'\n",
       "\\item 'OtrosFuma.PSS'\n",
       "\\item 'Alcohol.PSS'\n",
       "\\item 'Vino.PSS'\n",
       "\\item 'Cerveza'\n",
       "\\item 'Copas.PSS'\n",
       "\\item 'Drogas.PSS'\n",
       "\\item 'Marihuana.PSS'\n",
       "\\item 'Cocaina.PSS'\n",
       "\\item 'OtrosToxicos.PSS'\n",
       "\\item 'SosoSalado.PSS'\n",
       "\\item 'AlimentVariada.PSS'\n",
       "\\item 'DietaTx.PSS'\n",
       "\\item 'Ejercicio.PSS'\n",
       "\\item 'Nadar.PSS'\n",
       "\\item 'Correr.PSS'\n",
       "\\item 'Bici.PSS...181'\n",
       "\\item 'Gimnasio.PSS'\n",
       "\\item 'OtroEjercicioTx'\n",
       "\\item 'FrecEjercicio.PSS'\n",
       "\\item 'IntensEjercicio.PSS'\n",
       "\\item 'HaraMasEjercicio.PSS'\n",
       "\\item 'CualMasEjercicio.PSS'\n",
       "\\item 'SabeColesterol.PSS...188'\n",
       "\\item 'SabeColesterol.PSS...189'\n",
       "\\item 'FrecuenciaTA.PSS'\n",
       "\\item 'QuienTA.PSS'\n",
       "\\item 'Medidas prevencion HTA'\n",
       "\\item 'PrevHTATx.PSS'\n",
       "\\item 'FrecPeso.PSS'\n",
       "\\item 'FrecMedico.PSS'\n",
       "\\item 'Menopausia.PSS'\n",
       "\\item 'Anticonceptivo.PSS'\n",
       "\\item 'Autopercepcion.PSS'\n",
       "\\item 'OlvidaConsult.PSS'\n",
       "\\item 'SabeTrat.PSS'\n",
       "\\item 'ControlMedicac.PSS'\n",
       "\\item 'FrecOlvidoTrat.PSS'\n",
       "\\item 'SaludTV.PSS'\n",
       "\\item 'FamiliaEnferma.PSS'\n",
       "\\item 'FamiliaresConEnfTx'\n",
       "\\item 'ConsultaKT.PSS'\n",
       "\\item 'FamiliaConsultaKT.PSS'\n",
       "\\item 'InternetConsultaKT.PSS'\n",
       "\\item 'Profesionales.KT.PSS'\n",
       "\\item 'ConsultaEnferm.PSS'\n",
       "\\item 'Profesionales.PSS'\n",
       "\\item 'Internet.PSS...212'\n",
       "\\item 'OtrosConsultEnf.PSS'\n",
       "\\item 'SabeactuarAngina.PSS'\n",
       "\\item 'ActAnginaTx.PSS'\n",
       "\\item 'NivelEstudios.PSS'\n",
       "\\item 'TipoTrabajo.PSS'\n",
       "\\item 'Ocupacion.PSS'\n",
       "\\item 'EstadoCivil'\n",
       "\\item 'LugarResidencia.PSS'\n",
       "\\item 'ConQuienVive.PSS'\n",
       "\\item 'ApoyoFamiliar'\n",
       "\\item 'TareasHogar.PSS'\n",
       "\\item 'NHijos.PSS'\n",
       "\\item 'NNietos.PSS'\n",
       "\\item '¿Tiene mascota?'\n",
       "\\item 'MascotasTx.PSS'\n",
       "\\item 'Familia.Aficc.PSS'\n",
       "\\item 'TV.Aficc.PSS'\n",
       "\\item 'Amigos.Aficc.PSS'\n",
       "\\item 'Musica.Aficc.PSS'\n",
       "\\item 'Lectura.Aficc.PSS'\n",
       "\\item 'Radio.Aficc.PSS'\n",
       "\\item 'Compras.Aficc.PSS'\n",
       "\\item 'Cine.Aficc.PSS'\n",
       "\\item 'Campo.Aficc.PSS'\n",
       "\\item 'VerDeportes.Aficc.PSS'\n",
       "\\item 'Bailar.Aficc.PSS'\n",
       "\\item 'Cultura.Aficc.PSS'\n",
       "\\item 'SalirComer.Aficc.PSS'\n",
       "\\item 'Pub.Aficc.PSS'\n",
       "\\item 'Otros.Aficc.PSS'\n",
       "\\item 'Autobus.PSS'\n",
       "\\item 'Taxi.PSS'\n",
       "\\item 'Coche.PSS'\n",
       "\\item 'Moto.PSS'\n",
       "\\item 'Bici.PSS...247'\n",
       "\\item 'Caminando.PSS'\n",
       "\\item 'OtrosVehiculos.PSS'\n",
       "\\item 'Facebook.PSS'\n",
       "\\item 'Twitter.PSS'\n",
       "\\item 'Youtube.PSS'\n",
       "\\item 'LinkeDin.PSS'\n",
       "\\item 'Spotify.PSS'\n",
       "\\item 'OtrasRedes.PSS'\n",
       "\\item 'TelefMovil.PSS'\n",
       "\\item 'APPs.PSS'\n",
       "\\item 'Internet.PSS...258'\n",
       "\\item 'Tablet.PSS'\n",
       "\\item 'Ordenador.PSS'\n",
       "\\item 'Portatil.PSS'\n",
       "\\item 'SmartTV.PSS'\n",
       "\\item 'Wifi.Publica.PSS'\n",
       "\\item 'ConoceSkype.PSS'\n",
       "\\item 'UsaSkype'\n",
       "\\item 'Fecha entrada'\n",
       "\\item 'FechaEstadoVital'\n",
       "\\item 'CausaMuerte'\n",
       "\\item 'Muerte'\n",
       "\\item 'Fecha muerte'\n",
       "\\item 'Muerte CV'\n",
       "\\item 'Fecha muerte CV'\n",
       "\\item 'IAM'\n",
       "\\item 'Fecha IAM'\n",
       "\\item 'N.Infartos.Seg'\n",
       "\\item 'IAM2'\n",
       "\\item 'Fecha IAM2'\n",
       "\\item 'IAM3'\n",
       "\\item 'Fecha IAM3'\n",
       "\\item 'Revasc'\n",
       "\\item 'Fecha revasc'\n",
       "\\item 'Revasc2'\n",
       "\\item 'Fecha revasc2'\n",
       "\\item 'Revasc3'\n",
       "\\item 'Fecha revasc3'\n",
       "\\item 'Ictus'\n",
       "\\item 'Fecha ictus'\n",
       "\\item 'Hemorragia'\n",
       "\\item 'Fecha hemorragia'\n",
       "\\item 'Fecha fin seg'\n",
       "\\end{enumerate*}\n"
      ],
      "text/markdown": [
       "1. 'Id'\n",
       "2. 'Edad'\n",
       "3. 'Sexo'\n",
       "4. 'Peso'\n",
       "5. 'Talla'\n",
       "6. 'HFdeC.isquemica'\n",
       "7. 'Fumador'\n",
       "8. 'Diabetes'\n",
       "9. 'TratamientoDM'\n",
       "10. 'Hipertension'\n",
       "11. 'Dislipemia'\n",
       "12. 'IRC'\n",
       "13. 'Filtrado Glomerular'\n",
       "14. 'HBpreKT'\n",
       "15. 'InfartoAntiguo'\n",
       "16. 'LocIAMprevio'\n",
       "17. 'QXcoronariapre'\n",
       "18. 'AnoQXcoronariapre'\n",
       "19. 'PuentesQxpre.Tx'\n",
       "20. 'ACTPprevia'\n",
       "21. 'AnoACTPprevia'\n",
       "22. 'TCI.stentpre'\n",
       "23. 'DA.stentpre'\n",
       "24. 'Cx.stentpre'\n",
       "25. 'MOB.stentpre'\n",
       "26. 'CD.stentpre'\n",
       "27. 'PL.stentpre'\n",
       "28. 'IVP.stentpre'\n",
       "29. 'EnfArtPerif.pre'\n",
       "30. 'ACVpre'\n",
       "31. 'CHA2DS2VASC'\n",
       "32. 'CHADS2'\n",
       "33. 'Grace'\n",
       "34. 'PreciseDAPT'\n",
       "35. '...35'\n",
       "36. 'FE'\n",
       "37. 'Indicacion'\n",
       "38. 'IndicacionIAMCEST'\n",
       "39. 'Acceso'\n",
       "40. 'TCI.Actual'\n",
       "41. 'DA.Actual'\n",
       "42. 'CX.Actual'\n",
       "43. 'CD.Actual'\n",
       "44. 'Mamaria.Actual'\n",
       "45. 'Safena.Actual'\n",
       "46. 'TratDecidido'\n",
       "47. 'FechaQx.Actual'\n",
       "48. 'Puentes.Actual'\n",
       "49. 'ACVQX.Actual'\n",
       "50. 'InfartoQX.Actual'\n",
       "51. 'MuerteQX.Actual'\n",
       "52. 'MuerteQXtexto'\n",
       "53. 'TCI.tratada'\n",
       "54. 'DA.tratada'\n",
       "55. 'Cx.tratada'\n",
       "56. 'CD.tratada'\n",
       "57. 'Mamaria.tratada'\n",
       "58. 'Safena.tratada'\n",
       "59. 'Lesiones Tratadas'\n",
       "60. 'SINTAX1'\n",
       "61. 'SINTAX2'\n",
       "62. 'Complicaciones'\n",
       "63. 'CreaPost'\n",
       "64. 'HBpost'\n",
       "65. 'VivoAlta'\n",
       "66. 'FechaMuerteAlta'\n",
       "67. 'CausaMuerteAlta'\n",
       "68. 'Shock.Comp'\n",
       "69. 'TromboStent.Comp'\n",
       "70. 'IAMxOtraLesión.Comp'\n",
       "71. 'reACTPmismo.Comp'\n",
       "72. 'reACTPnueva.Comp'\n",
       "73. 'CirugiaCoro.Comp'\n",
       "74. 'Hemorragia.Comp'\n",
       "75. 'Infeccion.Comp'\n",
       "76. 'AccesoVasc.Comp'\n",
       "77. 'Otras.Comp'\n",
       "78. 'Adiro'\n",
       "79. 'DuracionAdiro'\n",
       "80. 'InhibADP'\n",
       "81. 'DuracionInhADP'\n",
       "82. 'ACO'\n",
       "83. 'DuracionACO'\n",
       "84. 'SegTelef12m'\n",
       "85. 'NosegTx'\n",
       "86. 'FechaContacto'\n",
       "87. 'EstadoAnginoso'\n",
       "88. 'ClaseCCS'\n",
       "89. 'Adiro12m'\n",
       "90. 'InhibADP12m'\n",
       "91. 'ACO12m'\n",
       "92. 'DAPT.Score'\n",
       "93. 'FechaKT.PSS'\n",
       "94. 'Peso.PSS'\n",
       "95. 'Talla.PSS'\n",
       "96. 'CNGsolicitud.PSS'\n",
       "97. 'CNGdesde.PSS'\n",
       "98. 'DxInicial.PSS'\n",
       "99. 'DxInicialTx.PSS'\n",
       "100. 'TratFinal.PSS'\n",
       "101. 'HTApre.PSS'\n",
       "102. 'DislipemiaPre.PSS'\n",
       "103. 'DiabetesPre.PSS'\n",
       "104. 'TratDM.PSS'\n",
       "105. 'IAMpre.PSS'\n",
       "106. 'IctusPre.PSS'\n",
       "107. 'ACTPpre.PSS'\n",
       "108. 'Qxpre.PSS'\n",
       "109. 'EnfVascPerifPre.PSS'\n",
       "110. 'SdAnsDepPre.PSS'\n",
       "111. 'DetCognitivo.PSS'\n",
       "112. 'OtroAnteced.PSS'\n",
       "113. 'OtroAntecedTx.PSS'\n",
       "114. 'ConoceEnf.PSS'\n",
       "115. 'ConociaFRCV.PSS'\n",
       "116. 'CualesConocia.PSS'\n",
       "117. 'SabiaTabaco.PSS'\n",
       "118. 'PensoCorazon.PSS'\n",
       "119. 'QuePenso.PSS'\n",
       "120. 'PersonaContac.PSS'\n",
       "121. 'DondeEstaba.PSS'\n",
       "122. 'ServSanitContac.PSS'\n",
       "123. 'TrasladoSS.PSS'\n",
       "124. 'FechaDolor.PSS'\n",
       "125. 'HoraDolor.PSS'\n",
       "126. 'MinutoDolor.PSS'\n",
       "127. 'FechaSanitario.PSS'\n",
       "128. 'HoraSanitario.PSS'\n",
       "129. 'MinutoSanitario.PSS'\n",
       "130. 'FechaUrgencias.PSS'\n",
       "131. 'HoraUrg.PSS'\n",
       "132. 'MinutoUrg.PSS'\n",
       "133. 'FechaTrat.PSS'\n",
       "134. 'MinutoTrat.PSS'\n",
       "135. 'HoraTrat.PSS'\n",
       "136. 'FechaDolorNH.PSS'\n",
       "137. 'HoraDolorNH.PSS'\n",
       "138. 'MinutoDolorNH.PSS'\n",
       "139. 'FechaContSanitNH.PSS'\n",
       "140. 'HoraContSanitNH.PSS'\n",
       "141. 'MinutoContNH.PSS'\n",
       "142. 'FechaUrgNH.PSS'\n",
       "143. 'HoraUrgNH.PSS'\n",
       "144. 'MinutoUrgNH.PSS'\n",
       "145. 'FechaTraNH.PSS'\n",
       "146. 'HoraTratNH.PSS'\n",
       "147. 'MinutoTratNH.PSS'\n",
       "148. 'HTAalta.PSS'\n",
       "149. 'Dislipemiaalta.PSS'\n",
       "150. 'Diabetesalta.PSS'\n",
       "151. 'EnfVascPerifalta.PSS'\n",
       "152. 'Fumador.PSS'\n",
       "153. 'T.Exfumador.PSS'\n",
       "154. 'T.tabaco.PSS'\n",
       "155. 'CantTabaco.PSS'\n",
       "156. 'MotivoStopTabaco.PSS'\n",
       "157. 'IntencionDejar.PSS'\n",
       "158. 'PodraDejarlo.PSS'\n",
       "159. 'FumaFamilia.PSS'\n",
       "160. 'ParejaFuma.PSS'\n",
       "161. 'PadreFuma.PSS'\n",
       "162. 'MadreFuma.PSS'\n",
       "163. 'HijoFuma.PSS'\n",
       "164. 'NHijosfuman.PSS'\n",
       "165. 'NHijosQueTiene.PSS'\n",
       "166. 'OtrosFuma.PSS'\n",
       "167. 'Alcohol.PSS'\n",
       "168. 'Vino.PSS'\n",
       "169. 'Cerveza'\n",
       "170. 'Copas.PSS'\n",
       "171. 'Drogas.PSS'\n",
       "172. 'Marihuana.PSS'\n",
       "173. 'Cocaina.PSS'\n",
       "174. 'OtrosToxicos.PSS'\n",
       "175. 'SosoSalado.PSS'\n",
       "176. 'AlimentVariada.PSS'\n",
       "177. 'DietaTx.PSS'\n",
       "178. 'Ejercicio.PSS'\n",
       "179. 'Nadar.PSS'\n",
       "180. 'Correr.PSS'\n",
       "181. 'Bici.PSS...181'\n",
       "182. 'Gimnasio.PSS'\n",
       "183. 'OtroEjercicioTx'\n",
       "184. 'FrecEjercicio.PSS'\n",
       "185. 'IntensEjercicio.PSS'\n",
       "186. 'HaraMasEjercicio.PSS'\n",
       "187. 'CualMasEjercicio.PSS'\n",
       "188. 'SabeColesterol.PSS...188'\n",
       "189. 'SabeColesterol.PSS...189'\n",
       "190. 'FrecuenciaTA.PSS'\n",
       "191. 'QuienTA.PSS'\n",
       "192. 'Medidas prevencion HTA'\n",
       "193. 'PrevHTATx.PSS'\n",
       "194. 'FrecPeso.PSS'\n",
       "195. 'FrecMedico.PSS'\n",
       "196. 'Menopausia.PSS'\n",
       "197. 'Anticonceptivo.PSS'\n",
       "198. 'Autopercepcion.PSS'\n",
       "199. 'OlvidaConsult.PSS'\n",
       "200. 'SabeTrat.PSS'\n",
       "201. 'ControlMedicac.PSS'\n",
       "202. 'FrecOlvidoTrat.PSS'\n",
       "203. 'SaludTV.PSS'\n",
       "204. 'FamiliaEnferma.PSS'\n",
       "205. 'FamiliaresConEnfTx'\n",
       "206. 'ConsultaKT.PSS'\n",
       "207. 'FamiliaConsultaKT.PSS'\n",
       "208. 'InternetConsultaKT.PSS'\n",
       "209. 'Profesionales.KT.PSS'\n",
       "210. 'ConsultaEnferm.PSS'\n",
       "211. 'Profesionales.PSS'\n",
       "212. 'Internet.PSS...212'\n",
       "213. 'OtrosConsultEnf.PSS'\n",
       "214. 'SabeactuarAngina.PSS'\n",
       "215. 'ActAnginaTx.PSS'\n",
       "216. 'NivelEstudios.PSS'\n",
       "217. 'TipoTrabajo.PSS'\n",
       "218. 'Ocupacion.PSS'\n",
       "219. 'EstadoCivil'\n",
       "220. 'LugarResidencia.PSS'\n",
       "221. 'ConQuienVive.PSS'\n",
       "222. 'ApoyoFamiliar'\n",
       "223. 'TareasHogar.PSS'\n",
       "224. 'NHijos.PSS'\n",
       "225. 'NNietos.PSS'\n",
       "226. '¿Tiene mascota?'\n",
       "227. 'MascotasTx.PSS'\n",
       "228. 'Familia.Aficc.PSS'\n",
       "229. 'TV.Aficc.PSS'\n",
       "230. 'Amigos.Aficc.PSS'\n",
       "231. 'Musica.Aficc.PSS'\n",
       "232. 'Lectura.Aficc.PSS'\n",
       "233. 'Radio.Aficc.PSS'\n",
       "234. 'Compras.Aficc.PSS'\n",
       "235. 'Cine.Aficc.PSS'\n",
       "236. 'Campo.Aficc.PSS'\n",
       "237. 'VerDeportes.Aficc.PSS'\n",
       "238. 'Bailar.Aficc.PSS'\n",
       "239. 'Cultura.Aficc.PSS'\n",
       "240. 'SalirComer.Aficc.PSS'\n",
       "241. 'Pub.Aficc.PSS'\n",
       "242. 'Otros.Aficc.PSS'\n",
       "243. 'Autobus.PSS'\n",
       "244. 'Taxi.PSS'\n",
       "245. 'Coche.PSS'\n",
       "246. 'Moto.PSS'\n",
       "247. 'Bici.PSS...247'\n",
       "248. 'Caminando.PSS'\n",
       "249. 'OtrosVehiculos.PSS'\n",
       "250. 'Facebook.PSS'\n",
       "251. 'Twitter.PSS'\n",
       "252. 'Youtube.PSS'\n",
       "253. 'LinkeDin.PSS'\n",
       "254. 'Spotify.PSS'\n",
       "255. 'OtrasRedes.PSS'\n",
       "256. 'TelefMovil.PSS'\n",
       "257. 'APPs.PSS'\n",
       "258. 'Internet.PSS...258'\n",
       "259. 'Tablet.PSS'\n",
       "260. 'Ordenador.PSS'\n",
       "261. 'Portatil.PSS'\n",
       "262. 'SmartTV.PSS'\n",
       "263. 'Wifi.Publica.PSS'\n",
       "264. 'ConoceSkype.PSS'\n",
       "265. 'UsaSkype'\n",
       "266. 'Fecha entrada'\n",
       "267. 'FechaEstadoVital'\n",
       "268. 'CausaMuerte'\n",
       "269. 'Muerte'\n",
       "270. 'Fecha muerte'\n",
       "271. 'Muerte CV'\n",
       "272. 'Fecha muerte CV'\n",
       "273. 'IAM'\n",
       "274. 'Fecha IAM'\n",
       "275. 'N.Infartos.Seg'\n",
       "276. 'IAM2'\n",
       "277. 'Fecha IAM2'\n",
       "278. 'IAM3'\n",
       "279. 'Fecha IAM3'\n",
       "280. 'Revasc'\n",
       "281. 'Fecha revasc'\n",
       "282. 'Revasc2'\n",
       "283. 'Fecha revasc2'\n",
       "284. 'Revasc3'\n",
       "285. 'Fecha revasc3'\n",
       "286. 'Ictus'\n",
       "287. 'Fecha ictus'\n",
       "288. 'Hemorragia'\n",
       "289. 'Fecha hemorragia'\n",
       "290. 'Fecha fin seg'\n",
       "\n",
       "\n"
      ],
      "text/plain": [
       "  [1] \"Id\"                       \"Edad\"                    \n",
       "  [3] \"Sexo\"                     \"Peso\"                    \n",
       "  [5] \"Talla\"                    \"HFdeC.isquemica\"         \n",
       "  [7] \"Fumador\"                  \"Diabetes\"                \n",
       "  [9] \"TratamientoDM\"            \"Hipertension\"            \n",
       " [11] \"Dislipemia\"               \"IRC\"                     \n",
       " [13] \"Filtrado Glomerular\"      \"HBpreKT\"                 \n",
       " [15] \"InfartoAntiguo\"           \"LocIAMprevio\"            \n",
       " [17] \"QXcoronariapre\"           \"AnoQXcoronariapre\"       \n",
       " [19] \"PuentesQxpre.Tx\"          \"ACTPprevia\"              \n",
       " [21] \"AnoACTPprevia\"            \"TCI.stentpre\"            \n",
       " [23] \"DA.stentpre\"              \"Cx.stentpre\"             \n",
       " [25] \"MOB.stentpre\"             \"CD.stentpre\"             \n",
       " [27] \"PL.stentpre\"              \"IVP.stentpre\"            \n",
       " [29] \"EnfArtPerif.pre\"          \"ACVpre\"                  \n",
       " [31] \"CHA2DS2VASC\"              \"CHADS2\"                  \n",
       " [33] \"Grace\"                    \"PreciseDAPT\"             \n",
       " [35] \"...35\"                    \"FE\"                      \n",
       " [37] \"Indicacion\"               \"IndicacionIAMCEST\"       \n",
       " [39] \"Acceso\"                   \"TCI.Actual\"              \n",
       " [41] \"DA.Actual\"                \"CX.Actual\"               \n",
       " [43] \"CD.Actual\"                \"Mamaria.Actual\"          \n",
       " [45] \"Safena.Actual\"            \"TratDecidido\"            \n",
       " [47] \"FechaQx.Actual\"           \"Puentes.Actual\"          \n",
       " [49] \"ACVQX.Actual\"             \"InfartoQX.Actual\"        \n",
       " [51] \"MuerteQX.Actual\"          \"MuerteQXtexto\"           \n",
       " [53] \"TCI.tratada\"              \"DA.tratada\"              \n",
       " [55] \"Cx.tratada\"               \"CD.tratada\"              \n",
       " [57] \"Mamaria.tratada\"          \"Safena.tratada\"          \n",
       " [59] \"Lesiones Tratadas\"        \"SINTAX1\"                 \n",
       " [61] \"SINTAX2\"                  \"Complicaciones\"          \n",
       " [63] \"CreaPost\"                 \"HBpost\"                  \n",
       " [65] \"VivoAlta\"                 \"FechaMuerteAlta\"         \n",
       " [67] \"CausaMuerteAlta\"          \"Shock.Comp\"              \n",
       " [69] \"TromboStent.Comp\"         \"IAMxOtraLesión.Comp\"     \n",
       " [71] \"reACTPmismo.Comp\"         \"reACTPnueva.Comp\"        \n",
       " [73] \"CirugiaCoro.Comp\"         \"Hemorragia.Comp\"         \n",
       " [75] \"Infeccion.Comp\"           \"AccesoVasc.Comp\"         \n",
       " [77] \"Otras.Comp\"               \"Adiro\"                   \n",
       " [79] \"DuracionAdiro\"            \"InhibADP\"                \n",
       " [81] \"DuracionInhADP\"           \"ACO\"                     \n",
       " [83] \"DuracionACO\"              \"SegTelef12m\"             \n",
       " [85] \"NosegTx\"                  \"FechaContacto\"           \n",
       " [87] \"EstadoAnginoso\"           \"ClaseCCS\"                \n",
       " [89] \"Adiro12m\"                 \"InhibADP12m\"             \n",
       " [91] \"ACO12m\"                   \"DAPT.Score\"              \n",
       " [93] \"FechaKT.PSS\"              \"Peso.PSS\"                \n",
       " [95] \"Talla.PSS\"                \"CNGsolicitud.PSS\"        \n",
       " [97] \"CNGdesde.PSS\"             \"DxInicial.PSS\"           \n",
       " [99] \"DxInicialTx.PSS\"          \"TratFinal.PSS\"           \n",
       "[101] \"HTApre.PSS\"               \"DislipemiaPre.PSS\"       \n",
       "[103] \"DiabetesPre.PSS\"          \"TratDM.PSS\"              \n",
       "[105] \"IAMpre.PSS\"               \"IctusPre.PSS\"            \n",
       "[107] \"ACTPpre.PSS\"              \"Qxpre.PSS\"               \n",
       "[109] \"EnfVascPerifPre.PSS\"      \"SdAnsDepPre.PSS\"         \n",
       "[111] \"DetCognitivo.PSS\"         \"OtroAnteced.PSS\"         \n",
       "[113] \"OtroAntecedTx.PSS\"        \"ConoceEnf.PSS\"           \n",
       "[115] \"ConociaFRCV.PSS\"          \"CualesConocia.PSS\"       \n",
       "[117] \"SabiaTabaco.PSS\"          \"PensoCorazon.PSS\"        \n",
       "[119] \"QuePenso.PSS\"             \"PersonaContac.PSS\"       \n",
       "[121] \"DondeEstaba.PSS\"          \"ServSanitContac.PSS\"     \n",
       "[123] \"TrasladoSS.PSS\"           \"FechaDolor.PSS\"          \n",
       "[125] \"HoraDolor.PSS\"            \"MinutoDolor.PSS\"         \n",
       "[127] \"FechaSanitario.PSS\"       \"HoraSanitario.PSS\"       \n",
       "[129] \"MinutoSanitario.PSS\"      \"FechaUrgencias.PSS\"      \n",
       "[131] \"HoraUrg.PSS\"              \"MinutoUrg.PSS\"           \n",
       "[133] \"FechaTrat.PSS\"            \"MinutoTrat.PSS\"          \n",
       "[135] \"HoraTrat.PSS\"             \"FechaDolorNH.PSS\"        \n",
       "[137] \"HoraDolorNH.PSS\"          \"MinutoDolorNH.PSS\"       \n",
       "[139] \"FechaContSanitNH.PSS\"     \"HoraContSanitNH.PSS\"     \n",
       "[141] \"MinutoContNH.PSS\"         \"FechaUrgNH.PSS\"          \n",
       "[143] \"HoraUrgNH.PSS\"            \"MinutoUrgNH.PSS\"         \n",
       "[145] \"FechaTraNH.PSS\"           \"HoraTratNH.PSS\"          \n",
       "[147] \"MinutoTratNH.PSS\"         \"HTAalta.PSS\"             \n",
       "[149] \"Dislipemiaalta.PSS\"       \"Diabetesalta.PSS\"        \n",
       "[151] \"EnfVascPerifalta.PSS\"     \"Fumador.PSS\"             \n",
       "[153] \"T.Exfumador.PSS\"          \"T.tabaco.PSS\"            \n",
       "[155] \"CantTabaco.PSS\"           \"MotivoStopTabaco.PSS\"    \n",
       "[157] \"IntencionDejar.PSS\"       \"PodraDejarlo.PSS\"        \n",
       "[159] \"FumaFamilia.PSS\"          \"ParejaFuma.PSS\"          \n",
       "[161] \"PadreFuma.PSS\"            \"MadreFuma.PSS\"           \n",
       "[163] \"HijoFuma.PSS\"             \"NHijosfuman.PSS\"         \n",
       "[165] \"NHijosQueTiene.PSS\"       \"OtrosFuma.PSS\"           \n",
       "[167] \"Alcohol.PSS\"              \"Vino.PSS\"                \n",
       "[169] \"Cerveza\"                  \"Copas.PSS\"               \n",
       "[171] \"Drogas.PSS\"               \"Marihuana.PSS\"           \n",
       "[173] \"Cocaina.PSS\"              \"OtrosToxicos.PSS\"        \n",
       "[175] \"SosoSalado.PSS\"           \"AlimentVariada.PSS\"      \n",
       "[177] \"DietaTx.PSS\"              \"Ejercicio.PSS\"           \n",
       "[179] \"Nadar.PSS\"                \"Correr.PSS\"              \n",
       "[181] \"Bici.PSS...181\"           \"Gimnasio.PSS\"            \n",
       "[183] \"OtroEjercicioTx\"          \"FrecEjercicio.PSS\"       \n",
       "[185] \"IntensEjercicio.PSS\"      \"HaraMasEjercicio.PSS\"    \n",
       "[187] \"CualMasEjercicio.PSS\"     \"SabeColesterol.PSS...188\"\n",
       "[189] \"SabeColesterol.PSS...189\" \"FrecuenciaTA.PSS\"        \n",
       "[191] \"QuienTA.PSS\"              \"Medidas prevencion HTA\"  \n",
       "[193] \"PrevHTATx.PSS\"            \"FrecPeso.PSS\"            \n",
       "[195] \"FrecMedico.PSS\"           \"Menopausia.PSS\"          \n",
       "[197] \"Anticonceptivo.PSS\"       \"Autopercepcion.PSS\"      \n",
       "[199] \"OlvidaConsult.PSS\"        \"SabeTrat.PSS\"            \n",
       "[201] \"ControlMedicac.PSS\"       \"FrecOlvidoTrat.PSS\"      \n",
       "[203] \"SaludTV.PSS\"              \"FamiliaEnferma.PSS\"      \n",
       "[205] \"FamiliaresConEnfTx\"       \"ConsultaKT.PSS\"          \n",
       "[207] \"FamiliaConsultaKT.PSS\"    \"InternetConsultaKT.PSS\"  \n",
       "[209] \"Profesionales.KT.PSS\"     \"ConsultaEnferm.PSS\"      \n",
       "[211] \"Profesionales.PSS\"        \"Internet.PSS...212\"      \n",
       "[213] \"OtrosConsultEnf.PSS\"      \"SabeactuarAngina.PSS\"    \n",
       "[215] \"ActAnginaTx.PSS\"          \"NivelEstudios.PSS\"       \n",
       "[217] \"TipoTrabajo.PSS\"          \"Ocupacion.PSS\"           \n",
       "[219] \"EstadoCivil\"              \"LugarResidencia.PSS\"     \n",
       "[221] \"ConQuienVive.PSS\"         \"ApoyoFamiliar\"           \n",
       "[223] \"TareasHogar.PSS\"          \"NHijos.PSS\"              \n",
       "[225] \"NNietos.PSS\"              \"¿Tiene mascota?\"         \n",
       "[227] \"MascotasTx.PSS\"           \"Familia.Aficc.PSS\"       \n",
       "[229] \"TV.Aficc.PSS\"             \"Amigos.Aficc.PSS\"        \n",
       "[231] \"Musica.Aficc.PSS\"         \"Lectura.Aficc.PSS\"       \n",
       "[233] \"Radio.Aficc.PSS\"          \"Compras.Aficc.PSS\"       \n",
       "[235] \"Cine.Aficc.PSS\"           \"Campo.Aficc.PSS\"         \n",
       "[237] \"VerDeportes.Aficc.PSS\"    \"Bailar.Aficc.PSS\"        \n",
       "[239] \"Cultura.Aficc.PSS\"        \"SalirComer.Aficc.PSS\"    \n",
       "[241] \"Pub.Aficc.PSS\"            \"Otros.Aficc.PSS\"         \n",
       "[243] \"Autobus.PSS\"              \"Taxi.PSS\"                \n",
       "[245] \"Coche.PSS\"                \"Moto.PSS\"                \n",
       "[247] \"Bici.PSS...247\"           \"Caminando.PSS\"           \n",
       "[249] \"OtrosVehiculos.PSS\"       \"Facebook.PSS\"            \n",
       "[251] \"Twitter.PSS\"              \"Youtube.PSS\"             \n",
       "[253] \"LinkeDin.PSS\"             \"Spotify.PSS\"             \n",
       "[255] \"OtrasRedes.PSS\"           \"TelefMovil.PSS\"          \n",
       "[257] \"APPs.PSS\"                 \"Internet.PSS...258\"      \n",
       "[259] \"Tablet.PSS\"               \"Ordenador.PSS\"           \n",
       "[261] \"Portatil.PSS\"             \"SmartTV.PSS\"             \n",
       "[263] \"Wifi.Publica.PSS\"         \"ConoceSkype.PSS\"         \n",
       "[265] \"UsaSkype\"                 \"Fecha entrada\"           \n",
       "[267] \"FechaEstadoVital\"         \"CausaMuerte\"             \n",
       "[269] \"Muerte\"                   \"Fecha muerte\"            \n",
       "[271] \"Muerte CV\"                \"Fecha muerte CV\"         \n",
       "[273] \"IAM\"                      \"Fecha IAM\"               \n",
       "[275] \"N.Infartos.Seg\"           \"IAM2\"                    \n",
       "[277] \"Fecha IAM2\"               \"IAM3\"                    \n",
       "[279] \"Fecha IAM3\"               \"Revasc\"                  \n",
       "[281] \"Fecha revasc\"             \"Revasc2\"                 \n",
       "[283] \"Fecha revasc2\"            \"Revasc3\"                 \n",
       "[285] \"Fecha revasc3\"            \"Ictus\"                   \n",
       "[287] \"Fecha ictus\"              \"Hemorragia\"              \n",
       "[289] \"Fecha hemorragia\"         \"Fecha fin seg\"           "
      ]
     },
     "metadata": {},
     "output_type": "display_data"
    }
   ],
   "source": [
    "library(readxl) # Library to read Excel files\n",
    "\n",
    "# Read the data from the main database\n",
    "data <- read_excel(\"BASE_DATOS.xlsx\", sheet = \"Datos Casos\")\n",
    "colnames(data) # Display the column names\n",
    "# summary(data)\n",
    "# head(data)"
   ]
  },
  {
   "cell_type": "code",
   "execution_count": 2,
   "id": "326dbdbf",
   "metadata": {
    "vscode": {
     "languageId": "r"
    }
   },
   "outputs": [
    {
     "name": "stdout",
     "output_type": "stream",
     "text": [
      "Bici.PSS...247 vs Bici.PSS...181\n",
      "numeric(0)\n",
      "\n",
      "FALSE  TRUE \n",
      "  135  2343 \n",
      "  [1]    9   14   32   45   69  125  127  160  237  302  421  426  448  450  459\n",
      " [16]  471  545  566  610  647  662  683  687  800  808  830  840  860  863  878\n",
      " [31]  899  951  963  976 1004 1070 1101 1116 1137 1140 1149 1171 1209 1236 1249\n",
      " [46] 1253 1262 1273 1279 1290 1304 1376 1391 1411 1471 1472 1475 1502 1512 1538\n",
      " [61] 1545 1547 1566 1574 1591 1614 1622 1642 1655 1669 1672 1711 1735 1759 1796\n",
      " [76] 1804 1817 1820 1824 1846 1868 1892 1904 1910 1929 1939 1963 1965 1980 1985\n",
      " [91] 1986 2034 2036 2067 2068 2072 2077 2083 2097 2113 2119 2124 2129 2152 2158\n",
      "[106] 2180 2185 2186 2210 2215 2222 2232 2239 2251 2272 2288 2293 2301 2309 2327\n",
      "[121] 2334 2338 2342 2347 2353 2373 2376 2417 2430 2435 2437 2443 2447 2465 2467\n"
     ]
    },
    {
     "name": "stderr",
     "output_type": "stream",
     "text": [
      "Warning message:\n",
      "\"package 'ggplot2' was built under R version 4.4.2\"\n"
     ]
    },
    {
     "data": {
      "image/png": "[encoded data removed]",
      "text/plain": [
       "plot without title"
      ]
     },
     "metadata": {
      "image/png": {
       "height": 420,
       "width": 420
      }
     },
     "output_type": "display_data"
    }
   ],
   "source": [
    "# Compare Bici.PSS...247 vs Bici.PSS...188\n",
    "cat(\"Bici.PSS...247 vs Bici.PSS...181\\n\")\n",
    "print(data$Id[is.na(data$Bici.PSS...247) | is.na(data$Bici.PSS...181)])\n",
    "print(table(data$Bici.PSS...247 == data$Bici.PSS...181, useNA = \"ifany\"))\n",
    "print(data$Id[which(data$Bici.PSS...247 != data$Bici.PSS...181 & !is.na(data$Bici.PSS...247) & !is.na(data$Bici.PSS...181))])\n",
    "\n",
    "library(ggplot2)\n",
    "# Prepare data for plotting\n",
    "df_bici <- data.frame(\n",
    "    value = c(data$Bici.PSS...247, data$Bici.PSS...181),\n",
    "    variable = rep(c(\"Bici.PSS...247\", \"Bici.PSS...181\"), each = nrow(data))\n",
    ")\n",
    "\n",
    "# Remove NAs for plotting\n",
    "df_bici <- df_bici[!is.na(df_bici$value), ]\n",
    "\n",
    "# Plot side-by-side barplots for both distributions\n",
    "ggplot(df_bici, aes(x = factor(value), fill = variable)) +\n",
    "    geom_bar(position = \"dodge\") +\n",
    "    labs(title = \"Distribution Comparison: Bici.PSS...247 vs Bici.PSS...181\",\n",
    "             x = \"Value\", y = \"Count\", fill = \"Variable\") +\n",
    "    theme_minimal()\n",
    "\n",
    "# Seems like are almost the same, but Bici.PSS...247 has more 0s\n",
    "\n",
    "# Expert says that Bici.PSS...181 refers to the type of exercise\n",
    "# and Bici.PSS...247 refers to the mean of transport"
   ]
  },
  {
   "cell_type": "code",
   "execution_count": 3,
   "id": "d6b9ff82",
   "metadata": {
    "vscode": {
     "languageId": "r"
    }
   },
   "outputs": [
    {
     "name": "stdout",
     "output_type": "stream",
     "text": [
      "Internet.PSS...212 vs Internet.PSS...258\n",
      "  [1]   62   63   68   72   81   94   95  101  103  110  114  118  124  228  234\n",
      " [16]  283  303  305  318  375  385  401  409  426  485  486  593  625  636  637\n",
      " [31]  639  668  698  765  770  776  841  876  937  960  963  977  999 1027 1028\n",
      " [46] 1064 1065 1084 1094 1131 1164 1179 1191 1222 1258 1288 1291 1294 1339 1351\n",
      " [61] 1357 1367 1369 1370 1375 1380 1381 1382 1387 1388 1392 1397 1404 1417 1418\n",
      " [76] 1419 1423 1425 1433 1440 1455 1464 1477 1487 1500 1520 1648 1745 1885 1886\n",
      " [91] 1937 1946 1962 1966 1971 2024 2195 2203 2213 2235 2422\n",
      "\n",
      "FALSE  TRUE  <NA> \n",
      " 2313    64   101 \n",
      "   [1]    1    2    3    4    5    6    7    8    9   10   11   12   13   14\n",
      "  [15]   15   16   17   19   20   21   23   24   25   26   27   28   29   30\n",
      "  [29]   31   32   33   34   35   36   37   38   39   40   41   42   43   44\n",
      "  [43]   46   47   48   49   50   51   52   53   54   55   56   57   58   59\n",
      "  [57]   60   64   65   66   67   69   70   71   73   74   75   76   77   78\n",
      "  [71]   79   80   82   83   84   85   86   87   88   89   90   91   92   93\n",
      "  [85]   96   97   98   99  100  102  104  105  106  107  108  109  111  112\n",
      "  [99]  113  115  116  117  119  120  121  122  125  126  127  128  129  130\n",
      " [113]  131  132  133  134  135  136  137  138  139  140  141  142  143  144\n",
      " [127]  145  146  147  148  149  150  151  152  153  154  155  156  157  158\n",
      " [141]  159  160  161  162  163  164  165  166  167  168  169  170  171  172\n",
      " [155]  173  174  175  176  177  179  180  181  182  183  184  185  186  187\n",
      " [169]  188  189  190  191  192  193  194  195  196  197  198  199  200  201\n",
      " [183]  202  203  204  205  207  208  209  210  211  212  213  214  215  216\n",
      " [197]  217  218  219  220  221  222  223  224  225  226  227  229  230  231\n",
      " [211]  233  235  236  237  238  239  240  241  242  243  244  245  246  247\n",
      " [225]  248  249  250  251  252  253  254  255  256  257  258  259  260  261\n",
      " [239]  262  263  264  265  267  268  269  271  272  273  274  275  276  277\n",
      " [253]  278  279  280  281  282  284  285  286  287  288  289  290  291  292\n",
      " [267]  293  294  295  296  297  298  299  300  301  302  304  306  307  308\n",
      " [281]  309  310  311  312  313  314  315  316  317  319  320  321  322  323\n",
      " [295]  324  325  326  327  328  329  330  331  332  333  334  335  337  338\n",
      " [309]  339  340  341  342  343  344  345  346  347  348  349  350  351  352\n",
      " [323]  353  354  355  356  357  358  359  360  361  362  363  364  365  366\n",
      " [337]  367  368  369  370  371  372  373  374  376  377  378  379  380  381\n",
      " [351]  382  383  384  387  389  390  391  392  393  394  395  396  397  398\n",
      " [365]  399  400  402  403  404  405  406  407  408  410  411  412  414  415\n",
      " [379]  416  417  418  419  420  421  422  423  424  425  427  428  429  430\n",
      " [393]  431  432  433  434  435  436  437  438  439  440  441  442  443  444\n",
      " [407]  445  446  447  449  450  451  452  453  454  455  456  457  458  459\n",
      " [421]  460  461  462  463  464  465  466  467  468  469  470  471  472  473\n",
      " [435]  474  475  476  477  478  479  480  481  482  483  484  487  488  489\n",
      " [449]  490  491  492  493  494  495  497  498  499  500  501  502  503  504\n",
      " [463]  505  506  507  508  509  510  511  512  513  514  515  516  517  518\n",
      " [477]  519  520  521  522  523  524  525  526  527  528  529  530  531  532\n",
      " [491]  533  534  535  536  537  538  539  540  541  542  543  544  545  546\n",
      " [505]  547  548  549  550  551  552  553  554  555  556  557  558  559  560\n",
      " [519]  561  562  563  564  565  566  567  568  569  570  571  572  573  574\n",
      " [533]  575  576  577  578  579  580  581  582  583  585  586  587  588  589\n",
      " [547]  590  591  592  594  595  596  597  598  599  600  602  603  604  605\n",
      " [561]  606  607  608  609  610  611  612  613  614  615  616  617  618  619\n",
      " [575]  620  621  622  623  624  626  627  628  629  630  631  632  633  634\n",
      " [589]  635  638  640  641  642  643  644  645  646  647  648  649  650  651\n",
      " [603]  652  653  654  655  656  657  658  659  660  661  662  663  664  665\n",
      " [617]  666  667  669  670  671  672  673  674  675  676  677  678  679  680\n",
      " [631]  681  682  683  684  685  686  687  688  689  690  692  693  694  695\n",
      " [645]  696  697  699  700  701  702  703  704  705  706  707  708  709  710\n",
      " [659]  711  712  713  714  716  717  718  719  720  721  722  723  724  725\n",
      " [673]  726  727  728  729  730  731  732  733  734  735  736  737  738  739\n",
      " [687]  740  741  742  743  744  745  746  747  748  749  750  751  752  753\n",
      " [701]  754  755  756  757  758  759  760  761  762  763  764  766  767  768\n",
      " [715]  769  771  772  773  774  775  777  778  779  780  781  782  783  784\n",
      " [729]  785  786  787  788  789  790  791  792  793  794  795  796  797  798\n",
      " [743]  799  800  801  802  803  804  805  806  807  808  809  810  811  812\n",
      " [757]  813  814  815  816  817  818  819  820  821  822  823  824  825  826\n",
      " [771]  827  828  829  830  831  832  833  835  836  837  838  839  840  842\n",
      " [785]  843  844  845  846  847  850  851  852  853  854  855  856  857  858\n",
      " [799]  859  860  861  862  863  864  865  866  867  868  869  870  871  872\n",
      " [813]  873  874  875  877  878  880  881  882  883  884  885  886  887  888\n",
      " [827]  889  890  891  892  893  894  895  896  897  899  900  901  902  903\n",
      " [841]  904  905  906  907  908  909  910  911  912  913  914  915  916  917\n",
      " [855]  918  919  920  921  922  923  924  925  926  927  928  929  930  931\n",
      " [869]  932  933  934  935  936  938  939  940  941  942  943  944  945  946\n",
      " [883]  947  948  949  950  951  952  953  954  955  956  957  958  959  961\n",
      " [897]  962  964  965  966  967  968  969  970  971  972  973  974  975  976\n",
      " [911]  978  979  980  981  982  983  984  985  986  987  988  989  990  991\n",
      " [925]  992  994  995  996  997  998 1000 1001 1002 1003 1004 1005 1006 1007\n",
      " [939] 1008 1009 1010 1011 1012 1013 1014 1015 1016 1017 1018 1019 1020 1021\n",
      " [953] 1022 1023 1024 1025 1026 1029 1030 1031 1032 1033 1034 1035 1036 1037\n",
      " [967] 1038 1039 1040 1042 1043 1044 1045 1046 1047 1048 1049 1050 1051 1052\n",
      " [981] 1053 1054 1055 1056 1057 1058 1059 1060 1061 1062 1063 1066 1067 1068\n",
      " [995] 1069 1070 1072 1073 1074 1075 1076 1077 1078 1079 1080 1081 1082 1083\n",
      "[1009] 1085 1086 1087 1088 1089 1090 1091 1092 1093 1095 1096 1097 1098 1099\n",
      "[1023] 1100 1101 1103 1104 1105 1106 1107 1108 1109 1110 1111 1112 1113 1114\n",
      "[1037] 1115 1116 1117 1118 1119 1120 1121 1122 1123 1124 1125 1126 1127 1129\n",
      "[1051] 1132 1133 1134 1135 1136 1137 1138 1139 1140 1141 1143 1144 1145 1146\n",
      "[1065] 1147 1148 1149 1150 1151 1152 1153 1154 1155 1156 1157 1158 1159 1160\n",
      "[1079] 1161 1162 1163 1165 1166 1167 1168 1169 1170 1172 1173 1174 1175 1176\n",
      "[1093] 1177 1178 1180 1181 1182 1183 1184 1185 1186 1187 1188 1189 1190 1192\n",
      "[1107] 1193 1194 1195 1196 1197 1198 1199 1200 1201 1202 1203 1204 1205 1206\n",
      "[1121] 1207 1208 1209 1210 1211 1213 1214 1215 1216 1217 1218 1219 1220 1221\n",
      "[1135] 1223 1226 1227 1228 1229 1230 1231 1232 1233 1234 1235 1236 1237 1239\n",
      "[1149] 1240 1241 1242 1243 1244 1245 1246 1247 1249 1250 1251 1252 1253 1254\n",
      "[1163] 1255 1257 1259 1260 1261 1262 1263 1264 1265 1266 1267 1268 1269 1270\n",
      "[1177] 1271 1272 1273 1274 1275 1276 1277 1278 1279 1280 1281 1282 1283 1284\n",
      "[1191] 1285 1286 1287 1289 1290 1292 1293 1295 1296 1297 1298 1299 1300 1301\n",
      "[1205] 1302 1303 1304 1305 1306 1307 1308 1309 1310 1311 1312 1313 1314 1315\n",
      "[1219] 1316 1317 1318 1319 1320 1321 1322 1323 1324 1325 1326 1327 1328 1329\n",
      "[1233] 1330 1331 1332 1333 1334 1335 1336 1337 1340 1341 1342 1343 1344 1345\n",
      "[1247] 1346 1347 1348 1349 1350 1352 1354 1355 1356 1358 1359 1360 1361 1362\n",
      "[1261] 1363 1364 1365 1366 1368 1371 1372 1373 1374 1376 1377 1378 1379 1383\n",
      "[1275] 1384 1385 1386 1389 1390 1391 1393 1394 1395 1396 1398 1399 1400 1401\n",
      "[1289] 1402 1403 1405 1406 1407 1408 1409 1410 1411 1412 1413 1414 1415 1416\n",
      "[1303] 1420 1421 1422 1424 1426 1427 1428 1429 1430 1431 1432 1434 1435 1436\n",
      "[1317] 1437 1438 1439 1441 1442 1443 1444 1445 1446 1447 1448 1449 1450 1451\n",
      "[1331] 1452 1453 1454 1456 1457 1458 1459 1460 1461 1462 1463 1465 1466 1468\n",
      "[1345] 1469 1470 1471 1472 1473 1474 1475 1476 1478 1479 1480 1481 1482 1483\n",
      "[1359] 1484 1485 1486 1488 1489 1490 1491 1492 1493 1494 1495 1496 1497 1498\n",
      "[1373] 1499 1501 1502 1503 1504 1505 1506 1507 1508 1509 1510 1511 1512 1513\n",
      "[1387] 1514 1515 1516 1517 1518 1519 1521 1522 1523 1524 1525 1526 1527 1528\n",
      "[1401] 1529 1530 1531 1532 1533 1534 1535 1536 1537 1538 1539 1540 1541 1542\n",
      "[1415] 1543 1544 1545 1546 1547 1548 1549 1550 1551 1552 1553 1554 1555 1556\n",
      "[1429] 1557 1558 1559 1560 1561 1562 1563 1564 1565 1566 1567 1568 1569 1570\n",
      "[1443] 1571 1572 1573 1574 1575 1576 1577 1578 1579 1580 1581 1582 1583 1584\n",
      "[1457] 1585 1586 1587 1588 1589 1590 1591 1593 1594 1595 1596 1597 1598 1599\n",
      "[1471] 1600 1601 1602 1603 1604 1605 1606 1607 1608 1609 1610 1611 1612 1613\n",
      "[1485] 1614 1615 1616 1617 1618 1619 1620 1621 1622 1623 1624 1625 1626 1627\n",
      "[1499] 1628 1630 1631 1632 1633 1634 1636 1637 1638 1639 1640 1641 1642 1643\n",
      "[1513] 1644 1645 1646 1647 1649 1650 1651 1652 1653 1654 1655 1656 1657 1658\n",
      "[1527] 1659 1660 1661 1662 1663 1664 1665 1666 1667 1668 1669 1670 1671 1672\n",
      "[1541] 1673 1674 1675 1676 1677 1678 1679 1680 1681 1682 1683 1685 1686 1687\n",
      "[1555] 1688 1689 1691 1692 1693 1694 1695 1696 1697 1698 1700 1701 1702 1703\n",
      "[1569] 1704 1706 1707 1708 1709 1710 1711 1712 1713 1714 1715 1716 1717 1718\n",
      "[1583] 1719 1720 1721 1722 1723 1724 1725 1726 1727 1728 1729 1730 1731 1732\n",
      "[1597] 1733 1734 1735 1737 1738 1739 1740 1741 1742 1743 1744 1746 1747 1748\n",
      "[1611] 1749 1750 1751 1752 1753 1754 1755 1756 1757 1758 1759 1760 1761 1762\n",
      "[1625] 1763 1764 1765 1766 1767 1768 1769 1770 1771 1772 1773 1774 1775 1776\n",
      "[1639] 1777 1778 1779 1780 1781 1782 1783 1784 1785 1786 1787 1788 1789 1790\n",
      "[1653] 1791 1792 1793 1794 1795 1796 1797 1798 1799 1800 1801 1802 1803 1804\n",
      "[1667] 1805 1806 1807 1808 1809 1810 1811 1812 1813 1814 1815 1816 1817 1818\n",
      "[1681] 1819 1820 1821 1822 1823 1824 1825 1826 1827 1828 1829 1830 1831 1832\n",
      "[1695] 1833 1834 1835 1836 1837 1838 1839 1840 1841 1842 1843 1844 1845 1846\n",
      "[1709] 1847 1848 1849 1850 1851 1852 1853 1854 1855 1856 1857 1858 1859 1860\n",
      "[1723] 1861 1862 1863 1864 1865 1866 1867 1868 1869 1870 1871 1873 1874 1875\n",
      "[1737] 1876 1877 1878 1879 1880 1881 1882 1883 1884 1887 1888 1889 1890 1891\n",
      "[1751] 1892 1893 1894 1895 1896 1897 1898 1899 1900 1901 1902 1903 1904 1905\n",
      "[1765] 1906 1907 1908 1909 1910 1911 1912 1913 1914 1915 1916 1917 1918 1919\n",
      "[1779] 1920 1921 1922 1923 1924 1925 1926 1927 1928 1929 1930 1932 1933 1934\n",
      "[1793] 1935 1936 1938 1939 1940 1941 1942 1943 1944 1945 1947 1948 1949 1951\n",
      "[1807] 1952 1953 1954 1955 1956 1957 1958 1959 1960 1961 1963 1964 1965 1967\n",
      "[1821] 1968 1969 1970 1972 1973 1974 1975 1976 1977 1978 1979 1980 1981 1982\n",
      "[1835] 1983 1984 1985 1986 1987 1988 1989 1990 1991 1992 1993 1994 1995 1996\n",
      "[1849] 1997 1998 1999 2000 2001 2002 2003 2004 2005 2006 2007 2008 2009 2010\n",
      "[1863] 2011 2012 2013 2014 2015 2016 2017 2018 2019 2020 2021 2022 2023 2025\n",
      "[1877] 2026 2027 2028 2029 2030 2031 2032 2033 2034 2035 2036 2037 2038 2039\n",
      "[1891] 2041 2042 2043 2044 2045 2046 2047 2048 2049 2050 2051 2052 2053 2054\n",
      "[1905] 2055 2056 2057 2058 2059 2060 2061 2062 2063 2064 2065 2066 2067 2068\n",
      "[1919] 2069 2070 2071 2072 2073 2074 2075 2076 2077 2078 2079 2080 2081 2082\n",
      "[1933] 2083 2084 2085 2086 2087 2088 2089 2090 2092 2093 2094 2095 2096 2097\n",
      "[1947] 2098 2099 2100 2101 2102 2103 2104 2105 2106 2107 2108 2109 2110 2111\n",
      "[1961] 2112 2113 2114 2115 2116 2117 2118 2119 2120 2121 2122 2123 2124 2125\n",
      "[1975] 2126 2127 2128 2129 2130 2131 2132 2133 2134 2135 2136 2137 2138 2139\n",
      "[1989] 2140 2141 2142 2143 2144 2145 2146 2147 2148 2149 2150 2151 2152 2153\n",
      "[2003] 2154 2155 2156 2157 2158 2159 2160 2161 2162 2163 2164 2165 2166 2167\n",
      "[2017] 2168 2169 2170 2171 2172 2173 2174 2175 2176 2177 2178 2179 2180 2181\n",
      "[2031] 2182 2183 2184 2185 2186 2187 2188 2189 2190 2191 2192 2193 2194 2196\n",
      "[2045] 2197 2199 2200 2201 2202 2204 2205 2206 2207 2208 2209 2210 2211 2212\n",
      "[2059] 2214 2215 2216 2217 2218 2219 2220 2221 2222 2223 2224 2225 2226 2227\n",
      "[2073] 2228 2229 2230 2231 2232 2233 2234 2236 2237 2238 2239 2240 2241 2242\n",
      "[2087] 2243 2245 2246 2247 2248 2249 2250 2251 2252 2253 2254 2255 2256 2257\n",
      "[2101] 2258 2259 2260 2261 2262 2263 2264 2265 2266 2267 2268 2269 2270 2271\n",
      "[2115] 2272 2273 2274 2275 2276 2277 2278 2279 2281 2282 2283 2284 2285 2286\n",
      "[2129] 2287 2289 2290 2291 2292 2293 2294 2295 2296 2297 2298 2299 2300 2301\n",
      "[2143] 2302 2303 2304 2305 2306 2307 2308 2309 2310 2311 2312 2313 2314 2315\n",
      "[2157] 2316 2317 2318 2320 2321 2322 2323 2324 2325 2326 2327 2328 2329 2330\n",
      "[2171] 2331 2333 2334 2335 2336 2337 2338 2339 2340 2341 2342 2343 2344 2345\n",
      "[2185] 2346 2348 2349 2350 2351 2352 2353 2354 2355 2356 2357 2358 2359 2360\n",
      "[2199] 2361 2362 2363 2364 2365 2366 2367 2368 2369 2370 2371 2372 2373 2374\n",
      "[2213] 2375 2376 2377 2378 2379 2380 2381 2382 2383 2384 2385 2386 2387 2388\n",
      "[2227] 2389 2390 2391 2392 2393 2394 2395 2396 2397 2398 2399 2400 2401 2402\n",
      "[2241] 2403 2404 2405 2406 2407 2408 2409 2410 2411 2412 2413 2414 2415 2416\n",
      "[2255] 2417 2418 2419 2420 2421 2423 2424 2425 2426 2427 2428 2429 2430 2431\n",
      "[2269] 2432 2433 2434 2435 2436 2437 2438 2439 2440 2441 2442 2443 2444 2445\n",
      "[2283] 2446 2447 2448 2449 2450 2451 2452 2453 2454 2455 2456 2457 2458 2459\n",
      "[2297] 2460 2461 2462 2464 2465 2467 2468 2469 2470 2471 2472 2473 2474 2475\n",
      "[2311] 2476 2477 2478\n"
     ]
    },
    {
     "data": {
      "image/png": "[encoded data removed]",
      "text/plain": [
       "plot without title"
      ]
     },
     "metadata": {
      "image/png": {
       "height": 420,
       "width": 420
      }
     },
     "output_type": "display_data"
    }
   ],
   "source": [
    "# Compare Internet.PSS...212 vs Internet.PSS...258\n",
    "cat(\"Internet.PSS...212 vs Internet.PSS...258\\n\")\n",
    "print(data$Id[is.na(data$Internet.PSS...212) | is.na(data$Internet.PSS...258)])\n",
    "print(table(data$Internet.PSS...212 == data$Internet.PSS...258, useNA = \"ifany\"))\n",
    "print(data$Id[which(data$Internet.PSS...212 != data$Internet.PSS...258 & !is.na(data$Internet.PSS...212) & !is.na(data$Internet.PSS...258))])\n",
    "\n",
    "# Prepare data for plotting\n",
    "df_internet <- data.frame(\n",
    "    value = c(data$Internet.PSS...212, data$Internet.PSS...258),\n",
    "    variable = rep(c(\"Internet.PSS...212\", \"Internet.PSS...258\"), each = nrow(data))\n",
    ")\n",
    "\n",
    "# Remove NAs for plotting\n",
    "df_internet <- df_internet[!is.na(df_internet$value), ]\n",
    "\n",
    "# Plot side-by-side barplots for both distributions\n",
    "ggplot(df_internet, aes(x = factor(value), fill = variable)) +\n",
    "    geom_bar(position = \"dodge\") +\n",
    "    labs(title = \"Distribution Comparison: Internet.PSS...212 vs Internet.PSS...258\",\n",
    "         x = \"Value\", y = \"Count\", fill = \"Variable\") +\n",
    "    theme_minimal()\n",
    "\n",
    "# Expert says that Internet.PSS...212 refers to the web consultation\n",
    "# and Internet.PSS...258 refers to the access to internet"
   ]
  },
  {
   "cell_type": "code",
   "execution_count": 4,
   "id": "e83f7b6a",
   "metadata": {
    "vscode": {
     "languageId": "r"
    }
   },
   "outputs": [
    {
     "name": "stdout",
     "output_type": "stream",
     "text": [
      "SabeColesterol.PSS...188 vs SabeColesterol.PSS...189\n",
      " [1]   23   25   62   63   68   72   81   94  103  110  114  118  283  303  305\n",
      "[16]  318  375  401  409  639  733  765  776  892  937  996 1027 1064 1065 1084\n",
      "[31] 1164 1191 1258 1288 1291 1294 1339 1357 1367 1369 1370 1375 1380 1381 1382\n",
      "[46] 1387 1388 1392 1397 1404 1417 1418 1419 1423 1425 1433 1440 1455 1464 1477\n",
      "[61] 1487 1500 1503 1520 1754 1937 2203\n",
      "  [1]    1    2    3    4    5    6    7    8    9   10   11   12   13   14   15\n",
      " [16]   16   17   18   19   20   21   22   23   24   25   26   27   28   29   30\n",
      " [31]   31   32   33   34   35   36   37   38   39   40   41   42   43   44   45\n",
      " [46]   46   47   48   49   51   52   53   54   55   56   57   58   59   60   61\n",
      " [61]   62   63   64   65   66   67   68   72   78   81   94  103  110  114  118\n",
      " [76]  152  260  283  303  305  313  316  318  375  401  409  417  585  639  640\n",
      " [91]  733  765  776  808  892  937  996 1027 1064 1065 1084 1164 1191 1242 1258\n",
      "[106] 1288 1291 1294 1339 1357 1367 1369 1370 1375 1380 1381 1382 1387 1388 1392\n",
      "[121] 1397 1404 1417 1418 1419 1423 1425 1433 1440 1455 1464 1477 1487 1500 1503\n",
      "[136] 1520 1754 1937 2203 2452\n",
      "\n",
      "FALSE  TRUE  <NA> \n",
      "   70  2268   140 \n",
      " [1]   80  108  116  130  135  139  205  208  331  336  390  433  438  441  508\n",
      "[16]  549  594  596  615  626  632  636  652  659  666  683  694  724  772  809\n",
      "[31]  888  907  926  952 1160 1241 1715 1718 1729 1737 1743 1755 1763 1765 1783\n",
      "[46] 1860 1861 1863 1883 1914 1938 1964 1983 1997 2001 2005 2041 2122 2129 2153\n",
      "[61] 2158 2176 2199 2234 2239 2293 2365 2381 2456 2467\n"
     ]
    },
    {
     "data": {
      "image/png": "[encoded data removed]",
      "text/plain": [
       "plot without title"
      ]
     },
     "metadata": {
      "image/png": {
       "height": 420,
       "width": 420
      }
     },
     "output_type": "display_data"
    }
   ],
   "source": [
    "# Compare SabeColesterol.PSS...188 vs SabeColesterol.PSS...189\n",
    "cat(\"SabeColesterol.PSS...188 vs SabeColesterol.PSS...189\\n\")\n",
    "print(data$Id[is.na(data$SabeColesterol.PSS...188)])\n",
    "print(data$Id[is.na(data$SabeColesterol.PSS...189)])\n",
    "print(table(data$SabeColesterol.PSS...188 == data$SabeColesterol.PSS...189, useNA = \"ifany\"))\n",
    "print(data$Id[which(data$SabeColesterol.PSS...188 != data$SabeColesterol.PSS...189 & !is.na(data$SabeColesterol.PSS...188) & !is.na(data$SabeColesterol.PSS...189))])\n",
    "\n",
    "# Prepare data for plotting\n",
    "df_colesterol <- data.frame(\n",
    "    value = c(data$SabeColesterol.PSS...188, data$SabeColesterol.PSS...189),\n",
    "    variable = rep(c(\"SabeColesterol.PSS...188\", \"SabeColesterol.PSS...189\"), each = nrow(data))\n",
    ")\n",
    "\n",
    "# Remove NAs for plotting\n",
    "df_colesterol <- df_colesterol[!is.na(df_colesterol$value), ]\n",
    "\n",
    "# Plot side-by-side barplots for both distributions\n",
    "ggplot(df_colesterol, aes(x = factor(value), fill = variable)) +\n",
    "    geom_bar(position = \"dodge\") +\n",
    "    labs(title = \"Distribution Comparison: SabeColesterol.PSS...188 vs SabeColesterol.PSS...189\",\n",
    "         x = \"Value\", y = \"Count\", fill = \"Variable\") +\n",
    "    theme_minimal()"
   ]
  },
  {
   "cell_type": "code",
   "execution_count": 5,
   "id": "e301e846",
   "metadata": {
    "vscode": {
     "languageId": "r"
    }
   },
   "outputs": [
    {
     "name": "stderr",
     "output_type": "stream",
     "text": [
      "Warning message:\n",
      "\"Expecting date in N1394 / R1394C14: got '203/2020'\"\n",
      "Warning message:\n",
      "\"Expecting date in N2149 / R2149C14: got '29/9/0202'\"\n"
     ]
    },
    {
     "data": {
      "text/html": [
       "<style>\n",
       ".list-inline {list-style: none; margin:0; padding: 0}\n",
       ".list-inline>li {display: inline-block}\n",
       ".list-inline>li:not(:last-child)::after {content: \"\\00b7\"; padding: 0 .5ex}\n",
       "</style>\n",
       "<ol class=list-inline><li>'Id'</li><li>'Codigo'</li><li>'Edad'</li><li>'Sexo'</li><li>'Seg_Cantabria'</li><li>'CP'</li><li>'TIS'</li><li>'Fecha entrada'</li><li>'FechaEstadoVital'</li><li>'Fecha_revisionPrevia'</li><li>'Fecha_revision'</li><li>'CausaMuerte'</li><li>'Muerte'</li><li>'Fmuerte'</li><li>'IAM'</li><li>'Fecha IAM'</li><li>'Revasc'</li><li>'Fecha revasc'</li><li>'Ictus'</li><li>'Fecha ictus'</li><li>'Hemorragia'</li><li>'Fecha hemorragia'</li></ol>\n"
      ],
      "text/latex": [
       "\\begin{enumerate*}\n",
       "\\item 'Id'\n",
       "\\item 'Codigo'\n",
       "\\item 'Edad'\n",
       "\\item 'Sexo'\n",
       "\\item 'Seg\\_Cantabria'\n",
       "\\item 'CP'\n",
       "\\item 'TIS'\n",
       "\\item 'Fecha entrada'\n",
       "\\item 'FechaEstadoVital'\n",
       "\\item 'Fecha\\_revisionPrevia'\n",
       "\\item 'Fecha\\_revision'\n",
       "\\item 'CausaMuerte'\n",
       "\\item 'Muerte'\n",
       "\\item 'Fmuerte'\n",
       "\\item 'IAM'\n",
       "\\item 'Fecha IAM'\n",
       "\\item 'Revasc'\n",
       "\\item 'Fecha revasc'\n",
       "\\item 'Ictus'\n",
       "\\item 'Fecha ictus'\n",
       "\\item 'Hemorragia'\n",
       "\\item 'Fecha hemorragia'\n",
       "\\end{enumerate*}\n"
      ],
      "text/markdown": [
       "1. 'Id'\n",
       "2. 'Codigo'\n",
       "3. 'Edad'\n",
       "4. 'Sexo'\n",
       "5. 'Seg_Cantabria'\n",
       "6. 'CP'\n",
       "7. 'TIS'\n",
       "8. 'Fecha entrada'\n",
       "9. 'FechaEstadoVital'\n",
       "10. 'Fecha_revisionPrevia'\n",
       "11. 'Fecha_revision'\n",
       "12. 'CausaMuerte'\n",
       "13. 'Muerte'\n",
       "14. 'Fmuerte'\n",
       "15. 'IAM'\n",
       "16. 'Fecha IAM'\n",
       "17. 'Revasc'\n",
       "18. 'Fecha revasc'\n",
       "19. 'Ictus'\n",
       "20. 'Fecha ictus'\n",
       "21. 'Hemorragia'\n",
       "22. 'Fecha hemorragia'\n",
       "\n",
       "\n"
      ],
      "text/plain": [
       " [1] \"Id\"                   \"Codigo\"               \"Edad\"                \n",
       " [4] \"Sexo\"                 \"Seg_Cantabria\"        \"CP\"                  \n",
       " [7] \"TIS\"                  \"Fecha entrada\"        \"FechaEstadoVital\"    \n",
       "[10] \"Fecha_revisionPrevia\" \"Fecha_revision\"       \"CausaMuerte\"         \n",
       "[13] \"Muerte\"               \"Fmuerte\"              \"IAM\"                 \n",
       "[16] \"Fecha IAM\"            \"Revasc\"               \"Fecha revasc\"        \n",
       "[19] \"Ictus\"                \"Fecha ictus\"          \"Hemorragia\"          \n",
       "[22] \"Fecha hemorragia\"    "
      ]
     },
     "metadata": {},
     "output_type": "display_data"
    }
   ],
   "source": [
    "# Data from the extended database\n",
    "data_ext <- read_excel(\"Base_Extendida_Incompleta.xlsx\", sheet = \"Datos\")\n",
    "colnames(data_ext) # Display column names\n",
    "# summary(data_ext)\n",
    "# head(data_ext)"
   ]
  },
  {
   "cell_type": "code",
   "execution_count": 6,
   "id": "e17db23a",
   "metadata": {
    "vscode": {
     "languageId": "r"
    }
   },
   "outputs": [
    {
     "data": {
      "text/html": [
       "<style>\n",
       ".list-inline {list-style: none; margin:0; padding: 0}\n",
       ".list-inline>li {display: inline-block}\n",
       ".list-inline>li:not(:last-child)::after {content: \"\\00b7\"; padding: 0 .5ex}\n",
       "</style>\n",
       "<ol class=list-inline><li>'Codigo'</li><li>'Seg_Cantabria'</li><li>'CP'</li><li>'TIS'</li><li>'Fecha_revisionPrevia'</li><li>'Fecha_revision'</li><li>'Fmuerte'</li></ol>\n"
      ],
      "text/latex": [
       "\\begin{enumerate*}\n",
       "\\item 'Codigo'\n",
       "\\item 'Seg\\_Cantabria'\n",
       "\\item 'CP'\n",
       "\\item 'TIS'\n",
       "\\item 'Fecha\\_revisionPrevia'\n",
       "\\item 'Fecha\\_revision'\n",
       "\\item 'Fmuerte'\n",
       "\\end{enumerate*}\n"
      ],
      "text/markdown": [
       "1. 'Codigo'\n",
       "2. 'Seg_Cantabria'\n",
       "3. 'CP'\n",
       "4. 'TIS'\n",
       "5. 'Fecha_revisionPrevia'\n",
       "6. 'Fecha_revision'\n",
       "7. 'Fmuerte'\n",
       "\n",
       "\n"
      ],
      "text/plain": [
       "[1] \"Codigo\"               \"Seg_Cantabria\"        \"CP\"                  \n",
       "[4] \"TIS\"                  \"Fecha_revisionPrevia\" \"Fecha_revision\"      \n",
       "[7] \"Fmuerte\"             "
      ]
     },
     "metadata": {},
     "output_type": "display_data"
    }
   ],
   "source": [
    "# Display the columns that are in the extended database but not main one\n",
    "setdiff(colnames(data_ext), colnames(data))"
   ]
  },
  {
   "cell_type": "code",
   "execution_count": 7,
   "id": "df89cd33",
   "metadata": {
    "vscode": {
     "languageId": "r"
    }
   },
   "outputs": [
    {
     "name": "stderr",
     "output_type": "stream",
     "text": [
      "Warning message in merge.data.frame(data_ext, data, by = \"Id\", all = FALSE, suffixes = c(\"\", :\n",
      "\"column names 'Edad', 'Sexo', 'Fecha entrada', 'FechaEstadoVital', 'CausaMuerte', 'Muerte', 'IAM', 'Fecha IAM', 'Revasc', 'Fecha revasc', 'Ictus', 'Fecha ictus', 'Hemorragia', 'Fecha hemorragia' are duplicated in the result\"\n"
     ]
    },
    {
     "data": {
      "text/html": [
       "<style>\n",
       ".list-inline {list-style: none; margin:0; padding: 0}\n",
       ".list-inline>li {display: inline-block}\n",
       ".list-inline>li:not(:last-child)::after {content: \"\\00b7\"; padding: 0 .5ex}\n",
       "</style>\n",
       "<ol class=list-inline><li>'Id'</li><li>'Codigo'</li><li>'Edad'</li><li>'Sexo'</li><li>'Seg_Cantabria'</li><li>'CP'</li><li>'TIS'</li><li>'Fecha entrada'</li><li>'FechaEstadoVital'</li><li>'Fecha_revisionPrevia'</li><li>'Fecha_revision'</li><li>'CausaMuerte'</li><li>'Muerte'</li><li>'Fmuerte'</li><li>'IAM'</li><li>'Fecha IAM'</li><li>'Revasc'</li><li>'Fecha revasc'</li><li>'Ictus'</li><li>'Fecha ictus'</li><li>'Hemorragia'</li><li>'Fecha hemorragia'</li><li>'Peso'</li><li>'Talla'</li><li>'HFdeC.isquemica'</li><li>'Fumador'</li><li>'Diabetes'</li><li>'TratamientoDM'</li><li>'Hipertension'</li><li>'Dislipemia'</li><li>'IRC'</li><li>'Filtrado Glomerular'</li><li>'HBpreKT'</li><li>'InfartoAntiguo'</li><li>'LocIAMprevio'</li><li>'QXcoronariapre'</li><li>'AnoQXcoronariapre'</li><li>'PuentesQxpre.Tx'</li><li>'ACTPprevia'</li><li>'AnoACTPprevia'</li><li>'TCI.stentpre'</li><li>'DA.stentpre'</li><li>'Cx.stentpre'</li><li>'MOB.stentpre'</li><li>'CD.stentpre'</li><li>'PL.stentpre'</li><li>'IVP.stentpre'</li><li>'EnfArtPerif.pre'</li><li>'ACVpre'</li><li>'CHA2DS2VASC'</li><li>'CHADS2'</li><li>'Grace'</li><li>'PreciseDAPT'</li><li>'...35'</li><li>'FE'</li><li>'Indicacion'</li><li>'IndicacionIAMCEST'</li><li>'Acceso'</li><li>'TCI.Actual'</li><li>'DA.Actual'</li><li>'CX.Actual'</li><li>'CD.Actual'</li><li>'Mamaria.Actual'</li><li>'Safena.Actual'</li><li>'TratDecidido'</li><li>'FechaQx.Actual'</li><li>'Puentes.Actual'</li><li>'ACVQX.Actual'</li><li>'InfartoQX.Actual'</li><li>'MuerteQX.Actual'</li><li>'MuerteQXtexto'</li><li>'TCI.tratada'</li><li>'DA.tratada'</li><li>'Cx.tratada'</li><li>'CD.tratada'</li><li>'Mamaria.tratada'</li><li>'Safena.tratada'</li><li>'Lesiones Tratadas'</li><li>'SINTAX1'</li><li>'SINTAX2'</li><li>'Complicaciones'</li><li>'CreaPost'</li><li>'HBpost'</li><li>'VivoAlta'</li><li>'FechaMuerteAlta'</li><li>'CausaMuerteAlta'</li><li>'Shock.Comp'</li><li>'TromboStent.Comp'</li><li>'IAMxOtraLesión.Comp'</li><li>'reACTPmismo.Comp'</li><li>'reACTPnueva.Comp'</li><li>'CirugiaCoro.Comp'</li><li>'Hemorragia.Comp'</li><li>'Infeccion.Comp'</li><li>'AccesoVasc.Comp'</li><li>'Otras.Comp'</li><li>'Adiro'</li><li>'DuracionAdiro'</li><li>'InhibADP'</li><li>'DuracionInhADP'</li><li>'ACO'</li><li>'DuracionACO'</li><li>'SegTelef12m'</li><li>'NosegTx'</li><li>'FechaContacto'</li><li>'EstadoAnginoso'</li><li>'ClaseCCS'</li><li>'Adiro12m'</li><li>'InhibADP12m'</li><li>'ACO12m'</li><li>'DAPT.Score'</li><li>'FechaKT.PSS'</li><li>'Peso.PSS'</li><li>'Talla.PSS'</li><li>'CNGsolicitud.PSS'</li><li>'CNGdesde.PSS'</li><li>'DxInicial.PSS'</li><li>'DxInicialTx.PSS'</li><li>'TratFinal.PSS'</li><li>'HTApre.PSS'</li><li>'DislipemiaPre.PSS'</li><li>'DiabetesPre.PSS'</li><li>'TratDM.PSS'</li><li>'IAMpre.PSS'</li><li>'IctusPre.PSS'</li><li>'ACTPpre.PSS'</li><li>'Qxpre.PSS'</li><li>'EnfVascPerifPre.PSS'</li><li>'SdAnsDepPre.PSS'</li><li>'DetCognitivo.PSS'</li><li>'OtroAnteced.PSS'</li><li>'OtroAntecedTx.PSS'</li><li>'ConoceEnf.PSS'</li><li>'ConociaFRCV.PSS'</li><li>'CualesConocia.PSS'</li><li>'SabiaTabaco.PSS'</li><li>'PensoCorazon.PSS'</li><li>'QuePenso.PSS'</li><li>'PersonaContac.PSS'</li><li>'DondeEstaba.PSS'</li><li>'ServSanitContac.PSS'</li><li>'TrasladoSS.PSS'</li><li>'FechaDolor.PSS'</li><li>'HoraDolor.PSS'</li><li>'MinutoDolor.PSS'</li><li>'FechaSanitario.PSS'</li><li>'HoraSanitario.PSS'</li><li>'MinutoSanitario.PSS'</li><li>'FechaUrgencias.PSS'</li><li>'HoraUrg.PSS'</li><li>'MinutoUrg.PSS'</li><li>'FechaTrat.PSS'</li><li>'MinutoTrat.PSS'</li><li>'HoraTrat.PSS'</li><li>'FechaDolorNH.PSS'</li><li>'HoraDolorNH.PSS'</li><li>'MinutoDolorNH.PSS'</li><li>'FechaContSanitNH.PSS'</li><li>'HoraContSanitNH.PSS'</li><li>'MinutoContNH.PSS'</li><li>'FechaUrgNH.PSS'</li><li>'HoraUrgNH.PSS'</li><li>'MinutoUrgNH.PSS'</li><li>'FechaTraNH.PSS'</li><li>'HoraTratNH.PSS'</li><li>'MinutoTratNH.PSS'</li><li>'HTAalta.PSS'</li><li>'Dislipemiaalta.PSS'</li><li>'Diabetesalta.PSS'</li><li>'EnfVascPerifalta.PSS'</li><li>'Fumador.PSS'</li><li>'T.Exfumador.PSS'</li><li>'T.tabaco.PSS'</li><li>'CantTabaco.PSS'</li><li>'MotivoStopTabaco.PSS'</li><li>'IntencionDejar.PSS'</li><li>'PodraDejarlo.PSS'</li><li>'FumaFamilia.PSS'</li><li>'ParejaFuma.PSS'</li><li>'PadreFuma.PSS'</li><li>'MadreFuma.PSS'</li><li>'HijoFuma.PSS'</li><li>'NHijosfuman.PSS'</li><li>'NHijosQueTiene.PSS'</li><li>'OtrosFuma.PSS'</li><li>'Alcohol.PSS'</li><li>'Vino.PSS'</li><li>'Cerveza'</li><li>'Copas.PSS'</li><li>'Drogas.PSS'</li><li>'Marihuana.PSS'</li><li>'Cocaina.PSS'</li><li>'OtrosToxicos.PSS'</li><li>'SosoSalado.PSS'</li><li>'AlimentVariada.PSS'</li><li>'DietaTx.PSS'</li><li>'Ejercicio.PSS'</li><li>'Nadar.PSS'</li><li>'Correr.PSS'</li><li>'Bici.PSS...181'</li><li>'Gimnasio.PSS'</li><li>'OtroEjercicioTx'</li><li>'FrecEjercicio.PSS'</li><li>'IntensEjercicio.PSS'</li><li>'HaraMasEjercicio.PSS'</li><li>'CualMasEjercicio.PSS'</li><li>'SabeColesterol.PSS...188'</li><li>'SabeColesterol.PSS...189'</li><li>'FrecuenciaTA.PSS'</li><li>'QuienTA.PSS'</li><li>'Medidas prevencion HTA'</li><li>'PrevHTATx.PSS'</li><li>'FrecPeso.PSS'</li><li>'FrecMedico.PSS'</li><li>'Menopausia.PSS'</li><li>'Anticonceptivo.PSS'</li><li>'Autopercepcion.PSS'</li><li>'OlvidaConsult.PSS'</li><li>'SabeTrat.PSS'</li><li>'ControlMedicac.PSS'</li><li>'FrecOlvidoTrat.PSS'</li><li>'SaludTV.PSS'</li><li>'FamiliaEnferma.PSS'</li><li>'FamiliaresConEnfTx'</li><li>'ConsultaKT.PSS'</li><li>'FamiliaConsultaKT.PSS'</li><li>'InternetConsultaKT.PSS'</li><li>'Profesionales.KT.PSS'</li><li>'ConsultaEnferm.PSS'</li><li>'Profesionales.PSS'</li><li>'Internet.PSS...212'</li><li>'OtrosConsultEnf.PSS'</li><li>'SabeactuarAngina.PSS'</li><li>'ActAnginaTx.PSS'</li><li>'NivelEstudios.PSS'</li><li>'TipoTrabajo.PSS'</li><li>'Ocupacion.PSS'</li><li>'EstadoCivil'</li><li>'LugarResidencia.PSS'</li><li>'ConQuienVive.PSS'</li><li>'ApoyoFamiliar'</li><li>'TareasHogar.PSS'</li><li>'NHijos.PSS'</li><li>'NNietos.PSS'</li><li>'¿Tiene mascota?'</li><li>'MascotasTx.PSS'</li><li>'Familia.Aficc.PSS'</li><li>'TV.Aficc.PSS'</li><li>'Amigos.Aficc.PSS'</li><li>'Musica.Aficc.PSS'</li><li>'Lectura.Aficc.PSS'</li><li>'Radio.Aficc.PSS'</li><li>'Compras.Aficc.PSS'</li><li>'Cine.Aficc.PSS'</li><li>'Campo.Aficc.PSS'</li><li>'VerDeportes.Aficc.PSS'</li><li>'Bailar.Aficc.PSS'</li><li>'Cultura.Aficc.PSS'</li><li>'SalirComer.Aficc.PSS'</li><li>'Pub.Aficc.PSS'</li><li>'Otros.Aficc.PSS'</li><li>'Autobus.PSS'</li><li>'Taxi.PSS'</li><li>'Coche.PSS'</li><li>'Moto.PSS'</li><li>'Bici.PSS...247'</li><li>'Caminando.PSS'</li><li>'OtrosVehiculos.PSS'</li><li>'Facebook.PSS'</li><li>'Twitter.PSS'</li><li>'Youtube.PSS'</li><li>'LinkeDin.PSS'</li><li>'Spotify.PSS'</li><li>'OtrasRedes.PSS'</li><li>'TelefMovil.PSS'</li><li>'APPs.PSS'</li><li>'Internet.PSS...258'</li><li>'Tablet.PSS'</li><li>'Ordenador.PSS'</li><li>'Portatil.PSS'</li><li>'SmartTV.PSS'</li><li>'Wifi.Publica.PSS'</li><li>'ConoceSkype.PSS'</li><li>'UsaSkype'</li><li>'Fecha muerte'</li><li>'Muerte CV'</li><li>'Fecha muerte CV'</li><li>'N.Infartos.Seg'</li><li>'IAM2'</li><li>'Fecha IAM2'</li><li>'IAM3'</li><li>'Fecha IAM3'</li><li>'Revasc2'</li><li>'Fecha revasc2'</li><li>'Revasc3'</li><li>'Fecha revasc3'</li><li>'Fecha fin seg'</li></ol>\n"
      ],
      "text/latex": [
       "\\begin{enumerate*}\n",
       "\\item 'Id'\n",
       "\\item 'Codigo'\n",
       "\\item 'Edad'\n",
       "\\item 'Sexo'\n",
       "\\item 'Seg\\_Cantabria'\n",
       "\\item 'CP'\n",
       "\\item 'TIS'\n",
       "\\item 'Fecha entrada'\n",
       "\\item 'FechaEstadoVital'\n",
       "\\item 'Fecha\\_revisionPrevia'\n",
       "\\item 'Fecha\\_revision'\n",
       "\\item 'CausaMuerte'\n",
       "\\item 'Muerte'\n",
       "\\item 'Fmuerte'\n",
       "\\item 'IAM'\n",
       "\\item 'Fecha IAM'\n",
       "\\item 'Revasc'\n",
       "\\item 'Fecha revasc'\n",
       "\\item 'Ictus'\n",
       "\\item 'Fecha ictus'\n",
       "\\item 'Hemorragia'\n",
       "\\item 'Fecha hemorragia'\n",
       "\\item 'Peso'\n",
       "\\item 'Talla'\n",
       "\\item 'HFdeC.isquemica'\n",
       "\\item 'Fumador'\n",
       "\\item 'Diabetes'\n",
       "\\item 'TratamientoDM'\n",
       "\\item 'Hipertension'\n",
       "\\item 'Dislipemia'\n",
       "\\item 'IRC'\n",
       "\\item 'Filtrado Glomerular'\n",
       "\\item 'HBpreKT'\n",
       "\\item 'InfartoAntiguo'\n",
       "\\item 'LocIAMprevio'\n",
       "\\item 'QXcoronariapre'\n",
       "\\item 'AnoQXcoronariapre'\n",
       "\\item 'PuentesQxpre.Tx'\n",
       "\\item 'ACTPprevia'\n",
       "\\item 'AnoACTPprevia'\n",
       "\\item 'TCI.stentpre'\n",
       "\\item 'DA.stentpre'\n",
       "\\item 'Cx.stentpre'\n",
       "\\item 'MOB.stentpre'\n",
       "\\item 'CD.stentpre'\n",
       "\\item 'PL.stentpre'\n",
       "\\item 'IVP.stentpre'\n",
       "\\item 'EnfArtPerif.pre'\n",
       "\\item 'ACVpre'\n",
       "\\item 'CHA2DS2VASC'\n",
       "\\item 'CHADS2'\n",
       "\\item 'Grace'\n",
       "\\item 'PreciseDAPT'\n",
       "\\item '...35'\n",
       "\\item 'FE'\n",
       "\\item 'Indicacion'\n",
       "\\item 'IndicacionIAMCEST'\n",
       "\\item 'Acceso'\n",
       "\\item 'TCI.Actual'\n",
       "\\item 'DA.Actual'\n",
       "\\item 'CX.Actual'\n",
       "\\item 'CD.Actual'\n",
       "\\item 'Mamaria.Actual'\n",
       "\\item 'Safena.Actual'\n",
       "\\item 'TratDecidido'\n",
       "\\item 'FechaQx.Actual'\n",
       "\\item 'Puentes.Actual'\n",
       "\\item 'ACVQX.Actual'\n",
       "\\item 'InfartoQX.Actual'\n",
       "\\item 'MuerteQX.Actual'\n",
       "\\item 'MuerteQXtexto'\n",
       "\\item 'TCI.tratada'\n",
       "\\item 'DA.tratada'\n",
       "\\item 'Cx.tratada'\n",
       "\\item 'CD.tratada'\n",
       "\\item 'Mamaria.tratada'\n",
       "\\item 'Safena.tratada'\n",
       "\\item 'Lesiones Tratadas'\n",
       "\\item 'SINTAX1'\n",
       "\\item 'SINTAX2'\n",
       "\\item 'Complicaciones'\n",
       "\\item 'CreaPost'\n",
       "\\item 'HBpost'\n",
       "\\item 'VivoAlta'\n",
       "\\item 'FechaMuerteAlta'\n",
       "\\item 'CausaMuerteAlta'\n",
       "\\item 'Shock.Comp'\n",
       "\\item 'TromboStent.Comp'\n",
       "\\item 'IAMxOtraLesión.Comp'\n",
       "\\item 'reACTPmismo.Comp'\n",
       "\\item 'reACTPnueva.Comp'\n",
       "\\item 'CirugiaCoro.Comp'\n",
       "\\item 'Hemorragia.Comp'\n",
       "\\item 'Infeccion.Comp'\n",
       "\\item 'AccesoVasc.Comp'\n",
       "\\item 'Otras.Comp'\n",
       "\\item 'Adiro'\n",
       "\\item 'DuracionAdiro'\n",
       "\\item 'InhibADP'\n",
       "\\item 'DuracionInhADP'\n",
       "\\item 'ACO'\n",
       "\\item 'DuracionACO'\n",
       "\\item 'SegTelef12m'\n",
       "\\item 'NosegTx'\n",
       "\\item 'FechaContacto'\n",
       "\\item 'EstadoAnginoso'\n",
       "\\item 'ClaseCCS'\n",
       "\\item 'Adiro12m'\n",
       "\\item 'InhibADP12m'\n",
       "\\item 'ACO12m'\n",
       "\\item 'DAPT.Score'\n",
       "\\item 'FechaKT.PSS'\n",
       "\\item 'Peso.PSS'\n",
       "\\item 'Talla.PSS'\n",
       "\\item 'CNGsolicitud.PSS'\n",
       "\\item 'CNGdesde.PSS'\n",
       "\\item 'DxInicial.PSS'\n",
       "\\item 'DxInicialTx.PSS'\n",
       "\\item 'TratFinal.PSS'\n",
       "\\item 'HTApre.PSS'\n",
       "\\item 'DislipemiaPre.PSS'\n",
       "\\item 'DiabetesPre.PSS'\n",
       "\\item 'TratDM.PSS'\n",
       "\\item 'IAMpre.PSS'\n",
       "\\item 'IctusPre.PSS'\n",
       "\\item 'ACTPpre.PSS'\n",
       "\\item 'Qxpre.PSS'\n",
       "\\item 'EnfVascPerifPre.PSS'\n",
       "\\item 'SdAnsDepPre.PSS'\n",
       "\\item 'DetCognitivo.PSS'\n",
       "\\item 'OtroAnteced.PSS'\n",
       "\\item 'OtroAntecedTx.PSS'\n",
       "\\item 'ConoceEnf.PSS'\n",
       "\\item 'ConociaFRCV.PSS'\n",
       "\\item 'CualesConocia.PSS'\n",
       "\\item 'SabiaTabaco.PSS'\n",
       "\\item 'PensoCorazon.PSS'\n",
       "\\item 'QuePenso.PSS'\n",
       "\\item 'PersonaContac.PSS'\n",
       "\\item 'DondeEstaba.PSS'\n",
       "\\item 'ServSanitContac.PSS'\n",
       "\\item 'TrasladoSS.PSS'\n",
       "\\item 'FechaDolor.PSS'\n",
       "\\item 'HoraDolor.PSS'\n",
       "\\item 'MinutoDolor.PSS'\n",
       "\\item 'FechaSanitario.PSS'\n",
       "\\item 'HoraSanitario.PSS'\n",
       "\\item 'MinutoSanitario.PSS'\n",
       "\\item 'FechaUrgencias.PSS'\n",
       "\\item 'HoraUrg.PSS'\n",
       "\\item 'MinutoUrg.PSS'\n",
       "\\item 'FechaTrat.PSS'\n",
       "\\item 'MinutoTrat.PSS'\n",
       "\\item 'HoraTrat.PSS'\n",
       "\\item 'FechaDolorNH.PSS'\n",
       "\\item 'HoraDolorNH.PSS'\n",
       "\\item 'MinutoDolorNH.PSS'\n",
       "\\item 'FechaContSanitNH.PSS'\n",
       "\\item 'HoraContSanitNH.PSS'\n",
       "\\item 'MinutoContNH.PSS'\n",
       "\\item 'FechaUrgNH.PSS'\n",
       "\\item 'HoraUrgNH.PSS'\n",
       "\\item 'MinutoUrgNH.PSS'\n",
       "\\item 'FechaTraNH.PSS'\n",
       "\\item 'HoraTratNH.PSS'\n",
       "\\item 'MinutoTratNH.PSS'\n",
       "\\item 'HTAalta.PSS'\n",
       "\\item 'Dislipemiaalta.PSS'\n",
       "\\item 'Diabetesalta.PSS'\n",
       "\\item 'EnfVascPerifalta.PSS'\n",
       "\\item 'Fumador.PSS'\n",
       "\\item 'T.Exfumador.PSS'\n",
       "\\item 'T.tabaco.PSS'\n",
       "\\item 'CantTabaco.PSS'\n",
       "\\item 'MotivoStopTabaco.PSS'\n",
       "\\item 'IntencionDejar.PSS'\n",
       "\\item 'PodraDejarlo.PSS'\n",
       "\\item 'FumaFamilia.PSS'\n",
       "\\item 'ParejaFuma.PSS'\n",
       "\\item 'PadreFuma.PSS'\n",
       "\\item 'MadreFuma.PSS'\n",
       "\\item 'HijoFuma.PSS'\n",
       "\\item 'NHijosfuman.PSS'\n",
       "\\item 'NHijosQueTiene.PSS'\n",
       "\\item 'OtrosFuma.PSS'\n",
       "\\item 'Alcohol.PSS'\n",
       "\\item 'Vino.PSS'\n",
       "\\item 'Cerveza'\n",
       "\\item 'Copas.PSS'\n",
       "\\item 'Drogas.PSS'\n",
       "\\item 'Marihuana.PSS'\n",
       "\\item 'Cocaina.PSS'\n",
       "\\item 'OtrosToxicos.PSS'\n",
       "\\item 'SosoSalado.PSS'\n",
       "\\item 'AlimentVariada.PSS'\n",
       "\\item 'DietaTx.PSS'\n",
       "\\item 'Ejercicio.PSS'\n",
       "\\item 'Nadar.PSS'\n",
       "\\item 'Correr.PSS'\n",
       "\\item 'Bici.PSS...181'\n",
       "\\item 'Gimnasio.PSS'\n",
       "\\item 'OtroEjercicioTx'\n",
       "\\item 'FrecEjercicio.PSS'\n",
       "\\item 'IntensEjercicio.PSS'\n",
       "\\item 'HaraMasEjercicio.PSS'\n",
       "\\item 'CualMasEjercicio.PSS'\n",
       "\\item 'SabeColesterol.PSS...188'\n",
       "\\item 'SabeColesterol.PSS...189'\n",
       "\\item 'FrecuenciaTA.PSS'\n",
       "\\item 'QuienTA.PSS'\n",
       "\\item 'Medidas prevencion HTA'\n",
       "\\item 'PrevHTATx.PSS'\n",
       "\\item 'FrecPeso.PSS'\n",
       "\\item 'FrecMedico.PSS'\n",
       "\\item 'Menopausia.PSS'\n",
       "\\item 'Anticonceptivo.PSS'\n",
       "\\item 'Autopercepcion.PSS'\n",
       "\\item 'OlvidaConsult.PSS'\n",
       "\\item 'SabeTrat.PSS'\n",
       "\\item 'ControlMedicac.PSS'\n",
       "\\item 'FrecOlvidoTrat.PSS'\n",
       "\\item 'SaludTV.PSS'\n",
       "\\item 'FamiliaEnferma.PSS'\n",
       "\\item 'FamiliaresConEnfTx'\n",
       "\\item 'ConsultaKT.PSS'\n",
       "\\item 'FamiliaConsultaKT.PSS'\n",
       "\\item 'InternetConsultaKT.PSS'\n",
       "\\item 'Profesionales.KT.PSS'\n",
       "\\item 'ConsultaEnferm.PSS'\n",
       "\\item 'Profesionales.PSS'\n",
       "\\item 'Internet.PSS...212'\n",
       "\\item 'OtrosConsultEnf.PSS'\n",
       "\\item 'SabeactuarAngina.PSS'\n",
       "\\item 'ActAnginaTx.PSS'\n",
       "\\item 'NivelEstudios.PSS'\n",
       "\\item 'TipoTrabajo.PSS'\n",
       "\\item 'Ocupacion.PSS'\n",
       "\\item 'EstadoCivil'\n",
       "\\item 'LugarResidencia.PSS'\n",
       "\\item 'ConQuienVive.PSS'\n",
       "\\item 'ApoyoFamiliar'\n",
       "\\item 'TareasHogar.PSS'\n",
       "\\item 'NHijos.PSS'\n",
       "\\item 'NNietos.PSS'\n",
       "\\item '¿Tiene mascota?'\n",
       "\\item 'MascotasTx.PSS'\n",
       "\\item 'Familia.Aficc.PSS'\n",
       "\\item 'TV.Aficc.PSS'\n",
       "\\item 'Amigos.Aficc.PSS'\n",
       "\\item 'Musica.Aficc.PSS'\n",
       "\\item 'Lectura.Aficc.PSS'\n",
       "\\item 'Radio.Aficc.PSS'\n",
       "\\item 'Compras.Aficc.PSS'\n",
       "\\item 'Cine.Aficc.PSS'\n",
       "\\item 'Campo.Aficc.PSS'\n",
       "\\item 'VerDeportes.Aficc.PSS'\n",
       "\\item 'Bailar.Aficc.PSS'\n",
       "\\item 'Cultura.Aficc.PSS'\n",
       "\\item 'SalirComer.Aficc.PSS'\n",
       "\\item 'Pub.Aficc.PSS'\n",
       "\\item 'Otros.Aficc.PSS'\n",
       "\\item 'Autobus.PSS'\n",
       "\\item 'Taxi.PSS'\n",
       "\\item 'Coche.PSS'\n",
       "\\item 'Moto.PSS'\n",
       "\\item 'Bici.PSS...247'\n",
       "\\item 'Caminando.PSS'\n",
       "\\item 'OtrosVehiculos.PSS'\n",
       "\\item 'Facebook.PSS'\n",
       "\\item 'Twitter.PSS'\n",
       "\\item 'Youtube.PSS'\n",
       "\\item 'LinkeDin.PSS'\n",
       "\\item 'Spotify.PSS'\n",
       "\\item 'OtrasRedes.PSS'\n",
       "\\item 'TelefMovil.PSS'\n",
       "\\item 'APPs.PSS'\n",
       "\\item 'Internet.PSS...258'\n",
       "\\item 'Tablet.PSS'\n",
       "\\item 'Ordenador.PSS'\n",
       "\\item 'Portatil.PSS'\n",
       "\\item 'SmartTV.PSS'\n",
       "\\item 'Wifi.Publica.PSS'\n",
       "\\item 'ConoceSkype.PSS'\n",
       "\\item 'UsaSkype'\n",
       "\\item 'Fecha muerte'\n",
       "\\item 'Muerte CV'\n",
       "\\item 'Fecha muerte CV'\n",
       "\\item 'N.Infartos.Seg'\n",
       "\\item 'IAM2'\n",
       "\\item 'Fecha IAM2'\n",
       "\\item 'IAM3'\n",
       "\\item 'Fecha IAM3'\n",
       "\\item 'Revasc2'\n",
       "\\item 'Fecha revasc2'\n",
       "\\item 'Revasc3'\n",
       "\\item 'Fecha revasc3'\n",
       "\\item 'Fecha fin seg'\n",
       "\\end{enumerate*}\n"
      ],
      "text/markdown": [
       "1. 'Id'\n",
       "2. 'Codigo'\n",
       "3. 'Edad'\n",
       "4. 'Sexo'\n",
       "5. 'Seg_Cantabria'\n",
       "6. 'CP'\n",
       "7. 'TIS'\n",
       "8. 'Fecha entrada'\n",
       "9. 'FechaEstadoVital'\n",
       "10. 'Fecha_revisionPrevia'\n",
       "11. 'Fecha_revision'\n",
       "12. 'CausaMuerte'\n",
       "13. 'Muerte'\n",
       "14. 'Fmuerte'\n",
       "15. 'IAM'\n",
       "16. 'Fecha IAM'\n",
       "17. 'Revasc'\n",
       "18. 'Fecha revasc'\n",
       "19. 'Ictus'\n",
       "20. 'Fecha ictus'\n",
       "21. 'Hemorragia'\n",
       "22. 'Fecha hemorragia'\n",
       "23. 'Peso'\n",
       "24. 'Talla'\n",
       "25. 'HFdeC.isquemica'\n",
       "26. 'Fumador'\n",
       "27. 'Diabetes'\n",
       "28. 'TratamientoDM'\n",
       "29. 'Hipertension'\n",
       "30. 'Dislipemia'\n",
       "31. 'IRC'\n",
       "32. 'Filtrado Glomerular'\n",
       "33. 'HBpreKT'\n",
       "34. 'InfartoAntiguo'\n",
       "35. 'LocIAMprevio'\n",
       "36. 'QXcoronariapre'\n",
       "37. 'AnoQXcoronariapre'\n",
       "38. 'PuentesQxpre.Tx'\n",
       "39. 'ACTPprevia'\n",
       "40. 'AnoACTPprevia'\n",
       "41. 'TCI.stentpre'\n",
       "42. 'DA.stentpre'\n",
       "43. 'Cx.stentpre'\n",
       "44. 'MOB.stentpre'\n",
       "45. 'CD.stentpre'\n",
       "46. 'PL.stentpre'\n",
       "47. 'IVP.stentpre'\n",
       "48. 'EnfArtPerif.pre'\n",
       "49. 'ACVpre'\n",
       "50. 'CHA2DS2VASC'\n",
       "51. 'CHADS2'\n",
       "52. 'Grace'\n",
       "53. 'PreciseDAPT'\n",
       "54. '...35'\n",
       "55. 'FE'\n",
       "56. 'Indicacion'\n",
       "57. 'IndicacionIAMCEST'\n",
       "58. 'Acceso'\n",
       "59. 'TCI.Actual'\n",
       "60. 'DA.Actual'\n",
       "61. 'CX.Actual'\n",
       "62. 'CD.Actual'\n",
       "63. 'Mamaria.Actual'\n",
       "64. 'Safena.Actual'\n",
       "65. 'TratDecidido'\n",
       "66. 'FechaQx.Actual'\n",
       "67. 'Puentes.Actual'\n",
       "68. 'ACVQX.Actual'\n",
       "69. 'InfartoQX.Actual'\n",
       "70. 'MuerteQX.Actual'\n",
       "71. 'MuerteQXtexto'\n",
       "72. 'TCI.tratada'\n",
       "73. 'DA.tratada'\n",
       "74. 'Cx.tratada'\n",
       "75. 'CD.tratada'\n",
       "76. 'Mamaria.tratada'\n",
       "77. 'Safena.tratada'\n",
       "78. 'Lesiones Tratadas'\n",
       "79. 'SINTAX1'\n",
       "80. 'SINTAX2'\n",
       "81. 'Complicaciones'\n",
       "82. 'CreaPost'\n",
       "83. 'HBpost'\n",
       "84. 'VivoAlta'\n",
       "85. 'FechaMuerteAlta'\n",
       "86. 'CausaMuerteAlta'\n",
       "87. 'Shock.Comp'\n",
       "88. 'TromboStent.Comp'\n",
       "89. 'IAMxOtraLesión.Comp'\n",
       "90. 'reACTPmismo.Comp'\n",
       "91. 'reACTPnueva.Comp'\n",
       "92. 'CirugiaCoro.Comp'\n",
       "93. 'Hemorragia.Comp'\n",
       "94. 'Infeccion.Comp'\n",
       "95. 'AccesoVasc.Comp'\n",
       "96. 'Otras.Comp'\n",
       "97. 'Adiro'\n",
       "98. 'DuracionAdiro'\n",
       "99. 'InhibADP'\n",
       "100. 'DuracionInhADP'\n",
       "101. 'ACO'\n",
       "102. 'DuracionACO'\n",
       "103. 'SegTelef12m'\n",
       "104. 'NosegTx'\n",
       "105. 'FechaContacto'\n",
       "106. 'EstadoAnginoso'\n",
       "107. 'ClaseCCS'\n",
       "108. 'Adiro12m'\n",
       "109. 'InhibADP12m'\n",
       "110. 'ACO12m'\n",
       "111. 'DAPT.Score'\n",
       "112. 'FechaKT.PSS'\n",
       "113. 'Peso.PSS'\n",
       "114. 'Talla.PSS'\n",
       "115. 'CNGsolicitud.PSS'\n",
       "116. 'CNGdesde.PSS'\n",
       "117. 'DxInicial.PSS'\n",
       "118. 'DxInicialTx.PSS'\n",
       "119. 'TratFinal.PSS'\n",
       "120. 'HTApre.PSS'\n",
       "121. 'DislipemiaPre.PSS'\n",
       "122. 'DiabetesPre.PSS'\n",
       "123. 'TratDM.PSS'\n",
       "124. 'IAMpre.PSS'\n",
       "125. 'IctusPre.PSS'\n",
       "126. 'ACTPpre.PSS'\n",
       "127. 'Qxpre.PSS'\n",
       "128. 'EnfVascPerifPre.PSS'\n",
       "129. 'SdAnsDepPre.PSS'\n",
       "130. 'DetCognitivo.PSS'\n",
       "131. 'OtroAnteced.PSS'\n",
       "132. 'OtroAntecedTx.PSS'\n",
       "133. 'ConoceEnf.PSS'\n",
       "134. 'ConociaFRCV.PSS'\n",
       "135. 'CualesConocia.PSS'\n",
       "136. 'SabiaTabaco.PSS'\n",
       "137. 'PensoCorazon.PSS'\n",
       "138. 'QuePenso.PSS'\n",
       "139. 'PersonaContac.PSS'\n",
       "140. 'DondeEstaba.PSS'\n",
       "141. 'ServSanitContac.PSS'\n",
       "142. 'TrasladoSS.PSS'\n",
       "143. 'FechaDolor.PSS'\n",
       "144. 'HoraDolor.PSS'\n",
       "145. 'MinutoDolor.PSS'\n",
       "146. 'FechaSanitario.PSS'\n",
       "147. 'HoraSanitario.PSS'\n",
       "148. 'MinutoSanitario.PSS'\n",
       "149. 'FechaUrgencias.PSS'\n",
       "150. 'HoraUrg.PSS'\n",
       "151. 'MinutoUrg.PSS'\n",
       "152. 'FechaTrat.PSS'\n",
       "153. 'MinutoTrat.PSS'\n",
       "154. 'HoraTrat.PSS'\n",
       "155. 'FechaDolorNH.PSS'\n",
       "156. 'HoraDolorNH.PSS'\n",
       "157. 'MinutoDolorNH.PSS'\n",
       "158. 'FechaContSanitNH.PSS'\n",
       "159. 'HoraContSanitNH.PSS'\n",
       "160. 'MinutoContNH.PSS'\n",
       "161. 'FechaUrgNH.PSS'\n",
       "162. 'HoraUrgNH.PSS'\n",
       "163. 'MinutoUrgNH.PSS'\n",
       "164. 'FechaTraNH.PSS'\n",
       "165. 'HoraTratNH.PSS'\n",
       "166. 'MinutoTratNH.PSS'\n",
       "167. 'HTAalta.PSS'\n",
       "168. 'Dislipemiaalta.PSS'\n",
       "169. 'Diabetesalta.PSS'\n",
       "170. 'EnfVascPerifalta.PSS'\n",
       "171. 'Fumador.PSS'\n",
       "172. 'T.Exfumador.PSS'\n",
       "173. 'T.tabaco.PSS'\n",
       "174. 'CantTabaco.PSS'\n",
       "175. 'MotivoStopTabaco.PSS'\n",
       "176. 'IntencionDejar.PSS'\n",
       "177. 'PodraDejarlo.PSS'\n",
       "178. 'FumaFamilia.PSS'\n",
       "179. 'ParejaFuma.PSS'\n",
       "180. 'PadreFuma.PSS'\n",
       "181. 'MadreFuma.PSS'\n",
       "182. 'HijoFuma.PSS'\n",
       "183. 'NHijosfuman.PSS'\n",
       "184. 'NHijosQueTiene.PSS'\n",
       "185. 'OtrosFuma.PSS'\n",
       "186. 'Alcohol.PSS'\n",
       "187. 'Vino.PSS'\n",
       "188. 'Cerveza'\n",
       "189. 'Copas.PSS'\n",
       "190. 'Drogas.PSS'\n",
       "191. 'Marihuana.PSS'\n",
       "192. 'Cocaina.PSS'\n",
       "193. 'OtrosToxicos.PSS'\n",
       "194. 'SosoSalado.PSS'\n",
       "195. 'AlimentVariada.PSS'\n",
       "196. 'DietaTx.PSS'\n",
       "197. 'Ejercicio.PSS'\n",
       "198. 'Nadar.PSS'\n",
       "199. 'Correr.PSS'\n",
       "200. 'Bici.PSS...181'\n",
       "201. 'Gimnasio.PSS'\n",
       "202. 'OtroEjercicioTx'\n",
       "203. 'FrecEjercicio.PSS'\n",
       "204. 'IntensEjercicio.PSS'\n",
       "205. 'HaraMasEjercicio.PSS'\n",
       "206. 'CualMasEjercicio.PSS'\n",
       "207. 'SabeColesterol.PSS...188'\n",
       "208. 'SabeColesterol.PSS...189'\n",
       "209. 'FrecuenciaTA.PSS'\n",
       "210. 'QuienTA.PSS'\n",
       "211. 'Medidas prevencion HTA'\n",
       "212. 'PrevHTATx.PSS'\n",
       "213. 'FrecPeso.PSS'\n",
       "214. 'FrecMedico.PSS'\n",
       "215. 'Menopausia.PSS'\n",
       "216. 'Anticonceptivo.PSS'\n",
       "217. 'Autopercepcion.PSS'\n",
       "218. 'OlvidaConsult.PSS'\n",
       "219. 'SabeTrat.PSS'\n",
       "220. 'ControlMedicac.PSS'\n",
       "221. 'FrecOlvidoTrat.PSS'\n",
       "222. 'SaludTV.PSS'\n",
       "223. 'FamiliaEnferma.PSS'\n",
       "224. 'FamiliaresConEnfTx'\n",
       "225. 'ConsultaKT.PSS'\n",
       "226. 'FamiliaConsultaKT.PSS'\n",
       "227. 'InternetConsultaKT.PSS'\n",
       "228. 'Profesionales.KT.PSS'\n",
       "229. 'ConsultaEnferm.PSS'\n",
       "230. 'Profesionales.PSS'\n",
       "231. 'Internet.PSS...212'\n",
       "232. 'OtrosConsultEnf.PSS'\n",
       "233. 'SabeactuarAngina.PSS'\n",
       "234. 'ActAnginaTx.PSS'\n",
       "235. 'NivelEstudios.PSS'\n",
       "236. 'TipoTrabajo.PSS'\n",
       "237. 'Ocupacion.PSS'\n",
       "238. 'EstadoCivil'\n",
       "239. 'LugarResidencia.PSS'\n",
       "240. 'ConQuienVive.PSS'\n",
       "241. 'ApoyoFamiliar'\n",
       "242. 'TareasHogar.PSS'\n",
       "243. 'NHijos.PSS'\n",
       "244. 'NNietos.PSS'\n",
       "245. '¿Tiene mascota?'\n",
       "246. 'MascotasTx.PSS'\n",
       "247. 'Familia.Aficc.PSS'\n",
       "248. 'TV.Aficc.PSS'\n",
       "249. 'Amigos.Aficc.PSS'\n",
       "250. 'Musica.Aficc.PSS'\n",
       "251. 'Lectura.Aficc.PSS'\n",
       "252. 'Radio.Aficc.PSS'\n",
       "253. 'Compras.Aficc.PSS'\n",
       "254. 'Cine.Aficc.PSS'\n",
       "255. 'Campo.Aficc.PSS'\n",
       "256. 'VerDeportes.Aficc.PSS'\n",
       "257. 'Bailar.Aficc.PSS'\n",
       "258. 'Cultura.Aficc.PSS'\n",
       "259. 'SalirComer.Aficc.PSS'\n",
       "260. 'Pub.Aficc.PSS'\n",
       "261. 'Otros.Aficc.PSS'\n",
       "262. 'Autobus.PSS'\n",
       "263. 'Taxi.PSS'\n",
       "264. 'Coche.PSS'\n",
       "265. 'Moto.PSS'\n",
       "266. 'Bici.PSS...247'\n",
       "267. 'Caminando.PSS'\n",
       "268. 'OtrosVehiculos.PSS'\n",
       "269. 'Facebook.PSS'\n",
       "270. 'Twitter.PSS'\n",
       "271. 'Youtube.PSS'\n",
       "272. 'LinkeDin.PSS'\n",
       "273. 'Spotify.PSS'\n",
       "274. 'OtrasRedes.PSS'\n",
       "275. 'TelefMovil.PSS'\n",
       "276. 'APPs.PSS'\n",
       "277. 'Internet.PSS...258'\n",
       "278. 'Tablet.PSS'\n",
       "279. 'Ordenador.PSS'\n",
       "280. 'Portatil.PSS'\n",
       "281. 'SmartTV.PSS'\n",
       "282. 'Wifi.Publica.PSS'\n",
       "283. 'ConoceSkype.PSS'\n",
       "284. 'UsaSkype'\n",
       "285. 'Fecha muerte'\n",
       "286. 'Muerte CV'\n",
       "287. 'Fecha muerte CV'\n",
       "288. 'N.Infartos.Seg'\n",
       "289. 'IAM2'\n",
       "290. 'Fecha IAM2'\n",
       "291. 'IAM3'\n",
       "292. 'Fecha IAM3'\n",
       "293. 'Revasc2'\n",
       "294. 'Fecha revasc2'\n",
       "295. 'Revasc3'\n",
       "296. 'Fecha revasc3'\n",
       "297. 'Fecha fin seg'\n",
       "\n",
       "\n"
      ],
      "text/plain": [
       "  [1] \"Id\"                       \"Codigo\"                  \n",
       "  [3] \"Edad\"                     \"Sexo\"                    \n",
       "  [5] \"Seg_Cantabria\"            \"CP\"                      \n",
       "  [7] \"TIS\"                      \"Fecha entrada\"           \n",
       "  [9] \"FechaEstadoVital\"         \"Fecha_revisionPrevia\"    \n",
       " [11] \"Fecha_revision\"           \"CausaMuerte\"             \n",
       " [13] \"Muerte\"                   \"Fmuerte\"                 \n",
       " [15] \"IAM\"                      \"Fecha IAM\"               \n",
       " [17] \"Revasc\"                   \"Fecha revasc\"            \n",
       " [19] \"Ictus\"                    \"Fecha ictus\"             \n",
       " [21] \"Hemorragia\"               \"Fecha hemorragia\"        \n",
       " [23] \"Peso\"                     \"Talla\"                   \n",
       " [25] \"HFdeC.isquemica\"          \"Fumador\"                 \n",
       " [27] \"Diabetes\"                 \"TratamientoDM\"           \n",
       " [29] \"Hipertension\"             \"Dislipemia\"              \n",
       " [31] \"IRC\"                      \"Filtrado Glomerular\"     \n",
       " [33] \"HBpreKT\"                  \"InfartoAntiguo\"          \n",
       " [35] \"LocIAMprevio\"             \"QXcoronariapre\"          \n",
       " [37] \"AnoQXcoronariapre\"        \"PuentesQxpre.Tx\"         \n",
       " [39] \"ACTPprevia\"               \"AnoACTPprevia\"           \n",
       " [41] \"TCI.stentpre\"             \"DA.stentpre\"             \n",
       " [43] \"Cx.stentpre\"              \"MOB.stentpre\"            \n",
       " [45] \"CD.stentpre\"              \"PL.stentpre\"             \n",
       " [47] \"IVP.stentpre\"             \"EnfArtPerif.pre\"         \n",
       " [49] \"ACVpre\"                   \"CHA2DS2VASC\"             \n",
       " [51] \"CHADS2\"                   \"Grace\"                   \n",
       " [53] \"PreciseDAPT\"              \"...35\"                   \n",
       " [55] \"FE\"                       \"Indicacion\"              \n",
       " [57] \"IndicacionIAMCEST\"        \"Acceso\"                  \n",
       " [59] \"TCI.Actual\"               \"DA.Actual\"               \n",
       " [61] \"CX.Actual\"                \"CD.Actual\"               \n",
       " [63] \"Mamaria.Actual\"           \"Safena.Actual\"           \n",
       " [65] \"TratDecidido\"             \"FechaQx.Actual\"          \n",
       " [67] \"Puentes.Actual\"           \"ACVQX.Actual\"            \n",
       " [69] \"InfartoQX.Actual\"         \"MuerteQX.Actual\"         \n",
       " [71] \"MuerteQXtexto\"            \"TCI.tratada\"             \n",
       " [73] \"DA.tratada\"               \"Cx.tratada\"              \n",
       " [75] \"CD.tratada\"               \"Mamaria.tratada\"         \n",
       " [77] \"Safena.tratada\"           \"Lesiones Tratadas\"       \n",
       " [79] \"SINTAX1\"                  \"SINTAX2\"                 \n",
       " [81] \"Complicaciones\"           \"CreaPost\"                \n",
       " [83] \"HBpost\"                   \"VivoAlta\"                \n",
       " [85] \"FechaMuerteAlta\"          \"CausaMuerteAlta\"         \n",
       " [87] \"Shock.Comp\"               \"TromboStent.Comp\"        \n",
       " [89] \"IAMxOtraLesión.Comp\"      \"reACTPmismo.Comp\"        \n",
       " [91] \"reACTPnueva.Comp\"         \"CirugiaCoro.Comp\"        \n",
       " [93] \"Hemorragia.Comp\"          \"Infeccion.Comp\"          \n",
       " [95] \"AccesoVasc.Comp\"          \"Otras.Comp\"              \n",
       " [97] \"Adiro\"                    \"DuracionAdiro\"           \n",
       " [99] \"InhibADP\"                 \"DuracionInhADP\"          \n",
       "[101] \"ACO\"                      \"DuracionACO\"             \n",
       "[103] \"SegTelef12m\"              \"NosegTx\"                 \n",
       "[105] \"FechaContacto\"            \"EstadoAnginoso\"          \n",
       "[107] \"ClaseCCS\"                 \"Adiro12m\"                \n",
       "[109] \"InhibADP12m\"              \"ACO12m\"                  \n",
       "[111] \"DAPT.Score\"               \"FechaKT.PSS\"             \n",
       "[113] \"Peso.PSS\"                 \"Talla.PSS\"               \n",
       "[115] \"CNGsolicitud.PSS\"         \"CNGdesde.PSS\"            \n",
       "[117] \"DxInicial.PSS\"            \"DxInicialTx.PSS\"         \n",
       "[119] \"TratFinal.PSS\"            \"HTApre.PSS\"              \n",
       "[121] \"DislipemiaPre.PSS\"        \"DiabetesPre.PSS\"         \n",
       "[123] \"TratDM.PSS\"               \"IAMpre.PSS\"              \n",
       "[125] \"IctusPre.PSS\"             \"ACTPpre.PSS\"             \n",
       "[127] \"Qxpre.PSS\"                \"EnfVascPerifPre.PSS\"     \n",
       "[129] \"SdAnsDepPre.PSS\"          \"DetCognitivo.PSS\"        \n",
       "[131] \"OtroAnteced.PSS\"          \"OtroAntecedTx.PSS\"       \n",
       "[133] \"ConoceEnf.PSS\"            \"ConociaFRCV.PSS\"         \n",
       "[135] \"CualesConocia.PSS\"        \"SabiaTabaco.PSS\"         \n",
       "[137] \"PensoCorazon.PSS\"         \"QuePenso.PSS\"            \n",
       "[139] \"PersonaContac.PSS\"        \"DondeEstaba.PSS\"         \n",
       "[141] \"ServSanitContac.PSS\"      \"TrasladoSS.PSS\"          \n",
       "[143] \"FechaDolor.PSS\"           \"HoraDolor.PSS\"           \n",
       "[145] \"MinutoDolor.PSS\"          \"FechaSanitario.PSS\"      \n",
       "[147] \"HoraSanitario.PSS\"        \"MinutoSanitario.PSS\"     \n",
       "[149] \"FechaUrgencias.PSS\"       \"HoraUrg.PSS\"             \n",
       "[151] \"MinutoUrg.PSS\"            \"FechaTrat.PSS\"           \n",
       "[153] \"MinutoTrat.PSS\"           \"HoraTrat.PSS\"            \n",
       "[155] \"FechaDolorNH.PSS\"         \"HoraDolorNH.PSS\"         \n",
       "[157] \"MinutoDolorNH.PSS\"        \"FechaContSanitNH.PSS\"    \n",
       "[159] \"HoraContSanitNH.PSS\"      \"MinutoContNH.PSS\"        \n",
       "[161] \"FechaUrgNH.PSS\"           \"HoraUrgNH.PSS\"           \n",
       "[163] \"MinutoUrgNH.PSS\"          \"FechaTraNH.PSS\"          \n",
       "[165] \"HoraTratNH.PSS\"           \"MinutoTratNH.PSS\"        \n",
       "[167] \"HTAalta.PSS\"              \"Dislipemiaalta.PSS\"      \n",
       "[169] \"Diabetesalta.PSS\"         \"EnfVascPerifalta.PSS\"    \n",
       "[171] \"Fumador.PSS\"              \"T.Exfumador.PSS\"         \n",
       "[173] \"T.tabaco.PSS\"             \"CantTabaco.PSS\"          \n",
       "[175] \"MotivoStopTabaco.PSS\"     \"IntencionDejar.PSS\"      \n",
       "[177] \"PodraDejarlo.PSS\"         \"FumaFamilia.PSS\"         \n",
       "[179] \"ParejaFuma.PSS\"           \"PadreFuma.PSS\"           \n",
       "[181] \"MadreFuma.PSS\"            \"HijoFuma.PSS\"            \n",
       "[183] \"NHijosfuman.PSS\"          \"NHijosQueTiene.PSS\"      \n",
       "[185] \"OtrosFuma.PSS\"            \"Alcohol.PSS\"             \n",
       "[187] \"Vino.PSS\"                 \"Cerveza\"                 \n",
       "[189] \"Copas.PSS\"                \"Drogas.PSS\"              \n",
       "[191] \"Marihuana.PSS\"            \"Cocaina.PSS\"             \n",
       "[193] \"OtrosToxicos.PSS\"         \"SosoSalado.PSS\"          \n",
       "[195] \"AlimentVariada.PSS\"       \"DietaTx.PSS\"             \n",
       "[197] \"Ejercicio.PSS\"            \"Nadar.PSS\"               \n",
       "[199] \"Correr.PSS\"               \"Bici.PSS...181\"          \n",
       "[201] \"Gimnasio.PSS\"             \"OtroEjercicioTx\"         \n",
       "[203] \"FrecEjercicio.PSS\"        \"IntensEjercicio.PSS\"     \n",
       "[205] \"HaraMasEjercicio.PSS\"     \"CualMasEjercicio.PSS\"    \n",
       "[207] \"SabeColesterol.PSS...188\" \"SabeColesterol.PSS...189\"\n",
       "[209] \"FrecuenciaTA.PSS\"         \"QuienTA.PSS\"             \n",
       "[211] \"Medidas prevencion HTA\"   \"PrevHTATx.PSS\"           \n",
       "[213] \"FrecPeso.PSS\"             \"FrecMedico.PSS\"          \n",
       "[215] \"Menopausia.PSS\"           \"Anticonceptivo.PSS\"      \n",
       "[217] \"Autopercepcion.PSS\"       \"OlvidaConsult.PSS\"       \n",
       "[219] \"SabeTrat.PSS\"             \"ControlMedicac.PSS\"      \n",
       "[221] \"FrecOlvidoTrat.PSS\"       \"SaludTV.PSS\"             \n",
       "[223] \"FamiliaEnferma.PSS\"       \"FamiliaresConEnfTx\"      \n",
       "[225] \"ConsultaKT.PSS\"           \"FamiliaConsultaKT.PSS\"   \n",
       "[227] \"InternetConsultaKT.PSS\"   \"Profesionales.KT.PSS\"    \n",
       "[229] \"ConsultaEnferm.PSS\"       \"Profesionales.PSS\"       \n",
       "[231] \"Internet.PSS...212\"       \"OtrosConsultEnf.PSS\"     \n",
       "[233] \"SabeactuarAngina.PSS\"     \"ActAnginaTx.PSS\"         \n",
       "[235] \"NivelEstudios.PSS\"        \"TipoTrabajo.PSS\"         \n",
       "[237] \"Ocupacion.PSS\"            \"EstadoCivil\"             \n",
       "[239] \"LugarResidencia.PSS\"      \"ConQuienVive.PSS\"        \n",
       "[241] \"ApoyoFamiliar\"            \"TareasHogar.PSS\"         \n",
       "[243] \"NHijos.PSS\"               \"NNietos.PSS\"             \n",
       "[245] \"¿Tiene mascota?\"          \"MascotasTx.PSS\"          \n",
       "[247] \"Familia.Aficc.PSS\"        \"TV.Aficc.PSS\"            \n",
       "[249] \"Amigos.Aficc.PSS\"         \"Musica.Aficc.PSS\"        \n",
       "[251] \"Lectura.Aficc.PSS\"        \"Radio.Aficc.PSS\"         \n",
       "[253] \"Compras.Aficc.PSS\"        \"Cine.Aficc.PSS\"          \n",
       "[255] \"Campo.Aficc.PSS\"          \"VerDeportes.Aficc.PSS\"   \n",
       "[257] \"Bailar.Aficc.PSS\"         \"Cultura.Aficc.PSS\"       \n",
       "[259] \"SalirComer.Aficc.PSS\"     \"Pub.Aficc.PSS\"           \n",
       "[261] \"Otros.Aficc.PSS\"          \"Autobus.PSS\"             \n",
       "[263] \"Taxi.PSS\"                 \"Coche.PSS\"               \n",
       "[265] \"Moto.PSS\"                 \"Bici.PSS...247\"          \n",
       "[267] \"Caminando.PSS\"            \"OtrosVehiculos.PSS\"      \n",
       "[269] \"Facebook.PSS\"             \"Twitter.PSS\"             \n",
       "[271] \"Youtube.PSS\"              \"LinkeDin.PSS\"            \n",
       "[273] \"Spotify.PSS\"              \"OtrasRedes.PSS\"          \n",
       "[275] \"TelefMovil.PSS\"           \"APPs.PSS\"                \n",
       "[277] \"Internet.PSS...258\"       \"Tablet.PSS\"              \n",
       "[279] \"Ordenador.PSS\"            \"Portatil.PSS\"            \n",
       "[281] \"SmartTV.PSS\"              \"Wifi.Publica.PSS\"        \n",
       "[283] \"ConoceSkype.PSS\"          \"UsaSkype\"                \n",
       "[285] \"Fecha muerte\"             \"Muerte CV\"               \n",
       "[287] \"Fecha muerte CV\"          \"N.Infartos.Seg\"          \n",
       "[289] \"IAM2\"                     \"Fecha IAM2\"              \n",
       "[291] \"IAM3\"                     \"Fecha IAM3\"              \n",
       "[293] \"Revasc2\"                  \"Fecha revasc2\"           \n",
       "[295] \"Revasc3\"                  \"Fecha revasc3\"           \n",
       "[297] \"Fecha fin seg\"           "
      ]
     },
     "metadata": {},
     "output_type": "display_data"
    },
    {
     "data": {
      "text/html": [
       "<table class=\"dataframe\">\n",
       "<caption>A data.frame: 6 × 297</caption>\n",
       "<thead>\n",
       "\t<tr><th></th><th scope=col>Id</th><th scope=col>Codigo</th><th scope=col>Edad</th><th scope=col>Sexo</th><th scope=col>Seg_Cantabria</th><th scope=col>CP</th><th scope=col>TIS</th><th scope=col>Fecha entrada</th><th scope=col>FechaEstadoVital</th><th scope=col>Fecha_revisionPrevia</th><th scope=col>⋯</th><th scope=col>N.Infartos.Seg</th><th scope=col>IAM2</th><th scope=col>Fecha IAM2</th><th scope=col>IAM3</th><th scope=col>Fecha IAM3</th><th scope=col>Revasc2</th><th scope=col>Fecha revasc2</th><th scope=col>Revasc3</th><th scope=col>Fecha revasc3</th><th scope=col>Fecha fin seg</th></tr>\n",
       "\t<tr><th></th><th scope=col>&lt;dbl&gt;</th><th scope=col>&lt;dbl&gt;</th><th scope=col>&lt;dbl&gt;</th><th scope=col>&lt;dbl&gt;</th><th scope=col>&lt;dbl&gt;</th><th scope=col>&lt;dbl&gt;</th><th scope=col>&lt;chr&gt;</th><th scope=col>&lt;dttm&gt;</th><th scope=col>&lt;chr&gt;</th><th scope=col>&lt;dttm&gt;</th><th scope=col>⋯</th><th scope=col>&lt;dbl&gt;</th><th scope=col>&lt;dbl&gt;</th><th scope=col>&lt;dttm&gt;</th><th scope=col>&lt;dbl&gt;</th><th scope=col>&lt;dttm&gt;</th><th scope=col>&lt;dbl&gt;</th><th scope=col>&lt;dttm&gt;</th><th scope=col>&lt;dbl&gt;</th><th scope=col>&lt;dttm&gt;</th><th scope=col>&lt;chr&gt;</th></tr>\n",
       "</thead>\n",
       "<tbody>\n",
       "\t<tr><th scope=row>1</th><td>1</td><td>3009547</td><td>49</td><td>1</td><td>1</td><td>39409</td><td>1</td><td>2018-02-21</td><td>45415</td><td>2022-02-02</td><td>⋯</td><td>NA</td><td>NA</td><td>NA</td><td>NA</td><td>NA</td><td>NA</td><td>NA</td><td>NA</td><td>NA</td><td>44594</td></tr>\n",
       "\t<tr><th scope=row>2</th><td>2</td><td> 229918</td><td>73</td><td>1</td><td>1</td><td>39608</td><td>2</td><td>2018-02-22</td><td>45619</td><td>2022-02-02</td><td>⋯</td><td>NA</td><td>NA</td><td>NA</td><td>NA</td><td>NA</td><td>NA</td><td>NA</td><td>NA</td><td>NA</td><td>44594</td></tr>\n",
       "\t<tr><th scope=row>3</th><td>3</td><td> 224165</td><td>47</td><td>1</td><td>1</td><td>39770</td><td>3</td><td>2018-02-23</td><td>45432</td><td>2022-02-02</td><td>⋯</td><td> 1</td><td>NA</td><td>NA</td><td>NA</td><td>NA</td><td>NA</td><td>NA</td><td>NA</td><td>NA</td><td>44594</td></tr>\n",
       "\t<tr><th scope=row>4</th><td>4</td><td> 740337</td><td>62</td><td>0</td><td>1</td><td>39400</td><td>1</td><td>2018-02-23</td><td>45698</td><td>2022-02-02</td><td>⋯</td><td>NA</td><td>NA</td><td>NA</td><td>NA</td><td>NA</td><td>NA</td><td>NA</td><td>NA</td><td>NA</td><td>44594</td></tr>\n",
       "\t<tr><th scope=row>5</th><td>5</td><td> 229056</td><td>71</td><td>1</td><td>1</td><td>39600</td><td>2</td><td>2018-02-22</td><td>44299</td><td>2022-02-02</td><td>⋯</td><td>NA</td><td>NA</td><td>NA</td><td>NA</td><td>NA</td><td>NA</td><td>NA</td><td>NA</td><td>NA</td><td>44594</td></tr>\n",
       "\t<tr><th scope=row>6</th><td>6</td><td> 691145</td><td>73</td><td>1</td><td>1</td><td>39480</td><td>2</td><td>2018-02-25</td><td>44012</td><td>2022-02-02</td><td>⋯</td><td>NA</td><td>NA</td><td>NA</td><td>NA</td><td>NA</td><td>NA</td><td>NA</td><td>NA</td><td>NA</td><td>44594</td></tr>\n",
       "</tbody>\n",
       "</table>\n"
      ],
      "text/latex": [
       "A data.frame: 6 × 297\n",
       "\\begin{tabular}{r|lllllllllllllllllllll}\n",
       "  & Id & Codigo & Edad & Sexo & Seg\\_Cantabria & CP & TIS & Fecha entrada & FechaEstadoVital & Fecha\\_revisionPrevia & ⋯ & N.Infartos.Seg & IAM2 & Fecha IAM2 & IAM3 & Fecha IAM3 & Revasc2 & Fecha revasc2 & Revasc3 & Fecha revasc3 & Fecha fin seg\\\\\n",
       "  & <dbl> & <dbl> & <dbl> & <dbl> & <dbl> & <dbl> & <chr> & <dttm> & <chr> & <dttm> & ⋯ & <dbl> & <dbl> & <dttm> & <dbl> & <dttm> & <dbl> & <dttm> & <dbl> & <dttm> & <chr>\\\\\n",
       "\\hline\n",
       "\t1 & 1 & 3009547 & 49 & 1 & 1 & 39409 & 1 & 2018-02-21 & 45415 & 2022-02-02 & ⋯ & NA & NA & NA & NA & NA & NA & NA & NA & NA & 44594\\\\\n",
       "\t2 & 2 &  229918 & 73 & 1 & 1 & 39608 & 2 & 2018-02-22 & 45619 & 2022-02-02 & ⋯ & NA & NA & NA & NA & NA & NA & NA & NA & NA & 44594\\\\\n",
       "\t3 & 3 &  224165 & 47 & 1 & 1 & 39770 & 3 & 2018-02-23 & 45432 & 2022-02-02 & ⋯ &  1 & NA & NA & NA & NA & NA & NA & NA & NA & 44594\\\\\n",
       "\t4 & 4 &  740337 & 62 & 0 & 1 & 39400 & 1 & 2018-02-23 & 45698 & 2022-02-02 & ⋯ & NA & NA & NA & NA & NA & NA & NA & NA & NA & 44594\\\\\n",
       "\t5 & 5 &  229056 & 71 & 1 & 1 & 39600 & 2 & 2018-02-22 & 44299 & 2022-02-02 & ⋯ & NA & NA & NA & NA & NA & NA & NA & NA & NA & 44594\\\\\n",
       "\t6 & 6 &  691145 & 73 & 1 & 1 & 39480 & 2 & 2018-02-25 & 44012 & 2022-02-02 & ⋯ & NA & NA & NA & NA & NA & NA & NA & NA & NA & 44594\\\\\n",
       "\\end{tabular}\n"
      ],
      "text/markdown": [
       "\n",
       "A data.frame: 6 × 297\n",
       "\n",
       "| <!--/--> | Id &lt;dbl&gt; | Codigo &lt;dbl&gt; | Edad &lt;dbl&gt; | Sexo &lt;dbl&gt; | Seg_Cantabria &lt;dbl&gt; | CP &lt;dbl&gt; | TIS &lt;chr&gt; | Fecha entrada &lt;dttm&gt; | FechaEstadoVital &lt;chr&gt; | Fecha_revisionPrevia &lt;dttm&gt; | ⋯ ⋯ | N.Infartos.Seg &lt;dbl&gt; | IAM2 &lt;dbl&gt; | Fecha IAM2 &lt;dttm&gt; | IAM3 &lt;dbl&gt; | Fecha IAM3 &lt;dttm&gt; | Revasc2 &lt;dbl&gt; | Fecha revasc2 &lt;dttm&gt; | Revasc3 &lt;dbl&gt; | Fecha revasc3 &lt;dttm&gt; | Fecha fin seg &lt;chr&gt; |\n",
       "|---|---|---|---|---|---|---|---|---|---|---|---|---|---|---|---|---|---|---|---|---|---|\n",
       "| 1 | 1 | 3009547 | 49 | 1 | 1 | 39409 | 1 | 2018-02-21 | 45415 | 2022-02-02 | ⋯ | NA | NA | NA | NA | NA | NA | NA | NA | NA | 44594 |\n",
       "| 2 | 2 |  229918 | 73 | 1 | 1 | 39608 | 2 | 2018-02-22 | 45619 | 2022-02-02 | ⋯ | NA | NA | NA | NA | NA | NA | NA | NA | NA | 44594 |\n",
       "| 3 | 3 |  224165 | 47 | 1 | 1 | 39770 | 3 | 2018-02-23 | 45432 | 2022-02-02 | ⋯ |  1 | NA | NA | NA | NA | NA | NA | NA | NA | 44594 |\n",
       "| 4 | 4 |  740337 | 62 | 0 | 1 | 39400 | 1 | 2018-02-23 | 45698 | 2022-02-02 | ⋯ | NA | NA | NA | NA | NA | NA | NA | NA | NA | 44594 |\n",
       "| 5 | 5 |  229056 | 71 | 1 | 1 | 39600 | 2 | 2018-02-22 | 44299 | 2022-02-02 | ⋯ | NA | NA | NA | NA | NA | NA | NA | NA | NA | 44594 |\n",
       "| 6 | 6 |  691145 | 73 | 1 | 1 | 39480 | 2 | 2018-02-25 | 44012 | 2022-02-02 | ⋯ | NA | NA | NA | NA | NA | NA | NA | NA | NA | 44594 |\n",
       "\n"
      ],
      "text/plain": [
       "  Id Codigo  Edad Sexo Seg_Cantabria CP    TIS Fecha entrada FechaEstadoVital\n",
       "1 1  3009547 49   1    1             39409 1   2018-02-21    45415           \n",
       "2 2   229918 73   1    1             39608 2   2018-02-22    45619           \n",
       "3 3   224165 47   1    1             39770 3   2018-02-23    45432           \n",
       "4 4   740337 62   0    1             39400 1   2018-02-23    45698           \n",
       "5 5   229056 71   1    1             39600 2   2018-02-22    44299           \n",
       "6 6   691145 73   1    1             39480 2   2018-02-25    44012           \n",
       "  Fecha_revisionPrevia ⋯ N.Infartos.Seg IAM2 Fecha IAM2 IAM3 Fecha IAM3 Revasc2\n",
       "1 2022-02-02           ⋯ NA             NA   <NA>       NA   <NA>       NA     \n",
       "2 2022-02-02           ⋯ NA             NA   <NA>       NA   <NA>       NA     \n",
       "3 2022-02-02           ⋯  1             NA   <NA>       NA   <NA>       NA     \n",
       "4 2022-02-02           ⋯ NA             NA   <NA>       NA   <NA>       NA     \n",
       "5 2022-02-02           ⋯ NA             NA   <NA>       NA   <NA>       NA     \n",
       "6 2022-02-02           ⋯ NA             NA   <NA>       NA   <NA>       NA     \n",
       "  Fecha revasc2 Revasc3 Fecha revasc3 Fecha fin seg\n",
       "1 <NA>          NA      <NA>          44594        \n",
       "2 <NA>          NA      <NA>          44594        \n",
       "3 <NA>          NA      <NA>          44594        \n",
       "4 <NA>          NA      <NA>          44594        \n",
       "5 <NA>          NA      <NA>          44594        \n",
       "6 <NA>          NA      <NA>          44594        "
      ]
     },
     "metadata": {},
     "output_type": "display_data"
    }
   ],
   "source": [
    "# Perform an inner join based on the \"Id\" column\n",
    "merged_data <- merge(\n",
    "  data_ext,\n",
    "  data,\n",
    "  by = \"Id\",\n",
    "  all = FALSE,  # Only include rows with matches in \"Id\"\n",
    "  suffixes = c(\"\", \"\")  # Avoid adding suffixes to duplicate columns\n",
    ")\n",
    "\n",
    "# Remove duplicate columns that are generated (those coming from data_ext)\n",
    "merged_data <- merged_data[, !duplicated(colnames(merged_data))]\n",
    "\n",
    "colnames(merged_data)\n",
    "head(merged_data)"
   ]
  },
  {
   "cell_type": "code",
   "execution_count": 8,
   "id": "d4233ed5",
   "metadata": {
    "vscode": {
     "languageId": "r"
    }
   },
   "outputs": [
    {
     "data": {
      "text/html": [
       "290"
      ],
      "text/latex": [
       "290"
      ],
      "text/markdown": [
       "290"
      ],
      "text/plain": [
       "[1] 290"
      ]
     },
     "metadata": {},
     "output_type": "display_data"
    },
    {
     "data": {
      "text/html": [
       "22"
      ],
      "text/latex": [
       "22"
      ],
      "text/markdown": [
       "22"
      ],
      "text/plain": [
       "[1] 22"
      ]
     },
     "metadata": {},
     "output_type": "display_data"
    },
    {
     "data": {
      "text/html": [
       "15"
      ],
      "text/latex": [
       "15"
      ],
      "text/markdown": [
       "15"
      ],
      "text/plain": [
       "[1] 15"
      ]
     },
     "metadata": {},
     "output_type": "display_data"
    },
    {
     "data": {
      "text/html": [
       "297"
      ],
      "text/latex": [
       "297"
      ],
      "text/markdown": [
       "297"
      ],
      "text/plain": [
       "[1] 297"
      ]
     },
     "metadata": {},
     "output_type": "display_data"
    }
   ],
   "source": [
    "# Compare the number of columns:\n",
    "ncol(data)\n",
    "ncol(data_ext)\n",
    "length(intersect(colnames(data), colnames(data_ext)))\n",
    "ncol(merged_data)\n"
   ]
  },
  {
   "cell_type": "code",
   "execution_count": 9,
   "id": "a84f0197",
   "metadata": {
    "vscode": {
     "languageId": "r"
    }
   },
   "outputs": [
    {
     "data": {
      "text/html": [
       "2478"
      ],
      "text/latex": [
       "2478"
      ],
      "text/markdown": [
       "2478"
      ],
      "text/plain": [
       "[1] 2478"
      ]
     },
     "metadata": {},
     "output_type": "display_data"
    },
    {
     "data": {
      "text/html": [
       "2219"
      ],
      "text/latex": [
       "2219"
      ],
      "text/markdown": [
       "2219"
      ],
      "text/plain": [
       "[1] 2219"
      ]
     },
     "metadata": {},
     "output_type": "display_data"
    },
    {
     "data": {
      "text/html": [
       "2216"
      ],
      "text/latex": [
       "2216"
      ],
      "text/markdown": [
       "2216"
      ],
      "text/plain": [
       "[1] 2216"
      ]
     },
     "metadata": {},
     "output_type": "display_data"
    }
   ],
   "source": [
    "# Compare the number of rows:\n",
    "nrow(data)\n",
    "nrow(data_ext)\n",
    "nrow(merged_data)"
   ]
  },
  {
   "cell_type": "code",
   "execution_count": 10,
   "id": "f7b0fc4e",
   "metadata": {
    "vscode": {
     "languageId": "r"
    }
   },
   "outputs": [
    {
     "name": "stdout",
     "output_type": "stream",
     "text": [
      "numeric(0)\n"
     ]
    },
    {
     "name": "stdout",
     "output_type": "stream",
     "text": [
      "[1]   51 1002\n",
      " [1]   42   51  109  123  134  162  237  247  266  271  272  330  354  356  367\n",
      "[16]  376  387  442  478  499  506  610  669  822  828  831  840  845  853  854\n",
      "[31]  878  938  961  964  973  995 1002 1007 1008 1037 1043 1066 1089 1119 1126\n",
      "[46] 1130 1131 1141 1149 1158 1159 1171 1192 1205 1229 1913\n",
      " [1]    6   31   52   91  140  146  172  176  199  218  230  235  329  349  430\n",
      "[16]  451  510  544  551  749  771  772  775  776  866  893  918  925  927  930\n",
      "[31]  935  944  945  962  964  971  975  980  983  989  991 1033 1055 1151 1163\n",
      "[46] 1196 1223 1322 1340 1344 1346 1353 1364 1372 1373 1398 1438 1453 1536 1537\n",
      "[61] 1598 1612 1630 1652 1670 1759 1767 1789 1808 1940 1988 1989 2027 2053 2064\n",
      "[76] 2066 2245 2247 2302 2312 2421 2446 2474\n",
      " [1]    2   58  140  146  172  199  218  230  235  329  510  866 1033 1322 1353\n",
      "[16] 1373 1398 1494 1612 1714 1759 1891 1927 1940 2046\n",
      "Number of records after removing null rows: 2160 \n"
     ]
    }
   ],
   "source": [
    "list_edad <- merged_data$Id[is.na(merged_data$Edad)]\n",
    "print(list_edad)\n",
    "list_CP <- merged_data$Id[is.na(merged_data$CP)]\n",
    "print(list_CP)\n",
    "list_TIS <- merged_data$Id[is.na(merged_data$TIS)]\n",
    "print(list_TIS)\n",
    "list_talla <- merged_data$Id[is.na(merged_data$Talla)]\n",
    "print(list_talla)\n",
    "list_peso <- merged_data$Id[is.na(merged_data$Peso)]\n",
    "print(list_peso)\n",
    "\n",
    "# Remove rows where CP is NA\n",
    "merged_data <- merged_data[!is.na(merged_data$CP), ]\n",
    "# Remove rows where TIS is NA\n",
    "merged_data <- merged_data[!is.na(merged_data$TIS), ]\n",
    "\n",
    "# Print the number of records after removing null rows\n",
    "cat(\"Number of records after removing null rows:\", nrow(merged_data), \"\\n\")"
   ]
  },
  {
   "cell_type": "code",
   "execution_count": 11,
   "id": "c9f224b9",
   "metadata": {
    "vscode": {
     "languageId": "r"
    }
   },
   "outputs": [
    {
     "name": "stdout",
     "output_type": "stream",
     "text": [
      "[1] \"Patient admission dates range from 2016-06-12 to 2025-03-04\"\n"
     ]
    }
   ],
   "source": [
    "print(paste(\"Patient admission dates range from\", \n",
    "            min(merged_data$`Fecha entrada`, na.rm = TRUE), \"to\",\n",
    "            max(merged_data$`Fecha entrada`, na.rm = TRUE)))"
   ]
  },
  {
   "cell_type": "code",
   "execution_count": 12,
   "id": "292955e5",
   "metadata": {
    "vscode": {
     "languageId": "r"
    }
   },
   "outputs": [
    {
     "name": "stdout",
     "output_type": "stream",
     "text": [
      "[1] \"Patient last checkup dates range from 2016-07-19 to 2025-05-30\"\n"
     ]
    }
   ],
   "source": [
    "min_rev <- min(\n",
    "    min(merged_data$Fecha_revision, na.rm = TRUE),\n",
    "    ifelse(\n",
    "        is.na(merged_data$Fecha_revision),\n",
    "        min(merged_data$Fecha_revisionPrevia, na.rm = TRUE),\n",
    "        min(merged_data$Fecha_revision, na.rm = TRUE)\n",
    "    ),\n",
    "    min(merged_data$Fmuerte, na.rm = TRUE),\n",
    "    na.rm = TRUE\n",
    ")\n",
    "print(paste(\"Patient last checkup dates range from\", min_rev, \"to\",\n",
    "    max(merged_data$Fecha_revision, na.rm = TRUE)))\n"
   ]
  },
  {
   "cell_type": "markdown",
   "id": "e836f39c",
   "metadata": {},
   "source": [
    "## 2. Data Curation"
   ]
  },
  {
   "cell_type": "markdown",
   "id": "202a8917",
   "metadata": {},
   "source": [
    "### Variable Age (*Edad*)"
   ]
  },
  {
   "cell_type": "code",
   "execution_count": 13,
   "id": "f9c94de9",
   "metadata": {
    "vscode": {
     "languageId": "r"
    }
   },
   "outputs": [
    {
     "data": {
      "text/plain": [
       "   Min. 1st Qu.  Median    Mean 3rd Qu.    Max. \n",
       "   28.0    57.0    65.0    65.4    74.0    93.0 "
      ]
     },
     "metadata": {},
     "output_type": "display_data"
    },
    {
     "name": "stdout",
     "output_type": "stream",
     "text": [
      "[1] 1136 1510 2113\n"
     ]
    },
    {
     "data": {
      "image/png": "[encoded data removed]",
      "text/plain": [
       "Plot with title \"Boxplot - Age\""
      ]
     },
     "metadata": {
      "image/png": {
       "height": 420,
       "width": 420
      }
     },
     "output_type": "display_data"
    }
   ],
   "source": [
    "summary(merged_data$Edad) # Statistical summary of the variable\n",
    "\n",
    "# Boxplot of the variable Age\n",
    "par(mfrow = c(1, 2))\n",
    "boxplot(merged_data$Edad, main = \"Boxplot - Age\", ylab = \"Age\", col = \"lightblue\")\n",
    "\n",
    "# Calculate the interquartile range (IQR)\n",
    "Q1 <- quantile(merged_data$Edad, 0.25, na.rm = TRUE)\n",
    "Q3 <- quantile(merged_data$Edad, 0.75, na.rm = TRUE)\n",
    "IQR <- Q3 - Q1\n",
    "\n",
    "# Calculate the lower and upper bounds\n",
    "lower_bound <- Q1 - 1.5 * IQR\n",
    "upper_bound <- Q3 + 1.5 * IQR\n",
    "\n",
    "# Identify the outliers\n",
    "outliers <- merged_data$Id[merged_data$Edad < lower_bound | merged_data$Edad > upper_bound]\n",
    "print(outliers)\n",
    "\n",
    "# Remove the outliers if desired\n",
    "# (in these cases, we will not remove them since they dont seem to be error)\n",
    "# merged_data <- merged_data[merged_data$Edad >= lower_bound & merged_data$Edad <= upper_bound, ]\n",
    "\n",
    "# New statistical summary of the variable Age\n",
    "# summary(merged_data$Edad)\n",
    "# New boxplot of the variable Age (without outliers)\n",
    "# boxplot(merged_data$Edad, main = \"Boxplot - Age (without outliers)\", ylab = \"Age\", col = \"lightgreen\")"
   ]
  },
  {
   "cell_type": "markdown",
   "id": "9e802cdc",
   "metadata": {},
   "source": [
    "### Variable Sex (*Sexo*)"
   ]
  },
  {
   "cell_type": "code",
   "execution_count": 14,
   "id": "8d7ef537",
   "metadata": {
    "vscode": {
     "languageId": "r"
    }
   },
   "outputs": [
    {
     "name": "stdout",
     "output_type": "stream",
     "text": [
      "[1] 0\n",
      "\n",
      "   0    1 \n",
      " 509 1651 \n"
     ]
    }
   ],
   "source": [
    "# Verify that the variable Sexo does not have null values\n",
    "print(sum(is.na(merged_data$Sexo)))\n",
    "\n",
    "# Check the different values of the variable Sexo\n",
    "print(table(merged_data$Sexo))\n",
    "# 2 is male and 1 is female"
   ]
  },
  {
   "cell_type": "markdown",
   "id": "0d3e0d78",
   "metadata": {},
   "source": [
    "### Variables Weight & Height (*Peso* &  *Talla*)"
   ]
  },
  {
   "cell_type": "code",
   "execution_count": 15,
   "id": "f88370fa",
   "metadata": {
    "vscode": {
     "languageId": "r"
    }
   },
   "outputs": [
    {
     "name": "stdout",
     "output_type": "stream",
     "text": [
      "[1] 25\n",
      "[1] 82\n"
     ]
    }
   ],
   "source": [
    "# First, we check the missing values of the variables Peso and Talla\n",
    "print(sum(is.na(merged_data$Peso)))\n",
    "print(sum(is.na(merged_data$Talla)))"
   ]
  },
  {
   "cell_type": "code",
   "execution_count": 16,
   "id": "063ec5c1",
   "metadata": {
    "vscode": {
     "languageId": "r"
    }
   },
   "outputs": [
    {
     "name": "stdout",
     "output_type": "stream",
     "text": [
      "[1] 9\n",
      "[1] 1033 1322 1398 1494 1612 1714 1759 1940 2046\n",
      "[1] 67\n",
      " [1]   91  176  349  430  544  551  749  771  772  775  776  893  918  925  927\n",
      "[16]  930  935  944  945  962  971  975  980  983  989  991 1033 1055 1151 1163\n",
      "[31] 1196 1223 1322 1340 1344 1346 1364 1372 1373 1398 1438 1453 1536 1537 1598\n",
      "[46] 1612 1630 1652 1670 1759 1767 1789 1808 1940 1988 1989 2027 2053 2064 2066\n",
      "[61] 2245 2247 2302 2312 2421 2446 2474\n"
     ]
    }
   ],
   "source": [
    "# In order to fill in the missing values of Peso and Talla:\n",
    "# Assign the value of the variable 'Peso.PSS' to 'Peso' when 'Peso' is NA\n",
    "merged_data$Peso[is.na(merged_data$Peso)] <- merged_data$Peso.PSS[is.na(merged_data$Peso)]\n",
    "\n",
    "# Assign the value of the variable 'Talla.PSS' to 'Talla' when 'Talla' is NA\n",
    "merged_data$Talla[is.na(merged_data$Talla)] <- merged_data$Talla.PSS[is.na(merged_data$Talla)]\n",
    "\n",
    "# Check if there are still missing values in Peso and Talla:\n",
    "print(sum(is.na(merged_data$Peso)))\n",
    "print(merged_data$Id[is.na(merged_data$Peso)])\n",
    "print(sum(is.na(merged_data$Talla)))\n",
    "print(merged_data$Id[is.na(merged_data$Talla)])\n"
   ]
  },
  {
   "cell_type": "code",
   "execution_count": 17,
   "id": "ef20ad8f",
   "metadata": {
    "vscode": {
     "languageId": "r"
    }
   },
   "outputs": [
    {
     "name": "stdout",
     "output_type": "stream",
     "text": [
      "IDs with weight difference greater than 10: 865 965 1097 \n",
      "IDs with height difference greater than 5: 965 1097 1264 \n",
      "       Id Peso Peso.PSS Talla Talla.PSS\n",
      "790   865   30       80   169       169\n",
      "882   965  170       90    90       170\n",
      "1001 1097   64      163   163         2\n",
      "1152 1264   77       77   162       168\n"
     ]
    }
   ],
   "source": [
    "# Now we look for outliers and data annomalies\n",
    "# Show the patients with a weight difference greater than 10 to check for outliers\n",
    "merged_data$diff_weight <- ifelse(\n",
    "    !is.na(merged_data$Peso) & !is.na(merged_data$Peso.PSS) & abs(merged_data$Peso - merged_data$Peso.PSS) > 10,\n",
    "    merged_data$Id,\n",
    "    NA\n",
    ")\n",
    "# Show the patients with a height difference greater than 5 to check for outliers\n",
    "merged_data$diff_height <- ifelse(\n",
    "    !is.na(merged_data$Talla) & !is.na(merged_data$Talla.PSS) & abs(merged_data$Talla - merged_data$Talla.PSS) > 5,\n",
    "    merged_data$Id,\n",
    "    NA\n",
    ")\n",
    "\n",
    "# Extract IDs with weight difference greater than 5\n",
    "ids_diff_weight <- merged_data$Id[!is.na(merged_data$diff_weight)]\n",
    "cat(\"IDs with weight difference greater than 10:\", ids_diff_weight, \"\\n\")\n",
    "# Extract IDs with height difference greater than 5\n",
    "ids_diff_height <- merged_data$Id[!is.na(merged_data$diff_height)]\n",
    "cat(\"IDs with height difference greater than 5:\", ids_diff_height, \"\\n\")\n",
    "\n",
    "# Print a table with weight and height for the identified IDs\n",
    "outlier_ids <- unique(c(ids_diff_weight, ids_diff_height))\n",
    "outlier_table <- merged_data[merged_data$Id %in% outlier_ids, c(\"Id\", \"Peso\", \"Peso.PSS\", \"Talla\", \"Talla.PSS\")]\n",
    "print(outlier_table)"
   ]
  },
  {
   "cell_type": "code",
   "execution_count": 18,
   "id": "68e16ef0",
   "metadata": {
    "vscode": {
     "languageId": "r"
    }
   },
   "outputs": [],
   "source": [
    "# Correct some of this data anomalies manually (after checking the database):\n",
    "\n",
    "# Patient ID 865:\n",
    "# Change the value of Peso from 30 (which seems to be incorrect) to the value\n",
    "# of Peso.PSS which is 80:\n",
    "merged_data$Peso[merged_data$Id == 865] <-  merged_data$Peso.PSS[merged_data$Id == 865]\n",
    "\n",
    "# Patient ID 965:\n",
    "# Exchange the values of Peso and Talla (which seems to be swapped):\n",
    "merged_data$Peso[merged_data$Id == 965] <- 90\n",
    "merged_data$Talla[merged_data$Id == 965] <- 170\n",
    "\n",
    "# Swap the values from Peso.PSS and Talla.PSS:\n",
    "merged_data$Peso.PSS[merged_data$Id == 1097] <- merged_data$Peso[merged_data$Id == 1097]\n",
    "merged_data$Talla.PSS[merged_data$Id == 1097] <- merged_data$Talla[merged_data$Id == 1097]\n",
    "\n",
    "\n",
    "# Patient with ID 1229:\n",
    "# Change the value of Peso.PSS to Peso and Talla.PSS to Talla:\n",
    "merged_data$Peso.PSS[merged_data$Id == 1229] <- merged_data$Peso[merged_data$Id == 1229]\n",
    "merged_data$Talla.PSS[merged_data$Id == 1229] <- merged_data$Talla[merged_data$Id == 1229]\n",
    "\n",
    "# Patient with ID 1264:\n",
    "# Correct height difference from a possible measure error,\n",
    "# as the average between Talla and Talla.PSS\n",
    "merged_data$Talla[merged_data$Id == 1264] <- mean(c(\n",
    "    merged_data$Talla[merged_data$Id == 1264],\n",
    "    merged_data$Talla.PSS[merged_data$Id == 1264]\n",
    "), na.rm = TRUE)\n",
    "\n",
    "# If running the previous code cell again, we can check that we\n",
    "# have corrected the anomalies in the data:\n"
   ]
  },
  {
   "cell_type": "code",
   "execution_count": null,
   "id": "a723a475",
   "metadata": {
    "vscode": {
     "languageId": "r"
    }
   },
   "outputs": [
    {
     "data": {
      "image/png": "[encoded data removed]",
      "text/plain": [
       "Plot with title \"Boxplot - Weight (Peso)\""
      ]
     },
     "metadata": {
      "image/png": {
       "height": 420,
       "width": 420
      }
     },
     "output_type": "display_data"
    }
   ],
   "source": [
    "# Boxplots for Talla (Height) and Peso (Weight) to look for outliers\n",
    "par(mfrow = c(1, 2))\n",
    "boxplot(merged_data$Talla, main = \"Boxplot - Height (Talla)\", ylab = \"Height (cm)\", col = \"lightgreen\")\n",
    "boxplot(merged_data$Peso, main = \"Boxplot - Weight (Peso)\", ylab = \"Weight (kg)\", col = \"lightblue\")\n",
    "par(mfrow = c(1, 1))"
   ]
  },
  {
   "cell_type": "markdown",
   "id": "c9fc584b",
   "metadata": {},
   "source": [
    "### Other Medical History Variables"
   ]
  },
  {
   "cell_type": "code",
   "execution_count": 19,
   "id": "66167014",
   "metadata": {
    "vscode": {
     "languageId": "r"
    }
   },
   "outputs": [
    {
     "name": "stdout",
     "output_type": "stream",
     "text": [
      "[1] 1\n",
      "\n",
      "   0    1 \n",
      "1296  863 \n"
     ]
    }
   ],
   "source": [
    "# FHxIHD - Family history of ischemic heart disease\n",
    "\n",
    "# Check that the HFdeC.isquemica variable does not have null values\n",
    "print(sum(is.na(merged_data$HFdeC.isquemica)))\n",
    "\n",
    "# Recategorize the values of the HFdeC.isquemica variable\n",
    "merged_data$HFdeC.isquemica <- ifelse(merged_data$HFdeC.isquemica == 1, 0,\n",
    "                                      ifelse(merged_data$HFdeC.isquemica == 2,\n",
    "                                             1, merged_data$HFdeC.isquemica))\n",
    "\n",
    "# Check the different values of the HFdeC.isquemica variable\n",
    "print(table(merged_data$HFdeC.isquemica)) # 0 is no and 1 is yes"
   ]
  },
  {
   "cell_type": "code",
   "execution_count": 20,
   "id": "87eca52b",
   "metadata": {
    "vscode": {
     "languageId": "r"
    }
   },
   "outputs": [
    {
     "name": "stdout",
     "output_type": "stream",
     "text": [
      "[1] 8\n",
      "[1] 733\n",
      "\n",
      "  1   2   3 \n",
      "608 958 593 \n"
     ]
    }
   ],
   "source": [
    "# SMK - Smoking status of the patient\n",
    "\n",
    "# Check if the Fumador variable has null values\n",
    "print(sum(is.na(merged_data$Fumador)))\n",
    "# Fill NAs in the Fumador variable with the values from Fumador.PSS\n",
    "merged_data$Fumador[is.na(merged_data$Fumador)] <- merged_data$Fumador.PSS[is.na(merged_data$Fumador)]\n",
    "# Check if there are still null values in the Fumador variable\n",
    "print(merged_data$Id[is.na(merged_data$Fumador)])\n",
    "\n",
    "# Check the distribution of the Fumador variable\n",
    "print(table(merged_data$Fumador))\n",
    "# 1 actual smoker, 2 former smoker, 3 never smoked"
   ]
  },
  {
   "cell_type": "code",
   "execution_count": 21,
   "id": "b6cdebe9",
   "metadata": {
    "vscode": {
     "languageId": "r"
    }
   },
   "outputs": [
    {
     "name": "stdout",
     "output_type": "stream",
     "text": [
      "[1] 4\n",
      "[1]  733 1172\n",
      "\n",
      "   0    1 \n",
      "1561  599 \n"
     ]
    }
   ],
   "source": [
    "# DM - Diabetes mellitus of the patient\n",
    "\n",
    "# Check if the Diabetes variable has null values\n",
    "print(sum(is.na(merged_data$Diabetes)))\n",
    "# Fill NAs in the Diabetes variable with the values from DiabetesPre.PSS\n",
    "merged_data$Diabetes[is.na(merged_data$Diabetes)] <- merged_data$DiabetesPre.PSS[is.na(merged_data$Diabetes)]\n",
    "# Check if there are still NAs in the Diabetes variable and print the Ids\n",
    "print(merged_data$Id[is.na(merged_data$Diabetes)])\n",
    "\n",
    "# Recategorize the values of the Diabetes variable\n",
    "merged_data$Diabetes <- ifelse(merged_data$Diabetes == 1, 0,\n",
    "                               ifelse(merged_data$Diabetes == 2,\n",
    "                                      1, merged_data$Diabetes))\n",
    "\n",
    "# Correct some values with the information provided by the expert\n",
    "merged_data$Diabetes[merged_data$Id == 733] <- 1\n",
    "# merged_data$Diabetes[merged_data$Id == 1099] <- 1\n",
    "merged_data$Diabetes[merged_data$Id == 1172] <- 0\n",
    "# merged_data$Diabetes[merged_data$Id == 1546] <- 1\n",
    "# merged_data$Diabetes[merged_data$Id == 1602] <- 0 # Este está igual\n",
    "# merged_data$Diabetes[merged_data$Id == 1740] <- 1 # Este está igual\n",
    "\n",
    "# Check the different values of the Diabetes variable\n",
    "print(table(merged_data$Diabetes)) # 0 is no and 1 is yes"
   ]
  },
  {
   "cell_type": "code",
   "execution_count": 22,
   "id": "6d229a3c",
   "metadata": {
    "vscode": {
     "languageId": "r"
    }
   },
   "outputs": [
    {
     "name": "stdout",
     "output_type": "stream",
     "text": [
      "[1] 4\n",
      "[1]  733 1172 1234 1841\n",
      "\n",
      "   0    1 \n",
      " 746 1410 \n"
     ]
    }
   ],
   "source": [
    "# HTN - Hypertension\n",
    "\n",
    "# Check if the Hipertension variable has null values\n",
    "print(sum(is.na(merged_data$Hipertension)))\n",
    "print(merged_data$Id[is.na(merged_data$Hipertension)])\n",
    "\n",
    "# Recategorize the values of the Hipertension variable\n",
    "merged_data$Hipertension <- ifelse(merged_data$Hipertension == 1, 0,\n",
    "                                   ifelse(merged_data$Hipertension == 2,\n",
    "                                          1, merged_data$Hipertension))\n",
    "\n",
    "# Check the different values of the Hipertension variable\n",
    "print(table(merged_data$Hipertension)) # 0 is no and 1 is yes"
   ]
  },
  {
   "cell_type": "code",
   "execution_count": 23,
   "id": "816a0c2b",
   "metadata": {
    "vscode": {
     "languageId": "r"
    }
   },
   "outputs": [
    {
     "name": "stdout",
     "output_type": "stream",
     "text": [
      "[1] 11\n",
      "[1]  733 1172\n",
      "\n",
      "   0    1 \n",
      " 823 1335 \n"
     ]
    }
   ],
   "source": [
    "# DLP - Dyslipidemia\n",
    "\n",
    "# Check if the Dislipemia variable has null values\n",
    "print(sum(is.na(merged_data$Dislipemia)))\n",
    "# Fill NAs in the Dislipemia variable with the values from DislipemiaPre.PSS\n",
    "merged_data$Dislipemia[is.na(merged_data$Dislipemia)] <- merged_data$Dislipemiaalta.PSS[is.na(merged_data$Dislipemia)]\n",
    "# Check if there are still NAs and print the Ids\n",
    "print(merged_data$Id[is.na(merged_data$Dislipemia)])\n",
    "\n",
    "# Recategorize the values of the Dislipemia variable\n",
    "merged_data$Dislipemia <- ifelse(merged_data$Dislipemia == 1, 0,\n",
    "                                 ifelse(merged_data$Dislipemia == 2,\n",
    "                                        1, merged_data$Dislipemia))\n",
    "\n",
    "# Check the different values of the Dislipemia variable\n",
    "print(table(merged_data$Dislipemia)) # 0 is no and 1 is yes"
   ]
  },
  {
   "cell_type": "code",
   "execution_count": 24,
   "id": "85366cc1",
   "metadata": {
    "vscode": {
     "languageId": "r"
    }
   },
   "outputs": [
    {
     "name": "stdout",
     "output_type": "stream",
     "text": [
      "[1] 14\n",
      " [1]   13   45   46   53   80   90  320  420  457  488  539  542  733 1841\n",
      "\n",
      "   0    1 \n",
      "1922  224 \n"
     ]
    }
   ],
   "source": [
    "# CKD - Chronic kidney disease\n",
    "\n",
    "# Check that the variable IRC does not have null values\n",
    "print(sum(is.na(merged_data$IRC)))\n",
    "\n",
    "# Print the list of Id values of the records that do not have a value in this variable\n",
    "list_irc <- merged_data$Id[is.na(merged_data$IRC)]\n",
    "print(list_irc)\n",
    "\n",
    "# Recategorize the values of the IRC variable\n",
    "merged_data$IRC <- ifelse(merged_data$IRC == 1, 0,\n",
    "                          ifelse(merged_data$IRC == 2, 1, merged_data$IRC))\n",
    "\n",
    "# Check the different values of the IRC variable\n",
    "print(table(merged_data$IRC))"
   ]
  },
  {
   "cell_type": "code",
   "execution_count": 25,
   "id": "4281e8be",
   "metadata": {
    "vscode": {
     "languageId": "r"
    }
   },
   "outputs": [
    {
     "name": "stdout",
     "output_type": "stream",
     "text": [
      "[1] 4\n",
      "[1]  611  703  733 1841\n",
      "\n",
      "   0    1 \n",
      "1740  416 \n"
     ]
    }
   ],
   "source": [
    "# PMI - Previous myocardial infarction\n",
    "\n",
    "# Check that the InfartoAntiguo variable does not have null values\n",
    "print(sum(is.na(merged_data$InfartoAntiguo)))\n",
    "print(merged_data$Id[is.na(merged_data$InfartoAntiguo)])\n",
    "\n",
    "# Recategorize the values of the InfartoAntiguo variable\n",
    "merged_data$InfartoAntiguo <- ifelse(merged_data$InfartoAntiguo == 1, 0,\n",
    "                                     ifelse(merged_data$InfartoAntiguo == 2,\n",
    "                                            1, merged_data$InfartoAntiguo))\n",
    "\n",
    "# Check the different values of the InfartoAntiguo variable\n",
    "print(table(merged_data$InfartoAntiguo))"
   ]
  },
  {
   "cell_type": "code",
   "execution_count": 26,
   "id": "d347273f",
   "metadata": {
    "vscode": {
     "languageId": "r"
    }
   },
   "outputs": [
    {
     "name": "stdout",
     "output_type": "stream",
     "text": [
      "[1] 16\n",
      "[1] 733\n",
      "\n",
      "   0    1 \n",
      "2112   47 \n"
     ]
    }
   ],
   "source": [
    "# PCS - Previous Coronary Surgery\n",
    "\n",
    "# Check if the QXcoronariapre variable has null values\n",
    "print(sum(is.na(merged_data$QXcoronariapre)))\n",
    "# Fill NAs in the QXcoronariapre variable with the values from Qxpre.PSS\n",
    "merged_data$QXcoronariapre[is.na(merged_data$QXcoronariapre)] <- merged_data$Qxpre.PSS[is.na(merged_data$QXcoronariapre)]\n",
    "# Check if there are still NAs in the QXcoronariapre variable and print the Ids\n",
    "print(merged_data$Id[is.na(merged_data$QXcoronariapre)])\n",
    "\n",
    "# Recategorize the values of the QXcoronariapre variable\n",
    "merged_data$QXcoronariapre <- ifelse(merged_data$QXcoronariapre == 1, 0,\n",
    "                                     ifelse(merged_data$QXcoronariapre == 2,\n",
    "                                            1, merged_data$QXcoronariapre))\n",
    "\n",
    "# Check the different values of the QXcoronariapre variable\n",
    "print(table(merged_data$QXcoronariapre))"
   ]
  },
  {
   "cell_type": "code",
   "execution_count": 27,
   "id": "a6f0bb9a",
   "metadata": {
    "vscode": {
     "languageId": "r"
    }
   },
   "outputs": [
    {
     "name": "stdout",
     "output_type": "stream",
     "text": [
      "[1] 8\n",
      "[1]  733 1055\n",
      "\n",
      "   0    1 \n",
      "1567  591 \n"
     ]
    }
   ],
   "source": [
    "# PMxPCI - Previous PCI (Percutaneous Coronary Intervention)\n",
    "\n",
    "# Check if the ACTPprevia variable has null values\n",
    "print(sum(is.na(merged_data$ACTPprevia)))\n",
    "# Fill NAs in the ACTPprevia variable with the values from ACTPpre.PSS\n",
    "merged_data$ACTPprevia[is.na(merged_data$ACTPprevia)] <- merged_data$ACTPpre.PSS[is.na(merged_data$ACTPprevia)]\n",
    "# Check if there are still NAs in the ACTPprevia variable and print the Ids\n",
    "print(merged_data$Id[is.na(merged_data$ACTPprevia)])\n",
    "\n",
    "# Recategorize the values of the ACTPprevia variable\n",
    "merged_data$ACTPprevia <- ifelse(merged_data$ACTPprevia == 1, 0,\n",
    "                                 ifelse(merged_data$ACTPprevia == 2,\n",
    "                                        1, merged_data$ACTPprevia))\n",
    "\n",
    "# Check the different values of the ACTPprevia variable\n",
    "print(table(merged_data$ACTPprevia))"
   ]
  },
  {
   "cell_type": "code",
   "execution_count": 28,
   "id": "adea18a7",
   "metadata": {
    "vscode": {
     "languageId": "r"
    }
   },
   "outputs": [
    {
     "name": "stdout",
     "output_type": "stream",
     "text": [
      "[1] 19\n",
      "\n",
      "   0    1 \n",
      "1948  193 \n"
     ]
    }
   ],
   "source": [
    "# PAD - Peripheral Arterial Disease\n",
    "\n",
    "# Check if the EnfArtPerif.pre variable has null values\n",
    "print(sum(is.na(merged_data$EnfArtPerif.pre)))\n",
    "\n",
    "# Recategorize the values of the EnfArtPerif.pre variable\n",
    "merged_data$EnfArtPerif.pre <- ifelse(merged_data$EnfArtPerif.pre == 1, 0,\n",
    "                                      ifelse(merged_data$EnfArtPerif.pre == 2,\n",
    "                                             1, merged_data$EnfArtPerif.pre))\n",
    "\n",
    "# Check the different values of the EnfArtPerif.pre variable\n",
    "print(table(merged_data$EnfArtPerif.pre))"
   ]
  },
  {
   "cell_type": "code",
   "execution_count": 29,
   "id": "c436caa4",
   "metadata": {
    "vscode": {
     "languageId": "r"
    }
   },
   "outputs": [
    {
     "name": "stdout",
     "output_type": "stream",
     "text": [
      "[1] 31\n",
      "[1]  733 1172\n",
      "\n",
      "   0    1 \n",
      "2046  112 \n"
     ]
    }
   ],
   "source": [
    "# STK - Stroke\n",
    "\n",
    "# Check if the ACVpre variable has null values\n",
    "print(sum(is.na(merged_data$ACVpre)))\n",
    "# Fill NAs in the ACVpre variable with the values from IctusPre.PSS\n",
    "merged_data$ACVpre[is.na(merged_data$ACVpre)] <- merged_data$IctusPre.PSS[is.na(merged_data$ACVpre)]\n",
    "# Check if there are still NAs in the ACVpre variable and print the Ids\n",
    "print(merged_data$Id[is.na(merged_data$ACVpre)])\n",
    "\n",
    "# If ACVpre is 1 it means that the patient hasn't had a stroke, if it is a value different from 1 it means that the patient has had a stroke (not null)\n",
    "merged_data$ACVpre <- ifelse(merged_data$ACVpre == 1, 0,\n",
    "                             ifelse(!is.na(merged_data$ACVpre), 1, merged_data$ACVpre))\n",
    "# We check the different values of the ACVpre variable\n",
    "print(table(merged_data$ACVpre))"
   ]
  },
  {
   "cell_type": "code",
   "execution_count": 30,
   "id": "edf5f736",
   "metadata": {
    "vscode": {
     "languageId": "r"
    }
   },
   "outputs": [
    {
     "name": "stdout",
     "output_type": "stream",
     "text": [
      "[1] 29\n",
      " [1]    7   41   56   76  191  192  335  515  607  611  640  641  642  643  733\n",
      "[16]  766  773  779  804  880 1009 1838 1841 2084 2092 2100 2112 2298 2364\n",
      "\n",
      "   1    2 \n",
      " 927 1233 \n"
     ]
    }
   ],
   "source": [
    "# HMG - Hemoglobin\n",
    "\n",
    "# Check if the HBpreKT variable has null values\n",
    "print(sum(is.na(merged_data$HBpreKT)))\n",
    "print(merged_data$Id[is.na(merged_data$HBpreKT)])\n",
    "\n",
    "# We categorize the variable into 2 categories. 1 for normal levels and 2 for non-normal levels.\n",
    "# If Sexo = 1 (woman), normal hemoglobin levels are between 12.1 and 15.1 g/dL\n",
    "# If Sexo = 2 (man), normal hemoglobin levels are between 13.8 and 17.2 g/dL\n",
    "\n",
    "merged_data$Hemoglobin <- 2\n",
    "# Update values for females (Sexo = 1) and normal hemoglobin levels\n",
    "merged_data$Hemoglobin[merged_data$Sexo == 1 &\n",
    "                   merged_data$HBpreKT >= 12.1 &\n",
    "                   merged_data$HBpreKT <= 15.1] <- 1\n",
    "# Update values for males (Sexo = 2) and normal hemoglobin levels\n",
    "merged_data$Hemoglobin[merged_data$Sexo == 2 &\n",
    "                   merged_data$HBpreKT >= 13.8 &\n",
    "                   merged_data$HBpreKT <= 17.2] <- 1\n",
    "# Check the distribution of the Hemoglobin variable\n",
    "print(table(merged_data$Hemoglobin))"
   ]
  },
  {
   "cell_type": "markdown",
   "id": "a32161d2",
   "metadata": {},
   "source": [
    "### Socioeconomic Variables"
   ]
  },
  {
   "cell_type": "code",
   "execution_count": 31,
   "id": "31ed1dda",
   "metadata": {
    "vscode": {
     "languageId": "r"
    }
   },
   "outputs": [
    {
     "name": "stdout",
     "output_type": "stream",
     "text": [
      "[1] 12\n",
      " [1]  305  375  625  733  776 1288 1745 1886 1946 1962 1966 1971\n",
      "\n",
      "   1    2    3    4 \n",
      " 190 1519  222  217 \n",
      "\n",
      "   1    2 \n",
      "1519  629 \n"
     ]
    }
   ],
   "source": [
    "# MS - Marital status\n",
    "\n",
    "# Check if there are null values in the EstadoCivil variable\n",
    "print(sum(is.na(merged_data$EstadoCivil)))\n",
    "\n",
    "# Print the list of Id values of the records that do not have a value in this variable\n",
    "list_estadocivil <- merged_data$Id[is.na(merged_data$EstadoCivil)]\n",
    "print(list_estadocivil)\n",
    "\n",
    "# Check the different values of the EstadoCivil variable\n",
    "print(table(merged_data$EstadoCivil))\n",
    "# 1 single, 2 married, 3 divorced, 4 widowed\n",
    "\n",
    "# # Remove the row with the null value\n",
    "# merged_data <- merged_data[!is.na(merged_data$EstadoCivil), ]\n",
    "\n",
    "# Recategorize EstadoCivil: 1 for married, 2 for single/divorced/widowed\n",
    "merged_data$EstadoCivil <- ifelse(merged_data$EstadoCivil == 2, 1, 2)\n",
    "\n",
    "# Check the new distribution of the EstadoCivil variable\n",
    "print(table(merged_data$EstadoCivil))\n"
   ]
  },
  {
   "cell_type": "code",
   "execution_count": 32,
   "id": "a7732e4e",
   "metadata": {
    "vscode": {
     "languageId": "r"
    }
   },
   "outputs": [
    {
     "name": "stdout",
     "output_type": "stream",
     "text": [
      "[1] 20\n",
      " [1]   54   56  305  375  625  701  733  776  803 1006 1288 1416 1595 1745 1751\n",
      "[16] 1886 1946 1962 1966 1971\n",
      "\n",
      "   1    2    3    4 \n",
      " 300 1825    3   12 \n",
      "\n",
      "   0    1 \n",
      "1840  300 \n"
     ]
    }
   ],
   "source": [
    "# LA - Lives alone\n",
    "\n",
    "# Check if there are null values in the variable ConQuienVive.PSS\n",
    "print(sum(is.na(merged_data$ConQuienVive.PSS)))\n",
    "\n",
    "# Print the list of Id values of the records that do not have a value in this variable\n",
    "list_conquienvive <- merged_data$Id[is.na(merged_data$ConQuienVive.PSS)]\n",
    "print(list_conquienvive)\n",
    "\n",
    "# Check the different values of the ConQuienVive.PSS variable\n",
    "print(table(merged_data$ConQuienVive.PSS))\n",
    "# 1 lives alone, 2 lives with family, 3 lives at residence, 4 other\n",
    "\n",
    "# # Remove the row with the null value\n",
    "# merged_data <- merged_data[!is.na(merged_data$ConQuienVive.PSS), ]\n",
    "\n",
    "# Recategorize ConQuienVive.PSS: 1 for lives alone, 0 for lives with family/at residence/other\n",
    "merged_data$ConQuienVive.PSS <- ifelse(merged_data$ConQuienVive.PSS == 1, 1, 0)\n",
    "\n",
    "# Check the new distribution of the ConQuienVive.PSS variable\n",
    "print(table(merged_data$ConQuienVive.PSS))"
   ]
  },
  {
   "cell_type": "code",
   "execution_count": 33,
   "id": "8912f814",
   "metadata": {
    "vscode": {
     "languageId": "r"
    }
   },
   "outputs": [
    {
     "name": "stdout",
     "output_type": "stream",
     "text": [
      "[1] 24\n",
      " [1]   54   56  305  375  625  733  776  801  930  933  946  947 1071 1228 1238\n",
      "[16] 1256 1288 1595 1745 1886 1946 1962 1966 1971\n",
      "\n",
      "   0    1 \n",
      "  55 2081 \n"
     ]
    }
   ],
   "source": [
    "# SUP - Family support\n",
    "\n",
    "# Check if there are null values in the ApoyoFamiliar variable\n",
    "print(sum(is.na(merged_data$ApoyoFamiliar)))\n",
    "\n",
    "# Print the list of Id values of the records that do not have a value in this variable\n",
    "list_apoyofamiliar <- merged_data$Id[is.na(merged_data$ApoyoFamiliar)]\n",
    "print(list_apoyofamiliar)\n",
    "\n",
    "# Recategorize the values of the ApoyoFamiliar variable\n",
    "merged_data$ApoyoFamiliar <- ifelse(merged_data$ApoyoFamiliar == 1, 0,\n",
    "                                    ifelse(merged_data$ApoyoFamiliar == 2,\n",
    "                                           1, merged_data$ApoyoFamiliar))\n",
    "\n",
    "# Check the different values of the ApoyoFamiliar variable\n",
    "print(table(merged_data$ApoyoFamiliar))\n",
    "\n",
    "# # Remove the row with the null value\n",
    "# merged_data <- merged_data[!is.na(merged_data$ApoyoFamiliar), ]"
   ]
  },
  {
   "cell_type": "code",
   "execution_count": 34,
   "id": "e8928da4",
   "metadata": {
    "vscode": {
     "languageId": "r"
    }
   },
   "outputs": [
    {
     "name": "stdout",
     "output_type": "stream",
     "text": [
      "[1] 12\n",
      " [1]  305  375  625  733  776 1288 1745 1886 1946 1962 1966 1971\n",
      "\n",
      "   1    2 \n",
      "1235  913 \n"
     ]
    }
   ],
   "source": [
    "# RES - Residence\n",
    "\n",
    "# Check if there are null values in the variable LugarResidencia.PSS\n",
    "print(sum(is.na(merged_data$LugarResidencia.PSS)))\n",
    "\n",
    "# Print the list of Id values of the records that do not have a value in this variable\n",
    "list_lugarresidencia <- merged_data$Id[is.na(merged_data$LugarResidencia.PSS)]\n",
    "print(list_lugarresidencia)\n",
    "\n",
    "# Check the different values of the LugarResidencia.PSS variable\n",
    "print(table(merged_data$LugarResidencia.PSS))\n",
    "# 1 rural, 2 urban (>= 2500 inhabitants)"
   ]
  },
  {
   "cell_type": "code",
   "execution_count": 35,
   "id": "3c3e98c4",
   "metadata": {
    "vscode": {
     "languageId": "r"
    }
   },
   "outputs": [
    {
     "name": "stdout",
     "output_type": "stream",
     "text": [
      "[1] 13\n",
      " [1]  305  375  625  733  776 1288 1745 1886 1946 1962 1966 1971 2111\n",
      "\n",
      "   1    2    3    4 \n",
      " 129 1105  563  350 \n",
      "\n",
      "   1    2 \n",
      "1234  926 \n"
     ]
    }
   ],
   "source": [
    "# STU - Studies\n",
    "\n",
    "# Check if there are null values in the variable NivelEstudios.PSS\n",
    "print(sum(is.na(merged_data$NivelEstudios.PSS)))\n",
    "\n",
    "# Print the list of Id values of the records that do not have a value in this variable\n",
    "list_nivelestudios <- merged_data$Id[is.na(merged_data$NivelEstudios.PSS)]\n",
    "print(list_nivelestudios)\n",
    "\n",
    "# Check the different values of the NivelEstudios.PSS variable\n",
    "print(table(merged_data$NivelEstudios.PSS))\n",
    "# 1 no studies, 2 primary, 3 VET, 4 university\n",
    "\n",
    "# Recategorize NivelEstudios.PSS: 1 for no/primary studies, 2 for secondary/university\n",
    "merged_data$NivelEstudios.PSS <- ifelse(merged_data$NivelEstudios.PSS %in% c(1, 2), 1, 2)\n",
    "\n",
    "# Check the new distribution of the NivelEstudios.PSS variable\n",
    "print(table(merged_data$NivelEstudios.PSS))"
   ]
  },
  {
   "cell_type": "code",
   "execution_count": 36,
   "id": "02eaa9a1",
   "metadata": {
    "vscode": {
     "languageId": "r"
    }
   },
   "outputs": [
    {
     "name": "stdout",
     "output_type": "stream",
     "text": [
      "[1] 12\n",
      " [1]  305  375  625  733  776 1288 1745 1886 1946 1962 1966 1971\n",
      "\n",
      "   2    3    4 \n",
      " 625  132 1391 \n",
      "\n",
      "   1    2 \n",
      "1523  637 \n"
     ]
    }
   ],
   "source": [
    "# OCC - Occupation\n",
    "\n",
    "# Check if there are null values in the variable Ocupacion.PSS\n",
    "print(sum(is.na(merged_data$Ocupacion.PSS)))\n",
    "\n",
    "# Print the list of Id values of the records that do not have a value in this variable\n",
    "list_ocupacion <- merged_data$Id[is.na(merged_data$Ocupacion.PSS)]\n",
    "print(list_ocupacion)\n",
    "\n",
    "# Check the different values of the Ocupacion.PSS variable\n",
    "print(table(merged_data$Ocupacion.PSS))\n",
    "# 1 student, 2 active worker, 3 unemployed, 4 retired\n",
    "\n",
    "# Recategorize Ocupacion.PSS: 1 for unemployed/retired, 2 for student/active worker\n",
    "merged_data$Ocupacion.PSS <- ifelse(merged_data$Ocupacion.PSS %in% c(3, 4), 1, 2)\n",
    "\n",
    "# Check the new distribution of the Ocupacion.PSS variable\n",
    "print(table(merged_data$Ocupacion.PSS))"
   ]
  },
  {
   "cell_type": "code",
   "execution_count": 37,
   "id": "84ae12c2",
   "metadata": {
    "vscode": {
     "languageId": "r"
    }
   },
   "outputs": [
    {
     "name": "stdout",
     "output_type": "stream",
     "text": [
      "[1] 16\n",
      " [1]  305  375  625  733  776 1082 1288 1378 1745 1818 1886 1946 1962 1966 1971\n",
      "[16] 2341\n",
      "\n",
      "   1    2 \n",
      " 659 1485 \n"
     ]
    }
   ],
   "source": [
    "# WT - Type of work\n",
    "\n",
    "# Check if there are null values in the variable TipoTrabajo.PSS\n",
    "print(sum(is.na(merged_data$TipoTrabajo.PSS)))\n",
    "\n",
    "# Print the list of Id values of the records that do not have a value in this variable\n",
    "list_tipotrabajo <- merged_data$Id[is.na(merged_data$TipoTrabajo.PSS)]\n",
    "print(list_tipotrabajo)\n",
    "\n",
    "# Check the different values of the TipoTrabajo.PSS variable\n",
    "print(table(merged_data$TipoTrabajo.PSS))\n",
    "# 1 white collar, 2 blue collar"
   ]
  },
  {
   "cell_type": "code",
   "execution_count": 38,
   "id": "7e6aa799",
   "metadata": {
    "vscode": {
     "languageId": "r"
    }
   },
   "outputs": [
    {
     "name": "stdout",
     "output_type": "stream",
     "text": [
      "[1] 9\n"
     ]
    },
    {
     "name": "stdout",
     "output_type": "stream",
     "text": [
      "[1]   23   25  151  233  305  651  733  776 1288\n",
      "\n",
      "   0    1 \n",
      " 762 1389 \n"
     ]
    }
   ],
   "source": [
    "# EX - Exercise\n",
    "\n",
    "# Check if there are null values in the Ejercicio.PSS variable\n",
    "print(sum(is.na(merged_data$Ejercicio.PSS)))\n",
    "\n",
    "# Print the list of Id values of the records that do not have a value in this variable\n",
    "list_ejercicio <- merged_data$Id[is.na(merged_data$Ejercicio.PSS)]\n",
    "print(list_ejercicio)\n",
    "\n",
    "# Recategorize the values of the Ejercicio.PSS variable\n",
    "merged_data$Ejercicio.PSS <- ifelse(merged_data$Ejercicio.PSS == 1, 0,\n",
    "                                    ifelse(merged_data$Ejercicio.PSS == 2,\n",
    "                                           1, merged_data$Ejercicio.PSS))\n",
    "\n",
    "# Check the different values of the Ejercicio.PSS variable\n",
    "print(table(merged_data$Ejercicio.PSS))"
   ]
  },
  {
   "cell_type": "code",
   "execution_count": 39,
   "id": "c9a58b42",
   "metadata": {
    "vscode": {
     "languageId": "r"
    }
   },
   "outputs": [
    {
     "name": "stdout",
     "output_type": "stream",
     "text": [
      "[1] 25\n",
      " [1]   11   14   15   16   23   32   47  127  229  230  305  375  578  625  733\n",
      "[16]  776 1094 1249 1288 1745 1886 1946 1962 1966 1971\n",
      "\n",
      "   1    2    3 \n",
      " 949 1073  113 \n",
      "\n",
      "   1    2 \n",
      " 949 1186 \n"
     ]
    }
   ],
   "source": [
    "# HW - Housework\n",
    "\n",
    "# Check if there are null values in the TareasHogar.PSS variable\n",
    "print(sum(is.na(merged_data$TareasHogar.PSS)))\n",
    "\n",
    "# Print the list of Id values of the records that do not have a value in this variable\n",
    "list_tareashogar <- merged_data$Id[is.na(merged_data$TareasHogar.PSS)]\n",
    "print(list_tareashogar)\n",
    "\n",
    "# Check the different values of the TareasHogar.PSS variable\n",
    "print(table(merged_data$TareasHogar.PSS))\n",
    "# 1 does housework, 2 done by family, 3 done by caretaker\n",
    "\n",
    "# # Remove the row with the null value\n",
    "# merged_data <- merged_data[!is.na(merged_data$TareasHogar.PSS), ]\n",
    "\n",
    "# Recategorize TareasHogar.PSS: 1 for does housework, 2 for does not do housework\n",
    "merged_data$TareasHogar.PSS <- ifelse(merged_data$TareasHogar.PSS == 1, 1, 2)\n",
    "\n",
    "# Check the new distribution of the TareasHogar.PSS variable\n",
    "print(table(merged_data$TareasHogar.PSS))"
   ]
  },
  {
   "cell_type": "code",
   "execution_count": 40,
   "id": "4ac53b85",
   "metadata": {
    "vscode": {
     "languageId": "r"
    }
   },
   "outputs": [
    {
     "name": "stdout",
     "output_type": "stream",
     "text": [
      "[1] 17\n",
      " [1]   38  305  375  625  733  776  939 1249 1288 1332 1745 1886 1946 1962 1966\n",
      "[16] 1971 1976\n",
      "\n",
      "   0    1 \n",
      "1331  812 \n"
     ]
    }
   ],
   "source": [
    "# PET - Pet ownership (¿Tiene mascota?)\n",
    "\n",
    "# Check if there are null values in the ¿Tiene mascota? variable\n",
    "print(sum(is.na(merged_data$'¿Tiene mascota?')))\n",
    "\n",
    "# Print the list of Id values of the records that do not have a value in this variable\n",
    "list_tienemascota <- merged_data$Id[is.na(merged_data$'¿Tiene mascota?')]\n",
    "print(list_tienemascota)\n",
    "\n",
    "# Recategorize ¿Tiene mascota?: 1 for has pet, 0 for does not have pet\n",
    "merged_data$'¿Tiene mascota?' <- ifelse(merged_data$'¿Tiene mascota?' == 1, 0,\n",
    "                                   ifelse(merged_data$'¿Tiene mascota?' == 2,\n",
    "                                          1, merged_data$'¿Tiene mascota?'))\n",
    "\n",
    "# Check the distribution of the ¿Tiene mascota? variable\n",
    "print(table(merged_data$'¿Tiene mascota?')) # 0 no, 1 yes"
   ]
  },
  {
   "cell_type": "code",
   "execution_count": 41,
   "id": "7eeb6fc6",
   "metadata": {
    "vscode": {
     "languageId": "r"
    }
   },
   "outputs": [
    {
     "name": "stdout",
     "output_type": "stream",
     "text": [
      "[1] 16\n",
      " [1]   30  305  375  625  733  776  971 1249 1288 1349 1745 1886 1946 1962 1966\n",
      "[16] 1971\n",
      "\n",
      "  0   1   2   3   4   5   6   7   8  10 \n",
      "292 404 828 393 141  56  19   3   7   1 \n",
      "\n",
      "   0    1 \n",
      " 292 1852 \n"
     ]
    }
   ],
   "source": [
    "# CHI - Children\n",
    "\n",
    "# Check if there are null values in the NHijos.PSS variable\n",
    "print(sum(is.na(merged_data$NHijos.PSS)))\n",
    "\n",
    "# Print the list of Id values of the records that do not have a value in this variable\n",
    "list_nhijos <- merged_data$Id[is.na(merged_data$NHijos.PSS)]\n",
    "print(list_nhijos)\n",
    "\n",
    "# Check the different values of the NHijos.PSS variable\n",
    "print(table(merged_data$NHijos.PSS))\n",
    "\n",
    "# Recategorize NHijos.PSS: 1 for has children, 0 for does not have children\n",
    "merged_data$NHijos.PSS <- ifelse(merged_data$NHijos.PSS == 0, 0, 1)\n",
    "\n",
    "# Check the distribution of the NHijos.PSS variable\n",
    "print(table(merged_data$NHijos.PSS)) # 0 no, 1 yes"
   ]
  },
  {
   "cell_type": "code",
   "execution_count": 42,
   "id": "3191c162",
   "metadata": {
    "vscode": {
     "languageId": "r"
    }
   },
   "outputs": [
    {
     "name": "stdout",
     "output_type": "stream",
     "text": [
      "[1] 28\n",
      " [1]    7    9   30   90  305  375  625  733  776  971  993 1058 1249 1252 1257\n",
      "[16] 1288 1346 1349 1473 1603 1745 1886 1946 1959 1962 1966 1971 2278\n",
      "\n",
      "   0    1    2    3    4    5    6    7    8    9   10   11   12   13   14   15 \n",
      "1000  224  315  188  143  105   56   29   29   18   11    3    4    4    1    1 \n",
      "  29 \n",
      "   1 \n",
      "\n",
      "   0    1 \n",
      "1000 1132 \n"
     ]
    }
   ],
   "source": [
    "# GCHI - Grandchildren\n",
    "\n",
    "# Check if there are null values in the NNietos.PSS variable\n",
    "print(sum(is.na(merged_data$NNietos.PSS)))\n",
    "\n",
    "# Print the list of Id values of the records that do not have a value in this variable\n",
    "list_nnietos <- merged_data$Id[is.na(merged_data$NNietos.PSS)]\n",
    "print(list_nnietos)\n",
    "\n",
    "# Check the different values of the NNietos.PSS variable\n",
    "print(table(merged_data$NNietos.PSS))\n",
    "\n",
    "# Recategorize NNietos.PSS: 1 for has grandchildren, 0 for does not have grandchildren\n",
    "merged_data$NNietos.PSS <- ifelse(merged_data$NNietos.PSS == 0, 0, 1)\n",
    "\n",
    "# Check the distribution of the NNietos.PSS variable\n",
    "print(table(merged_data$NNietos.PSS)) # 0 no, 1 yes"
   ]
  },
  {
   "cell_type": "code",
   "execution_count": 43,
   "id": "bd01acee",
   "metadata": {
    "vscode": {
     "languageId": "r"
    }
   },
   "outputs": [
    {
     "name": "stdout",
     "output_type": "stream",
     "text": [
      "\n",
      "   0    1 \n",
      "1534  626 \n"
     ]
    }
   ],
   "source": [
    "# SN - Has Social Networks\n",
    "\n",
    "# Create a new variable SocialNetworks: 1 if the patient uses any social network, 0 otherwise\n",
    "merged_data$SocialNetworks <- apply(\n",
    "    merged_data[, c('Facebook.PSS', 'Twitter.PSS', 'Youtube.PSS', 'LinkeDin.PSS', 'Spotify.PSS', 'OtrasRedes.PSS', 'UsaSkype')],\n",
    "    1,\n",
    "    function(x) ifelse(any(x == 1, na.rm = TRUE) | (!is.na(x['OtrasRedes.PSS']) && x['OtrasRedes.PSS'] == 1), 1, 0)\n",
    ")\n",
    "\n",
    "# Check the distribution of the SocialNetworks variable\n",
    "print(table(merged_data$SocialNetworks)) # 0 no, 1 yes"
   ]
  },
  {
   "cell_type": "code",
   "execution_count": 44,
   "id": "03679d46",
   "metadata": {
    "vscode": {
     "languageId": "r"
    }
   },
   "outputs": [
    {
     "name": "stdout",
     "output_type": "stream",
     "text": [
      "\n",
      "   0    1 \n",
      "  20 2140 \n"
     ]
    }
   ],
   "source": [
    "# HOB - Has hobbies\n",
    "\n",
    "# Create a new variable HasHobbies: 1 if the patient has any hobby, 0 otherwise\n",
    "hobby_vars <- c(\n",
    "    \"Familia.Aficc.PSS\", \"TV.Aficc.PSS\", \"Amigos.Aficc.PSS\", \"Musica.Aficc.PSS\",\n",
    "    \"Lectura.Aficc.PSS\", \"Radio.Aficc.PSS\", \"Compras.Aficc.PSS\", \"Cine.Aficc.PSS\",\n",
    "    \"Campo.Aficc.PSS\", \"VerDeportes.Aficc.PSS\", \"Bailar.Aficc.PSS\", \"Cultura.Aficc.PSS\",\n",
    "    \"SalirComer.Aficc.PSS\", \"Pub.Aficc.PSS\", \"Otros.Aficc.PSS\"\n",
    ")\n",
    "\n",
    "merged_data$HasHobbies <- apply(\n",
    "    merged_data[, hobby_vars],\n",
    "    1,\n",
    "    function(x) ifelse(any(x == 1, na.rm = TRUE), 1, 0)\n",
    ")\n",
    "\n",
    "# Check the distribution of the HasHobbies variable\n",
    "print(table(merged_data$HasHobbies)) # 0 no, 1 yes"
   ]
  },
  {
   "cell_type": "code",
   "execution_count": 45,
   "id": "326b141e",
   "metadata": {
    "vscode": {
     "languageId": "r"
    }
   },
   "outputs": [
    {
     "name": "stdout",
     "output_type": "stream",
     "text": [
      "[1] 12\n",
      " [1]  305  375  625  776 1028 1288 1745 1886 1946 1962 1966 1971\n",
      "\n",
      "   1    2    3 \n",
      " 213 1303  632 \n",
      "\n",
      "   0    1 \n",
      " 213 1935 \n"
     ]
    }
   ],
   "source": [
    "# MP - Mobile phone use\n",
    "\n",
    "# Check if there are null values in the TelefMovil.PSS variable\n",
    "print(sum(is.na(merged_data$TelefMovil.PSS)))\n",
    "\n",
    "# Print the list of Id values of the records that do not have a value in this variable\n",
    "list_telefmovil <- merged_data$Id[is.na(merged_data$TelefMovil.PSS)]\n",
    "print(list_telefmovil)\n",
    "\n",
    "# Check the different values of the TelefMovil.PSS variable\n",
    "print(table(merged_data$TelefMovil.PSS))\n",
    "# 1 no, 2 smartphone, 3 conventional phone\n",
    "\n",
    "# Recategorize TelefMovil.PSS: 1 for has mobile phone, 0 no\n",
    "merged_data$TelefMovil.PSS <- ifelse(merged_data$TelefMovil.PSS == 1, 0, 1)\n",
    "\n",
    "# Check the new distribution of the TelefMovil.PSS variable\n",
    "print(table(merged_data$TelefMovil.PSS)) # 0 no, 1 yes"
   ]
  },
  {
   "cell_type": "code",
   "execution_count": 46,
   "id": "e6ec7539",
   "metadata": {
    "vscode": {
     "languageId": "r"
    }
   },
   "outputs": [
    {
     "name": "stdout",
     "output_type": "stream",
     "text": [
      "[1] 38\n",
      " [1]   95  101  124  228  234  305  375  385  426  485  486  593  625  636  637\n",
      "[16]  668  698  770  776  841  876  963  977 1028 1094 1179 1222 1288 1351 1745\n",
      "[31] 1886 1946 1962 1966 1971 2195 2235 2422\n",
      "\n",
      "   1    2    3 \n",
      "1444  190  488 \n",
      "\n",
      "   0    1 \n",
      " 488 1634 \n"
     ]
    }
   ],
   "source": [
    "# INT - Access to the Internet / Internet conection\n",
    "\n",
    "# Check if there are null values in the Internet.PSS...258 variable\n",
    "print(sum(is.na(merged_data$Internet.PSS...258)))\n",
    "\n",
    "# Print the list of Id values of the records that do not have a value in this variable\n",
    "list_internet <- merged_data$Id[is.na(merged_data$Internet.PSS...258)]\n",
    "print(list_internet)\n",
    "\n",
    "# Check the different values of the Internet.PSS...258 variable\n",
    "print(table(merged_data$Internet.PSS...258))\n",
    "# 1 home, 2 phone, 3 no internet\n",
    "\n",
    "# Recategorize Internet.PSS...258: 1 for has internet, 0 no\n",
    "merged_data$Internet.PSS...258 <- ifelse(merged_data$Internet.PSS...258 == 3, 0, 1)\n",
    "\n",
    "# Check the new distribution of the Internet.PSS...258 variable\n",
    "print(table(merged_data$Internet.PSS...258)) # 0 no, 1 yes\n",
    "\n",
    "# Fill NAs in the Internet.PSS...258 variable with the values from Internet.PSS...212\n",
    "# merged_data$Internet.PSS...258[is.na(merged_data$Internet.PSS...258)] <-\n",
    "#     ifelse(merged_data$Internet.PSS...212[is.na(merged_data$Internet.PSS...258)] == 1, 1, NA)\n",
    "# No NA filled because all the values for those Id are 0\n",
    "# merged_data$Internet.PSS...212[is.na(merged_data$Internet.PSS...258)]\n",
    "# Which means tentatively that those patients do not have internet"
   ]
  },
  {
   "cell_type": "code",
   "execution_count": 47,
   "id": "dca56a0d",
   "metadata": {
    "vscode": {
     "languageId": "r"
    }
   },
   "outputs": [
    {
     "name": "stdout",
     "output_type": "stream",
     "text": [
      "\n",
      "   0    1 \n",
      " 891 1269 \n"
     ]
    }
   ],
   "source": [
    "# PC - Has Computer/Tablet/SmartTV\n",
    "\n",
    "# Create a new variable HasComputerTablet: 1 if the patient has any computer/tablet/SmartTV, 0 otherwise\n",
    "pc_vars <- c(\"Tablet.PSS\", \"Ordenador.PSS\", \"Portatil.PSS\", \"SmartTV.PSS\")\n",
    "\n",
    "merged_data$HasComputerTablet <- apply(merged_data[, pc_vars], 1,\n",
    "    function(x) ifelse(any(x == 1, na.rm = TRUE), 1, 0))\n",
    "\n",
    "# Check the distribution of the HasComputerTablet variable\n",
    "print(table(merged_data$HasComputerTablet)) # 0 no, 1 yes"
   ]
  },
  {
   "cell_type": "code",
   "execution_count": 48,
   "id": "f624cb70",
   "metadata": {
    "vscode": {
     "languageId": "r"
    }
   },
   "outputs": [
    {
     "name": "stdout",
     "output_type": "stream",
     "text": [
      "[1] 0\n",
      "\n",
      "    ?     1     2     3     4     5     6 nofar NOFAR \n",
      "   16   424  1399   152   108    10    44     2     5 \n",
      "\n",
      "   0    1 \n",
      " 447 1713 \n"
     ]
    }
   ],
   "source": [
    "# TIS - Health Identification Card (¿free medications?)\n",
    "\n",
    "# Check if there are null values in the TIS variable\n",
    "print(sum(is.na(merged_data$TIS)))\n",
    "# There should be no null values beacuse they were deleted after the merge\n",
    "\n",
    "# Check the different values of the TIS variable\n",
    "print(table(merged_data$TIS))\n",
    "# 1 exempt to pay medications\n",
    "# 2 Pensioner (<100000€/year) - 10% copay\n",
    "# 3 Active worker (<18000€/year) - 40% copay\n",
    "# 4 Active worker (18000-100000€/year) - 50% copay\n",
    "# 3 Pensioner & Active workers (>100000€/year) - 60% copay\n",
    "# 6 Mutuaists (MUFACE, ISFAS, MUGEJU) - 30% copay\n",
    "\n",
    "# Recategorize TIS: 1 card for free medications, 0 card for copay\n",
    "merged_data$TIS <- ifelse(merged_data$TIS %in% c(2, 3, 4, 5, 6), 1, 0)\n",
    "\n",
    "# Check the new distribution of the TIS variable (free medications)\n",
    "print(table(merged_data$TIS)) # 0 no, 1 yes\n"
   ]
  },
  {
   "cell_type": "markdown",
   "id": "65984213",
   "metadata": {},
   "source": [
    "#### Means of transport"
   ]
  },
  {
   "cell_type": "code",
   "execution_count": 49,
   "id": "13336e89",
   "metadata": {
    "vscode": {
     "languageId": "r"
    }
   },
   "outputs": [
    {
     "name": "stdout",
     "output_type": "stream",
     "text": [
      "Variable: Autobus.PSS \n",
      "[1] 0\n",
      "numeric(0)\n",
      "\n",
      "   0    1 \n",
      "1936  224 \n",
      "\n",
      "Variable: Taxi.PSS \n",
      "[1] 0\n",
      "numeric(0)\n",
      "\n",
      "   0    1 \n",
      "2132   28 \n",
      "\n",
      "Variable: Coche.PSS \n",
      "[1] 0\n",
      "numeric(0)\n",
      "\n",
      "   0    1 \n",
      "1280  880 \n",
      "\n",
      "Variable: Moto.PSS \n",
      "[1] 0\n",
      "numeric(0)\n",
      "\n",
      "   0    1 \n",
      "2090   70 \n",
      "\n",
      "Variable: Bici.PSS...181 \n",
      "[1] 0\n",
      "numeric(0)\n",
      "\n",
      "   0    1 \n",
      "2034  126 \n",
      "\n",
      "Variable: Caminando.PSS \n",
      "[1] 0\n",
      "numeric(0)\n",
      "\n",
      "   0    1 \n",
      " 693 1467 \n",
      "\n",
      "Variable: OtrosVehiculos.PSS\n",
      "[1] 2130\n",
      "\n",
      "   0    1 \n",
      "2130   30 \n",
      "\n"
     ]
    }
   ],
   "source": [
    "# List of means of transport variables to process\n",
    "transport_vars <- c(\n",
    "    \"Autobus.PSS\", \"Taxi.PSS\", \"Coche.PSS\", \"Moto.PSS\",\n",
    "    \"Bici.PSS...181\", \"Caminando.PSS\")\n",
    "\n",
    "for (var in transport_vars) {\n",
    "    # Check for null values\n",
    "    cat(\"Variable:\", var, \"\\n\")\n",
    "    print(sum(is.na(merged_data[[var]])))\n",
    "    \n",
    "    # Print list of Ids with NA\n",
    "    list_na <- merged_data$Id[is.na(merged_data[[var]])]\n",
    "    print(list_na)\n",
    "    \n",
    "    # Print distribution\n",
    "    print(table(merged_data[[var]]))\n",
    "    cat(\"\\n\")\n",
    "}\n",
    "\n",
    "# Check for null values in OtrosVehiculos.PSS\n",
    "cat(\"Variable: OtrosVehiculos.PSS\\n\")\n",
    "print(sum(is.na(merged_data[[\"OtrosVehiculos.PSS\"]])))\n",
    "\n",
    "# Recategorize the values of OtrosVehiculos.PSS, if NA then 0, if not then 1\n",
    "merged_data[[\"OtrosVehiculos.PSS\"]] <- ifelse(is.na(merged_data[[\"OtrosVehiculos.PSS\"]]), 0, 1)\n",
    "\n",
    "# Print distribution\n",
    "print(table(merged_data[[\"OtrosVehiculos.PSS\"]]))\n",
    "cat(\"\\n\")"
   ]
  },
  {
   "cell_type": "markdown",
   "id": "886e6e29",
   "metadata": {},
   "source": [
    "#### Hobbies"
   ]
  },
  {
   "cell_type": "code",
   "execution_count": 50,
   "id": "2968eb98",
   "metadata": {
    "vscode": {
     "languageId": "r"
    }
   },
   "outputs": [
    {
     "name": "stdout",
     "output_type": "stream",
     "text": [
      "Variable: Familia.Aficc.PSS \n",
      "[1] 0\n",
      "numeric(0)\n",
      "\n",
      "   0    1 \n",
      " 138 2022 \n",
      "\n",
      "Variable: TV.Aficc.PSS \n",
      "[1] 0\n",
      "numeric(0)\n",
      "\n",
      "   0    1 \n",
      " 521 1639 \n",
      "\n",
      "Variable: Amigos.Aficc.PSS \n",
      "[1] 0\n",
      "numeric(0)\n",
      "\n",
      "   0    1 \n",
      " 685 1475 \n",
      "\n",
      "Variable: Musica.Aficc.PSS \n",
      "[1] 0\n",
      "numeric(0)\n",
      "\n",
      "   0    1 \n",
      " 811 1349 \n",
      "\n",
      "Variable: Lectura.Aficc.PSS \n",
      "[1] 0\n",
      "numeric(0)\n",
      "\n",
      "   0    1 \n",
      "1199  961 \n",
      "\n",
      "Variable: Radio.Aficc.PSS \n",
      "[1] 0\n",
      "numeric(0)\n",
      "\n",
      "   0    1 \n",
      " 873 1287 \n",
      "\n",
      "Variable: Compras.Aficc.PSS \n",
      "[1] 0\n",
      "numeric(0)\n",
      "\n",
      "   0    1 \n",
      "1307  853 \n",
      "\n",
      "Variable: Cine.Aficc.PSS \n",
      "[1] 0\n",
      "numeric(0)\n",
      "\n",
      "   0    1 \n",
      "1647  513 \n",
      "\n",
      "Variable: Campo.Aficc.PSS \n",
      "[1] 0\n",
      "numeric(0)\n",
      "\n",
      "   0    1 \n",
      "1042 1118 \n",
      "\n",
      "Variable: VerDeportes.Aficc.PSS \n",
      "[1] 0\n",
      "numeric(0)\n",
      "\n",
      "   0    1 \n",
      " 790 1370 \n",
      "\n",
      "Variable: Bailar.Aficc.PSS \n",
      "[1] 0\n",
      "numeric(0)\n",
      "\n",
      "   0    1 \n",
      "1707  453 \n",
      "\n",
      "Variable: Cultura.Aficc.PSS \n",
      "[1] 0\n",
      "numeric(0)\n",
      "\n",
      "   0    1 \n",
      "1503  657 \n",
      "\n",
      "Variable: SalirComer.Aficc.PSS \n",
      "[1] 0\n",
      "numeric(0)\n",
      "\n",
      "   0    1 \n",
      " 725 1435 \n",
      "\n",
      "Variable: Pub.Aficc.PSS \n",
      "[1] 0\n",
      "numeric(0)\n",
      "\n",
      "   0    1 \n",
      "2025  135 \n",
      "\n",
      "Variable: Otros.Aficc.PSS\n",
      "[1] 1857\n",
      "\n",
      "   0    1 \n",
      "1857  303 \n",
      "\n"
     ]
    }
   ],
   "source": [
    "# List of hobby variables to process\n",
    "hobby_vars <- c(\n",
    "    \"Familia.Aficc.PSS\", \"TV.Aficc.PSS\", \"Amigos.Aficc.PSS\", \"Musica.Aficc.PSS\",\n",
    "    \"Lectura.Aficc.PSS\", \"Radio.Aficc.PSS\", \"Compras.Aficc.PSS\", \"Cine.Aficc.PSS\",\n",
    "    \"Campo.Aficc.PSS\", \"VerDeportes.Aficc.PSS\", \"Bailar.Aficc.PSS\", \"Cultura.Aficc.PSS\",\n",
    "    \"SalirComer.Aficc.PSS\", \"Pub.Aficc.PSS\")\n",
    "\n",
    "for (var in hobby_vars) {\n",
    "    # Check for null values\n",
    "    cat(\"Variable:\", var, \"\\n\")\n",
    "    print(sum(is.na(merged_data[[var]])))\n",
    "    \n",
    "    # Print list of Ids with NA\n",
    "    list_na <- merged_data$Id[is.na(merged_data[[var]])]\n",
    "    print(list_na)\n",
    "    \n",
    "    # Print distribution\n",
    "    print(table(merged_data[[var]]))\n",
    "    cat(\"\\n\")\n",
    "}\n",
    "\n",
    "# Check for null values\n",
    "cat(\"Variable: Otros.Aficc.PSS\\n\")\n",
    "print(sum(is.na(merged_data[[\"Otros.Aficc.PSS\"]])))\n",
    "\n",
    "# Recategorize the values of Otros.Aficc.PSS, if NA then 0, if not then 1\n",
    "merged_data[[\"Otros.Aficc.PSS\"]] <- ifelse(is.na(merged_data[[\"Otros.Aficc.PSS\"]]), 0, 1)\n",
    "\n",
    "# Print distribution\n",
    "print(table(merged_data[[\"Otros.Aficc.PSS\"]]))\n",
    "cat(\"\\n\")"
   ]
  },
  {
   "cell_type": "code",
   "execution_count": 51,
   "id": "89dcffa2",
   "metadata": {
    "vscode": {
     "languageId": "r"
    }
   },
   "outputs": [],
   "source": [
    "# # Perform an inner join based on the \"Id\" column\n",
    "# merged_data <- merge(\n",
    "#   data,\n",
    "#   data_ext,\n",
    "#   by = \"Id\",\n",
    "#   all = FALSE,  # Only include rows with matches in \"Id\"\n",
    "#   suffixes = c(\"\", \"\")  # Avoid adding suffixes to duplicate columns\n",
    "# )\n",
    "\n",
    "# # Remove duplicate columns that are generated (those coming from data_ext)\n",
    "# merged_data <- merged_data[, !duplicated(colnames(merged_data))]\n"
   ]
  },
  {
   "cell_type": "markdown",
   "id": "2963351b",
   "metadata": {},
   "source": [
    "### Other variables"
   ]
  },
  {
   "cell_type": "code",
   "execution_count": 52,
   "id": "7248d99b",
   "metadata": {
    "vscode": {
     "languageId": "r"
    }
   },
   "outputs": [
    {
     "name": "stdout",
     "output_type": "stream",
     "text": [
      " [1]   35  102  130  172  251  309  379  759  982 1023 1053 1097 1261 1297 1346\n",
      "[16] 1376 1482 1638 1726 1998\n",
      "Time differences in days\n",
      " [1]     -7   -365   -365     30   -365     31     31     31    365    365\n",
      "[11]     -1 -42539   1095     -5    -10     30   1095      4     31      1\n"
     ]
    },
    {
     "data": {
      "image/png": "[encoded data removed]",
      "text/plain": [
       "Plot with title \"Distribution of ...35\""
      ]
     },
     "metadata": {
      "image/png": {
       "height": 420,
       "width": 420
      }
     },
     "output_type": "display_data"
    }
   ],
   "source": [
    "# Show the Ids where the values are different (ignoring NAs)\n",
    "same_values <- merged_data$FechaKT.PSS == merged_data$...35\n",
    "diff_ids <- merged_data$Id[which(!(same_values) & !is.na(same_values))]\n",
    "print(diff_ids)\n",
    "\n",
    "# Calculate the difference in days between the two columns (ignoring NAs)\n",
    "date_diff <- as.Date(merged_data$FechaKT.PSS) - as.Date(merged_data$...35)\n",
    "# Show the differences only for cases where they are different\n",
    "diff_days <- date_diff[which(!(same_values) & !is.na(same_values))]\n",
    "print(diff_days)\n",
    "\n",
    "library(ggplot2)\n",
    "# Plot the distributions as histograms\n",
    "par(mfrow = c(1, 2))\n",
    "hist(as.Date(merged_data$FechaKT.PSS), main = \"Distribution of FechaKT.PSS\", xlab = \"FechaKT.PSS\", col = \"skyblue\", breaks = 20)\n",
    "hist(as.Date(merged_data$...35), main = \"Distribution of ...35\", xlab = \"...35\", col = \"salmon\", breaks = 20)\n",
    "par(mfrow = c(1, 1))"
   ]
  },
  {
   "cell_type": "code",
   "execution_count": 53,
   "id": "d3eaad34",
   "metadata": {
    "vscode": {
     "languageId": "r"
    }
   },
   "outputs": [
    {
     "data": {
      "image/png": "[encoded data removed]",
      "text/plain": [
       "Plot with title \"Distribution of FechaKT.PSS\""
      ]
     },
     "metadata": {
      "image/png": {
       "height": 420,
       "width": 420
      }
     },
     "output_type": "display_data"
    }
   ],
   "source": [
    "# For the patient with ID 1097, delete the value of FechaKT.PSS\n",
    "merged_data$FechaKT.PSS[merged_data$Id == 1097] <- merged_data$...35[merged_data$Id == 1097]\n",
    "hist(as.Date(merged_data$FechaKT.PSS), main = \"Distribution of FechaKT.PSS\", xlab = \"FechaKT.PSS\", col = \"skyblue\", breaks = 20)\n",
    "\n"
   ]
  }
 ],
 "metadata": {
  "kernelspec": {
   "display_name": "R",
   "language": "R",
   "name": "ir"
  },
  "language_info": {
   "codemirror_mode": "r",
   "file_extension": ".r",
   "mimetype": "text/x-r-source",
   "name": "R",
   "pygments_lexer": "r",
   "version": "4.4.1"
  }
 },
 "nbformat": 4,
 "nbformat_minor": 5
}
